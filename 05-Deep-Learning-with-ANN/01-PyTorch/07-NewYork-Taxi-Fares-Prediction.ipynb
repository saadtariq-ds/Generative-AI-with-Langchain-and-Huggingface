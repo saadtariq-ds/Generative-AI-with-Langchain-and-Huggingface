{
 "cells": [
  {
   "cell_type": "markdown",
   "id": "0c944da2-4ddb-4935-a269-4548c88d2bfb",
   "metadata": {},
   "source": [
    "## Import Libraries"
   ]
  },
  {
   "cell_type": "code",
   "execution_count": 1,
   "id": "a0cde0ac-dffb-419a-ad70-3198ab8a62dd",
   "metadata": {},
   "outputs": [],
   "source": [
    "import torch\n",
    "import torch.nn as nn\n",
    "\n",
    "import numpy as np\n",
    "import pandas as pd\n",
    "import matplotlib.pyplot as plt\n",
    "import seaborn as sns\n",
    "import time"
   ]
  },
  {
   "cell_type": "markdown",
   "id": "71a95ea9-d22f-4849-8fab-2209609e1fd5",
   "metadata": {},
   "source": [
    "## Reading Dataset"
   ]
  },
  {
   "cell_type": "code",
   "execution_count": 2,
   "id": "ee8ae476-17ab-4b25-8bd2-83c37fa90010",
   "metadata": {},
   "outputs": [
    {
     "data": {
      "text/html": [
       "<div>\n",
       "<style scoped>\n",
       "    .dataframe tbody tr th:only-of-type {\n",
       "        vertical-align: middle;\n",
       "    }\n",
       "\n",
       "    .dataframe tbody tr th {\n",
       "        vertical-align: top;\n",
       "    }\n",
       "\n",
       "    .dataframe thead th {\n",
       "        text-align: right;\n",
       "    }\n",
       "</style>\n",
       "<table border=\"1\" class=\"dataframe\">\n",
       "  <thead>\n",
       "    <tr style=\"text-align: right;\">\n",
       "      <th></th>\n",
       "      <th>pickup_datetime</th>\n",
       "      <th>fare_amount</th>\n",
       "      <th>fare_class</th>\n",
       "      <th>pickup_longitude</th>\n",
       "      <th>pickup_latitude</th>\n",
       "      <th>dropoff_longitude</th>\n",
       "      <th>dropoff_latitude</th>\n",
       "      <th>passenger_count</th>\n",
       "    </tr>\n",
       "  </thead>\n",
       "  <tbody>\n",
       "    <tr>\n",
       "      <th>0</th>\n",
       "      <td>2010-04-19 08:17:56 UTC</td>\n",
       "      <td>6.5</td>\n",
       "      <td>0</td>\n",
       "      <td>-73.992365</td>\n",
       "      <td>40.730521</td>\n",
       "      <td>-73.975499</td>\n",
       "      <td>40.744746</td>\n",
       "      <td>1</td>\n",
       "    </tr>\n",
       "    <tr>\n",
       "      <th>1</th>\n",
       "      <td>2010-04-17 15:43:53 UTC</td>\n",
       "      <td>6.9</td>\n",
       "      <td>0</td>\n",
       "      <td>-73.990078</td>\n",
       "      <td>40.740558</td>\n",
       "      <td>-73.974232</td>\n",
       "      <td>40.744114</td>\n",
       "      <td>1</td>\n",
       "    </tr>\n",
       "    <tr>\n",
       "      <th>2</th>\n",
       "      <td>2010-04-17 11:23:26 UTC</td>\n",
       "      <td>10.1</td>\n",
       "      <td>1</td>\n",
       "      <td>-73.994149</td>\n",
       "      <td>40.751118</td>\n",
       "      <td>-73.960064</td>\n",
       "      <td>40.766235</td>\n",
       "      <td>2</td>\n",
       "    </tr>\n",
       "    <tr>\n",
       "      <th>3</th>\n",
       "      <td>2010-04-11 21:25:03 UTC</td>\n",
       "      <td>8.9</td>\n",
       "      <td>0</td>\n",
       "      <td>-73.990485</td>\n",
       "      <td>40.756422</td>\n",
       "      <td>-73.971205</td>\n",
       "      <td>40.748192</td>\n",
       "      <td>1</td>\n",
       "    </tr>\n",
       "    <tr>\n",
       "      <th>4</th>\n",
       "      <td>2010-04-17 02:19:01 UTC</td>\n",
       "      <td>19.7</td>\n",
       "      <td>1</td>\n",
       "      <td>-73.990976</td>\n",
       "      <td>40.734202</td>\n",
       "      <td>-73.905956</td>\n",
       "      <td>40.743115</td>\n",
       "      <td>1</td>\n",
       "    </tr>\n",
       "  </tbody>\n",
       "</table>\n",
       "</div>"
      ],
      "text/plain": [
       "           pickup_datetime  fare_amount  fare_class  pickup_longitude  \\\n",
       "0  2010-04-19 08:17:56 UTC          6.5           0        -73.992365   \n",
       "1  2010-04-17 15:43:53 UTC          6.9           0        -73.990078   \n",
       "2  2010-04-17 11:23:26 UTC         10.1           1        -73.994149   \n",
       "3  2010-04-11 21:25:03 UTC          8.9           0        -73.990485   \n",
       "4  2010-04-17 02:19:01 UTC         19.7           1        -73.990976   \n",
       "\n",
       "   pickup_latitude  dropoff_longitude  dropoff_latitude  passenger_count  \n",
       "0        40.730521         -73.975499         40.744746                1  \n",
       "1        40.740558         -73.974232         40.744114                1  \n",
       "2        40.751118         -73.960064         40.766235                2  \n",
       "3        40.756422         -73.971205         40.748192                1  \n",
       "4        40.734202         -73.905956         40.743115                1  "
      ]
     },
     "execution_count": 2,
     "metadata": {},
     "output_type": "execute_result"
    }
   ],
   "source": [
    "df = pd.read_csv('NYCTaxiFares.csv')\n",
    "df.head()"
   ]
  },
  {
   "cell_type": "code",
   "execution_count": 3,
   "id": "46e3105f-dcc4-4131-988a-9af1e6568d65",
   "metadata": {},
   "outputs": [
    {
     "data": {
      "text/plain": [
       "count    120000.000000\n",
       "mean         10.040326\n",
       "std           7.500134\n",
       "min           2.500000\n",
       "25%           5.700000\n",
       "50%           7.700000\n",
       "75%          11.300000\n",
       "max          49.900000\n",
       "Name: fare_amount, dtype: float64"
      ]
     },
     "execution_count": 3,
     "metadata": {},
     "output_type": "execute_result"
    }
   ],
   "source": [
    "df['fare_amount'].describe()"
   ]
  },
  {
   "cell_type": "markdown",
   "id": "95b5caf7-31e5-440c-8eea-55488f73c5c0",
   "metadata": {},
   "source": [
    "## Feature Engineering"
   ]
  },
  {
   "cell_type": "markdown",
   "id": "3dbbd9b7-fe2f-4c8f-a1af-e2ffc7433f7c",
   "metadata": {},
   "source": [
    "### Creating a Distance Feature from Latitude and Longitude"
   ]
  },
  {
   "cell_type": "code",
   "execution_count": 4,
   "id": "ecdc1a04-3fe1-4ec8-bcd1-e0689b4a8bac",
   "metadata": {},
   "outputs": [],
   "source": [
    "def haversine_distance(df, lat1, long1, lat2, long2):\n",
    "    \"\"\"\n",
    "    Calculates the haversine distance between 2 sets of GPS coordinates\n",
    "    \"\"\"\n",
    "    r = 6371 # average radius of Earth in kilometers\n",
    "\n",
    "    phi1 = np.radians(df[lat1])\n",
    "    phi2 = np.radians(df[lat2])\n",
    "\n",
    "    delta_phi = np.radians(df[lat2] - df[lat1])\n",
    "    delta_lambda = np.radians(df[long2] - df[long1])\n",
    "\n",
    "    a = np.sin(delta_phi / 2)**2 + np.cos(phi1) * np.cos(phi2) * np.sin(delta_lambda / 2)**2\n",
    "    c = 2 * np.arctan2(np.sqrt(a), np.sqrt(1-a))\n",
    "    d = r * c\n",
    "    return d"
   ]
  },
  {
   "cell_type": "code",
   "execution_count": 5,
   "id": "44ead561-88a6-4745-918c-802fc31305a5",
   "metadata": {},
   "outputs": [
    {
     "data": {
      "text/plain": [
       "Index(['pickup_datetime', 'fare_amount', 'fare_class', 'pickup_longitude',\n",
       "       'pickup_latitude', 'dropoff_longitude', 'dropoff_latitude',\n",
       "       'passenger_count'],\n",
       "      dtype='object')"
      ]
     },
     "execution_count": 5,
     "metadata": {},
     "output_type": "execute_result"
    }
   ],
   "source": [
    "df.columns"
   ]
  },
  {
   "cell_type": "code",
   "execution_count": 6,
   "id": "4210bef9-136c-4c6b-bfc8-837a625e93de",
   "metadata": {},
   "outputs": [],
   "source": [
    "df['dist_in_km'] = haversine_distance(\n",
    "    df=df,\n",
    "    lat1='pickup_latitude',\n",
    "    long1='pickup_longitude',\n",
    "    lat2='dropoff_latitude',\n",
    "    long2='dropoff_longitude'\n",
    ")"
   ]
  },
  {
   "cell_type": "code",
   "execution_count": 7,
   "id": "cd0c02ce-28a3-4d85-914a-f64f591a117d",
   "metadata": {},
   "outputs": [
    {
     "data": {
      "text/html": [
       "<div>\n",
       "<style scoped>\n",
       "    .dataframe tbody tr th:only-of-type {\n",
       "        vertical-align: middle;\n",
       "    }\n",
       "\n",
       "    .dataframe tbody tr th {\n",
       "        vertical-align: top;\n",
       "    }\n",
       "\n",
       "    .dataframe thead th {\n",
       "        text-align: right;\n",
       "    }\n",
       "</style>\n",
       "<table border=\"1\" class=\"dataframe\">\n",
       "  <thead>\n",
       "    <tr style=\"text-align: right;\">\n",
       "      <th></th>\n",
       "      <th>pickup_datetime</th>\n",
       "      <th>fare_amount</th>\n",
       "      <th>fare_class</th>\n",
       "      <th>pickup_longitude</th>\n",
       "      <th>pickup_latitude</th>\n",
       "      <th>dropoff_longitude</th>\n",
       "      <th>dropoff_latitude</th>\n",
       "      <th>passenger_count</th>\n",
       "      <th>dist_in_km</th>\n",
       "    </tr>\n",
       "  </thead>\n",
       "  <tbody>\n",
       "    <tr>\n",
       "      <th>0</th>\n",
       "      <td>2010-04-19 08:17:56 UTC</td>\n",
       "      <td>6.5</td>\n",
       "      <td>0</td>\n",
       "      <td>-73.992365</td>\n",
       "      <td>40.730521</td>\n",
       "      <td>-73.975499</td>\n",
       "      <td>40.744746</td>\n",
       "      <td>1</td>\n",
       "      <td>2.126312</td>\n",
       "    </tr>\n",
       "    <tr>\n",
       "      <th>1</th>\n",
       "      <td>2010-04-17 15:43:53 UTC</td>\n",
       "      <td>6.9</td>\n",
       "      <td>0</td>\n",
       "      <td>-73.990078</td>\n",
       "      <td>40.740558</td>\n",
       "      <td>-73.974232</td>\n",
       "      <td>40.744114</td>\n",
       "      <td>1</td>\n",
       "      <td>1.392307</td>\n",
       "    </tr>\n",
       "    <tr>\n",
       "      <th>2</th>\n",
       "      <td>2010-04-17 11:23:26 UTC</td>\n",
       "      <td>10.1</td>\n",
       "      <td>1</td>\n",
       "      <td>-73.994149</td>\n",
       "      <td>40.751118</td>\n",
       "      <td>-73.960064</td>\n",
       "      <td>40.766235</td>\n",
       "      <td>2</td>\n",
       "      <td>3.326763</td>\n",
       "    </tr>\n",
       "    <tr>\n",
       "      <th>3</th>\n",
       "      <td>2010-04-11 21:25:03 UTC</td>\n",
       "      <td>8.9</td>\n",
       "      <td>0</td>\n",
       "      <td>-73.990485</td>\n",
       "      <td>40.756422</td>\n",
       "      <td>-73.971205</td>\n",
       "      <td>40.748192</td>\n",
       "      <td>1</td>\n",
       "      <td>1.864129</td>\n",
       "    </tr>\n",
       "    <tr>\n",
       "      <th>4</th>\n",
       "      <td>2010-04-17 02:19:01 UTC</td>\n",
       "      <td>19.7</td>\n",
       "      <td>1</td>\n",
       "      <td>-73.990976</td>\n",
       "      <td>40.734202</td>\n",
       "      <td>-73.905956</td>\n",
       "      <td>40.743115</td>\n",
       "      <td>1</td>\n",
       "      <td>7.231321</td>\n",
       "    </tr>\n",
       "  </tbody>\n",
       "</table>\n",
       "</div>"
      ],
      "text/plain": [
       "           pickup_datetime  fare_amount  fare_class  pickup_longitude  \\\n",
       "0  2010-04-19 08:17:56 UTC          6.5           0        -73.992365   \n",
       "1  2010-04-17 15:43:53 UTC          6.9           0        -73.990078   \n",
       "2  2010-04-17 11:23:26 UTC         10.1           1        -73.994149   \n",
       "3  2010-04-11 21:25:03 UTC          8.9           0        -73.990485   \n",
       "4  2010-04-17 02:19:01 UTC         19.7           1        -73.990976   \n",
       "\n",
       "   pickup_latitude  dropoff_longitude  dropoff_latitude  passenger_count  \\\n",
       "0        40.730521         -73.975499         40.744746                1   \n",
       "1        40.740558         -73.974232         40.744114                1   \n",
       "2        40.751118         -73.960064         40.766235                2   \n",
       "3        40.756422         -73.971205         40.748192                1   \n",
       "4        40.734202         -73.905956         40.743115                1   \n",
       "\n",
       "   dist_in_km  \n",
       "0    2.126312  \n",
       "1    1.392307  \n",
       "2    3.326763  \n",
       "3    1.864129  \n",
       "4    7.231321  "
      ]
     },
     "execution_count": 7,
     "metadata": {},
     "output_type": "execute_result"
    }
   ],
   "source": [
    "df.head()"
   ]
  },
  {
   "cell_type": "code",
   "execution_count": 8,
   "id": "a154ee66-324c-457a-9814-f72aa271c92f",
   "metadata": {},
   "outputs": [
    {
     "name": "stdout",
     "output_type": "stream",
     "text": [
      "<class 'pandas.core.frame.DataFrame'>\n",
      "RangeIndex: 120000 entries, 0 to 119999\n",
      "Data columns (total 9 columns):\n",
      " #   Column             Non-Null Count   Dtype  \n",
      "---  ------             --------------   -----  \n",
      " 0   pickup_datetime    120000 non-null  object \n",
      " 1   fare_amount        120000 non-null  float64\n",
      " 2   fare_class         120000 non-null  int64  \n",
      " 3   pickup_longitude   120000 non-null  float64\n",
      " 4   pickup_latitude    120000 non-null  float64\n",
      " 5   dropoff_longitude  120000 non-null  float64\n",
      " 6   dropoff_latitude   120000 non-null  float64\n",
      " 7   passenger_count    120000 non-null  int64  \n",
      " 8   dist_in_km         120000 non-null  float64\n",
      "dtypes: float64(6), int64(2), object(1)\n",
      "memory usage: 8.2+ MB\n"
     ]
    }
   ],
   "source": [
    "df.info()"
   ]
  },
  {
   "cell_type": "markdown",
   "id": "2f72b092-8e20-4a47-a737-cb80e202f32a",
   "metadata": {},
   "source": [
    "### Datetime Feature"
   ]
  },
  {
   "cell_type": "code",
   "execution_count": 9,
   "id": "ab85b6fa-2ca6-4adb-bad1-fe243055d0c9",
   "metadata": {},
   "outputs": [],
   "source": [
    "df['pickup_datetime'] = pd.to_datetime(df['pickup_datetime'])"
   ]
  },
  {
   "cell_type": "code",
   "execution_count": 10,
   "id": "c357083b-bfbb-4574-b0ce-7ebd0c65220c",
   "metadata": {},
   "outputs": [
    {
     "name": "stdout",
     "output_type": "stream",
     "text": [
      "<class 'pandas.core.frame.DataFrame'>\n",
      "RangeIndex: 120000 entries, 0 to 119999\n",
      "Data columns (total 9 columns):\n",
      " #   Column             Non-Null Count   Dtype              \n",
      "---  ------             --------------   -----              \n",
      " 0   pickup_datetime    120000 non-null  datetime64[ns, UTC]\n",
      " 1   fare_amount        120000 non-null  float64            \n",
      " 2   fare_class         120000 non-null  int64              \n",
      " 3   pickup_longitude   120000 non-null  float64            \n",
      " 4   pickup_latitude    120000 non-null  float64            \n",
      " 5   dropoff_longitude  120000 non-null  float64            \n",
      " 6   dropoff_latitude   120000 non-null  float64            \n",
      " 7   passenger_count    120000 non-null  int64              \n",
      " 8   dist_in_km         120000 non-null  float64            \n",
      "dtypes: datetime64[ns, UTC](1), float64(6), int64(2)\n",
      "memory usage: 8.2 MB\n"
     ]
    }
   ],
   "source": [
    "df.info()"
   ]
  },
  {
   "cell_type": "code",
   "execution_count": 11,
   "id": "222318f5-c50f-499c-92bf-4eab26dda74e",
   "metadata": {},
   "outputs": [
    {
     "data": {
      "text/html": [
       "<div>\n",
       "<style scoped>\n",
       "    .dataframe tbody tr th:only-of-type {\n",
       "        vertical-align: middle;\n",
       "    }\n",
       "\n",
       "    .dataframe tbody tr th {\n",
       "        vertical-align: top;\n",
       "    }\n",
       "\n",
       "    .dataframe thead th {\n",
       "        text-align: right;\n",
       "    }\n",
       "</style>\n",
       "<table border=\"1\" class=\"dataframe\">\n",
       "  <thead>\n",
       "    <tr style=\"text-align: right;\">\n",
       "      <th></th>\n",
       "      <th>pickup_datetime</th>\n",
       "      <th>fare_amount</th>\n",
       "      <th>fare_class</th>\n",
       "      <th>pickup_longitude</th>\n",
       "      <th>pickup_latitude</th>\n",
       "      <th>dropoff_longitude</th>\n",
       "      <th>dropoff_latitude</th>\n",
       "      <th>passenger_count</th>\n",
       "      <th>dist_in_km</th>\n",
       "    </tr>\n",
       "  </thead>\n",
       "  <tbody>\n",
       "    <tr>\n",
       "      <th>0</th>\n",
       "      <td>2010-04-19 08:17:56+00:00</td>\n",
       "      <td>6.5</td>\n",
       "      <td>0</td>\n",
       "      <td>-73.992365</td>\n",
       "      <td>40.730521</td>\n",
       "      <td>-73.975499</td>\n",
       "      <td>40.744746</td>\n",
       "      <td>1</td>\n",
       "      <td>2.126312</td>\n",
       "    </tr>\n",
       "    <tr>\n",
       "      <th>1</th>\n",
       "      <td>2010-04-17 15:43:53+00:00</td>\n",
       "      <td>6.9</td>\n",
       "      <td>0</td>\n",
       "      <td>-73.990078</td>\n",
       "      <td>40.740558</td>\n",
       "      <td>-73.974232</td>\n",
       "      <td>40.744114</td>\n",
       "      <td>1</td>\n",
       "      <td>1.392307</td>\n",
       "    </tr>\n",
       "    <tr>\n",
       "      <th>2</th>\n",
       "      <td>2010-04-17 11:23:26+00:00</td>\n",
       "      <td>10.1</td>\n",
       "      <td>1</td>\n",
       "      <td>-73.994149</td>\n",
       "      <td>40.751118</td>\n",
       "      <td>-73.960064</td>\n",
       "      <td>40.766235</td>\n",
       "      <td>2</td>\n",
       "      <td>3.326763</td>\n",
       "    </tr>\n",
       "    <tr>\n",
       "      <th>3</th>\n",
       "      <td>2010-04-11 21:25:03+00:00</td>\n",
       "      <td>8.9</td>\n",
       "      <td>0</td>\n",
       "      <td>-73.990485</td>\n",
       "      <td>40.756422</td>\n",
       "      <td>-73.971205</td>\n",
       "      <td>40.748192</td>\n",
       "      <td>1</td>\n",
       "      <td>1.864129</td>\n",
       "    </tr>\n",
       "    <tr>\n",
       "      <th>4</th>\n",
       "      <td>2010-04-17 02:19:01+00:00</td>\n",
       "      <td>19.7</td>\n",
       "      <td>1</td>\n",
       "      <td>-73.990976</td>\n",
       "      <td>40.734202</td>\n",
       "      <td>-73.905956</td>\n",
       "      <td>40.743115</td>\n",
       "      <td>1</td>\n",
       "      <td>7.231321</td>\n",
       "    </tr>\n",
       "  </tbody>\n",
       "</table>\n",
       "</div>"
      ],
      "text/plain": [
       "            pickup_datetime  fare_amount  fare_class  pickup_longitude  \\\n",
       "0 2010-04-19 08:17:56+00:00          6.5           0        -73.992365   \n",
       "1 2010-04-17 15:43:53+00:00          6.9           0        -73.990078   \n",
       "2 2010-04-17 11:23:26+00:00         10.1           1        -73.994149   \n",
       "3 2010-04-11 21:25:03+00:00          8.9           0        -73.990485   \n",
       "4 2010-04-17 02:19:01+00:00         19.7           1        -73.990976   \n",
       "\n",
       "   pickup_latitude  dropoff_longitude  dropoff_latitude  passenger_count  \\\n",
       "0        40.730521         -73.975499         40.744746                1   \n",
       "1        40.740558         -73.974232         40.744114                1   \n",
       "2        40.751118         -73.960064         40.766235                2   \n",
       "3        40.756422         -73.971205         40.748192                1   \n",
       "4        40.734202         -73.905956         40.743115                1   \n",
       "\n",
       "   dist_in_km  \n",
       "0    2.126312  \n",
       "1    1.392307  \n",
       "2    3.326763  \n",
       "3    1.864129  \n",
       "4    7.231321  "
      ]
     },
     "execution_count": 11,
     "metadata": {},
     "output_type": "execute_result"
    }
   ],
   "source": [
    "df.head()"
   ]
  },
  {
   "cell_type": "code",
   "execution_count": 12,
   "id": "e950537b-6b45-44b5-889b-274b85e9ce06",
   "metadata": {},
   "outputs": [],
   "source": [
    "my_time = df['pickup_datetime'][0]"
   ]
  },
  {
   "cell_type": "code",
   "execution_count": 13,
   "id": "d82d786d-f291-4534-a0bf-21979d85e996",
   "metadata": {},
   "outputs": [
    {
     "data": {
      "text/plain": [
       "8"
      ]
     },
     "execution_count": 13,
     "metadata": {},
     "output_type": "execute_result"
    }
   ],
   "source": [
    "my_time.hour"
   ]
  },
  {
   "cell_type": "code",
   "execution_count": 14,
   "id": "cf4a8e51-d595-4c49-b5e5-eedfca0eae81",
   "metadata": {},
   "outputs": [
    {
     "data": {
      "text/plain": [
       "19"
      ]
     },
     "execution_count": 14,
     "metadata": {},
     "output_type": "execute_result"
    }
   ],
   "source": [
    "my_time.day"
   ]
  },
  {
   "cell_type": "markdown",
   "id": "606fe950-1e6f-4204-b0db-19c19e981cda",
   "metadata": {},
   "source": [
    "### Creating EDT Date Feature"
   ]
  },
  {
   "cell_type": "code",
   "execution_count": 15,
   "id": "2879703b-0a70-4abb-a3dd-7ecceb5cbacc",
   "metadata": {},
   "outputs": [],
   "source": [
    "df['pickup_datetime_edt'] = df['pickup_datetime'] - pd.Timedelta(hours=4)"
   ]
  },
  {
   "cell_type": "code",
   "execution_count": 16,
   "id": "dc1bdd39-ad61-4da0-837e-696c0ff65e43",
   "metadata": {},
   "outputs": [
    {
     "data": {
      "text/html": [
       "<div>\n",
       "<style scoped>\n",
       "    .dataframe tbody tr th:only-of-type {\n",
       "        vertical-align: middle;\n",
       "    }\n",
       "\n",
       "    .dataframe tbody tr th {\n",
       "        vertical-align: top;\n",
       "    }\n",
       "\n",
       "    .dataframe thead th {\n",
       "        text-align: right;\n",
       "    }\n",
       "</style>\n",
       "<table border=\"1\" class=\"dataframe\">\n",
       "  <thead>\n",
       "    <tr style=\"text-align: right;\">\n",
       "      <th></th>\n",
       "      <th>pickup_datetime</th>\n",
       "      <th>fare_amount</th>\n",
       "      <th>fare_class</th>\n",
       "      <th>pickup_longitude</th>\n",
       "      <th>pickup_latitude</th>\n",
       "      <th>dropoff_longitude</th>\n",
       "      <th>dropoff_latitude</th>\n",
       "      <th>passenger_count</th>\n",
       "      <th>dist_in_km</th>\n",
       "      <th>pickup_datetime_edt</th>\n",
       "    </tr>\n",
       "  </thead>\n",
       "  <tbody>\n",
       "    <tr>\n",
       "      <th>0</th>\n",
       "      <td>2010-04-19 08:17:56+00:00</td>\n",
       "      <td>6.5</td>\n",
       "      <td>0</td>\n",
       "      <td>-73.992365</td>\n",
       "      <td>40.730521</td>\n",
       "      <td>-73.975499</td>\n",
       "      <td>40.744746</td>\n",
       "      <td>1</td>\n",
       "      <td>2.126312</td>\n",
       "      <td>2010-04-19 04:17:56+00:00</td>\n",
       "    </tr>\n",
       "    <tr>\n",
       "      <th>1</th>\n",
       "      <td>2010-04-17 15:43:53+00:00</td>\n",
       "      <td>6.9</td>\n",
       "      <td>0</td>\n",
       "      <td>-73.990078</td>\n",
       "      <td>40.740558</td>\n",
       "      <td>-73.974232</td>\n",
       "      <td>40.744114</td>\n",
       "      <td>1</td>\n",
       "      <td>1.392307</td>\n",
       "      <td>2010-04-17 11:43:53+00:00</td>\n",
       "    </tr>\n",
       "    <tr>\n",
       "      <th>2</th>\n",
       "      <td>2010-04-17 11:23:26+00:00</td>\n",
       "      <td>10.1</td>\n",
       "      <td>1</td>\n",
       "      <td>-73.994149</td>\n",
       "      <td>40.751118</td>\n",
       "      <td>-73.960064</td>\n",
       "      <td>40.766235</td>\n",
       "      <td>2</td>\n",
       "      <td>3.326763</td>\n",
       "      <td>2010-04-17 07:23:26+00:00</td>\n",
       "    </tr>\n",
       "    <tr>\n",
       "      <th>3</th>\n",
       "      <td>2010-04-11 21:25:03+00:00</td>\n",
       "      <td>8.9</td>\n",
       "      <td>0</td>\n",
       "      <td>-73.990485</td>\n",
       "      <td>40.756422</td>\n",
       "      <td>-73.971205</td>\n",
       "      <td>40.748192</td>\n",
       "      <td>1</td>\n",
       "      <td>1.864129</td>\n",
       "      <td>2010-04-11 17:25:03+00:00</td>\n",
       "    </tr>\n",
       "    <tr>\n",
       "      <th>4</th>\n",
       "      <td>2010-04-17 02:19:01+00:00</td>\n",
       "      <td>19.7</td>\n",
       "      <td>1</td>\n",
       "      <td>-73.990976</td>\n",
       "      <td>40.734202</td>\n",
       "      <td>-73.905956</td>\n",
       "      <td>40.743115</td>\n",
       "      <td>1</td>\n",
       "      <td>7.231321</td>\n",
       "      <td>2010-04-16 22:19:01+00:00</td>\n",
       "    </tr>\n",
       "  </tbody>\n",
       "</table>\n",
       "</div>"
      ],
      "text/plain": [
       "            pickup_datetime  fare_amount  fare_class  pickup_longitude  \\\n",
       "0 2010-04-19 08:17:56+00:00          6.5           0        -73.992365   \n",
       "1 2010-04-17 15:43:53+00:00          6.9           0        -73.990078   \n",
       "2 2010-04-17 11:23:26+00:00         10.1           1        -73.994149   \n",
       "3 2010-04-11 21:25:03+00:00          8.9           0        -73.990485   \n",
       "4 2010-04-17 02:19:01+00:00         19.7           1        -73.990976   \n",
       "\n",
       "   pickup_latitude  dropoff_longitude  dropoff_latitude  passenger_count  \\\n",
       "0        40.730521         -73.975499         40.744746                1   \n",
       "1        40.740558         -73.974232         40.744114                1   \n",
       "2        40.751118         -73.960064         40.766235                2   \n",
       "3        40.756422         -73.971205         40.748192                1   \n",
       "4        40.734202         -73.905956         40.743115                1   \n",
       "\n",
       "   dist_in_km       pickup_datetime_edt  \n",
       "0    2.126312 2010-04-19 04:17:56+00:00  \n",
       "1    1.392307 2010-04-17 11:43:53+00:00  \n",
       "2    3.326763 2010-04-17 07:23:26+00:00  \n",
       "3    1.864129 2010-04-11 17:25:03+00:00  \n",
       "4    7.231321 2010-04-16 22:19:01+00:00  "
      ]
     },
     "execution_count": 16,
     "metadata": {},
     "output_type": "execute_result"
    }
   ],
   "source": [
    "df.head()"
   ]
  },
  {
   "cell_type": "markdown",
   "id": "219e259d-bde6-484b-b0b1-20c53dca7a9b",
   "metadata": {},
   "source": [
    "### Creating Hours and AM/PM Feature"
   ]
  },
  {
   "cell_type": "code",
   "execution_count": 17,
   "id": "663ae9bd-e508-431d-b25b-1e206d7a9b34",
   "metadata": {},
   "outputs": [],
   "source": [
    "df['hour'] = df['pickup_datetime_edt'].dt.hour\n",
    "df['am_or_pm'] = np.where(df['hour'] < 12, 'am', 'pm')"
   ]
  },
  {
   "cell_type": "code",
   "execution_count": 18,
   "id": "279788c1-cef2-4e93-88e2-51147f59ee6f",
   "metadata": {},
   "outputs": [
    {
     "data": {
      "text/html": [
       "<div>\n",
       "<style scoped>\n",
       "    .dataframe tbody tr th:only-of-type {\n",
       "        vertical-align: middle;\n",
       "    }\n",
       "\n",
       "    .dataframe tbody tr th {\n",
       "        vertical-align: top;\n",
       "    }\n",
       "\n",
       "    .dataframe thead th {\n",
       "        text-align: right;\n",
       "    }\n",
       "</style>\n",
       "<table border=\"1\" class=\"dataframe\">\n",
       "  <thead>\n",
       "    <tr style=\"text-align: right;\">\n",
       "      <th></th>\n",
       "      <th>pickup_datetime</th>\n",
       "      <th>fare_amount</th>\n",
       "      <th>fare_class</th>\n",
       "      <th>pickup_longitude</th>\n",
       "      <th>pickup_latitude</th>\n",
       "      <th>dropoff_longitude</th>\n",
       "      <th>dropoff_latitude</th>\n",
       "      <th>passenger_count</th>\n",
       "      <th>dist_in_km</th>\n",
       "      <th>pickup_datetime_edt</th>\n",
       "      <th>hour</th>\n",
       "      <th>am_or_pm</th>\n",
       "    </tr>\n",
       "  </thead>\n",
       "  <tbody>\n",
       "    <tr>\n",
       "      <th>0</th>\n",
       "      <td>2010-04-19 08:17:56+00:00</td>\n",
       "      <td>6.5</td>\n",
       "      <td>0</td>\n",
       "      <td>-73.992365</td>\n",
       "      <td>40.730521</td>\n",
       "      <td>-73.975499</td>\n",
       "      <td>40.744746</td>\n",
       "      <td>1</td>\n",
       "      <td>2.126312</td>\n",
       "      <td>2010-04-19 04:17:56+00:00</td>\n",
       "      <td>4</td>\n",
       "      <td>am</td>\n",
       "    </tr>\n",
       "    <tr>\n",
       "      <th>1</th>\n",
       "      <td>2010-04-17 15:43:53+00:00</td>\n",
       "      <td>6.9</td>\n",
       "      <td>0</td>\n",
       "      <td>-73.990078</td>\n",
       "      <td>40.740558</td>\n",
       "      <td>-73.974232</td>\n",
       "      <td>40.744114</td>\n",
       "      <td>1</td>\n",
       "      <td>1.392307</td>\n",
       "      <td>2010-04-17 11:43:53+00:00</td>\n",
       "      <td>11</td>\n",
       "      <td>am</td>\n",
       "    </tr>\n",
       "    <tr>\n",
       "      <th>2</th>\n",
       "      <td>2010-04-17 11:23:26+00:00</td>\n",
       "      <td>10.1</td>\n",
       "      <td>1</td>\n",
       "      <td>-73.994149</td>\n",
       "      <td>40.751118</td>\n",
       "      <td>-73.960064</td>\n",
       "      <td>40.766235</td>\n",
       "      <td>2</td>\n",
       "      <td>3.326763</td>\n",
       "      <td>2010-04-17 07:23:26+00:00</td>\n",
       "      <td>7</td>\n",
       "      <td>am</td>\n",
       "    </tr>\n",
       "    <tr>\n",
       "      <th>3</th>\n",
       "      <td>2010-04-11 21:25:03+00:00</td>\n",
       "      <td>8.9</td>\n",
       "      <td>0</td>\n",
       "      <td>-73.990485</td>\n",
       "      <td>40.756422</td>\n",
       "      <td>-73.971205</td>\n",
       "      <td>40.748192</td>\n",
       "      <td>1</td>\n",
       "      <td>1.864129</td>\n",
       "      <td>2010-04-11 17:25:03+00:00</td>\n",
       "      <td>17</td>\n",
       "      <td>pm</td>\n",
       "    </tr>\n",
       "    <tr>\n",
       "      <th>4</th>\n",
       "      <td>2010-04-17 02:19:01+00:00</td>\n",
       "      <td>19.7</td>\n",
       "      <td>1</td>\n",
       "      <td>-73.990976</td>\n",
       "      <td>40.734202</td>\n",
       "      <td>-73.905956</td>\n",
       "      <td>40.743115</td>\n",
       "      <td>1</td>\n",
       "      <td>7.231321</td>\n",
       "      <td>2010-04-16 22:19:01+00:00</td>\n",
       "      <td>22</td>\n",
       "      <td>pm</td>\n",
       "    </tr>\n",
       "  </tbody>\n",
       "</table>\n",
       "</div>"
      ],
      "text/plain": [
       "            pickup_datetime  fare_amount  fare_class  pickup_longitude  \\\n",
       "0 2010-04-19 08:17:56+00:00          6.5           0        -73.992365   \n",
       "1 2010-04-17 15:43:53+00:00          6.9           0        -73.990078   \n",
       "2 2010-04-17 11:23:26+00:00         10.1           1        -73.994149   \n",
       "3 2010-04-11 21:25:03+00:00          8.9           0        -73.990485   \n",
       "4 2010-04-17 02:19:01+00:00         19.7           1        -73.990976   \n",
       "\n",
       "   pickup_latitude  dropoff_longitude  dropoff_latitude  passenger_count  \\\n",
       "0        40.730521         -73.975499         40.744746                1   \n",
       "1        40.740558         -73.974232         40.744114                1   \n",
       "2        40.751118         -73.960064         40.766235                2   \n",
       "3        40.756422         -73.971205         40.748192                1   \n",
       "4        40.734202         -73.905956         40.743115                1   \n",
       "\n",
       "   dist_in_km       pickup_datetime_edt  hour am_or_pm  \n",
       "0    2.126312 2010-04-19 04:17:56+00:00     4       am  \n",
       "1    1.392307 2010-04-17 11:43:53+00:00    11       am  \n",
       "2    3.326763 2010-04-17 07:23:26+00:00     7       am  \n",
       "3    1.864129 2010-04-11 17:25:03+00:00    17       pm  \n",
       "4    7.231321 2010-04-16 22:19:01+00:00    22       pm  "
      ]
     },
     "execution_count": 18,
     "metadata": {},
     "output_type": "execute_result"
    }
   ],
   "source": [
    "df.head()"
   ]
  },
  {
   "cell_type": "markdown",
   "id": "ce6549f9-cb96-4998-8c28-8eebfc72515a",
   "metadata": {},
   "source": [
    "### Creating Weekend and Weekday Feature"
   ]
  },
  {
   "cell_type": "code",
   "execution_count": 19,
   "id": "b3016fda-a713-47cc-8a11-08079bdec3e8",
   "metadata": {},
   "outputs": [],
   "source": [
    "df['weekday'] = df['pickup_datetime_edt'].dt.strftime(\"%a\")"
   ]
  },
  {
   "cell_type": "code",
   "execution_count": 20,
   "id": "0cba6362-b991-480a-9e74-0966d825370b",
   "metadata": {},
   "outputs": [
    {
     "data": {
      "text/html": [
       "<div>\n",
       "<style scoped>\n",
       "    .dataframe tbody tr th:only-of-type {\n",
       "        vertical-align: middle;\n",
       "    }\n",
       "\n",
       "    .dataframe tbody tr th {\n",
       "        vertical-align: top;\n",
       "    }\n",
       "\n",
       "    .dataframe thead th {\n",
       "        text-align: right;\n",
       "    }\n",
       "</style>\n",
       "<table border=\"1\" class=\"dataframe\">\n",
       "  <thead>\n",
       "    <tr style=\"text-align: right;\">\n",
       "      <th></th>\n",
       "      <th>pickup_datetime</th>\n",
       "      <th>fare_amount</th>\n",
       "      <th>fare_class</th>\n",
       "      <th>pickup_longitude</th>\n",
       "      <th>pickup_latitude</th>\n",
       "      <th>dropoff_longitude</th>\n",
       "      <th>dropoff_latitude</th>\n",
       "      <th>passenger_count</th>\n",
       "      <th>dist_in_km</th>\n",
       "      <th>pickup_datetime_edt</th>\n",
       "      <th>hour</th>\n",
       "      <th>am_or_pm</th>\n",
       "      <th>weekday</th>\n",
       "    </tr>\n",
       "  </thead>\n",
       "  <tbody>\n",
       "    <tr>\n",
       "      <th>0</th>\n",
       "      <td>2010-04-19 08:17:56+00:00</td>\n",
       "      <td>6.5</td>\n",
       "      <td>0</td>\n",
       "      <td>-73.992365</td>\n",
       "      <td>40.730521</td>\n",
       "      <td>-73.975499</td>\n",
       "      <td>40.744746</td>\n",
       "      <td>1</td>\n",
       "      <td>2.126312</td>\n",
       "      <td>2010-04-19 04:17:56+00:00</td>\n",
       "      <td>4</td>\n",
       "      <td>am</td>\n",
       "      <td>Mon</td>\n",
       "    </tr>\n",
       "    <tr>\n",
       "      <th>1</th>\n",
       "      <td>2010-04-17 15:43:53+00:00</td>\n",
       "      <td>6.9</td>\n",
       "      <td>0</td>\n",
       "      <td>-73.990078</td>\n",
       "      <td>40.740558</td>\n",
       "      <td>-73.974232</td>\n",
       "      <td>40.744114</td>\n",
       "      <td>1</td>\n",
       "      <td>1.392307</td>\n",
       "      <td>2010-04-17 11:43:53+00:00</td>\n",
       "      <td>11</td>\n",
       "      <td>am</td>\n",
       "      <td>Sat</td>\n",
       "    </tr>\n",
       "    <tr>\n",
       "      <th>2</th>\n",
       "      <td>2010-04-17 11:23:26+00:00</td>\n",
       "      <td>10.1</td>\n",
       "      <td>1</td>\n",
       "      <td>-73.994149</td>\n",
       "      <td>40.751118</td>\n",
       "      <td>-73.960064</td>\n",
       "      <td>40.766235</td>\n",
       "      <td>2</td>\n",
       "      <td>3.326763</td>\n",
       "      <td>2010-04-17 07:23:26+00:00</td>\n",
       "      <td>7</td>\n",
       "      <td>am</td>\n",
       "      <td>Sat</td>\n",
       "    </tr>\n",
       "    <tr>\n",
       "      <th>3</th>\n",
       "      <td>2010-04-11 21:25:03+00:00</td>\n",
       "      <td>8.9</td>\n",
       "      <td>0</td>\n",
       "      <td>-73.990485</td>\n",
       "      <td>40.756422</td>\n",
       "      <td>-73.971205</td>\n",
       "      <td>40.748192</td>\n",
       "      <td>1</td>\n",
       "      <td>1.864129</td>\n",
       "      <td>2010-04-11 17:25:03+00:00</td>\n",
       "      <td>17</td>\n",
       "      <td>pm</td>\n",
       "      <td>Sun</td>\n",
       "    </tr>\n",
       "    <tr>\n",
       "      <th>4</th>\n",
       "      <td>2010-04-17 02:19:01+00:00</td>\n",
       "      <td>19.7</td>\n",
       "      <td>1</td>\n",
       "      <td>-73.990976</td>\n",
       "      <td>40.734202</td>\n",
       "      <td>-73.905956</td>\n",
       "      <td>40.743115</td>\n",
       "      <td>1</td>\n",
       "      <td>7.231321</td>\n",
       "      <td>2010-04-16 22:19:01+00:00</td>\n",
       "      <td>22</td>\n",
       "      <td>pm</td>\n",
       "      <td>Fri</td>\n",
       "    </tr>\n",
       "  </tbody>\n",
       "</table>\n",
       "</div>"
      ],
      "text/plain": [
       "            pickup_datetime  fare_amount  fare_class  pickup_longitude  \\\n",
       "0 2010-04-19 08:17:56+00:00          6.5           0        -73.992365   \n",
       "1 2010-04-17 15:43:53+00:00          6.9           0        -73.990078   \n",
       "2 2010-04-17 11:23:26+00:00         10.1           1        -73.994149   \n",
       "3 2010-04-11 21:25:03+00:00          8.9           0        -73.990485   \n",
       "4 2010-04-17 02:19:01+00:00         19.7           1        -73.990976   \n",
       "\n",
       "   pickup_latitude  dropoff_longitude  dropoff_latitude  passenger_count  \\\n",
       "0        40.730521         -73.975499         40.744746                1   \n",
       "1        40.740558         -73.974232         40.744114                1   \n",
       "2        40.751118         -73.960064         40.766235                2   \n",
       "3        40.756422         -73.971205         40.748192                1   \n",
       "4        40.734202         -73.905956         40.743115                1   \n",
       "\n",
       "   dist_in_km       pickup_datetime_edt  hour am_or_pm weekday  \n",
       "0    2.126312 2010-04-19 04:17:56+00:00     4       am     Mon  \n",
       "1    1.392307 2010-04-17 11:43:53+00:00    11       am     Sat  \n",
       "2    3.326763 2010-04-17 07:23:26+00:00     7       am     Sat  \n",
       "3    1.864129 2010-04-11 17:25:03+00:00    17       pm     Sun  \n",
       "4    7.231321 2010-04-16 22:19:01+00:00    22       pm     Fri  "
      ]
     },
     "execution_count": 20,
     "metadata": {},
     "output_type": "execute_result"
    }
   ],
   "source": [
    "df.head()"
   ]
  },
  {
   "cell_type": "markdown",
   "id": "9eb46acf-fd35-4bf6-ba83-03885c28c9a1",
   "metadata": {},
   "source": [
    "## Categorical and Continuous Features"
   ]
  },
  {
   "cell_type": "code",
   "execution_count": 21,
   "id": "fe8cf0b6-9bd9-43c9-9308-d44927e70c6c",
   "metadata": {},
   "outputs": [],
   "source": [
    "cat_cols = ['hour', 'am_or_pm', 'weekday']\n",
    "cont_cols = ['pickup_longitude', 'pickup_latitude', 'dropoff_longitude', \n",
    "             'dropoff_latitude', 'passenger_count', 'dist_in_km'\n",
    "            ]"
   ]
  },
  {
   "cell_type": "code",
   "execution_count": 22,
   "id": "dd3033b5-9460-478d-b678-7056ecdeea86",
   "metadata": {},
   "outputs": [],
   "source": [
    "y_col = ['fare_amount']"
   ]
  },
  {
   "cell_type": "code",
   "execution_count": 23,
   "id": "b6bbd58d-411d-4fee-85b9-d8ea5afe5d4f",
   "metadata": {},
   "outputs": [
    {
     "data": {
      "text/plain": [
       "pickup_datetime        datetime64[ns, UTC]\n",
       "fare_amount                        float64\n",
       "fare_class                           int64\n",
       "pickup_longitude                   float64\n",
       "pickup_latitude                    float64\n",
       "dropoff_longitude                  float64\n",
       "dropoff_latitude                   float64\n",
       "passenger_count                      int64\n",
       "dist_in_km                         float64\n",
       "pickup_datetime_edt    datetime64[ns, UTC]\n",
       "hour                                 int32\n",
       "am_or_pm                            object\n",
       "weekday                             object\n",
       "dtype: object"
      ]
     },
     "execution_count": 23,
     "metadata": {},
     "output_type": "execute_result"
    }
   ],
   "source": [
    "df.dtypes"
   ]
  },
  {
   "cell_type": "code",
   "execution_count": 24,
   "id": "7be181ac-5cc5-4e48-9c4a-9a0d82145ded",
   "metadata": {},
   "outputs": [],
   "source": [
    "for cat in cat_cols:\n",
    "    df[cat] = df[cat].astype('category')"
   ]
  },
  {
   "cell_type": "code",
   "execution_count": 25,
   "id": "660d4908-3437-45e4-8551-76197ec27e73",
   "metadata": {},
   "outputs": [
    {
     "data": {
      "text/plain": [
       "pickup_datetime        datetime64[ns, UTC]\n",
       "fare_amount                        float64\n",
       "fare_class                           int64\n",
       "pickup_longitude                   float64\n",
       "pickup_latitude                    float64\n",
       "dropoff_longitude                  float64\n",
       "dropoff_latitude                   float64\n",
       "passenger_count                      int64\n",
       "dist_in_km                         float64\n",
       "pickup_datetime_edt    datetime64[ns, UTC]\n",
       "hour                              category\n",
       "am_or_pm                          category\n",
       "weekday                           category\n",
       "dtype: object"
      ]
     },
     "execution_count": 25,
     "metadata": {},
     "output_type": "execute_result"
    }
   ],
   "source": [
    "df.dtypes"
   ]
  },
  {
   "cell_type": "code",
   "execution_count": 26,
   "id": "61e4b0f3-97e3-47f7-9db6-3a5185786525",
   "metadata": {},
   "outputs": [
    {
     "data": {
      "text/plain": [
       "0     4\n",
       "1    11\n",
       "2     7\n",
       "3    17\n",
       "4    22\n",
       "Name: hour, dtype: category\n",
       "Categories (24, int32): [0, 1, 2, 3, ..., 20, 21, 22, 23]"
      ]
     },
     "execution_count": 26,
     "metadata": {},
     "output_type": "execute_result"
    }
   ],
   "source": [
    "df['hour'].head()"
   ]
  },
  {
   "cell_type": "code",
   "execution_count": 27,
   "id": "e0dd5b33-62e4-4267-9f7a-4a5fd209c92d",
   "metadata": {},
   "outputs": [
    {
     "data": {
      "text/plain": [
       "0    am\n",
       "1    am\n",
       "2    am\n",
       "3    pm\n",
       "4    pm\n",
       "Name: am_or_pm, dtype: category\n",
       "Categories (2, object): ['am', 'pm']"
      ]
     },
     "execution_count": 27,
     "metadata": {},
     "output_type": "execute_result"
    }
   ],
   "source": [
    "df['am_or_pm'].head()"
   ]
  },
  {
   "cell_type": "code",
   "execution_count": 28,
   "id": "ad8875bd-57fb-406a-a8bb-7d8d75ae2d64",
   "metadata": {},
   "outputs": [
    {
     "data": {
      "text/plain": [
       "0    Mon\n",
       "1    Sat\n",
       "2    Sat\n",
       "3    Sun\n",
       "4    Fri\n",
       "Name: weekday, dtype: category\n",
       "Categories (7, object): ['Fri', 'Mon', 'Sat', 'Sun', 'Thu', 'Tue', 'Wed']"
      ]
     },
     "execution_count": 28,
     "metadata": {},
     "output_type": "execute_result"
    }
   ],
   "source": [
    "df['weekday'].head()"
   ]
  },
  {
   "cell_type": "code",
   "execution_count": 29,
   "id": "37cc71fe-be76-4b58-999d-5f7302c1ebd4",
   "metadata": {},
   "outputs": [
    {
     "data": {
      "text/plain": [
       "0         0\n",
       "1         0\n",
       "2         0\n",
       "3         1\n",
       "4         1\n",
       "         ..\n",
       "119995    0\n",
       "119996    0\n",
       "119997    1\n",
       "119998    0\n",
       "119999    1\n",
       "Length: 120000, dtype: int8"
      ]
     },
     "execution_count": 29,
     "metadata": {},
     "output_type": "execute_result"
    }
   ],
   "source": [
    "df['am_or_pm'].cat.codes"
   ]
  },
  {
   "cell_type": "code",
   "execution_count": 30,
   "id": "bf0bc8c9-2b3e-4b0a-8ccc-ca4197a23f3c",
   "metadata": {},
   "outputs": [
    {
     "data": {
      "text/plain": [
       "Index(['am', 'pm'], dtype='object')"
      ]
     },
     "execution_count": 30,
     "metadata": {},
     "output_type": "execute_result"
    }
   ],
   "source": [
    "df['am_or_pm'].cat.categories"
   ]
  },
  {
   "cell_type": "code",
   "execution_count": 31,
   "id": "7615ba8a-80e0-4358-a763-bca23b91c65d",
   "metadata": {},
   "outputs": [
    {
     "data": {
      "text/plain": [
       "array([1, 2, 2, ..., 3, 5, 2], dtype=int8)"
      ]
     },
     "execution_count": 31,
     "metadata": {},
     "output_type": "execute_result"
    }
   ],
   "source": [
    "df['weekday'].cat.codes.values"
   ]
  },
  {
   "cell_type": "markdown",
   "id": "54ca13e2-32cb-4eed-930d-94f9cfbd8649",
   "metadata": {},
   "source": [
    "### Creating NumPy Arrays for Categorical Features"
   ]
  },
  {
   "cell_type": "code",
   "execution_count": 32,
   "id": "3ba228c6-461d-49fe-82a2-67300ebb30cf",
   "metadata": {},
   "outputs": [],
   "source": [
    "hour = df['hour'].cat.codes.values\n",
    "am_or_pm = df['am_or_pm'].cat.codes.values\n",
    "weekday = df['weekday'].cat.codes.values"
   ]
  },
  {
   "cell_type": "code",
   "execution_count": 33,
   "id": "d4feb39a-cff8-4c51-9a13-6531d2246603",
   "metadata": {},
   "outputs": [
    {
     "data": {
      "text/plain": [
       "array([[ 4,  0,  1],\n",
       "       [11,  0,  2],\n",
       "       [ 7,  0,  2],\n",
       "       ...,\n",
       "       [14,  1,  3],\n",
       "       [ 4,  0,  5],\n",
       "       [12,  1,  2]], dtype=int8)"
      ]
     },
     "execution_count": 33,
     "metadata": {},
     "output_type": "execute_result"
    }
   ],
   "source": [
    "cats = np.stack([hour, am_or_pm, weekday], axis=1)\n",
    "cats"
   ]
  },
  {
   "cell_type": "markdown",
   "id": "b875a39d-846b-4ec1-a431-60a6a51e32fb",
   "metadata": {},
   "source": [
    "### Converting NumPy Arrays to Tensor"
   ]
  },
  {
   "cell_type": "code",
   "execution_count": 34,
   "id": "c398593b-9b27-409a-a022-28c649c03203",
   "metadata": {},
   "outputs": [],
   "source": [
    "cats = torch.tensor(cats, dtype=torch.int64)"
   ]
  },
  {
   "cell_type": "code",
   "execution_count": 35,
   "id": "83db7aa4-88e7-463d-9095-c5f25157173b",
   "metadata": {},
   "outputs": [
    {
     "data": {
      "text/plain": [
       "tensor([[ 4,  0,  1],\n",
       "        [11,  0,  2],\n",
       "        [ 7,  0,  2],\n",
       "        ...,\n",
       "        [14,  1,  3],\n",
       "        [ 4,  0,  5],\n",
       "        [12,  1,  2]])"
      ]
     },
     "execution_count": 35,
     "metadata": {},
     "output_type": "execute_result"
    }
   ],
   "source": [
    "cats"
   ]
  },
  {
   "cell_type": "markdown",
   "id": "0c3af519-782c-4399-bffc-39dd0bc8e760",
   "metadata": {},
   "source": [
    "### Creating NumPy Arrays for Continuous Features"
   ]
  },
  {
   "cell_type": "code",
   "execution_count": 36,
   "id": "b5eca182-c2eb-4673-8ae6-5b8c110aad05",
   "metadata": {},
   "outputs": [
    {
     "data": {
      "text/plain": [
       "array([[-73.992365  ,  40.730521  , -73.975499  ,  40.744746  ,\n",
       "          1.        ,   2.12631159],\n",
       "       [-73.990078  ,  40.740558  , -73.974232  ,  40.744114  ,\n",
       "          1.        ,   1.39230687],\n",
       "       [-73.994149  ,  40.751118  , -73.960064  ,  40.766235  ,\n",
       "          2.        ,   3.32676344],\n",
       "       ...,\n",
       "       [-73.988574  ,  40.749772  , -74.011541  ,  40.707799  ,\n",
       "          3.        ,   5.05252282],\n",
       "       [-74.004449  ,  40.724529  , -73.992697  ,  40.730765  ,\n",
       "          1.        ,   1.20892296],\n",
       "       [-73.955415  ,  40.77192   , -73.967623  ,  40.763015  ,\n",
       "          3.        ,   1.42739869]])"
      ]
     },
     "execution_count": 36,
     "metadata": {},
     "output_type": "execute_result"
    }
   ],
   "source": [
    "conts = np.stack([df[col].values for col in cont_cols], axis=1)\n",
    "conts"
   ]
  },
  {
   "cell_type": "markdown",
   "id": "c3c95400-866d-4f11-9ac8-ead6985af999",
   "metadata": {},
   "source": [
    "### Converting NumPy Arrays to Tensor"
   ]
  },
  {
   "cell_type": "code",
   "execution_count": 37,
   "id": "a7078fe0-9e40-4098-b4aa-4c44c4afe107",
   "metadata": {},
   "outputs": [
    {
     "data": {
      "text/plain": [
       "tensor([[-73.9924,  40.7305, -73.9755,  40.7447,   1.0000,   2.1263],\n",
       "        [-73.9901,  40.7406, -73.9742,  40.7441,   1.0000,   1.3923],\n",
       "        [-73.9941,  40.7511, -73.9601,  40.7662,   2.0000,   3.3268],\n",
       "        ...,\n",
       "        [-73.9886,  40.7498, -74.0115,  40.7078,   3.0000,   5.0525],\n",
       "        [-74.0044,  40.7245, -73.9927,  40.7308,   1.0000,   1.2089],\n",
       "        [-73.9554,  40.7719, -73.9676,  40.7630,   3.0000,   1.4274]])"
      ]
     },
     "execution_count": 37,
     "metadata": {},
     "output_type": "execute_result"
    }
   ],
   "source": [
    "conts = torch.tensor(conts, dtype=torch.float)\n",
    "conts"
   ]
  },
  {
   "cell_type": "markdown",
   "id": "64b045a1-dce5-4e2e-8f49-961f26472323",
   "metadata": {},
   "source": [
    "### Converting a Label Column into Tensor"
   ]
  },
  {
   "cell_type": "code",
   "execution_count": 38,
   "id": "7dc1f3cc-5a86-4477-80b5-b105abb70172",
   "metadata": {},
   "outputs": [
    {
     "data": {
      "text/plain": [
       "array([[ 6.5],\n",
       "       [ 6.9],\n",
       "       [10.1],\n",
       "       ...,\n",
       "       [12.5],\n",
       "       [ 4.9],\n",
       "       [ 5.3]])"
      ]
     },
     "execution_count": 38,
     "metadata": {},
     "output_type": "execute_result"
    }
   ],
   "source": [
    "df[y_col].values"
   ]
  },
  {
   "cell_type": "code",
   "execution_count": 39,
   "id": "4b96c079-c567-41ae-93d3-f1bee47d387d",
   "metadata": {},
   "outputs": [
    {
     "data": {
      "text/plain": [
       "tensor([[ 6.5000],\n",
       "        [ 6.9000],\n",
       "        [10.1000],\n",
       "        ...,\n",
       "        [12.5000],\n",
       "        [ 4.9000],\n",
       "        [ 5.3000]])"
      ]
     },
     "execution_count": 39,
     "metadata": {},
     "output_type": "execute_result"
    }
   ],
   "source": [
    "y = torch.tensor(df[y_col].values, dtype=torch.float)\n",
    "y"
   ]
  },
  {
   "cell_type": "markdown",
   "id": "693fb15e-8b12-480f-8dee-7275f606ec90",
   "metadata": {},
   "source": [
    "### Checking Shape of Each"
   ]
  },
  {
   "cell_type": "code",
   "execution_count": 40,
   "id": "4d7cd647-b328-484b-b91c-3acadd6a0582",
   "metadata": {},
   "outputs": [
    {
     "data": {
      "text/plain": [
       "torch.Size([120000, 3])"
      ]
     },
     "execution_count": 40,
     "metadata": {},
     "output_type": "execute_result"
    }
   ],
   "source": [
    "cats.shape"
   ]
  },
  {
   "cell_type": "code",
   "execution_count": 41,
   "id": "8ee432f4-1327-4008-bfbb-019c7e33632d",
   "metadata": {},
   "outputs": [
    {
     "data": {
      "text/plain": [
       "torch.Size([120000, 6])"
      ]
     },
     "execution_count": 41,
     "metadata": {},
     "output_type": "execute_result"
    }
   ],
   "source": [
    "conts.shape"
   ]
  },
  {
   "cell_type": "code",
   "execution_count": 42,
   "id": "e98c082b-cbef-4ac9-8a20-ff02eb278fb0",
   "metadata": {},
   "outputs": [
    {
     "data": {
      "text/plain": [
       "torch.Size([120000, 1])"
      ]
     },
     "execution_count": 42,
     "metadata": {},
     "output_type": "execute_result"
    }
   ],
   "source": [
    "y.shape"
   ]
  },
  {
   "cell_type": "markdown",
   "id": "78fb6db7-8b9f-45c6-b68c-b461740d2a96",
   "metadata": {},
   "source": [
    "## Setting Up Embedding"
   ]
  },
  {
   "cell_type": "code",
   "execution_count": 43,
   "id": "8968f78b-2f1e-4ccd-9ff4-fb4e9494680c",
   "metadata": {},
   "outputs": [
    {
     "data": {
      "text/plain": [
       "[24, 2, 7]"
      ]
     },
     "execution_count": 43,
     "metadata": {},
     "output_type": "execute_result"
    }
   ],
   "source": [
    "cat_size = [len(df[col].cat.categories) for col in cat_cols]\n",
    "cat_size"
   ]
  },
  {
   "cell_type": "code",
   "execution_count": 44,
   "id": "6e8a9858-da01-4195-9472-9ede31167280",
   "metadata": {},
   "outputs": [
    {
     "data": {
      "text/plain": [
       "[(24, 12), (2, 1), (7, 4)]"
      ]
     },
     "execution_count": 44,
     "metadata": {},
     "output_type": "execute_result"
    }
   ],
   "source": [
    "embedding_size = [(size, min(50, (size+1) // 2)) for size in cat_size]\n",
    "embedding_size"
   ]
  },
  {
   "cell_type": "markdown",
   "id": "c5366387-7e75-484b-80e0-83b7235902a0",
   "metadata": {},
   "source": [
    "## Passing Slice of Categorical Data into Embedding"
   ]
  },
  {
   "cell_type": "code",
   "execution_count": 45,
   "id": "8318f2bb-9764-4cfc-8a2c-0321b6ab1355",
   "metadata": {},
   "outputs": [
    {
     "data": {
      "text/plain": [
       "tensor([[ 4,  0,  1],\n",
       "        [11,  0,  2],\n",
       "        [ 7,  0,  2],\n",
       "        [17,  1,  3]])"
      ]
     },
     "execution_count": 45,
     "metadata": {},
     "output_type": "execute_result"
    }
   ],
   "source": [
    "catz = cats[:4]\n",
    "catz"
   ]
  },
  {
   "cell_type": "code",
   "execution_count": 46,
   "id": "9de0d0ae-8fe3-4bed-b032-6c84693554dd",
   "metadata": {},
   "outputs": [
    {
     "data": {
      "text/plain": [
       "[Embedding(24, 12), Embedding(2, 1), Embedding(7, 4)]"
      ]
     },
     "execution_count": 46,
     "metadata": {},
     "output_type": "execute_result"
    }
   ],
   "source": [
    "[nn.Embedding(ni, nf) for ni, nf in embedding_size]"
   ]
  },
  {
   "cell_type": "markdown",
   "id": "88db86a4-8bb2-4978-93f2-76c50a2605f6",
   "metadata": {},
   "source": [
    "## Creating Embedding Layer"
   ]
  },
  {
   "cell_type": "code",
   "execution_count": 47,
   "id": "f00670b6-e400-4848-b0af-7ce7aa37fac8",
   "metadata": {},
   "outputs": [
    {
     "data": {
      "text/plain": [
       "ModuleList(\n",
       "  (0): Embedding(24, 12)\n",
       "  (1): Embedding(2, 1)\n",
       "  (2): Embedding(7, 4)\n",
       ")"
      ]
     },
     "execution_count": 47,
     "metadata": {},
     "output_type": "execute_result"
    }
   ],
   "source": [
    "self_embeddings = nn.ModuleList([nn.Embedding(ni, nf) for ni, nf in embedding_size])\n",
    "self_embeddings"
   ]
  },
  {
   "cell_type": "code",
   "execution_count": 48,
   "id": "727e4005-a103-4100-94e3-6839cdce0a03",
   "metadata": {},
   "outputs": [
    {
     "data": {
      "text/plain": [
       "[tensor([[ 2.6725,  1.4482,  0.9614,  1.3346,  0.8048,  1.0167,  1.5270, -0.1037,\n",
       "           2.2488,  1.0236, -0.7393,  0.8994],\n",
       "         [ 0.2111,  0.3224, -0.3430, -1.5243, -1.3332, -0.0955, -0.2264,  1.0658,\n",
       "           1.6075, -0.6903, -0.4638,  1.0315],\n",
       "         [ 1.1934, -0.1411, -0.5356, -1.5555, -0.6197, -1.6265, -0.5041, -0.6288,\n",
       "           1.1217,  0.8607, -1.2688,  0.2823],\n",
       "         [ 1.3858,  0.4627,  1.5347,  0.0687,  0.6834, -2.1023, -0.7844, -0.0148,\n",
       "          -1.0960,  0.8049,  0.4284, -2.0486]], grad_fn=<EmbeddingBackward0>),\n",
       " tensor([[-0.1389],\n",
       "         [-0.1389],\n",
       "         [-0.1389],\n",
       "         [ 0.0413]], grad_fn=<EmbeddingBackward0>),\n",
       " tensor([[-0.8770, -1.3164,  0.6131,  1.7588],\n",
       "         [ 0.0977, -0.4305, -1.2899,  0.9209],\n",
       "         [ 0.0977, -0.4305, -1.2899,  0.9209],\n",
       "         [-0.8678,  0.5326,  0.6234,  0.9131]], grad_fn=<EmbeddingBackward0>)]"
      ]
     },
     "execution_count": 48,
     "metadata": {},
     "output_type": "execute_result"
    }
   ],
   "source": [
    "embeddingz = []\n",
    "\n",
    "for i, e in enumerate(self_embeddings):\n",
    "    embeddingz.append(e(catz[:, i]))\n",
    "\n",
    "embeddingz"
   ]
  },
  {
   "cell_type": "code",
   "execution_count": 49,
   "id": "472a8463-95e6-4d65-8d3e-44bdb96a34d6",
   "metadata": {},
   "outputs": [
    {
     "data": {
      "text/plain": [
       "tensor([[ 2.6725,  1.4482,  0.9614,  1.3346,  0.8048,  1.0167,  1.5270, -0.1037,\n",
       "          2.2488,  1.0236, -0.7393,  0.8994, -0.1389, -0.8770, -1.3164,  0.6131,\n",
       "          1.7588],\n",
       "        [ 0.2111,  0.3224, -0.3430, -1.5243, -1.3332, -0.0955, -0.2264,  1.0658,\n",
       "          1.6075, -0.6903, -0.4638,  1.0315, -0.1389,  0.0977, -0.4305, -1.2899,\n",
       "          0.9209],\n",
       "        [ 1.1934, -0.1411, -0.5356, -1.5555, -0.6197, -1.6265, -0.5041, -0.6288,\n",
       "          1.1217,  0.8607, -1.2688,  0.2823, -0.1389,  0.0977, -0.4305, -1.2899,\n",
       "          0.9209],\n",
       "        [ 1.3858,  0.4627,  1.5347,  0.0687,  0.6834, -2.1023, -0.7844, -0.0148,\n",
       "         -1.0960,  0.8049,  0.4284, -2.0486,  0.0413, -0.8678,  0.5326,  0.6234,\n",
       "          0.9131]], grad_fn=<CatBackward0>)"
      ]
     },
     "execution_count": 49,
     "metadata": {},
     "output_type": "execute_result"
    }
   ],
   "source": [
    "z = torch.cat(embeddingz, dim=1)\n",
    "z"
   ]
  },
  {
   "cell_type": "markdown",
   "id": "0c36de37-fe99-4fc8-90dd-690a0e12c35e",
   "metadata": {},
   "source": [
    "## Creating Dropout Layer"
   ]
  },
  {
   "cell_type": "code",
   "execution_count": 50,
   "id": "05ec084d-44c6-4eba-a2c1-a3463e838d0f",
   "metadata": {},
   "outputs": [],
   "source": [
    "self_embedding_drop = nn.Dropout(p=0.4)"
   ]
  },
  {
   "cell_type": "code",
   "execution_count": 51,
   "id": "3db2f78a-52cb-4fbd-b6cb-510555a5a2ae",
   "metadata": {},
   "outputs": [
    {
     "data": {
      "text/plain": [
       "tensor([[ 4.4541,  2.4136,  0.0000,  0.0000,  1.3413,  1.6944,  0.0000, -0.0000,\n",
       "          3.7480,  1.7060, -1.2322,  1.4989, -0.2315, -0.0000, -0.0000,  1.0219,\n",
       "          2.9314],\n",
       "        [ 0.3518,  0.5374, -0.5717, -2.5405, -2.2220, -0.1592, -0.3773,  1.7763,\n",
       "          2.6792, -1.1505, -0.0000,  0.0000, -0.0000,  0.0000, -0.0000, -2.1499,\n",
       "          0.0000],\n",
       "        [ 1.9890, -0.2351, -0.0000, -0.0000, -0.0000, -0.0000, -0.0000, -1.0480,\n",
       "          1.8695,  0.0000, -0.0000,  0.4706, -0.0000,  0.1628, -0.0000, -2.1499,\n",
       "          1.5348],\n",
       "        [ 2.3097,  0.7712,  2.5578,  0.1145,  1.1390, -3.5038, -0.0000, -0.0246,\n",
       "         -0.0000,  0.0000,  0.7140, -0.0000,  0.0000, -0.0000,  0.8876,  0.0000,\n",
       "          0.0000]], grad_fn=<MulBackward0>)"
      ]
     },
     "execution_count": 51,
     "metadata": {},
     "output_type": "execute_result"
    }
   ],
   "source": [
    "z = self_embedding_drop(z)\n",
    "z"
   ]
  },
  {
   "cell_type": "markdown",
   "id": "7428fbda-4307-415b-a443-8e7b0fef78a6",
   "metadata": {},
   "source": [
    "## Creating Tabular Model"
   ]
  },
  {
   "cell_type": "code",
   "execution_count": 52,
   "id": "89809680-5d6b-4d18-ac42-b71e2700487a",
   "metadata": {},
   "outputs": [],
   "source": [
    "class TabularModel(nn.Module):\n",
    "    def __init__(self, embedding_size, num_of_cont_feats, out_size, layers, p=0.5):\n",
    "        super().__init__()\n",
    "        self.embeddings = nn.ModuleList([nn.Embedding(ni, nf) for ni, nf in embedding_size])\n",
    "        self.embedding_drop = nn.Dropout(p)\n",
    "        self.batch_normalize_cont_feat = nn.BatchNorm1d(num_of_cont_feats)\n",
    "\n",
    "        layers_list = []\n",
    "        num_of_embeddings = sum([nf for ni, nf in embedding_size])\n",
    "        num_of_input = num_of_embeddings + num_of_cont_feats\n",
    "\n",
    "        for i in layers:\n",
    "            layers_list.append(nn.Linear(num_of_input, i))\n",
    "            layers_list.append(nn.ReLU(inplace=True))\n",
    "            layers_list.append(nn.BatchNorm1d(i))\n",
    "            layers_list.append(nn.Dropout(p))\n",
    "            num_of_input = i\n",
    "\n",
    "        layers_list.append(nn.Linear(layers[-1], out_size))\n",
    "        self.layers = nn.Sequential(*layers_list)\n",
    "\n",
    "    def forward(self, x_cat, x_cont):\n",
    "        embeddings = []\n",
    "        for i, e in enumerate(self.embeddings):\n",
    "            embeddings.append(e(x_cat[:, i]))\n",
    "\n",
    "        x = torch.cat(embeddings, 1)\n",
    "        x = self.embedding_drop(x)\n",
    "\n",
    "        x_cont = self.batch_normalize_cont_feat(x_cont)\n",
    "        x = torch.cat([x, x_cont], 1)\n",
    "        x = self.layers(x)\n",
    "        return x"
   ]
  },
  {
   "cell_type": "markdown",
   "id": "8a8a33b0-7cd7-469d-9cbc-080b4b9d6d06",
   "metadata": {},
   "source": [
    "## Training the Model"
   ]
  },
  {
   "cell_type": "code",
   "execution_count": 53,
   "id": "ed36d018-aa86-44c8-8b38-b872f8aa7952",
   "metadata": {},
   "outputs": [
    {
     "data": {
      "text/plain": [
       "TabularModel(\n",
       "  (embeddings): ModuleList(\n",
       "    (0): Embedding(24, 12)\n",
       "    (1): Embedding(2, 1)\n",
       "    (2): Embedding(7, 4)\n",
       "  )\n",
       "  (embedding_drop): Dropout(p=0.4, inplace=False)\n",
       "  (batch_normalize_cont_feat): BatchNorm1d(6, eps=1e-05, momentum=0.1, affine=True, track_running_stats=True)\n",
       "  (layers): Sequential(\n",
       "    (0): Linear(in_features=23, out_features=200, bias=True)\n",
       "    (1): ReLU(inplace=True)\n",
       "    (2): BatchNorm1d(200, eps=1e-05, momentum=0.1, affine=True, track_running_stats=True)\n",
       "    (3): Dropout(p=0.4, inplace=False)\n",
       "    (4): Linear(in_features=200, out_features=100, bias=True)\n",
       "    (5): ReLU(inplace=True)\n",
       "    (6): BatchNorm1d(100, eps=1e-05, momentum=0.1, affine=True, track_running_stats=True)\n",
       "    (7): Dropout(p=0.4, inplace=False)\n",
       "    (8): Linear(in_features=100, out_features=1, bias=True)\n",
       "  )\n",
       ")"
      ]
     },
     "execution_count": 53,
     "metadata": {},
     "output_type": "execute_result"
    }
   ],
   "source": [
    "torch.manual_seed(33)\n",
    "model = TabularModel(\n",
    "    embedding_size=embedding_size,\n",
    "    num_of_cont_feats=conts.shape[1],\n",
    "    out_size=1,\n",
    "    layers=[200, 100],\n",
    "    p=0.4\n",
    ")\n",
    "\n",
    "model"
   ]
  },
  {
   "cell_type": "code",
   "execution_count": 54,
   "id": "6281582a-e911-435a-a3b3-23b1c2f02273",
   "metadata": {},
   "outputs": [],
   "source": [
    "criterion = nn.MSELoss()\n",
    "optimizer = torch.optim.Adam(model.parameters(), lr=0.001)"
   ]
  },
  {
   "cell_type": "code",
   "execution_count": 55,
   "id": "52279df1-92c6-4702-aaa6-fb39bf82070a",
   "metadata": {},
   "outputs": [],
   "source": [
    "batch_size = 60000\n",
    "test_size = int(batch_size*0.2)"
   ]
  },
  {
   "cell_type": "code",
   "execution_count": 56,
   "id": "a08019a5-dd5c-4d92-b111-9555fb02887e",
   "metadata": {},
   "outputs": [],
   "source": [
    "cat_train = cats[:batch_size-test_size]\n",
    "cat_test = cats[batch_size-test_size:batch_size]\n",
    "\n",
    "cont_train = conts[:batch_size-test_size]\n",
    "cont_test = conts[batch_size-test_size:batch_size]"
   ]
  },
  {
   "cell_type": "code",
   "execution_count": 57,
   "id": "0f43886b-b1a5-48fd-a33f-544b400672d5",
   "metadata": {},
   "outputs": [],
   "source": [
    "y_train = y[:batch_size-test_size]\n",
    "y_test = y[batch_size-test_size:batch_size]"
   ]
  },
  {
   "cell_type": "code",
   "execution_count": 58,
   "id": "a1297b31-4d15-4165-bc31-cad61a7b4ab1",
   "metadata": {},
   "outputs": [
    {
     "data": {
      "text/plain": [
       "48000"
      ]
     },
     "execution_count": 58,
     "metadata": {},
     "output_type": "execute_result"
    }
   ],
   "source": [
    "len(cat_train)"
   ]
  },
  {
   "cell_type": "code",
   "execution_count": 59,
   "id": "f6932307-a20f-4049-9a2c-94303bff3ca1",
   "metadata": {},
   "outputs": [
    {
     "data": {
      "text/plain": [
       "48000"
      ]
     },
     "execution_count": 59,
     "metadata": {},
     "output_type": "execute_result"
    }
   ],
   "source": [
    "len(cont_train)"
   ]
  },
  {
   "cell_type": "code",
   "execution_count": 60,
   "id": "79bace91-ae4e-4353-b4b2-a7fe621e542a",
   "metadata": {},
   "outputs": [
    {
     "data": {
      "text/plain": [
       "12000"
      ]
     },
     "execution_count": 60,
     "metadata": {},
     "output_type": "execute_result"
    }
   ],
   "source": [
    "len(cat_test)"
   ]
  },
  {
   "cell_type": "code",
   "execution_count": 61,
   "id": "ba3b459f-2b0b-4e10-86d5-ee690fae9050",
   "metadata": {},
   "outputs": [
    {
     "name": "stdout",
     "output_type": "stream",
     "text": [
      "epoch is 1 and loss is 12.586893081665039\n",
      "epoch is 11 and loss is 11.686624526977539\n",
      "epoch is 21 and loss is 11.12124252319336\n",
      "epoch is 31 and loss is 10.7335844039917\n",
      "epoch is 41 and loss is 10.460492134094238\n",
      "epoch is 51 and loss is 10.2349214553833\n",
      "epoch is 61 and loss is 10.028074264526367\n",
      "epoch is 71 and loss is 9.849199295043945\n",
      "epoch is 81 and loss is 9.635123252868652\n",
      "epoch is 91 and loss is 9.413418769836426\n",
      "epoch is 101 and loss is 9.17275619506836\n",
      "epoch is 111 and loss is 8.894512176513672\n",
      "epoch is 121 and loss is 8.57868480682373\n",
      "epoch is 131 and loss is 8.216811180114746\n",
      "epoch is 141 and loss is 7.808204174041748\n",
      "epoch is 151 and loss is 7.365363597869873\n",
      "epoch is 161 and loss is 6.919065475463867\n",
      "epoch is 171 and loss is 6.455702304840088\n",
      "epoch is 181 and loss is 5.967177867889404\n",
      "epoch is 191 and loss is 5.460626602172852\n",
      "epoch is 201 and loss is 5.016528129577637\n",
      "epoch is 211 and loss is 4.630451202392578\n",
      "epoch is 221 and loss is 4.341211795806885\n",
      "epoch is 231 and loss is 4.097939491271973\n",
      "epoch is 241 and loss is 3.9074981212615967\n",
      "epoch is 251 and loss is 3.884089946746826\n",
      "epoch is 261 and loss is 3.7992022037506104\n",
      "epoch is 271 and loss is 3.7983148097991943\n",
      "epoch is 281 and loss is 3.723501205444336\n",
      "epoch is 291 and loss is 3.7159879207611084\n",
      "Training Took 0.3869677106539408 minutes\n"
     ]
    }
   ],
   "source": [
    "start_time = time.time()\n",
    "\n",
    "epochs = 300\n",
    "losses = []\n",
    "\n",
    "for i in range(epochs):\n",
    "    i += 1\n",
    "\n",
    "    # Forward Pass\n",
    "    y_pred = model(cat_train, cont_train)\n",
    "\n",
    "    # Calculating Loss\n",
    "    loss = torch.sqrt(criterion(y_pred, y_train))\n",
    "\n",
    "    # Recording Error\n",
    "    losses.append(loss.detach().numpy())\n",
    "\n",
    "    if i % 10 == 1:\n",
    "        print(f\"epoch is {i} and loss is {loss.item()}\")\n",
    "\n",
    "    # Backpropagation\n",
    "    optimizer.zero_grad()\n",
    "    loss.backward()\n",
    "    optimizer.step()\n",
    "\n",
    "duration = time.time() - start_time\n",
    "print(f\"Training Took {duration / 60} minutes\")"
   ]
  },
  {
   "cell_type": "code",
   "execution_count": 62,
   "id": "cda930db-b3f7-44cd-80fd-ee84b25491c8",
   "metadata": {},
   "outputs": [
    {
     "data": {
      "text/plain": [
       "Text(0.5, 0, 'Epoch')"
      ]
     },
     "execution_count": 62,
     "metadata": {},
     "output_type": "execute_result"
    },
    {
     "data": {
      "image/png": "[encoded data removed]",
      "text/plain": [
       "<Figure size 640x480 with 1 Axes>"
      ]
     },
     "metadata": {},
     "output_type": "display_data"
    }
   ],
   "source": [
    "plt.plot(range(epochs), losses)\n",
    "plt.ylabel(\"Loss\")\n",
    "plt.xlabel(\"Epoch\")"
   ]
  },
  {
   "cell_type": "markdown",
   "id": "e6c2d85a-46c3-4cfc-ad5d-e624a579fa1a",
   "metadata": {},
   "source": [
    "## Validate the Model"
   ]
  },
  {
   "cell_type": "code",
   "execution_count": 63,
   "id": "90dfc2b6-d59b-4c28-bb91-a69c39d372c9",
   "metadata": {},
   "outputs": [],
   "source": [
    "with torch.no_grad():\n",
    "    y_eval = model.forward(cat_test, cont_test)\n",
    "    loss = torch.sqrt(criterion(y_eval, y_test))"
   ]
  },
  {
   "cell_type": "code",
   "execution_count": 64,
   "id": "3417f32e-56f4-4771-aabe-076aa6065d4e",
   "metadata": {},
   "outputs": [
    {
     "data": {
      "text/plain": [
       "tensor(3.6336)"
      ]
     },
     "execution_count": 64,
     "metadata": {},
     "output_type": "execute_result"
    }
   ],
   "source": [
    "loss"
   ]
  },
  {
   "cell_type": "code",
   "execution_count": 65,
   "id": "6c0b8795-0a6c-4f97-b9e2-575300a3a234",
   "metadata": {},
   "outputs": [
    {
     "name": "stdout",
     "output_type": "stream",
     "text": [
      "0.) PREDICTED:     5.33 TRUE:    2.90 DIFFERENCE:    2.43\n",
      "1.) PREDICTED:    13.36 TRUE:    5.70 DIFFERENCE:    7.66\n",
      "2.) PREDICTED:     8.06 TRUE:    7.70 DIFFERENCE:    0.36\n",
      "3.) PREDICTED:    14.56 TRUE:   12.50 DIFFERENCE:    2.06\n",
      "4.) PREDICTED:     7.01 TRUE:    4.10 DIFFERENCE:    2.91\n",
      "5.) PREDICTED:     6.25 TRUE:    5.30 DIFFERENCE:    0.95\n",
      "6.) PREDICTED:     2.01 TRUE:    3.70 DIFFERENCE:    1.69\n",
      "7.) PREDICTED:    18.79 TRUE:   14.50 DIFFERENCE:    4.29\n",
      "8.) PREDICTED:     5.16 TRUE:    5.70 DIFFERENCE:    0.54\n",
      "9.) PREDICTED:    13.80 TRUE:   10.10 DIFFERENCE:    3.70\n"
     ]
    }
   ],
   "source": [
    "for i in range(10):\n",
    "    difference = np.abs(y_eval[i].item() - y_test[i].item())\n",
    "    print(f\"{i}.) PREDICTED: {y_eval[i].item():8.2f} TRUE:{y_test[i].item():8.2f} DIFFERENCE:{difference:8.2f}\")"
   ]
  },
  {
   "cell_type": "markdown",
   "id": "81f63246-b9de-43df-8d8c-41071c522f35",
   "metadata": {},
   "source": [
    "## Saving the Model"
   ]
  },
  {
   "cell_type": "code",
   "execution_count": 66,
   "id": "19cd0f37-a989-4708-965b-5bc8f2e910cc",
   "metadata": {},
   "outputs": [],
   "source": [
    "torch.save(model.state_dict(), 'taxi_fare_amount.pt')"
   ]
  },
  {
   "cell_type": "code",
   "execution_count": null,
   "id": "e9aa4339-78d9-4a9b-b5e2-0c77ed0597de",
   "metadata": {},
   "outputs": [],
   "source": []
  }
 ],
 "metadata": {
  "kernelspec": {
   "display_name": "Python 3 (ipykernel)",
   "language": "python",
   "name": "python3"
  },
  "language_info": {
   "codemirror_mode": {
    "name": "ipython",
    "version": 3
   },
   "file_extension": ".py",
   "mimetype": "text/x-python",
   "name": "python",
   "nbconvert_exporter": "python",
   "pygments_lexer": "ipython3",
   "version": "3.11.11"
  }
 },
 "nbformat": 4,
 "nbformat_minor": 5
}
