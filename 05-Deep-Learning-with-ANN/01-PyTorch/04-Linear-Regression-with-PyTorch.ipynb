{
 "cells": [
  {
   "cell_type": "markdown",
   "id": "e587be46-353c-4223-9c44-293ea1288d66",
   "metadata": {},
   "source": [
    "## Import Libraries"
   ]
  },
  {
   "cell_type": "code",
   "execution_count": 1,
   "id": "8399f344-ade0-4e16-a41c-86d1243c09fb",
   "metadata": {},
   "outputs": [],
   "source": [
    "import torch\n",
    "import numpy as np\n",
    "import matplotlib.pyplot as plt\n",
    "import seaborn as sns\n",
    "import torch.nn as nn"
   ]
  },
  {
   "cell_type": "markdown",
   "id": "c0d5b249-d3b0-4e9e-9f0a-f8ccda2ea465",
   "metadata": {},
   "source": [
    "## Creating Data"
   ]
  },
  {
   "cell_type": "code",
   "execution_count": 2,
   "id": "9fc2ecc8-fcc7-43e6-a961-2b6d9d4faab3",
   "metadata": {
    "scrolled": true
   },
   "outputs": [
    {
     "data": {
      "text/plain": [
       "tensor([[ 1.],\n",
       "        [ 2.],\n",
       "        [ 3.],\n",
       "        [ 4.],\n",
       "        [ 5.],\n",
       "        [ 6.],\n",
       "        [ 7.],\n",
       "        [ 8.],\n",
       "        [ 9.],\n",
       "        [10.],\n",
       "        [11.],\n",
       "        [12.],\n",
       "        [13.],\n",
       "        [14.],\n",
       "        [15.],\n",
       "        [16.],\n",
       "        [17.],\n",
       "        [18.],\n",
       "        [19.],\n",
       "        [20.],\n",
       "        [21.],\n",
       "        [22.],\n",
       "        [23.],\n",
       "        [24.],\n",
       "        [25.],\n",
       "        [26.],\n",
       "        [27.],\n",
       "        [28.],\n",
       "        [29.],\n",
       "        [30.],\n",
       "        [31.],\n",
       "        [32.],\n",
       "        [33.],\n",
       "        [34.],\n",
       "        [35.],\n",
       "        [36.],\n",
       "        [37.],\n",
       "        [38.],\n",
       "        [39.],\n",
       "        [40.],\n",
       "        [41.],\n",
       "        [42.],\n",
       "        [43.],\n",
       "        [44.],\n",
       "        [45.],\n",
       "        [46.],\n",
       "        [47.],\n",
       "        [48.],\n",
       "        [49.],\n",
       "        [50.]])"
      ]
     },
     "execution_count": 2,
     "metadata": {},
     "output_type": "execute_result"
    }
   ],
   "source": [
    "X = torch.linspace(1, 50, 50).reshape(-1, 1)\n",
    "X"
   ]
  },
  {
   "cell_type": "code",
   "execution_count": 3,
   "id": "ba927bc6-b42e-40b7-bef4-b23fb1c7674a",
   "metadata": {},
   "outputs": [],
   "source": [
    "torch.manual_seed(71)\n",
    "error_values = torch.randint(low=-8, high=9, size=(50, 1), dtype=torch.float)"
   ]
  },
  {
   "cell_type": "code",
   "execution_count": 4,
   "id": "57f2ebef-9738-41ea-a6ed-d7139040427f",
   "metadata": {
    "scrolled": true
   },
   "outputs": [
    {
     "data": {
      "text/plain": [
       "tensor([[ 2.],\n",
       "        [ 7.],\n",
       "        [ 2.],\n",
       "        [ 6.],\n",
       "        [ 2.],\n",
       "        [-4.],\n",
       "        [ 2.],\n",
       "        [-5.],\n",
       "        [ 4.],\n",
       "        [ 1.],\n",
       "        [ 2.],\n",
       "        [ 3.],\n",
       "        [ 1.],\n",
       "        [-8.],\n",
       "        [ 5.],\n",
       "        [ 5.],\n",
       "        [-6.],\n",
       "        [ 0.],\n",
       "        [-7.],\n",
       "        [-8.],\n",
       "        [-3.],\n",
       "        [-1.],\n",
       "        [ 2.],\n",
       "        [-6.],\n",
       "        [-3.],\n",
       "        [ 3.],\n",
       "        [ 2.],\n",
       "        [ 3.],\n",
       "        [ 4.],\n",
       "        [ 5.],\n",
       "        [ 1.],\n",
       "        [ 7.],\n",
       "        [ 6.],\n",
       "        [-1.],\n",
       "        [-6.],\n",
       "        [-5.],\n",
       "        [-3.],\n",
       "        [ 7.],\n",
       "        [ 0.],\n",
       "        [ 8.],\n",
       "        [-1.],\n",
       "        [-2.],\n",
       "        [ 2.],\n",
       "        [-8.],\n",
       "        [-1.],\n",
       "        [ 6.],\n",
       "        [-8.],\n",
       "        [-3.],\n",
       "        [-7.],\n",
       "        [-2.]])"
      ]
     },
     "execution_count": 4,
     "metadata": {},
     "output_type": "execute_result"
    }
   ],
   "source": [
    "error_values"
   ]
  },
  {
   "cell_type": "code",
   "execution_count": 5,
   "id": "3e661eb5-d78b-45bb-8878-791fbf250645",
   "metadata": {
    "scrolled": true
   },
   "outputs": [
    {
     "data": {
      "text/plain": [
       "tensor([[ 5.],\n",
       "        [12.],\n",
       "        [ 9.],\n",
       "        [15.],\n",
       "        [13.],\n",
       "        [ 9.],\n",
       "        [17.],\n",
       "        [12.],\n",
       "        [23.],\n",
       "        [22.],\n",
       "        [25.],\n",
       "        [28.],\n",
       "        [28.],\n",
       "        [21.],\n",
       "        [36.],\n",
       "        [38.],\n",
       "        [29.],\n",
       "        [37.],\n",
       "        [32.],\n",
       "        [33.],\n",
       "        [40.],\n",
       "        [44.],\n",
       "        [49.],\n",
       "        [43.],\n",
       "        [48.],\n",
       "        [56.],\n",
       "        [57.],\n",
       "        [60.],\n",
       "        [63.],\n",
       "        [66.],\n",
       "        [64.],\n",
       "        [72.],\n",
       "        [73.],\n",
       "        [68.],\n",
       "        [65.],\n",
       "        [68.],\n",
       "        [72.],\n",
       "        [84.],\n",
       "        [79.],\n",
       "        [89.],\n",
       "        [82.],\n",
       "        [83.],\n",
       "        [89.],\n",
       "        [81.],\n",
       "        [90.],\n",
       "        [99.],\n",
       "        [87.],\n",
       "        [94.],\n",
       "        [92.],\n",
       "        [99.]])"
      ]
     },
     "execution_count": 5,
     "metadata": {},
     "output_type": "execute_result"
    }
   ],
   "source": [
    "y = 2*X + 1 + error_values\n",
    "y"
   ]
  },
  {
   "cell_type": "code",
   "execution_count": 6,
   "id": "cd6069c0-ecd6-44d5-b294-5e2115b7ca80",
   "metadata": {},
   "outputs": [
    {
     "data": {
      "text/plain": [
       "<matplotlib.collections.PathCollection at 0x1a620949250>"
      ]
     },
     "execution_count": 6,
     "metadata": {},
     "output_type": "execute_result"
    },
    {
     "data": {
      "image/png": "[encoded data removed]",
      "text/plain": [
       "<Figure size 640x480 with 1 Axes>"
      ]
     },
     "metadata": {},
     "output_type": "display_data"
    }
   ],
   "source": [
    "plt.scatter(X.numpy(), y.numpy())"
   ]
  },
  {
   "cell_type": "markdown",
   "id": "1b6f1e52-57ee-42a8-a131-53f84f895d06",
   "metadata": {},
   "source": [
    "## Creating Model"
   ]
  },
  {
   "cell_type": "code",
   "execution_count": 7,
   "id": "090c6928-7d5d-4638-bb75-7bb26c379b68",
   "metadata": {},
   "outputs": [
    {
     "name": "stdout",
     "output_type": "stream",
     "text": [
      "Parameter containing:\n",
      "tensor([[0.1060]], requires_grad=True)\n",
      "Parameter containing:\n",
      "tensor([0.9638], requires_grad=True)\n"
     ]
    }
   ],
   "source": [
    "torch.manual_seed(59)\n",
    "\n",
    "model = nn.Linear(in_features=1, out_features=1)\n",
    "\n",
    "print(model.weight)\n",
    "print(model.bias)"
   ]
  },
  {
   "cell_type": "code",
   "execution_count": 8,
   "id": "cafb3448-bc25-477a-ac54-27600098c070",
   "metadata": {},
   "outputs": [],
   "source": [
    "class Model(nn.Module):\n",
    "    def __init__(self, in_features, out_features):\n",
    "        super().__init__()\n",
    "        self.linear = nn.Linear(in_features, out_features)\n",
    "\n",
    "    def forward(self, x):\n",
    "        y_pred = self.linear(x)\n",
    "        return y_pred"
   ]
  },
  {
   "cell_type": "code",
   "execution_count": 9,
   "id": "a1f093e1-1aaa-48b1-af5c-d25546a0da68",
   "metadata": {},
   "outputs": [
    {
     "name": "stdout",
     "output_type": "stream",
     "text": [
      "Parameter containing:\n",
      "tensor([[0.1060]], requires_grad=True)\n",
      "Parameter containing:\n",
      "tensor([0.9638], requires_grad=True)\n"
     ]
    }
   ],
   "source": [
    "torch.manual_seed(59)\n",
    "\n",
    "model = Model(in_features=1, out_features=1)\n",
    "\n",
    "print(model.linear.weight)\n",
    "print(model.linear.bias)"
   ]
  },
  {
   "cell_type": "code",
   "execution_count": 10,
   "id": "e0147a49-554c-4d9e-881f-27b946b316e5",
   "metadata": {},
   "outputs": [
    {
     "name": "stdout",
     "output_type": "stream",
     "text": [
      "linear.weight\t0.10597813129425049\n",
      "linear.bias\t0.9637961387634277\n"
     ]
    }
   ],
   "source": [
    "for name, param in model.named_parameters():\n",
    "    print(f'{name}\\t{param.item()}')"
   ]
  },
  {
   "cell_type": "markdown",
   "id": "974db891-7e29-4131-9d80-0e6ff17f3e42",
   "metadata": {},
   "source": [
    "### Passing a Tensor to Model"
   ]
  },
  {
   "cell_type": "code",
   "execution_count": 11,
   "id": "66161210-95ff-4786-874e-bcccc6e93143",
   "metadata": {},
   "outputs": [
    {
     "name": "stdout",
     "output_type": "stream",
     "text": [
      "tensor([1.1758], grad_fn=<ViewBackward0>)\n"
     ]
    }
   ],
   "source": [
    "x = torch.tensor([2.0])\n",
    "print(model.forward(x))"
   ]
  },
  {
   "cell_type": "code",
   "execution_count": 12,
   "id": "45806989-ca23-428f-b427-15e2fd8be5c7",
   "metadata": {},
   "outputs": [
    {
     "data": {
      "text/plain": [
       "array([ 0.        ,  1.02040816,  2.04081633,  3.06122449,  4.08163265,\n",
       "        5.10204082,  6.12244898,  7.14285714,  8.16326531,  9.18367347,\n",
       "       10.20408163, 11.2244898 , 12.24489796, 13.26530612, 14.28571429,\n",
       "       15.30612245, 16.32653061, 17.34693878, 18.36734694, 19.3877551 ,\n",
       "       20.40816327, 21.42857143, 22.44897959, 23.46938776, 24.48979592,\n",
       "       25.51020408, 26.53061224, 27.55102041, 28.57142857, 29.59183673,\n",
       "       30.6122449 , 31.63265306, 32.65306122, 33.67346939, 34.69387755,\n",
       "       35.71428571, 36.73469388, 37.75510204, 38.7755102 , 39.79591837,\n",
       "       40.81632653, 41.83673469, 42.85714286, 43.87755102, 44.89795918,\n",
       "       45.91836735, 46.93877551, 47.95918367, 48.97959184, 50.        ])"
      ]
     },
     "execution_count": 12,
     "metadata": {},
     "output_type": "execute_result"
    }
   ],
   "source": [
    "x1 = np.linspace(0.0, 50.0, 50)\n",
    "x1"
   ]
  },
  {
   "cell_type": "code",
   "execution_count": 13,
   "id": "2bbfb632-1c93-4bd3-89a3-f3bb376ff9f3",
   "metadata": {},
   "outputs": [
    {
     "data": {
      "text/plain": [
       "array([0.9637    , 1.07176122, 1.17982245, 1.28788367, 1.3959449 ,\n",
       "       1.50400612, 1.61206735, 1.72012857, 1.8281898 , 1.93625102,\n",
       "       2.04431224, 2.15237347, 2.26043469, 2.36849592, 2.47655714,\n",
       "       2.58461837, 2.69267959, 2.80074082, 2.90880204, 3.01686327,\n",
       "       3.12492449, 3.23298571, 3.34104694, 3.44910816, 3.55716939,\n",
       "       3.66523061, 3.77329184, 3.88135306, 3.98941429, 4.09747551,\n",
       "       4.20553673, 4.31359796, 4.42165918, 4.52972041, 4.63778163,\n",
       "       4.74584286, 4.85390408, 4.96196531, 5.07002653, 5.17808776,\n",
       "       5.28614898, 5.3942102 , 5.50227143, 5.61033265, 5.71839388,\n",
       "       5.8264551 , 5.93451633, 6.04257755, 6.15063878, 6.2587    ])"
      ]
     },
     "execution_count": 13,
     "metadata": {},
     "output_type": "execute_result"
    }
   ],
   "source": [
    "w1 = 0.1059\n",
    "b1 = 0.9637\n",
    "\n",
    "y1 = w1*x1 + b1\n",
    "y1"
   ]
  },
  {
   "cell_type": "code",
   "execution_count": 14,
   "id": "95bb863a-439d-4859-be75-535375e15106",
   "metadata": {},
   "outputs": [
    {
     "data": {
      "text/plain": [
       "[<matplotlib.lines.Line2D at 0x1a6220dbad0>]"
      ]
     },
     "execution_count": 14,
     "metadata": {},
     "output_type": "execute_result"
    },
    {
     "data": {
      "image/png": "[encoded data removed]",
      "text/plain": [
       "<Figure size 640x480 with 1 Axes>"
      ]
     },
     "metadata": {},
     "output_type": "display_data"
    }
   ],
   "source": [
    "plt.scatter(X.numpy(), y.numpy())\n",
    "plt.plot(x1, y1, 'r')"
   ]
  },
  {
   "cell_type": "markdown",
   "id": "259c9626-13c0-42a5-a58c-a5e58369ce44",
   "metadata": {},
   "source": [
    "## Applying Loss Function"
   ]
  },
  {
   "cell_type": "code",
   "execution_count": 15,
   "id": "361bec01-ba5b-476d-9fe7-cb5e4ef728b1",
   "metadata": {},
   "outputs": [],
   "source": [
    "criterion = nn.MSELoss()"
   ]
  },
  {
   "cell_type": "code",
   "execution_count": 16,
   "id": "ae3af5c7-fab3-4299-85cb-93f9a9a4d89e",
   "metadata": {},
   "outputs": [],
   "source": [
    "optimizer = torch.optim.SGD(model.parameters(), lr=0.001)"
   ]
  },
  {
   "cell_type": "markdown",
   "id": "1d5fc3d8-0125-477c-8283-97d5b0d79065",
   "metadata": {},
   "source": [
    "## Training the Model"
   ]
  },
  {
   "cell_type": "code",
   "execution_count": 17,
   "id": "85e6bcd8-aafe-4a39-9409-a0573bc07a57",
   "metadata": {
    "scrolled": true
   },
   "outputs": [
    {
     "name": "stdout",
     "output_type": "stream",
     "text": [
      "epoch: 1\n",
      "loss: 3057.216796875\n",
      "weight: 0.10597813129425049\n",
      "bias: 0.9637961387634277\n",
      "---------------------------------------------------------------------------------------------------------\n",
      "\n",
      "\n",
      "epoch: 2\n",
      "loss: 1588.5311279296875\n",
      "weight: 3.334900379180908\n",
      "bias: 1.0604636669158936\n",
      "---------------------------------------------------------------------------------------------------------\n",
      "\n",
      "\n",
      "epoch: 3\n",
      "loss: 830.2999877929688\n",
      "weight: 1.0148327350616455\n",
      "bias: 0.9922628402709961\n",
      "---------------------------------------------------------------------------------------------------------\n",
      "\n",
      "\n",
      "epoch: 4\n",
      "loss: 438.8524169921875\n",
      "weight: 2.6817996501922607\n",
      "bias: 1.0425218343734741\n",
      "---------------------------------------------------------------------------------------------------------\n",
      "\n",
      "\n",
      "epoch: 5\n",
      "loss: 236.7615203857422\n",
      "weight: 1.4840211868286133\n",
      "bias: 1.0076650381088257\n",
      "---------------------------------------------------------------------------------------------------------\n",
      "\n",
      "\n",
      "epoch: 6\n",
      "loss: 132.4291229248047\n",
      "weight: 2.3446059226989746\n",
      "bias: 1.0339646339416504\n",
      "---------------------------------------------------------------------------------------------------------\n",
      "\n",
      "\n",
      "epoch: 7\n",
      "loss: 78.56572723388672\n",
      "weight: 1.7262253761291504\n",
      "bias: 1.0163217782974243\n",
      "---------------------------------------------------------------------------------------------------------\n",
      "\n",
      "\n",
      "epoch: 8\n",
      "loss: 50.75775909423828\n",
      "weight: 2.170504093170166\n",
      "bias: 1.0302516222000122\n",
      "---------------------------------------------------------------------------------------------------------\n",
      "\n",
      "\n",
      "epoch: 9\n",
      "loss: 36.4012565612793\n",
      "weight: 1.851245641708374\n",
      "bias: 1.0214954614639282\n",
      "---------------------------------------------------------------------------------------------------------\n",
      "\n",
      "\n",
      "epoch: 10\n",
      "loss: 28.989229202270508\n",
      "weight: 2.0806007385253906\n",
      "bias: 1.029038906097412\n",
      "---------------------------------------------------------------------------------------------------------\n",
      "\n",
      "\n",
      "epoch: 11\n",
      "loss: 25.162382125854492\n",
      "weight: 1.9157683849334717\n",
      "bias: 1.0248701572418213\n",
      "---------------------------------------------------------------------------------------------------------\n",
      "\n",
      "\n",
      "epoch: 12\n",
      "loss: 23.186473846435547\n",
      "weight: 2.034165620803833\n",
      "bias: 1.0291162729263306\n",
      "---------------------------------------------------------------------------------------------------------\n",
      "\n",
      "\n",
      "epoch: 13\n",
      "loss: 22.166126251220703\n",
      "weight: 1.9490584135055542\n",
      "bias: 1.027315616607666\n",
      "---------------------------------------------------------------------------------------------------------\n",
      "\n",
      "\n",
      "epoch: 14\n",
      "loss: 21.639110565185547\n",
      "weight: 2.010172128677368\n",
      "bias: 1.0298590660095215\n",
      "---------------------------------------------------------------------------------------------------------\n",
      "\n",
      "\n",
      "epoch: 15\n",
      "loss: 21.366771697998047\n",
      "weight: 1.9662237167358398\n",
      "bias: 1.0292805433273315\n",
      "---------------------------------------------------------------------------------------------------------\n",
      "\n",
      "\n",
      "epoch: 16\n",
      "loss: 21.22591781616211\n",
      "weight: 1.997764229774475\n",
      "bias: 1.030944585800171\n",
      "---------------------------------------------------------------------------------------------------------\n",
      "\n",
      "\n",
      "epoch: 17\n",
      "loss: 21.15294647216797\n",
      "weight: 1.9750648736953735\n",
      "bias: 1.0309966802597046\n",
      "---------------------------------------------------------------------------------------------------------\n",
      "\n",
      "\n",
      "epoch: 18\n",
      "loss: 21.115009307861328\n",
      "weight: 1.991337537765503\n",
      "bias: 1.032206416130066\n",
      "---------------------------------------------------------------------------------------------------------\n",
      "\n",
      "\n",
      "epoch: 19\n",
      "loss: 21.095176696777344\n",
      "weight: 1.9796085357666016\n",
      "bias: 1.0325838327407837\n",
      "---------------------------------------------------------------------------------------------------------\n",
      "\n",
      "\n",
      "epoch: 20\n",
      "loss: 21.084684371948242\n",
      "weight: 1.9879988431930542\n",
      "bias: 1.0335586071014404\n",
      "---------------------------------------------------------------------------------------------------------\n",
      "\n",
      "\n",
      "epoch: 21\n",
      "loss: 21.07901382446289\n",
      "weight: 1.981933355331421\n",
      "bias: 1.034103512763977\n",
      "---------------------------------------------------------------------------------------------------------\n",
      "\n",
      "\n",
      "epoch: 22\n",
      "loss: 21.075830459594727\n",
      "weight: 1.9862544536590576\n",
      "bias: 1.034956693649292\n",
      "---------------------------------------------------------------------------------------------------------\n",
      "\n",
      "\n",
      "epoch: 23\n",
      "loss: 21.073938369750977\n",
      "weight: 1.9831126928329468\n",
      "bias: 1.0355877876281738\n",
      "---------------------------------------------------------------------------------------------------------\n",
      "\n",
      "\n",
      "epoch: 24\n",
      "loss: 21.07270050048828\n",
      "weight: 1.9853330850601196\n",
      "bias: 1.0363779067993164\n",
      "---------------------------------------------------------------------------------------------------------\n",
      "\n",
      "\n",
      "epoch: 25\n",
      "loss: 21.071819305419922\n",
      "weight: 1.9837009906768799\n",
      "bias: 1.037053108215332\n",
      "---------------------------------------------------------------------------------------------------------\n",
      "\n",
      "\n",
      "epoch: 26\n",
      "loss: 21.07110595703125\n",
      "weight: 1.9848365783691406\n",
      "bias: 1.037810206413269\n",
      "---------------------------------------------------------------------------------------------------------\n",
      "\n",
      "\n",
      "epoch: 27\n",
      "loss: 21.070486068725586\n",
      "weight: 1.9839837551116943\n",
      "bias: 1.0385079383850098\n",
      "---------------------------------------------------------------------------------------------------------\n",
      "\n",
      "\n",
      "epoch: 28\n",
      "loss: 21.069913864135742\n",
      "weight: 1.9845597743988037\n",
      "bias: 1.039247751235962\n",
      "---------------------------------------------------------------------------------------------------------\n",
      "\n",
      "\n",
      "epoch: 29\n",
      "loss: 21.069368362426758\n",
      "weight: 1.9841090440750122\n",
      "bias: 1.0399566888809204\n",
      "---------------------------------------------------------------------------------------------------------\n",
      "\n",
      "\n",
      "epoch: 30\n",
      "loss: 21.068838119506836\n",
      "weight: 1.9843961000442505\n",
      "bias: 1.0406872034072876\n",
      "---------------------------------------------------------------------------------------------------------\n",
      "\n",
      "\n",
      "epoch: 31\n",
      "loss: 21.068307876586914\n",
      "weight: 1.984152913093567\n",
      "bias: 1.0414016246795654\n",
      "---------------------------------------------------------------------------------------------------------\n",
      "\n",
      "\n",
      "epoch: 32\n",
      "loss: 21.067781448364258\n",
      "weight: 1.9842908382415771\n",
      "bias: 1.042127013206482\n",
      "---------------------------------------------------------------------------------------------------------\n",
      "\n",
      "\n",
      "epoch: 33\n",
      "loss: 21.0672607421875\n",
      "weight: 1.9841549396514893\n",
      "bias: 1.0428439378738403\n",
      "---------------------------------------------------------------------------------------------------------\n",
      "\n",
      "\n",
      "epoch: 34\n",
      "loss: 21.066740036010742\n",
      "weight: 1.9842157363891602\n",
      "bias: 1.043566346168518\n",
      "---------------------------------------------------------------------------------------------------------\n",
      "\n",
      "\n",
      "epoch: 35\n",
      "loss: 21.066225051879883\n",
      "weight: 1.9841355085372925\n",
      "bias: 1.0442842245101929\n",
      "---------------------------------------------------------------------------------------------------------\n",
      "\n",
      "\n",
      "epoch: 36\n",
      "loss: 21.06570816040039\n",
      "weight: 1.9841564893722534\n",
      "bias: 1.0450047254562378\n",
      "---------------------------------------------------------------------------------------------------------\n",
      "\n",
      "\n",
      "epoch: 37\n",
      "loss: 21.065187454223633\n",
      "weight: 1.9841045141220093\n",
      "bias: 1.0457227230072021\n",
      "---------------------------------------------------------------------------------------------------------\n",
      "\n",
      "\n",
      "epoch: 38\n",
      "loss: 21.064668655395508\n",
      "weight: 1.9841052293777466\n",
      "bias: 1.046441912651062\n",
      "---------------------------------------------------------------------------------------------------------\n",
      "\n",
      "\n",
      "epoch: 39\n",
      "loss: 21.064157485961914\n",
      "weight: 1.9840680360794067\n",
      "bias: 1.0471596717834473\n",
      "---------------------------------------------------------------------------------------------------------\n",
      "\n",
      "\n",
      "epoch: 40\n",
      "loss: 21.063636779785156\n",
      "weight: 1.984058141708374\n",
      "bias: 1.0478779077529907\n",
      "---------------------------------------------------------------------------------------------------------\n",
      "\n",
      "\n",
      "epoch: 41\n",
      "loss: 21.063125610351562\n",
      "weight: 1.984028697013855\n",
      "bias: 1.0485951900482178\n",
      "---------------------------------------------------------------------------------------------------------\n",
      "\n",
      "\n",
      "epoch: 42\n",
      "loss: 21.062606811523438\n",
      "weight: 1.9840131998062134\n",
      "bias: 1.0493125915527344\n",
      "---------------------------------------------------------------------------------------------------------\n",
      "\n",
      "\n",
      "epoch: 43\n",
      "loss: 21.062095642089844\n",
      "weight: 1.98398756980896\n",
      "bias: 1.0500292778015137\n",
      "---------------------------------------------------------------------------------------------------------\n",
      "\n",
      "\n",
      "epoch: 44\n",
      "loss: 21.06157684326172\n",
      "weight: 1.9839695692062378\n",
      "bias: 1.0507458448410034\n",
      "---------------------------------------------------------------------------------------------------------\n",
      "\n",
      "\n",
      "epoch: 45\n",
      "loss: 21.06106948852539\n",
      "weight: 1.9839458465576172\n",
      "bias: 1.051461935043335\n",
      "---------------------------------------------------------------------------------------------------------\n",
      "\n",
      "\n",
      "epoch: 46\n",
      "loss: 21.06055450439453\n",
      "weight: 1.9839262962341309\n",
      "bias: 1.0521777868270874\n",
      "---------------------------------------------------------------------------------------------------------\n",
      "\n",
      "\n",
      "epoch: 47\n",
      "loss: 21.060043334960938\n",
      "weight: 1.9839037656784058\n",
      "bias: 1.0528931617736816\n",
      "---------------------------------------------------------------------------------------------------------\n",
      "\n",
      "\n",
      "epoch: 48\n",
      "loss: 21.059532165527344\n",
      "weight: 1.9838833808898926\n",
      "bias: 1.0536082983016968\n",
      "---------------------------------------------------------------------------------------------------------\n",
      "\n",
      "\n",
      "epoch: 49\n",
      "loss: 21.05901336669922\n",
      "weight: 1.9838614463806152\n",
      "bias: 1.0543230772018433\n",
      "---------------------------------------------------------------------------------------------------------\n",
      "\n",
      "\n",
      "epoch: 50\n",
      "loss: 21.058509826660156\n",
      "weight: 1.9838409423828125\n",
      "bias: 1.055037498474121\n",
      "---------------------------------------------------------------------------------------------------------\n",
      "\n",
      "\n"
     ]
    }
   ],
   "source": [
    "epochs = 50\n",
    "losses = []\n",
    "\n",
    "for i in range(epochs):\n",
    "    i += 1\n",
    "\n",
    "    # Forward Pass\n",
    "    y_pred = model.forward(X)\n",
    "\n",
    "    # Calculating Loss\n",
    "    loss = criterion(y_pred, y)\n",
    "\n",
    "    # Recording Error\n",
    "    losses.append(loss.detach().numpy())\n",
    "\n",
    "    print(f\"epoch: {i}\")\n",
    "    print(f\"loss: {loss.item()}\")\n",
    "    print(f\"weight: {model.linear.weight.item()}\")\n",
    "    print(f\"bias: {model.linear.bias.item()}\")\n",
    "    print(\"-------\" * 15)\n",
    "    print(\"\\n\")\n",
    "\n",
    "    optimizer.zero_grad()\n",
    "\n",
    "    loss.backward()\n",
    "    optimizer.step()\n"
   ]
  },
  {
   "cell_type": "code",
   "execution_count": 18,
   "id": "59daf42f-5ddc-4212-9db8-c08e4f4088a6",
   "metadata": {},
   "outputs": [
    {
     "data": {
      "text/plain": [
       "Text(0.5, 0, 'Epoch')"
      ]
     },
     "execution_count": 18,
     "metadata": {},
     "output_type": "execute_result"
    },
    {
     "data": {
      "image/png": "[encoded data removed]",
      "text/plain": [
       "<Figure size 640x480 with 1 Axes>"
      ]
     },
     "metadata": {},
     "output_type": "display_data"
    }
   ],
   "source": [
    "plt.plot(range(epochs), losses)\n",
    "plt.ylabel(\"MSE Loss\")\n",
    "plt.xlabel(\"Epoch\")"
   ]
  },
  {
   "cell_type": "markdown",
   "id": "2381fb19-815e-49fb-9a89-80c24d06643e",
   "metadata": {},
   "source": [
    "## Prediction"
   ]
  },
  {
   "cell_type": "code",
   "execution_count": 19,
   "id": "8d75fec5-57ed-46f0-9b3d-6dff26449884",
   "metadata": {},
   "outputs": [
    {
     "data": {
      "text/plain": [
       "array([  1.05575156,   3.08005679,   5.10436203,   7.12866726,\n",
       "         9.15297249,  11.17727772,  13.20158295,  15.22588818,\n",
       "        17.25019342,  19.27449865,  21.29880388,  23.32310911,\n",
       "        25.34741434,  27.37171957,  29.39602481,  31.42033004,\n",
       "        33.44463527,  35.4689405 ,  37.49324573,  39.51755096,\n",
       "        41.5418562 ,  43.56616143,  45.59046666,  47.61477189,\n",
       "        49.63907712,  51.66338236,  53.68768759,  55.71199282,\n",
       "        57.73629805,  59.76060328,  61.78490851,  63.80921375,\n",
       "        65.83351898,  67.85782421,  69.88212944,  71.90643467,\n",
       "        73.9307399 ,  75.95504514,  77.97935037,  80.0036556 ,\n",
       "        82.02796083,  84.05226606,  86.07657129,  88.10087653,\n",
       "        90.12518176,  92.14948699,  94.17379222,  96.19809745,\n",
       "        98.22240268, 100.24670792])"
      ]
     },
     "execution_count": 19,
     "metadata": {},
     "output_type": "execute_result"
    }
   ],
   "source": [
    "x = np.linspace(0.0, 50.0, 50)\n",
    "current_weight = model.linear.weight.item()\n",
    "current_bias = model.linear.bias.item()\n",
    "\n",
    "predicted_y = current_weight*x + current_bias\n",
    "predicted_y"
   ]
  },
  {
   "cell_type": "code",
   "execution_count": 20,
   "id": "32b2c88f-61e4-448f-b5d1-e245e7306d02",
   "metadata": {},
   "outputs": [
    {
     "data": {
      "text/plain": [
       "[<matplotlib.lines.Line2D at 0x1a62762c590>]"
      ]
     },
     "execution_count": 20,
     "metadata": {},
     "output_type": "execute_result"
    },
    {
     "data": {
      "image/png": "[encoded data removed]",
      "text/plain": [
       "<Figure size 640x480 with 1 Axes>"
      ]
     },
     "metadata": {},
     "output_type": "display_data"
    }
   ],
   "source": [
    "plt.scatter(X.numpy(), y.numpy())\n",
    "plt.plot(x, predicted_y, 'r')"
   ]
  },
  {
   "cell_type": "code",
   "execution_count": null,
   "id": "800be1c3-0780-4598-a662-a09d0629abaf",
   "metadata": {},
   "outputs": [],
   "source": []
  }
 ],
 "metadata": {
  "kernelspec": {
   "display_name": "Python 3 (ipykernel)",
   "language": "python",
   "name": "python3"
  },
  "language_info": {
   "codemirror_mode": {
    "name": "ipython",
    "version": 3
   },
   "file_extension": ".py",
   "mimetype": "text/x-python",
   "name": "python",
   "nbconvert_exporter": "python",
   "pygments_lexer": "ipython3",
   "version": "3.11.11"
  }
 },
 "nbformat": 4,
 "nbformat_minor": 5
}
