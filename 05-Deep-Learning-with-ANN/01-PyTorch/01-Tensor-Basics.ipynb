{
 "cells": [
  {
   "cell_type": "markdown",
   "id": "661490e0-7bfe-4b48-ab26-d562a28fa526",
   "metadata": {},
   "source": [
    "## Importing Libraries"
   ]
  },
  {
   "cell_type": "code",
   "execution_count": 1,
   "id": "9d03b668-8992-4563-9ce6-14738a77720d",
   "metadata": {},
   "outputs": [],
   "source": [
    "import torch\n",
    "import numpy as np"
   ]
  },
  {
   "cell_type": "markdown",
   "id": "9327b993-f48e-4ed5-a164-0039c90ace7e",
   "metadata": {},
   "source": [
    "## Converting Normal NumPy Array to PyTorch Tensor"
   ]
  },
  {
   "cell_type": "code",
   "execution_count": 2,
   "id": "d5b17a39-b7a4-4c07-8b14-e9c11d42dd19",
   "metadata": {},
   "outputs": [
    {
     "name": "stdout",
     "output_type": "stream",
     "text": [
      "[1 2 3 4 5]\n"
     ]
    }
   ],
   "source": [
    "arr = np.array([1, 2, 3, 4, 5])\n",
    "print(arr)"
   ]
  },
  {
   "cell_type": "code",
   "execution_count": 3,
   "id": "e2e1290e-b921-4361-a522-f45d58e57e98",
   "metadata": {},
   "outputs": [
    {
     "data": {
      "text/plain": [
       "dtype('int32')"
      ]
     },
     "execution_count": 3,
     "metadata": {},
     "output_type": "execute_result"
    }
   ],
   "source": [
    "arr.dtype"
   ]
  },
  {
   "cell_type": "code",
   "execution_count": 4,
   "id": "0ac6a060-c08e-4911-abe7-4ad09697ad3a",
   "metadata": {},
   "outputs": [
    {
     "data": {
      "text/plain": [
       "numpy.ndarray"
      ]
     },
     "execution_count": 4,
     "metadata": {},
     "output_type": "execute_result"
    }
   ],
   "source": [
    "type(arr)"
   ]
  },
  {
   "cell_type": "markdown",
   "id": "e9199b8d-d512-42ee-b789-6592fb44e965",
   "metadata": {},
   "source": [
    "### Specific Way"
   ]
  },
  {
   "cell_type": "code",
   "execution_count": 5,
   "id": "c6017ad0-9876-4e3b-8c08-b6ca7192ddf3",
   "metadata": {},
   "outputs": [
    {
     "name": "stdout",
     "output_type": "stream",
     "text": [
      "tensor([1, 2, 3, 4, 5], dtype=torch.int32)\n"
     ]
    }
   ],
   "source": [
    "x = torch.from_numpy(arr)\n",
    "print(x)"
   ]
  },
  {
   "cell_type": "code",
   "execution_count": 6,
   "id": "6e618107-3275-42fb-960d-04d4f1bd2f20",
   "metadata": {},
   "outputs": [
    {
     "data": {
      "text/plain": [
       "torch.Tensor"
      ]
     },
     "execution_count": 6,
     "metadata": {},
     "output_type": "execute_result"
    }
   ],
   "source": [
    "type(x)"
   ]
  },
  {
   "cell_type": "markdown",
   "id": "f91afc1e-d0d5-4cf1-a7f7-4f3bdc8631c5",
   "metadata": {},
   "source": [
    "### Generalized Way"
   ]
  },
  {
   "cell_type": "code",
   "execution_count": 7,
   "id": "cd851787-7d93-4d42-912b-0970a5854035",
   "metadata": {},
   "outputs": [
    {
     "name": "stdout",
     "output_type": "stream",
     "text": [
      "tensor([1, 2, 3, 4, 5], dtype=torch.int32)\n"
     ]
    }
   ],
   "source": [
    "x = torch.as_tensor(arr)\n",
    "print(x)"
   ]
  },
  {
   "cell_type": "code",
   "execution_count": 8,
   "id": "9b5fbe15-f225-499a-a0ea-236e810f2b9d",
   "metadata": {},
   "outputs": [
    {
     "data": {
      "text/plain": [
       "torch.Tensor"
      ]
     },
     "execution_count": 8,
     "metadata": {},
     "output_type": "execute_result"
    }
   ],
   "source": [
    "type(x)"
   ]
  },
  {
   "cell_type": "markdown",
   "id": "68022a09-a15a-4bd2-9509-4da7041ddb5a",
   "metadata": {},
   "source": [
    "### 2D NumPy Array"
   ]
  },
  {
   "cell_type": "code",
   "execution_count": 9,
   "id": "f2bcf581-41d6-49e0-9019-b9bac3507c47",
   "metadata": {},
   "outputs": [
    {
     "data": {
      "text/plain": [
       "array([ 0.,  1.,  2.,  3.,  4.,  5.,  6.,  7.,  8.,  9., 10., 11.])"
      ]
     },
     "execution_count": 9,
     "metadata": {},
     "output_type": "execute_result"
    }
   ],
   "source": [
    "arr2d = np.arange(0.0, 12.0)\n",
    "arr2d"
   ]
  },
  {
   "cell_type": "code",
   "execution_count": 10,
   "id": "3728c79e-6c2d-4793-b0f5-f1059c04879e",
   "metadata": {},
   "outputs": [
    {
     "data": {
      "text/plain": [
       "array([[ 0.,  1.,  2.],\n",
       "       [ 3.,  4.,  5.],\n",
       "       [ 6.,  7.,  8.],\n",
       "       [ 9., 10., 11.]])"
      ]
     },
     "execution_count": 10,
     "metadata": {},
     "output_type": "execute_result"
    }
   ],
   "source": [
    "arr2d = arr2d.reshape(4,3)\n",
    "arr2d"
   ]
  },
  {
   "cell_type": "code",
   "execution_count": 11,
   "id": "96a910c3-b13d-42b4-911e-ba247b330172",
   "metadata": {},
   "outputs": [
    {
     "name": "stdout",
     "output_type": "stream",
     "text": [
      "tensor([[ 0.,  1.,  2.],\n",
      "        [ 3.,  4.,  5.],\n",
      "        [ 6.,  7.,  8.],\n",
      "        [ 9., 10., 11.]], dtype=torch.float64)\n"
     ]
    }
   ],
   "source": [
    "x2d = torch.from_numpy(arr2d)\n",
    "print(x2d)"
   ]
  },
  {
   "cell_type": "markdown",
   "id": "5cbd4f34-294e-410d-b303-75817e205a4a",
   "metadata": {},
   "source": [
    "## Direct Link between NumPy Array and PyTorch Tensor"
   ]
  },
  {
   "cell_type": "code",
   "execution_count": 12,
   "id": "db843330-6d1c-4d72-94cd-b4c78cc1d8e9",
   "metadata": {},
   "outputs": [
    {
     "data": {
      "text/plain": [
       "array([1, 2, 3, 4, 5])"
      ]
     },
     "execution_count": 12,
     "metadata": {},
     "output_type": "execute_result"
    }
   ],
   "source": [
    "arr"
   ]
  },
  {
   "cell_type": "code",
   "execution_count": 13,
   "id": "129e5a17-b8a5-4179-bc70-0fe7789fd448",
   "metadata": {},
   "outputs": [
    {
     "data": {
      "text/plain": [
       "tensor([1, 2, 3, 4, 5], dtype=torch.int32)"
      ]
     },
     "execution_count": 13,
     "metadata": {},
     "output_type": "execute_result"
    }
   ],
   "source": [
    "x"
   ]
  },
  {
   "cell_type": "code",
   "execution_count": 14,
   "id": "e927d330-002e-41a8-86ac-e8112bc1d14f",
   "metadata": {},
   "outputs": [
    {
     "data": {
      "text/plain": [
       "array([99,  2,  3,  4,  5])"
      ]
     },
     "execution_count": 14,
     "metadata": {},
     "output_type": "execute_result"
    }
   ],
   "source": [
    "arr[0] = 99\n",
    "arr"
   ]
  },
  {
   "cell_type": "code",
   "execution_count": 15,
   "id": "901f2f70-bd4d-4f96-ab4b-ed75465102d6",
   "metadata": {},
   "outputs": [
    {
     "data": {
      "text/plain": [
       "tensor([99,  2,  3,  4,  5], dtype=torch.int32)"
      ]
     },
     "execution_count": 15,
     "metadata": {},
     "output_type": "execute_result"
    }
   ],
   "source": [
    "x"
   ]
  },
  {
   "cell_type": "markdown",
   "id": "7049042e-a1e7-43f1-96f9-a8c2d6ee69b1",
   "metadata": {},
   "source": [
    "**We do not want to create direct link**"
   ]
  },
  {
   "cell_type": "markdown",
   "id": "c1a6a8ad-91ac-4bf0-bfc0-9e6b1225eb61",
   "metadata": {},
   "source": [
    "### Solution"
   ]
  },
  {
   "cell_type": "code",
   "execution_count": 16,
   "id": "2e42d4a6-9398-40bd-b757-70e93952a207",
   "metadata": {},
   "outputs": [
    {
     "data": {
      "text/plain": [
       "array([0, 1, 2, 3, 4, 5, 6, 7, 8, 9])"
      ]
     },
     "execution_count": 16,
     "metadata": {},
     "output_type": "execute_result"
    }
   ],
   "source": [
    "my_arr = np.arange(0, 10)\n",
    "my_arr"
   ]
  },
  {
   "cell_type": "code",
   "execution_count": 17,
   "id": "5a304732-ef7d-4820-93c5-41d208052db5",
   "metadata": {},
   "outputs": [
    {
     "data": {
      "text/plain": [
       "tensor([0, 1, 2, 3, 4, 5, 6, 7, 8, 9], dtype=torch.int32)"
      ]
     },
     "execution_count": 17,
     "metadata": {},
     "output_type": "execute_result"
    }
   ],
   "source": [
    "my_tensor = torch.tensor(my_arr)\n",
    "my_tensor"
   ]
  },
  {
   "cell_type": "code",
   "execution_count": 18,
   "id": "848bb94c-6552-41be-934c-157e6295cf29",
   "metadata": {},
   "outputs": [
    {
     "data": {
      "text/plain": [
       "tensor([0, 1, 2, 3, 4, 5, 6, 7, 8, 9], dtype=torch.int32)"
      ]
     },
     "execution_count": 18,
     "metadata": {},
     "output_type": "execute_result"
    }
   ],
   "source": [
    "my_other_tensor = torch.from_numpy(my_arr)\n",
    "my_other_tensor"
   ]
  },
  {
   "cell_type": "code",
   "execution_count": 19,
   "id": "1a0de172-53d7-482f-918a-2069f149610a",
   "metadata": {},
   "outputs": [
    {
     "data": {
      "text/plain": [
       "array([9999,    1,    2,    3,    4,    5,    6,    7,    8,    9])"
      ]
     },
     "execution_count": 19,
     "metadata": {},
     "output_type": "execute_result"
    }
   ],
   "source": [
    "my_arr[0] = 9999\n",
    "my_arr"
   ]
  },
  {
   "cell_type": "code",
   "execution_count": 20,
   "id": "37608de4-1406-43cd-a880-e520734ee0dc",
   "metadata": {},
   "outputs": [
    {
     "data": {
      "text/plain": [
       "tensor([9999,    1,    2,    3,    4,    5,    6,    7,    8,    9],\n",
       "       dtype=torch.int32)"
      ]
     },
     "execution_count": 20,
     "metadata": {},
     "output_type": "execute_result"
    }
   ],
   "source": [
    "my_other_tensor"
   ]
  },
  {
   "cell_type": "code",
   "execution_count": 21,
   "id": "cabcf965-5bba-46cd-96c2-78e917b1b5c3",
   "metadata": {},
   "outputs": [
    {
     "data": {
      "text/plain": [
       "tensor([0, 1, 2, 3, 4, 5, 6, 7, 8, 9], dtype=torch.int32)"
      ]
     },
     "execution_count": 21,
     "metadata": {},
     "output_type": "execute_result"
    }
   ],
   "source": [
    "my_tensor"
   ]
  },
  {
   "cell_type": "markdown",
   "id": "adbcd349-61b2-45cd-92b4-cb506211af14",
   "metadata": {},
   "source": [
    "## Difference between tensor and Tensor"
   ]
  },
  {
   "cell_type": "code",
   "execution_count": 22,
   "id": "510124e4-7ec9-42be-94ad-18603836f83c",
   "metadata": {},
   "outputs": [
    {
     "data": {
      "text/plain": [
       "array([0, 1, 2, 3])"
      ]
     },
     "execution_count": 22,
     "metadata": {},
     "output_type": "execute_result"
    }
   ],
   "source": [
    "my_arr = np.arange(0, 4)\n",
    "my_arr"
   ]
  },
  {
   "cell_type": "code",
   "execution_count": 23,
   "id": "7e14a06e-70a2-4c0b-b401-177ac4ea1569",
   "metadata": {},
   "outputs": [
    {
     "data": {
      "text/plain": [
       "dtype('int32')"
      ]
     },
     "execution_count": 23,
     "metadata": {},
     "output_type": "execute_result"
    }
   ],
   "source": [
    "my_arr.dtype"
   ]
  },
  {
   "cell_type": "code",
   "execution_count": 24,
   "id": "8d4bbe56-af48-4876-8528-b83320b7aab2",
   "metadata": {},
   "outputs": [
    {
     "data": {
      "text/plain": [
       "tensor([0, 1, 2, 3], dtype=torch.int32)"
      ]
     },
     "execution_count": 24,
     "metadata": {},
     "output_type": "execute_result"
    }
   ],
   "source": [
    "torch.tensor(my_arr)"
   ]
  },
  {
   "cell_type": "code",
   "execution_count": 25,
   "id": "f7bff2ea-9b4d-4334-a4bc-b1d63504ed6e",
   "metadata": {},
   "outputs": [
    {
     "data": {
      "text/plain": [
       "tensor([0., 1., 2., 3.])"
      ]
     },
     "execution_count": 25,
     "metadata": {},
     "output_type": "execute_result"
    }
   ],
   "source": [
    "torch.Tensor(my_arr)"
   ]
  },
  {
   "cell_type": "markdown",
   "id": "81f17f1b-2431-42ac-babb-f526d6a3c873",
   "metadata": {},
   "source": [
    "## Creating Tensors from Scratch"
   ]
  },
  {
   "cell_type": "code",
   "execution_count": 26,
   "id": "c0379f23-662c-4935-8d31-fbc5f063518f",
   "metadata": {},
   "outputs": [
    {
     "data": {
      "text/plain": [
       "tensor([[-9.6530e+01,  1.7362e-42],\n",
       "        [ 0.0000e+00,  0.0000e+00]])"
      ]
     },
     "execution_count": 26,
     "metadata": {},
     "output_type": "execute_result"
    }
   ],
   "source": [
    "torch.empty(2, 2)"
   ]
  },
  {
   "cell_type": "code",
   "execution_count": 27,
   "id": "fde77a99-f480-4d80-8789-18132e64f5cf",
   "metadata": {},
   "outputs": [
    {
     "data": {
      "text/plain": [
       "tensor([[0, 0, 0],\n",
       "        [0, 0, 0],\n",
       "        [0, 0, 0],\n",
       "        [0, 0, 0]], dtype=torch.int32)"
      ]
     },
     "execution_count": 27,
     "metadata": {},
     "output_type": "execute_result"
    }
   ],
   "source": [
    "torch.zeros(4, 3, dtype=torch.int32)"
   ]
  },
  {
   "cell_type": "code",
   "execution_count": 28,
   "id": "31d4771f-e69b-42f8-af9c-b23213a10887",
   "metadata": {},
   "outputs": [
    {
     "data": {
      "text/plain": [
       "tensor([[1., 1., 1.],\n",
       "        [1., 1., 1.],\n",
       "        [1., 1., 1.],\n",
       "        [1., 1., 1.]])"
      ]
     },
     "execution_count": 28,
     "metadata": {},
     "output_type": "execute_result"
    }
   ],
   "source": [
    "torch.ones(4, 3)"
   ]
  },
  {
   "cell_type": "code",
   "execution_count": 29,
   "id": "690369f3-dfd9-48df-a6fa-3ed8e19221fb",
   "metadata": {},
   "outputs": [
    {
     "data": {
      "text/plain": [
       "tensor([[ 0,  2,  4],\n",
       "        [ 6,  8, 10],\n",
       "        [12, 14, 16]])"
      ]
     },
     "execution_count": 29,
     "metadata": {},
     "output_type": "execute_result"
    }
   ],
   "source": [
    "torch.arange(0, 18, 2).reshape(3,3)"
   ]
  },
  {
   "cell_type": "code",
   "execution_count": 30,
   "id": "7437a414-e96c-4a74-bb59-3523e1e48c37",
   "metadata": {},
   "outputs": [
    {
     "data": {
      "text/plain": [
       "tensor([[ 0.0000,  1.6364,  3.2727,  4.9091],\n",
       "        [ 6.5455,  8.1818,  9.8182, 11.4545],\n",
       "        [13.0909, 14.7273, 16.3636, 18.0000]])"
      ]
     },
     "execution_count": 30,
     "metadata": {},
     "output_type": "execute_result"
    }
   ],
   "source": [
    "torch.linspace(0, 18, 12).reshape(3, 4)"
   ]
  },
  {
   "cell_type": "code",
   "execution_count": 31,
   "id": "d2caec62-2b2d-46bc-bc35-da34c8d0722e",
   "metadata": {},
   "outputs": [
    {
     "data": {
      "text/plain": [
       "tensor([1, 2, 3])"
      ]
     },
     "execution_count": 31,
     "metadata": {},
     "output_type": "execute_result"
    }
   ],
   "source": [
    "torch.tensor([1, 2, 3])"
   ]
  },
  {
   "cell_type": "code",
   "execution_count": 32,
   "id": "fefe233d-9440-4604-89ea-12e331b1b581",
   "metadata": {},
   "outputs": [
    {
     "data": {
      "text/plain": [
       "tensor([[0.2264, 0.1922, 0.2806],\n",
       "        [0.4691, 0.8106, 0.0733],\n",
       "        [0.2508, 0.1249, 0.1914],\n",
       "        [0.6365, 0.5716, 0.8844]])"
      ]
     },
     "execution_count": 32,
     "metadata": {},
     "output_type": "execute_result"
    }
   ],
   "source": [
    "torch.rand(4, 3)"
   ]
  },
  {
   "cell_type": "code",
   "execution_count": 33,
   "id": "eff35459-cce0-44c9-8f2f-0c03f1a9e34d",
   "metadata": {},
   "outputs": [
    {
     "data": {
      "text/plain": [
       "tensor([[ 0.9259, -0.6738,  0.2014],\n",
       "        [-0.5923,  0.5064, -0.7444],\n",
       "        [-0.4175,  0.8919,  1.5811],\n",
       "        [ 1.2845,  1.1820, -0.0671]])"
      ]
     },
     "execution_count": 33,
     "metadata": {},
     "output_type": "execute_result"
    }
   ],
   "source": [
    "torch.randn(4, 3)"
   ]
  },
  {
   "cell_type": "code",
   "execution_count": 34,
   "id": "097407c0-6bae-48e2-aea0-71e0672eb178",
   "metadata": {},
   "outputs": [
    {
     "data": {
      "text/plain": [
       "tensor([[8, 3, 6, 4, 9],\n",
       "        [6, 8, 9, 8, 8],\n",
       "        [3, 3, 5, 4, 4],\n",
       "        [4, 2, 3, 0, 7],\n",
       "        [2, 6, 3, 2, 5]])"
      ]
     },
     "execution_count": 34,
     "metadata": {},
     "output_type": "execute_result"
    }
   ],
   "source": [
    "torch.randint(low=0, high=10, size=(5, 5))"
   ]
  },
  {
   "cell_type": "markdown",
   "id": "0c4dbcf9-77ec-45ef-b255-19c4a854fc9c",
   "metadata": {},
   "source": [
    "### Random Numbers Tensor follows an Input Size"
   ]
  },
  {
   "cell_type": "code",
   "execution_count": 35,
   "id": "16a71149-fead-415f-8d67-aa859b901b7e",
   "metadata": {},
   "outputs": [
    {
     "data": {
      "text/plain": [
       "tensor([[0., 0., 0., 0., 0.],\n",
       "        [0., 0., 0., 0., 0.]])"
      ]
     },
     "execution_count": 35,
     "metadata": {},
     "output_type": "execute_result"
    }
   ],
   "source": [
    "x = torch.zeros(2, 5)\n",
    "x"
   ]
  },
  {
   "cell_type": "code",
   "execution_count": 36,
   "id": "d37828a1-cc7f-4f94-b30e-5103bab08ae7",
   "metadata": {},
   "outputs": [
    {
     "data": {
      "text/plain": [
       "torch.Size([2, 5])"
      ]
     },
     "execution_count": 36,
     "metadata": {},
     "output_type": "execute_result"
    }
   ],
   "source": [
    "x.shape"
   ]
  },
  {
   "cell_type": "code",
   "execution_count": 37,
   "id": "8310902c-4da5-4f0e-80e6-80226b3938de",
   "metadata": {},
   "outputs": [
    {
     "data": {
      "text/plain": [
       "tensor([[0.4273, 0.0883, 0.5109, 0.6076, 0.3723],\n",
       "        [0.5192, 0.3884, 0.7054, 0.3880, 0.5805]])"
      ]
     },
     "execution_count": 37,
     "metadata": {},
     "output_type": "execute_result"
    }
   ],
   "source": [
    "torch.rand_like(x)"
   ]
  },
  {
   "cell_type": "code",
   "execution_count": 38,
   "id": "2e7252a2-7ae4-4377-858d-d4837ab7be42",
   "metadata": {},
   "outputs": [
    {
     "data": {
      "text/plain": [
       "tensor([[ 0.6960,  0.3813,  0.8599,  0.9610, -0.4150],\n",
       "        [-0.1157, -0.0315, -0.7413, -0.6704,  0.0958]])"
      ]
     },
     "execution_count": 38,
     "metadata": {},
     "output_type": "execute_result"
    }
   ],
   "source": [
    "torch.randn_like(x)"
   ]
  },
  {
   "cell_type": "code",
   "execution_count": 39,
   "id": "e1274a2b-8f57-43a0-8f90-4412825a8c89",
   "metadata": {},
   "outputs": [
    {
     "data": {
      "text/plain": [
       "tensor([[3., 0., 5., 4., 9.],\n",
       "        [3., 7., 8., 1., 9.]])"
      ]
     },
     "execution_count": 39,
     "metadata": {},
     "output_type": "execute_result"
    }
   ],
   "source": [
    "torch.randint_like(input=x, low=0, high=10)"
   ]
  },
  {
   "cell_type": "markdown",
   "id": "ed26be07-7891-4aca-8d5f-22a76d143d45",
   "metadata": {},
   "source": [
    "### Random Seed"
   ]
  },
  {
   "cell_type": "code",
   "execution_count": 40,
   "id": "e3317d63-6563-450e-bef1-734dc0ffe1df",
   "metadata": {},
   "outputs": [
    {
     "data": {
      "text/plain": [
       "tensor([[0.8823, 0.9150, 0.3829],\n",
       "        [0.9593, 0.3904, 0.6009]])"
      ]
     },
     "execution_count": 40,
     "metadata": {},
     "output_type": "execute_result"
    }
   ],
   "source": [
    "torch.manual_seed(42)\n",
    "torch.rand(2, 3)"
   ]
  },
  {
   "cell_type": "code",
   "execution_count": 41,
   "id": "5a78446a-1fbe-42f6-a61f-ef89958b89f7",
   "metadata": {},
   "outputs": [
    {
     "data": {
      "text/plain": [
       "tensor([[0.2566, 0.7936, 0.9408],\n",
       "        [0.1332, 0.9346, 0.5936]])"
      ]
     },
     "execution_count": 41,
     "metadata": {},
     "output_type": "execute_result"
    }
   ],
   "source": [
    "torch.rand(2, 3)"
   ]
  },
  {
   "cell_type": "code",
   "execution_count": 42,
   "id": "1cd9bfd3-5706-480a-957b-c9c82a840d59",
   "metadata": {},
   "outputs": [
    {
     "data": {
      "text/plain": [
       "tensor([[0.8823, 0.9150, 0.3829],\n",
       "        [0.9593, 0.3904, 0.6009]])"
      ]
     },
     "execution_count": 42,
     "metadata": {},
     "output_type": "execute_result"
    }
   ],
   "source": [
    "torch.manual_seed(42)\n",
    "torch.rand(2, 3)"
   ]
  },
  {
   "cell_type": "markdown",
   "id": "614e7bcf-7866-41cd-87fd-33391254c468",
   "metadata": {},
   "source": [
    "## Changing Tensor Data Type"
   ]
  },
  {
   "cell_type": "code",
   "execution_count": 43,
   "id": "5d893dfb-3df1-414f-9e94-1e515d4f86d5",
   "metadata": {},
   "outputs": [
    {
     "data": {
      "text/plain": [
       "torch.int64"
      ]
     },
     "execution_count": 43,
     "metadata": {},
     "output_type": "execute_result"
    }
   ],
   "source": [
    "my_tensor = torch.tensor([1, 2, 3])\n",
    "my_tensor.dtype"
   ]
  },
  {
   "cell_type": "code",
   "execution_count": 44,
   "id": "d45ac255-0a92-45b4-b5c0-986dab8f9748",
   "metadata": {},
   "outputs": [
    {
     "data": {
      "text/plain": [
       "torch.int32"
      ]
     },
     "execution_count": 44,
     "metadata": {},
     "output_type": "execute_result"
    }
   ],
   "source": [
    "my_tensor = my_tensor.type(torch.int32)\n",
    "my_tensor.dtype"
   ]
  },
  {
   "cell_type": "code",
   "execution_count": null,
   "id": "0739319a-ca04-4aef-bfbc-62f6ff9b9813",
   "metadata": {},
   "outputs": [],
   "source": []
  }
 ],
 "metadata": {
  "kernelspec": {
   "display_name": "Python 3 (ipykernel)",
   "language": "python",
   "name": "python3"
  },
  "language_info": {
   "codemirror_mode": {
    "name": "ipython",
    "version": 3
   },
   "file_extension": ".py",
   "mimetype": "text/x-python",
   "name": "python",
   "nbconvert_exporter": "python",
   "pygments_lexer": "ipython3",
   "version": "3.11.11"
  }
 },
 "nbformat": 4,
 "nbformat_minor": 5
}
