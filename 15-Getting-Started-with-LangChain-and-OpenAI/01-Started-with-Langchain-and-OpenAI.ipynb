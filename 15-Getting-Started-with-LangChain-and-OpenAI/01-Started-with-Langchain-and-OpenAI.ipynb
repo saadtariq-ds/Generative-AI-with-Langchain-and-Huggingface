{
 "cells": [
  {
   "cell_type": "markdown",
   "id": "f77b6cbb-9c8b-4b90-9222-ebef9f5738e7",
   "metadata": {},
   "source": [
    "## Setup and Import Libraries"
   ]
  },
  {
   "cell_type": "code",
   "execution_count": 1,
   "id": "a29465fe-11de-4f0a-b3ff-9a5f1b22a17b",
   "metadata": {},
   "outputs": [],
   "source": [
    "from langchain_openai import OpenAI\n",
    "from dotenv import load_dotenv, find_dotenv"
   ]
  },
  {
   "cell_type": "code",
   "execution_count": 2,
   "id": "34bf3854-720b-4650-bc48-f84411e02be0",
   "metadata": {},
   "outputs": [],
   "source": [
    "_ = load_dotenv(find_dotenv())"
   ]
  },
  {
   "cell_type": "code",
   "execution_count": 3,
   "id": "0ea54918-f5a5-4d31-95b3-cdc476200551",
   "metadata": {},
   "outputs": [],
   "source": [
    "llm = OpenAI()"
   ]
  },
  {
   "cell_type": "markdown",
   "id": "bc12ec2e-35a5-4e53-924c-32be1d79be2b",
   "metadata": {},
   "source": [
    "## Getting Started with LangChain and OpenAI"
   ]
  },
  {
   "cell_type": "code",
   "execution_count": 4,
   "id": "ad9de00e-1732-4bb4-bf09-9d7a336446ca",
   "metadata": {},
   "outputs": [
    {
     "data": {
      "text/plain": [
       "\"\\n\\nI am an AI language model created by OpenAI, so I don't have the ability to feel emotions. But thank you for asking! How can I assist you?\""
      ]
     },
     "execution_count": 4,
     "metadata": {},
     "output_type": "execute_result"
    }
   ],
   "source": [
    "llm.invoke(\"Hello how are you?\")"
   ]
  },
  {
   "cell_type": "code",
   "execution_count": 7,
   "id": "8cb1cc02-a659-4797-bbe1-e0150c3990a7",
   "metadata": {},
   "outputs": [
    {
     "data": {
      "text/plain": [
       "'\\n\\nGenerative Artificial Intelligence (AI) is a rapidly evolving field that involves training machines to generate information or create new content. This technology goes beyond traditional AI, which is focused on recognizing patterns and making decisions based on data. Generative AI is able to create original and unique outputs, such as images, text, music, or even entire models and simulations. It has the potential to greatly impact various industries, from art and design to healthcare and finance. With continued advancements in Generative AI, we can expect to see even more innovative and creative applications in the future.'"
      ]
     },
     "execution_count": 7,
     "metadata": {},
     "output_type": "execute_result"
    }
   ],
   "source": [
    "llm.invoke(\"Write a small introduction to Generative AI\")"
   ]
  },
  {
   "cell_type": "code",
   "execution_count": null,
   "id": "9eda4641-6bd9-4531-9452-25b840d811e1",
   "metadata": {},
   "outputs": [],
   "source": []
  }
 ],
 "metadata": {
  "kernelspec": {
   "display_name": "Python 3 (ipykernel)",
   "language": "python",
   "name": "python3"
  },
  "language_info": {
   "codemirror_mode": {
    "name": "ipython",
    "version": 3
   },
   "file_extension": ".py",
   "mimetype": "text/x-python",
   "name": "python",
   "nbconvert_exporter": "python",
   "pygments_lexer": "ipython3",
   "version": "3.11.11"
  }
 },
 "nbformat": 4,
 "nbformat_minor": 5
}
