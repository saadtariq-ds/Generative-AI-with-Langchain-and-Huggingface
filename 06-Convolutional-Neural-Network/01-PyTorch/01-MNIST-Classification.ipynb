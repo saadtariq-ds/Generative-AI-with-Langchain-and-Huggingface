{
 "cells": [
  {
   "cell_type": "markdown",
   "metadata": {
    "id": "q-v7aorJZ3fg"
   },
   "source": [
    "## Import Libraries"
   ]
  },
  {
   "cell_type": "code",
   "execution_count": 1,
   "metadata": {
    "id": "Vl_B9m57Zzjh"
   },
   "outputs": [],
   "source": [
    "import numpy as np\n",
    "import pandas as pd\n",
    "import matplotlib.pyplot as plt\n",
    "import seaborn as sns\n",
    "import torch\n",
    "import torch.nn as nn\n",
    "import torch.nn.functional as F\n",
    "from torch.utils.data import DataLoader\n",
    "from torchvision import datasets, transforms\n",
    "from torchvision.utils import make_grid\n",
    "from sklearn.metrics import classification_report, confusion_matrix\n",
    "\n",
    "import warnings\n",
    "warnings.filterwarnings('ignore')"
   ]
  },
  {
   "cell_type": "markdown",
   "metadata": {
    "id": "XRaZaLjfasz-"
   },
   "source": [
    "## Loading Dataset"
   ]
  },
  {
   "cell_type": "code",
   "execution_count": 2,
   "metadata": {
    "id": "sH9htOceaeGY"
   },
   "outputs": [],
   "source": [
    "transform = transforms.ToTensor()"
   ]
  },
  {
   "cell_type": "code",
   "execution_count": 3,
   "metadata": {
    "colab": {
     "base_uri": "https://localhost:8080/"
    },
    "id": "ODizX248ax1H",
    "outputId": "642e6590-faa4-4415-a636-9a528e660c91"
   },
   "outputs": [
    {
     "name": "stderr",
     "output_type": "stream",
     "text": [
      "100%|██████████| 9.91M/9.91M [00:25<00:00, 386kB/s] \n",
      "100%|██████████| 28.9k/28.9k [00:00<00:00, 81.0kB/s]\n",
      "100%|██████████| 1.65M/1.65M [00:04<00:00, 357kB/s]\n",
      "100%|██████████| 4.54k/4.54k [00:00<00:00, 4.54MB/s]\n"
     ]
    }
   ],
   "source": [
    "train_data = datasets.MNIST(root=\"data\", train=True, download=True, transform=transform)\n",
    "test_data = datasets.MNIST(root=\"data\", train=False, download=True, transform=transform)"
   ]
  },
  {
   "cell_type": "code",
   "execution_count": 4,
   "metadata": {
    "colab": {
     "base_uri": "https://localhost:8080/"
    },
    "id": "rSVLbv6bbB1C",
    "outputId": "ebfd9cd3-1789-40e3-bfd1-ac8f45ebad7e"
   },
   "outputs": [
    {
     "data": {
      "text/plain": [
       "Dataset MNIST\n",
       "    Number of datapoints: 60000\n",
       "    Root location: data\n",
       "    Split: Train\n",
       "    StandardTransform\n",
       "Transform: ToTensor()"
      ]
     },
     "execution_count": 4,
     "metadata": {},
     "output_type": "execute_result"
    }
   ],
   "source": [
    "train_data"
   ]
  },
  {
   "cell_type": "code",
   "execution_count": 5,
   "metadata": {
    "colab": {
     "base_uri": "https://localhost:8080/"
    },
    "id": "0DGp-GuUbEn8",
    "outputId": "9da2cdab-5279-4261-f9a8-a699f0aec79f"
   },
   "outputs": [
    {
     "data": {
      "text/plain": [
       "Dataset MNIST\n",
       "    Number of datapoints: 10000\n",
       "    Root location: data\n",
       "    Split: Test\n",
       "    StandardTransform\n",
       "Transform: ToTensor()"
      ]
     },
     "execution_count": 5,
     "metadata": {},
     "output_type": "execute_result"
    }
   ],
   "source": [
    "test_data"
   ]
  },
  {
   "cell_type": "markdown",
   "metadata": {
    "id": "JsTBoMtQbNOl"
   },
   "source": [
    "## Creating Data Loader"
   ]
  },
  {
   "cell_type": "code",
   "execution_count": 6,
   "metadata": {
    "id": "276Vm9AHbFjX"
   },
   "outputs": [],
   "source": [
    "train_loader = DataLoader(\n",
    "    train_data,\n",
    "    batch_size=10,\n",
    "    shuffle=True\n",
    ")\n",
    "\n",
    "test_loader = DataLoader(\n",
    "    test_data,\n",
    "    batch_size=10,\n",
    "    shuffle=False\n",
    ")"
   ]
  },
  {
   "cell_type": "markdown",
   "metadata": {
    "id": "q_X21rIAbsTm"
   },
   "source": [
    "## Setting Convolutional Layers"
   ]
  },
  {
   "cell_type": "code",
   "execution_count": 7,
   "metadata": {
    "id": "wYrEcZUubffM"
   },
   "outputs": [],
   "source": [
    "conv1 = nn.Conv2d(\n",
    "    in_channels=1,\n",
    "    out_channels=6,\n",
    "    kernel_size=3,\n",
    "    stride=1\n",
    ")\n",
    "\n",
    "conv2 = nn.Conv2d(\n",
    "    in_channels=6,\n",
    "    out_channels=16,\n",
    "    kernel_size=3,\n",
    "    stride=1\n",
    ")"
   ]
  },
  {
   "cell_type": "markdown",
   "metadata": {
    "id": "ZoZD--iDcoZU"
   },
   "source": [
    "## Checking Data"
   ]
  },
  {
   "cell_type": "code",
   "execution_count": 8,
   "metadata": {
    "id": "D0VLF1YBclHO"
   },
   "outputs": [],
   "source": [
    "for i, (X_train, y_train) in enumerate(train_data):\n",
    "  break"
   ]
  },
  {
   "cell_type": "code",
   "execution_count": 9,
   "metadata": {
    "colab": {
     "base_uri": "https://localhost:8080/"
    },
    "id": "OumqTw33czcQ",
    "outputId": "66222067-3238-4918-9bbf-311a326f24a1"
   },
   "outputs": [
    {
     "data": {
      "text/plain": [
       "torch.Size([1, 28, 28])"
      ]
     },
     "execution_count": 9,
     "metadata": {},
     "output_type": "execute_result"
    }
   ],
   "source": [
    "X_train.shape"
   ]
  },
  {
   "cell_type": "code",
   "execution_count": 10,
   "metadata": {
    "id": "syATyx0Cc1B7"
   },
   "outputs": [],
   "source": [
    "x = X_train.view(1, 1, 28, 28)"
   ]
  },
  {
   "cell_type": "markdown",
   "metadata": {
    "id": "Il59LLmBdub8"
   },
   "source": [
    "## Passing Data through Layers"
   ]
  },
  {
   "cell_type": "code",
   "execution_count": 11,
   "metadata": {
    "id": "xhD3GuJNc7tl"
   },
   "outputs": [],
   "source": [
    "x = F.relu(conv1(x))"
   ]
  },
  {
   "cell_type": "code",
   "execution_count": 12,
   "metadata": {
    "colab": {
     "base_uri": "https://localhost:8080/"
    },
    "id": "Lw3sDJfbdB3H",
    "outputId": "e654e1d5-3edf-451b-e506-b62947321f47"
   },
   "outputs": [
    {
     "data": {
      "text/plain": [
       "torch.Size([1, 6, 26, 26])"
      ]
     },
     "execution_count": 12,
     "metadata": {},
     "output_type": "execute_result"
    }
   ],
   "source": [
    "x.shape"
   ]
  },
  {
   "cell_type": "code",
   "execution_count": 13,
   "metadata": {
    "id": "cD1JsZTCdEaf"
   },
   "outputs": [],
   "source": [
    "x = F.max_pool2d(input=x, kernel_size=2, stride=2)"
   ]
  },
  {
   "cell_type": "code",
   "execution_count": 14,
   "metadata": {
    "colab": {
     "base_uri": "https://localhost:8080/"
    },
    "id": "SNiUQ9VsdmZ0",
    "outputId": "de5434c4-b572-4d52-9f25-b1b13ab7e70d"
   },
   "outputs": [
    {
     "data": {
      "text/plain": [
       "torch.Size([1, 6, 13, 13])"
      ]
     },
     "execution_count": 14,
     "metadata": {},
     "output_type": "execute_result"
    }
   ],
   "source": [
    "x.shape"
   ]
  },
  {
   "cell_type": "code",
   "execution_count": 15,
   "metadata": {
    "id": "fcbO1H1ndpB-"
   },
   "outputs": [],
   "source": [
    "x = F.relu(conv2(x))"
   ]
  },
  {
   "cell_type": "code",
   "execution_count": 16,
   "metadata": {
    "colab": {
     "base_uri": "https://localhost:8080/"
    },
    "id": "SIhQlXiod3C5",
    "outputId": "f62eeb75-242c-4965-9f64-d67be8a244f7"
   },
   "outputs": [
    {
     "data": {
      "text/plain": [
       "torch.Size([1, 16, 11, 11])"
      ]
     },
     "execution_count": 16,
     "metadata": {},
     "output_type": "execute_result"
    }
   ],
   "source": [
    "x.shape"
   ]
  },
  {
   "cell_type": "code",
   "execution_count": 17,
   "metadata": {
    "id": "KOuRD5T1d3fX"
   },
   "outputs": [],
   "source": [
    "x = F.max_pool2d(input=x, kernel_size=2, stride=2)"
   ]
  },
  {
   "cell_type": "code",
   "execution_count": 18,
   "metadata": {
    "colab": {
     "base_uri": "https://localhost:8080/"
    },
    "id": "AKMQeVpid5Ti",
    "outputId": "c478470c-de6e-47d6-95ed-f796313ffd68"
   },
   "outputs": [
    {
     "data": {
      "text/plain": [
       "torch.Size([1, 16, 5, 5])"
      ]
     },
     "execution_count": 18,
     "metadata": {},
     "output_type": "execute_result"
    }
   ],
   "source": [
    "x.shape"
   ]
  },
  {
   "cell_type": "code",
   "execution_count": 19,
   "metadata": {
    "colab": {
     "base_uri": "https://localhost:8080/"
    },
    "id": "_mOdGTMRd6CA",
    "outputId": "0f463218-8da4-4a37-ba65-a68ae28d9933"
   },
   "outputs": [
    {
     "data": {
      "text/plain": [
       "torch.Size([1, 400])"
      ]
     },
     "execution_count": 19,
     "metadata": {},
     "output_type": "execute_result"
    }
   ],
   "source": [
    "x.view(-1, 16*5*5).shape"
   ]
  },
  {
   "cell_type": "markdown",
   "metadata": {
    "id": "abQVwaengFHN"
   },
   "source": [
    "## Creating Model"
   ]
  },
  {
   "cell_type": "code",
   "execution_count": 20,
   "metadata": {
    "id": "jt376nh-ei6m"
   },
   "outputs": [],
   "source": [
    "class ConvolutionalNetwork(nn.Module):\n",
    "    def __init__(self):\n",
    "        super().__init__()\n",
    "        self.conv1 = nn.Conv2d(in_channels=1, out_channels=6, kernel_size=3, stride=1)\n",
    "        self.conv2 = nn.Conv2d(in_channels=6, out_channels=16, kernel_size=3, stride=1)\n",
    "        self.fc1 = nn.Linear(in_features=5*5*16, out_features=120)\n",
    "        self.fc2 = nn.Linear(in_features=120, out_features=84)\n",
    "        self.fc3 = nn.Linear(in_features=84, out_features=10)\n",
    "\n",
    "    def forward(self, X):\n",
    "        X = F.relu(self.conv1(X))\n",
    "        X = F.max_pool2d(input=X, kernel_size=2, stride=2)\n",
    "        X = F.relu(self.conv2(X))\n",
    "        X = F.max_pool2d(input=X, kernel_size=2, stride=2)\n",
    "        X = X.view(-1, 16*5*5)\n",
    "        X = F.relu(self.fc1(X))\n",
    "        X = F.relu(self.fc2(X))\n",
    "        X = self.fc3(X)\n",
    "        return F.log_softmax(X, dim=1)"
   ]
  },
  {
   "cell_type": "markdown",
   "metadata": {
    "id": "O41DGMukhjwJ"
   },
   "source": [
    "## Training the Model"
   ]
  },
  {
   "cell_type": "code",
   "execution_count": 21,
   "metadata": {
    "colab": {
     "base_uri": "https://localhost:8080/"
    },
    "id": "s5JWiKiSgqhF",
    "outputId": "3d0421e1-d99e-486a-f9d4-35145a946ffd"
   },
   "outputs": [
    {
     "data": {
      "text/plain": [
       "ConvolutionalNetwork(\n",
       "  (conv1): Conv2d(1, 6, kernel_size=(3, 3), stride=(1, 1))\n",
       "  (conv2): Conv2d(6, 16, kernel_size=(3, 3), stride=(1, 1))\n",
       "  (fc1): Linear(in_features=400, out_features=120, bias=True)\n",
       "  (fc2): Linear(in_features=120, out_features=84, bias=True)\n",
       "  (fc3): Linear(in_features=84, out_features=10, bias=True)\n",
       ")"
      ]
     },
     "execution_count": 21,
     "metadata": {},
     "output_type": "execute_result"
    }
   ],
   "source": [
    "model = ConvolutionalNetwork()\n",
    "model"
   ]
  },
  {
   "cell_type": "code",
   "execution_count": 22,
   "metadata": {
    "colab": {
     "base_uri": "https://localhost:8080/"
    },
    "id": "axvEULPXgk9f",
    "outputId": "274dad99-74d7-47f8-962f-e884682ba2e6"
   },
   "outputs": [
    {
     "name": "stdout",
     "output_type": "stream",
     "text": [
      "Total Number of Parameters: 60074\n"
     ]
    }
   ],
   "source": [
    "parameter_list = []\n",
    "for param in model.parameters():\n",
    "    parameter_list.append(param.numel())\n",
    "\n",
    "print(f\"Total Number of Parameters: {sum(parameter_list)}\")"
   ]
  },
  {
   "cell_type": "code",
   "execution_count": 23,
   "metadata": {
    "id": "Pp921HUCiQkq"
   },
   "outputs": [],
   "source": [
    "criterion = nn.CrossEntropyLoss()\n",
    "optimizer = torch.optim.Adam(model.parameters(), lr=0.001)"
   ]
  },
  {
   "cell_type": "code",
   "execution_count": 24,
   "metadata": {
    "colab": {
     "base_uri": "https://localhost:8080/"
    },
    "id": "RHN9wYUwieRa",
    "outputId": "b5867f59-4a74-4812-cba7-5454cb4dfbb4"
   },
   "outputs": [
    {
     "name": "stdout",
     "output_type": "stream",
     "text": [
      "EPOCH: 0 BATCH: 600 LOSS: 0.5472213625907898\n",
      "EPOCH: 0 BATCH: 1200 LOSS: 0.05642206594347954\n",
      "EPOCH: 0 BATCH: 1800 LOSS: 0.09080065786838531\n",
      "EPOCH: 0 BATCH: 2400 LOSS: 0.5778023600578308\n",
      "EPOCH: 0 BATCH: 3000 LOSS: 0.30019131302833557\n",
      "EPOCH: 0 BATCH: 3600 LOSS: 0.06526441127061844\n",
      "EPOCH: 0 BATCH: 4200 LOSS: 0.025572827085852623\n",
      "EPOCH: 0 BATCH: 4800 LOSS: 0.027147049084305763\n",
      "EPOCH: 0 BATCH: 5400 LOSS: 0.039440352469682693\n",
      "EPOCH: 0 BATCH: 6000 LOSS: 0.038349539041519165\n",
      "EPOCH: 1 BATCH: 600 LOSS: 0.12731114029884338\n",
      "EPOCH: 1 BATCH: 1200 LOSS: 0.2930057942867279\n",
      "EPOCH: 1 BATCH: 1800 LOSS: 0.0022583783138543367\n",
      "EPOCH: 1 BATCH: 2400 LOSS: 0.10719206184148788\n",
      "EPOCH: 1 BATCH: 3000 LOSS: 0.005425791256129742\n",
      "EPOCH: 1 BATCH: 3600 LOSS: 0.6947051286697388\n",
      "EPOCH: 1 BATCH: 4200 LOSS: 0.01516732107847929\n",
      "EPOCH: 1 BATCH: 4800 LOSS: 0.0017803877126425505\n",
      "EPOCH: 1 BATCH: 5400 LOSS: 0.04167879372835159\n",
      "EPOCH: 1 BATCH: 6000 LOSS: 0.38114917278289795\n",
      "EPOCH: 2 BATCH: 600 LOSS: 0.0058719683438539505\n",
      "EPOCH: 2 BATCH: 1200 LOSS: 0.0017605407629162073\n",
      "EPOCH: 2 BATCH: 1800 LOSS: 0.002103386214002967\n",
      "EPOCH: 2 BATCH: 2400 LOSS: 0.39577001333236694\n",
      "EPOCH: 2 BATCH: 3000 LOSS: 0.010939834639430046\n",
      "EPOCH: 2 BATCH: 3600 LOSS: 0.00493127154186368\n",
      "EPOCH: 2 BATCH: 4200 LOSS: 0.00016219636017922312\n",
      "EPOCH: 2 BATCH: 4800 LOSS: 0.0002514344814699143\n",
      "EPOCH: 2 BATCH: 5400 LOSS: 0.005427780095487833\n",
      "EPOCH: 2 BATCH: 6000 LOSS: 0.0009659432107582688\n",
      "EPOCH: 3 BATCH: 600 LOSS: 0.08198197185993195\n",
      "EPOCH: 3 BATCH: 1200 LOSS: 0.27730104327201843\n",
      "EPOCH: 3 BATCH: 1800 LOSS: 0.0018763476982712746\n",
      "EPOCH: 3 BATCH: 2400 LOSS: 0.2202204018831253\n",
      "EPOCH: 3 BATCH: 3000 LOSS: 0.0022873920388519764\n",
      "EPOCH: 3 BATCH: 3600 LOSS: 0.0022560073994100094\n",
      "EPOCH: 3 BATCH: 4200 LOSS: 0.002552191261202097\n",
      "EPOCH: 3 BATCH: 4800 LOSS: 0.00021837740496266633\n",
      "EPOCH: 3 BATCH: 5400 LOSS: 0.00030438200337812304\n",
      "EPOCH: 3 BATCH: 6000 LOSS: 0.00020528379536699504\n",
      "EPOCH: 4 BATCH: 600 LOSS: 3.149377153022215e-05\n",
      "EPOCH: 4 BATCH: 1200 LOSS: 0.0002099451667163521\n",
      "EPOCH: 4 BATCH: 1800 LOSS: 0.011080944910645485\n",
      "EPOCH: 4 BATCH: 2400 LOSS: 0.0003708366712089628\n",
      "EPOCH: 4 BATCH: 3000 LOSS: 1.2993772315894603e-06\n",
      "EPOCH: 4 BATCH: 3600 LOSS: 7.08692314219661e-05\n",
      "EPOCH: 4 BATCH: 4200 LOSS: 0.003473625285550952\n",
      "EPOCH: 4 BATCH: 4800 LOSS: 0.033610984683036804\n",
      "EPOCH: 4 BATCH: 5400 LOSS: 0.00038014305755496025\n",
      "EPOCH: 4 BATCH: 6000 LOSS: 0.11598291248083115\n",
      "Training Took 1.1918493668238321 minutes\n"
     ]
    }
   ],
   "source": [
    "import time\n",
    "start_time = time.time()\n",
    "\n",
    "epochs = 5\n",
    "train_losses_list = []\n",
    "test_losses_list = []\n",
    "train_correct_list = []\n",
    "test_correct_list = []\n",
    "\n",
    "for i in range(epochs):\n",
    "    train_correct = 0\n",
    "    test_correct = 0\n",
    "\n",
    "    for batch, (X_train, y_train) in enumerate(train_loader):\n",
    "        batch += 1\n",
    "        y_pred = model(X_train)\n",
    "        loss = criterion(y_pred, y_train)\n",
    "\n",
    "        predicted = torch.max(y_pred.data, 1)[1]\n",
    "        batch_correct = (predicted == y_train).sum()\n",
    "        train_correct += batch_correct\n",
    "\n",
    "        optimizer.zero_grad()\n",
    "        loss.backward()\n",
    "        optimizer.step()\n",
    "\n",
    "        if batch % 600 == 0:\n",
    "            print(f\"EPOCH: {i} BATCH: {batch} LOSS: {loss.item()}\")\n",
    "\n",
    "    train_losses_list.append(loss.detach().numpy())\n",
    "    train_correct_list.append(train_correct)\n",
    "\n",
    "    # Testing\n",
    "    with torch.no_grad():\n",
    "        for batch, (X_test, y_test) in enumerate(test_loader):\n",
    "            y_val = model(X_test)\n",
    "            predicted = torch.max(y_val.data, 1)[1]\n",
    "            test_correct += (predicted == y_test).sum()\n",
    "\n",
    "    loss = criterion(y_val, y_test)\n",
    "    test_losses_list.append(loss.detach().numpy())\n",
    "    test_correct_list.append(test_correct)\n",
    "\n",
    "\n",
    "current_time = time.time()\n",
    "total_time = current_time - start_time\n",
    "print(f\"Training Took {total_time/60} minutes\")"
   ]
  },
  {
   "cell_type": "code",
   "execution_count": 25,
   "metadata": {
    "id": "mf4QvalHlXEc"
   },
   "outputs": [
    {
     "data": {
      "image/png": "[encoded data removed]",
      "text/plain": [
       "<Figure size 640x480 with 1 Axes>"
      ]
     },
     "metadata": {},
     "output_type": "display_data"
    }
   ],
   "source": [
    "plt.plot(train_losses_list, label='Train Loss')\n",
    "plt.plot(test_losses_list, label='Validation Loss')\n",
    "plt.title(\"Loss at Epoch\")\n",
    "plt.legend();"
   ]
  },
  {
   "cell_type": "code",
   "execution_count": 26,
   "metadata": {},
   "outputs": [
    {
     "data": {
      "image/png": "[encoded data removed]",
      "text/plain": [
       "<Figure size 640x480 with 1 Axes>"
      ]
     },
     "metadata": {},
     "output_type": "display_data"
    }
   ],
   "source": [
    "plt.plot([train/600 for train in train_correct_list], label='Train Accuracy')\n",
    "plt.plot([test/100 for test in test_correct_list], label='Validation Accuracy')\n",
    "plt.title(\"Accuracy at Epoch\")\n",
    "plt.legend();"
   ]
  },
  {
   "cell_type": "markdown",
   "metadata": {},
   "source": [
    "## Evaluate Test Data"
   ]
  },
  {
   "cell_type": "code",
   "execution_count": 27,
   "metadata": {},
   "outputs": [],
   "source": [
    "test_load_all = DataLoader(\n",
    "    dataset=test_data,\n",
    "    batch_size=10000,\n",
    "    shuffle=False\n",
    ")"
   ]
  },
  {
   "cell_type": "code",
   "execution_count": 28,
   "metadata": {},
   "outputs": [],
   "source": [
    "with torch.no_grad():\n",
    "    correct = 0\n",
    "    for X_test, y_test in test_load_all:\n",
    "        y_val = model(X_test)\n",
    "        predicted = torch.max(y_val.data, 1)[1]\n",
    "        correct += (predicted == y_test).sum()"
   ]
  },
  {
   "cell_type": "code",
   "execution_count": 29,
   "metadata": {},
   "outputs": [
    {
     "data": {
      "text/plain": [
       "0.9889"
      ]
     },
     "execution_count": 29,
     "metadata": {},
     "output_type": "execute_result"
    }
   ],
   "source": [
    "correct.item() / 10000"
   ]
  },
  {
   "cell_type": "code",
   "execution_count": 30,
   "metadata": {},
   "outputs": [
    {
     "name": "stdout",
     "output_type": "stream",
     "text": [
      "              precision    recall  f1-score   support\n",
      "\n",
      "           0       0.99      0.99      0.99       980\n",
      "           1       0.99      0.99      0.99      1133\n",
      "           2       0.99      0.99      0.99      1038\n",
      "           3       0.99      0.98      0.99      1025\n",
      "           4       0.99      0.99      0.99       980\n",
      "           5       0.98      0.99      0.98       879\n",
      "           6       0.99      0.99      0.99       956\n",
      "           7       0.98      0.99      0.99      1023\n",
      "           8       1.00      0.98      0.99       991\n",
      "           9       0.98      0.99      0.98       995\n",
      "\n",
      "    accuracy                           0.99     10000\n",
      "   macro avg       0.99      0.99      0.99     10000\n",
      "weighted avg       0.99      0.99      0.99     10000\n",
      "\n"
     ]
    }
   ],
   "source": [
    "print(classification_report(y_true=predicted.view(-1), y_pred=y_test.view(-1)))"
   ]
  },
  {
   "cell_type": "code",
   "execution_count": 31,
   "metadata": {},
   "outputs": [
    {
     "data": {
      "text/plain": [
       "<Axes: >"
      ]
     },
     "execution_count": 31,
     "metadata": {},
     "output_type": "execute_result"
    },
    {
     "data": {
      "image/png": "[encoded data removed]",
      "text/plain": [
       "<Figure size 1000x600 with 2 Axes>"
      ]
     },
     "metadata": {},
     "output_type": "display_data"
    }
   ],
   "source": [
    "plt.figure(figsize=(10,6))\n",
    "matrix = confusion_matrix(y_true=predicted.view(-1), y_pred=y_test.view(-1))\n",
    "sns.heatmap(matrix, annot=True, fmt='1.0f')"
   ]
  },
  {
   "cell_type": "markdown",
   "metadata": {},
   "source": [
    "## Predicting on Single Image"
   ]
  },
  {
   "cell_type": "code",
   "execution_count": 32,
   "metadata": {},
   "outputs": [
    {
     "data": {
      "text/plain": [
       "<matplotlib.image.AxesImage at 0x1ef61f45d50>"
      ]
     },
     "execution_count": 32,
     "metadata": {},
     "output_type": "execute_result"
    },
    {
     "data": {
      "image/png": "[encoded data removed]",
      "text/plain": [
       "<Figure size 640x480 with 1 Axes>"
      ]
     },
     "metadata": {},
     "output_type": "display_data"
    }
   ],
   "source": [
    "plt.imshow(test_data[2019][0].reshape(28, 28))"
   ]
  },
  {
   "cell_type": "code",
   "execution_count": 33,
   "metadata": {},
   "outputs": [],
   "source": [
    "model.eval()\n",
    "\n",
    "with torch.no_grad():\n",
    "    single_image_prediction = model(test_data[2019][0].view(1, 1, 28, 28))"
   ]
  },
  {
   "cell_type": "code",
   "execution_count": 34,
   "metadata": {},
   "outputs": [
    {
     "data": {
      "text/plain": [
       "tensor(9)"
      ]
     },
     "execution_count": 34,
     "metadata": {},
     "output_type": "execute_result"
    }
   ],
   "source": [
    "single_image_prediction.argmax()"
   ]
  },
  {
   "cell_type": "code",
   "execution_count": null,
   "metadata": {},
   "outputs": [],
   "source": []
  }
 ],
 "metadata": {
  "colab": {
   "provenance": []
  },
  "kernelspec": {
   "display_name": "Python 3 (ipykernel)",
   "language": "python",
   "name": "python3"
  },
  "language_info": {
   "codemirror_mode": {
    "name": "ipython",
    "version": 3
   },
   "file_extension": ".py",
   "mimetype": "text/x-python",
   "name": "python",
   "nbconvert_exporter": "python",
   "pygments_lexer": "ipython3",
   "version": "3.11.11"
  }
 },
 "nbformat": 4,
 "nbformat_minor": 4
}
