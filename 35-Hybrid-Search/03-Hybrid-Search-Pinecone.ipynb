{
 "cells": [
  {
   "cell_type": "markdown",
   "id": "b40a69a1-9a2b-44e6-8b47-0cee3e7aed3f",
   "metadata": {},
   "source": [
    "## Setup and Import Libraries"
   ]
  },
  {
   "cell_type": "code",
   "execution_count": 13,
   "id": "4a58f1a0-1706-4eae-a16c-9bfe0280d0d5",
   "metadata": {},
   "outputs": [],
   "source": [
    "import os\n",
    "from langchain_community.retrievers import PineconeHybridSearchRetriever\n",
    "from langchain_huggingface import HuggingFaceEmbeddings\n",
    "from pinecone import Pinecone, ServerlessSpec\n",
    "from pinecone_text.sparse import BM25Encoder\n",
    "from dotenv import load_dotenv"
   ]
  },
  {
   "cell_type": "code",
   "execution_count": 9,
   "id": "67ccde92-4157-4b20-9f84-ab9decd7ac0b",
   "metadata": {},
   "outputs": [
    {
     "data": {
      "text/plain": [
       "True"
      ]
     },
     "execution_count": 9,
     "metadata": {},
     "output_type": "execute_result"
    }
   ],
   "source": [
    "load_dotenv()"
   ]
  },
  {
   "cell_type": "code",
   "execution_count": 10,
   "id": "f10a4790-cba5-4fe7-a96a-b08f00c66936",
   "metadata": {},
   "outputs": [],
   "source": [
    "os.environ[\"PINECONE_API_KEY\"] = os.getenv(\"PINECONE_API_KEY\")\n",
    "os.environ[\"HUGGINGFACE_API_KEY\"] = os.getenv(\"HUGGINGFACE_API_KEY\")"
   ]
  },
  {
   "cell_type": "markdown",
   "id": "9f7687da-de62-4e0c-8674-0571049606ff",
   "metadata": {},
   "source": [
    "## Creating Index"
   ]
  },
  {
   "cell_type": "code",
   "execution_count": 6,
   "id": "7fcdf72d-2b94-475e-85dc-125f7d987801",
   "metadata": {},
   "outputs": [],
   "source": [
    "index_name = \"hybird-search-langchain\"\n",
    "pc = Pinecone()\n",
    "\n",
    "if index_name not in pc.list_indexes().names():\n",
    "    pc.create_index(\n",
    "        name=index_name,\n",
    "        dimension=384,     # Dimensionality of Dense Model\n",
    "        metric='dotproduct',  # Sparse Values supported only for dotproduct\n",
    "        spec=ServerlessSpec(\n",
    "            cloud='aws',\n",
    "            region='us-east-1'\n",
    "        )\n",
    "    )"
   ]
  },
  {
   "cell_type": "code",
   "execution_count": 7,
   "id": "09d9d0d8-c695-4a4b-be02-c2090b672883",
   "metadata": {},
   "outputs": [
    {
     "data": {
      "text/plain": [
       "<pinecone.data.index.Index at 0x24be9d71610>"
      ]
     },
     "execution_count": 7,
     "metadata": {},
     "output_type": "execute_result"
    }
   ],
   "source": [
    "index = pc.Index(\n",
    "    name=index_name\n",
    ")\n",
    "\n",
    "index"
   ]
  },
  {
   "cell_type": "markdown",
   "id": "471e118e-6886-4ed6-a408-5537826c11e7",
   "metadata": {},
   "source": [
    "## HuggingFace Embeddings"
   ]
  },
  {
   "cell_type": "code",
   "execution_count": 12,
   "id": "51be8350-9423-40e5-afff-843c556c19ff",
   "metadata": {},
   "outputs": [],
   "source": [
    "embeddings = HuggingFaceEmbeddings(model_name='all-MiniLM-L6-v2')"
   ]
  },
  {
   "cell_type": "markdown",
   "id": "43b0e047-7518-4dc3-b879-d63ecf8cbbb0",
   "metadata": {},
   "source": [
    "## Sparse Matrix"
   ]
  },
  {
   "cell_type": "code",
   "execution_count": 14,
   "id": "b4f83bee-ccdd-4872-b31b-320bdf8bb51b",
   "metadata": {},
   "outputs": [],
   "source": [
    "bm25_encoder = BM25Encoder().default()"
   ]
  },
  {
   "cell_type": "markdown",
   "id": "31ef71fa-ea49-488c-aa6f-ae814b0cc2db",
   "metadata": {},
   "source": [
    "## Creating Sentences"
   ]
  },
  {
   "cell_type": "code",
   "execution_count": 15,
   "id": "daf4f5b2-ac06-479e-be5c-e2fa406dea70",
   "metadata": {},
   "outputs": [],
   "source": [
    "sentences = [\n",
    "    'Argentina won the 2022 Fifa World Cup',\n",
    "    'France won the 2018 Fifa World Cup',\n",
    "    'Germany won the 2014 Fifa World Cup'\n",
    "]"
   ]
  },
  {
   "cell_type": "code",
   "execution_count": 16,
   "id": "fc35e5a4-21ff-4be0-9c06-b1032a64b42a",
   "metadata": {},
   "outputs": [
    {
     "name": "stderr",
     "output_type": "stream",
     "text": [
      "100%|██████████| 3/3 [00:00<00:00, 82.14it/s]\n"
     ]
    },
    {
     "data": {
      "text/plain": [
       "<pinecone_text.sparse.bm25_encoder.BM25Encoder at 0x24be9d5c8d0>"
      ]
     },
     "execution_count": 16,
     "metadata": {},
     "output_type": "execute_result"
    }
   ],
   "source": [
    "bm25_encoder.fit(sentences)"
   ]
  },
  {
   "cell_type": "markdown",
   "id": "b4f246a0-e147-47a9-9b4c-6742fdcb6f7e",
   "metadata": {},
   "source": [
    "### Store Values to JSON File"
   ]
  },
  {
   "cell_type": "code",
   "execution_count": 18,
   "id": "70a74118-0fc0-4dad-98fb-730b4805cf8c",
   "metadata": {},
   "outputs": [],
   "source": [
    "bm25_encoder.dump('bm25_values.json')"
   ]
  },
  {
   "cell_type": "markdown",
   "id": "76a02c5b-f98d-4672-8740-9aef679f999f",
   "metadata": {},
   "source": [
    "### Loading BM25 Encoder"
   ]
  },
  {
   "cell_type": "code",
   "execution_count": 19,
   "id": "388181d3-85d9-44ba-ad6a-2e4f97a5c28c",
   "metadata": {},
   "outputs": [],
   "source": [
    "bm25_encoder = BM25Encoder().load('bm25_values.json')"
   ]
  },
  {
   "cell_type": "markdown",
   "id": "94cac033-e850-44aa-a0a7-1d481f937d5a",
   "metadata": {},
   "source": [
    "## Creating Retriver"
   ]
  },
  {
   "cell_type": "code",
   "execution_count": 20,
   "id": "a6ecafbd-8358-48d9-a40e-965fc5495194",
   "metadata": {},
   "outputs": [
    {
     "data": {
      "text/plain": [
       "PineconeHybridSearchRetriever(embeddings=HuggingFaceEmbeddings(model_name='all-MiniLM-L6-v2', cache_folder=None, model_kwargs={}, encode_kwargs={}, multi_process=False, show_progress=False), sparse_encoder=<pinecone_text.sparse.bm25_encoder.BM25Encoder object at 0x0000024BC8387C10>, index=<pinecone.data.index.Index object at 0x0000024BE9D71610>)"
      ]
     },
     "execution_count": 20,
     "metadata": {},
     "output_type": "execute_result"
    }
   ],
   "source": [
    "retriever = PineconeHybridSearchRetriever(\n",
    "    embeddings=embeddings,\n",
    "    sparse_encoder=bm25_encoder,\n",
    "    index=index\n",
    ")\n",
    "\n",
    "retriever"
   ]
  },
  {
   "cell_type": "markdown",
   "id": "b9d07594-0701-4f7e-a854-b39e057db99c",
   "metadata": {},
   "source": [
    "## Adding Text"
   ]
  },
  {
   "cell_type": "code",
   "execution_count": 21,
   "id": "8aad82b4-7d3c-451a-b927-f2df922ef819",
   "metadata": {},
   "outputs": [],
   "source": [
    "sentences = [\n",
    "    'Argentina won the 2022 Fifa World Cup',\n",
    "    'France won the 2018 Fifa World Cup',\n",
    "    'Germany won the 2014 Fifa World Cup'\n",
    "]"
   ]
  },
  {
   "cell_type": "code",
   "execution_count": 22,
   "id": "893c92c0-3fc1-4f85-8ef1-5a7cc0b61fb3",
   "metadata": {},
   "outputs": [
    {
     "name": "stderr",
     "output_type": "stream",
     "text": [
      "100%|██████████| 1/1 [00:01<00:00,  1.74s/it]\n"
     ]
    }
   ],
   "source": [
    "retriever.add_texts(texts=sentences)"
   ]
  },
  {
   "cell_type": "markdown",
   "id": "14d3b66b-5009-43b1-b9e5-5ba7fd5cdd94",
   "metadata": {},
   "source": [
    "## Asking Questions"
   ]
  },
  {
   "cell_type": "code",
   "execution_count": 23,
   "id": "7394fd4a-4ce6-452e-bc0c-a22d0b25619e",
   "metadata": {},
   "outputs": [
    {
     "data": {
      "text/plain": [
       "[Document(metadata={'score': 0.655304551}, page_content='Germany won the 2014 Fifa World Cup'),\n",
       " Document(metadata={'score': 0.279299527}, page_content='Argentina won the 2022 Fifa World Cup'),\n",
       " Document(metadata={'score': 0.271083981}, page_content='France won the 2018 Fifa World Cup')]"
      ]
     },
     "execution_count": 23,
     "metadata": {},
     "output_type": "execute_result"
    }
   ],
   "source": [
    "retriever.invoke(\"Who won the 2014 Fifa World Cup\")"
   ]
  },
  {
   "cell_type": "code",
   "execution_count": 24,
   "id": "f56a68e9-03e3-4e43-a5f3-8f09d6f586d3",
   "metadata": {},
   "outputs": [
    {
     "data": {
      "text/plain": [
       "[Document(metadata={'score': 0.35877642}, page_content='Germany won the 2014 Fifa World Cup'),\n",
       " Document(metadata={'score': 0.32757172}, page_content='France won the 2018 Fifa World Cup'),\n",
       " Document(metadata={'score': 0.305027872}, page_content='Argentina won the 2022 Fifa World Cup')]"
      ]
     },
     "execution_count": 24,
     "metadata": {},
     "output_type": "execute_result"
    }
   ],
   "source": [
    "retriever.invoke(\"Who won the most recent Fifa World Cup\")"
   ]
  },
  {
   "cell_type": "code",
   "execution_count": null,
   "id": "8c816ffb-b84b-4d95-a915-f0fbc04475f8",
   "metadata": {},
   "outputs": [],
   "source": []
  }
 ],
 "metadata": {
  "kernelspec": {
   "display_name": "Python 3 (ipykernel)",
   "language": "python",
   "name": "python3"
  },
  "language_info": {
   "codemirror_mode": {
    "name": "ipython",
    "version": 3
   },
   "file_extension": ".py",
   "mimetype": "text/x-python",
   "name": "python",
   "nbconvert_exporter": "python",
   "pygments_lexer": "ipython3",
   "version": "3.11.11"
  }
 },
 "nbformat": 4,
 "nbformat_minor": 5
}
