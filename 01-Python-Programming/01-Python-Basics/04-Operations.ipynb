{
 "cells": [
  {
   "cell_type": "markdown",
   "metadata": {},
   "source": [
    "# Outline\n",
    "\n",
    "1. Introduction to Operators\n",
    "2. Arithmetic Operators\n",
    "    - Addition\n",
    "    - Subtraction\n",
    "    - Multiplication\n",
    "    - Division\n",
    "    - Floor Division\n",
    "    - Modulus\n",
    "    - Exponentiation\n",
    "3. Comparison Operators\n",
    "    - Equal to\n",
    "    - Not equal to\n",
    "    - Greater than\n",
    "    - Less than\n",
    "    - Greater than or equal to\n",
    "    - Less than or equal to\n",
    "4. Logical Operators\n",
    "    - AND\n",
    "    - OR\n",
    "    - NOT\n",
    "5. Practical Examples and Common Errors"
   ]
  },
  {
   "cell_type": "markdown",
   "metadata": {},
   "source": [
    "## Arithmetic Operators"
   ]
  },
  {
   "cell_type": "code",
   "execution_count": 1,
   "metadata": {},
   "outputs": [
    {
     "name": "stdout",
     "output_type": "stream",
     "text": [
      "15\n",
      "5\n",
      "50\n",
      "2.0\n",
      "2\n",
      "0\n",
      "100000\n"
     ]
    }
   ],
   "source": [
    "a = 10\n",
    "b = 5\n",
    "\n",
    "add = a + b\n",
    "sub = a - b\n",
    "mul = a * b\n",
    "div = a / b\n",
    "fl_div = a // b\n",
    "mod = a % b\n",
    "expon = a ** b\n",
    "\n",
    "print(add)\n",
    "print(sub)\n",
    "print(mul)\n",
    "print(div)\n",
    "print(fl_div)\n",
    "print(mod)\n",
    "print(expon)\n"
   ]
  },
  {
   "cell_type": "markdown",
   "metadata": {},
   "source": [
    "## Comparison Operators"
   ]
  },
  {
   "cell_type": "code",
   "execution_count": 2,
   "metadata": {},
   "outputs": [
    {
     "name": "stdout",
     "output_type": "stream",
     "text": [
      "Equal to: False\n",
      "Not Equal to: True\n",
      "Greater than: True\n",
      "Less than: False\n",
      "Greater than or equal to: True\n",
      "Less than or equal to: False\n"
     ]
    }
   ],
   "source": [
    "a = 10\n",
    "b = 5\n",
    "\n",
    "print(f\"Equal to: {a==b}\")\n",
    "print(f\"Not Equal to: {a!=b}\")\n",
    "print(f\"Greater than: {a>b}\")\n",
    "print(f\"Less than: {a<b}\")\n",
    "print(f\"Greater than or equal to: {a>=b}\")\n",
    "print(f\"Less than or equal to: {a<=b}\")"
   ]
  },
  {
   "cell_type": "code",
   "execution_count": 3,
   "metadata": {},
   "outputs": [
    {
     "name": "stdout",
     "output_type": "stream",
     "text": [
      "String 1 Equal to String 2: True\n",
      "String 1 Equal to String 3: False\n",
      "String 2 Equal to String 3: False\n",
      "String 1 Not Equal to String 2: False\n",
      "String 1 Not Equal to String 3: True\n",
      "String 2 Not Equal to String 3: True\n"
     ]
    }
   ],
   "source": [
    "str1 = \"Saad\"\n",
    "str2 = \"Saad\"\n",
    "str3 = \"saad\"\n",
    "\n",
    "print(f\"String 1 Equal to String 2: {str1==str2}\")\n",
    "print(f\"String 1 Equal to String 3: {str1==str3}\")\n",
    "print(f\"String 2 Equal to String 3: {str2==str3}\")\n",
    "\n",
    "print(f\"String 1 Not Equal to String 2: {str1!=str2}\")\n",
    "print(f\"String 1 Not Equal to String 3: {str1!=str3}\")\n",
    "print(f\"String 2 Not Equal to String 3: {str2!=str3}\")\n"
   ]
  },
  {
   "cell_type": "markdown",
   "metadata": {},
   "source": [
    "## Logical Operators"
   ]
  },
  {
   "cell_type": "code",
   "execution_count": 4,
   "metadata": {},
   "outputs": [
    {
     "data": {
      "text/plain": [
       "True"
      ]
     },
     "execution_count": 4,
     "metadata": {},
     "output_type": "execute_result"
    }
   ],
   "source": [
    "x = True\n",
    "y = True\n",
    "\n",
    "x and y"
   ]
  },
  {
   "cell_type": "code",
   "execution_count": 5,
   "metadata": {},
   "outputs": [
    {
     "data": {
      "text/plain": [
       "True"
      ]
     },
     "execution_count": 5,
     "metadata": {},
     "output_type": "execute_result"
    }
   ],
   "source": [
    "x = True\n",
    "y = False\n",
    "\n",
    "x or y"
   ]
  },
  {
   "cell_type": "code",
   "execution_count": 6,
   "metadata": {},
   "outputs": [
    {
     "data": {
      "text/plain": [
       "False"
      ]
     },
     "execution_count": 6,
     "metadata": {},
     "output_type": "execute_result"
    }
   ],
   "source": [
    "x = True\n",
    "y = False\n",
    "\n",
    "not x"
   ]
  },
  {
   "cell_type": "code",
   "execution_count": null,
   "metadata": {},
   "outputs": [],
   "source": []
  }
 ],
 "metadata": {
  "kernelspec": {
   "display_name": "Python 3 (ipykernel)",
   "language": "python",
   "name": "python3"
  },
  "language_info": {
   "codemirror_mode": {
    "name": "ipython",
    "version": 3
   },
   "file_extension": ".py",
   "mimetype": "text/x-python",
   "name": "python",
   "nbconvert_exporter": "python",
   "pygments_lexer": "ipython3",
   "version": "3.11.11"
  }
 },
 "nbformat": 4,
 "nbformat_minor": 4
}
