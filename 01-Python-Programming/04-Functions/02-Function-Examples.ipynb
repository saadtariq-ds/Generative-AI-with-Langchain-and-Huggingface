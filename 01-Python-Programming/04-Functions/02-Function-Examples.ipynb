{
 "cells": [
  {
   "cell_type": "markdown",
   "metadata": {},
   "source": [
    "# Function Examples"
   ]
  },
  {
   "cell_type": "markdown",
   "metadata": {},
   "source": [
    "## Example 1: Temperature Conversion"
   ]
  },
  {
   "cell_type": "code",
   "execution_count": 1,
   "metadata": {},
   "outputs": [
    {
     "data": {
      "text/plain": [
       "68.0"
      ]
     },
     "execution_count": 1,
     "metadata": {},
     "output_type": "execute_result"
    }
   ],
   "source": [
    "def convert_temperature(temperature, unit):\n",
    "    if unit == 'c':\n",
    "        converted_temperature = (temperature * (9/5) + 32)\n",
    "        return converted_temperature\n",
    "    elif unit == 'f':\n",
    "        converted_temperature = (temperature - 32) * (5/9)\n",
    "        return converted_temperature\n",
    "    else:\n",
    "        print(\"Wrong Unit Selected\")\n",
    "\n",
    "convert_temperature(temperature=20, unit='C'.lower())"
   ]
  },
  {
   "cell_type": "markdown",
   "metadata": {},
   "source": [
    "## Example 2: Password Strenth Checker"
   ]
  },
  {
   "cell_type": "code",
   "execution_count": 2,
   "metadata": {},
   "outputs": [
    {
     "data": {
      "text/plain": [
       "True"
      ]
     },
     "execution_count": 2,
     "metadata": {},
     "output_type": "execute_result"
    }
   ],
   "source": [
    "def check_password_strength(password):\n",
    "    if len(password) < 6:\n",
    "        return False\n",
    "    if not any(character.isdigit() for character in password):\n",
    "        return False\n",
    "    if not any(character.islower() for character in password):\n",
    "        return False\n",
    "    if not any(character.isupper() for character in password):\n",
    "        return False\n",
    "    if not any(character in '!@#$%&*' for character in password):\n",
    "        return False\n",
    "    else:\n",
    "        return True\n",
    "\n",
    "check_password_strength(\"asvaef@123AVC\")"
   ]
  },
  {
   "cell_type": "markdown",
   "metadata": {},
   "source": [
    "## Example 3: Calculate the Total Cost of Items in a Shopping Cart"
   ]
  },
  {
   "cell_type": "code",
   "execution_count": 3,
   "metadata": {},
   "outputs": [
    {
     "data": {
      "text/plain": [
       "94.0"
      ]
     },
     "execution_count": 3,
     "metadata": {},
     "output_type": "execute_result"
    }
   ],
   "source": [
    "def shopping_cart_cost(shopping_cart):\n",
    "    cost = 0\n",
    "    for item in shopping_cart:\n",
    "        cost += item['price'] * item['quantity']\n",
    "\n",
    "    return cost\n",
    "\n",
    "shopping_cart = [\n",
    "    {\"name\": \"Apple\", \"price\":0.5, \"quantity\": 4},\n",
    "    {\"name\": \"Banana\", \"price\":1, \"quantity\": 12},\n",
    "    {\"name\": \"Carrot\", \"price\":2, \"quantity\": 5},\n",
    "    {\"name\": \"Grapes\", \"price\":1.5, \"quantity\": 20},\n",
    "    {\"name\": \"Oranges\", \"price\":4, \"quantity\": 10},\n",
    "]\n",
    "\n",
    "shopping_cart_cost(shopping_cart)"
   ]
  },
  {
   "cell_type": "markdown",
   "metadata": {},
   "source": [
    "## Example 4: Check if a String is Palindrome"
   ]
  },
  {
   "cell_type": "code",
   "execution_count": 4,
   "metadata": {},
   "outputs": [
    {
     "name": "stdout",
     "output_type": "stream",
     "text": [
      "True\n",
      "False\n"
     ]
    }
   ],
   "source": [
    "def is_palindrome(string):\n",
    "    string = string.lower().replace(\" \", \"\")\n",
    "    return string==string[::-1]\n",
    "\n",
    "print(is_palindrome(\"A man a plan a canal panama\"))\n",
    "print(is_palindrome(\"book\"))"
   ]
  },
  {
   "cell_type": "markdown",
   "metadata": {},
   "source": [
    "## Example 5: Calculate the Factorials of a Number using Recursion"
   ]
  },
  {
   "cell_type": "code",
   "execution_count": 5,
   "metadata": {},
   "outputs": [
    {
     "name": "stdout",
     "output_type": "stream",
     "text": [
      "6\n",
      "120\n"
     ]
    }
   ],
   "source": [
    "def factorial(number):\n",
    "    if number == 0:\n",
    "        return 1\n",
    "    else:\n",
    "        return number * factorial(number - 1)\n",
    "\n",
    "print(factorial(3))\n",
    "print(factorial(5))"
   ]
  },
  {
   "cell_type": "markdown",
   "metadata": {},
   "source": [
    "## Example 6: Validate Email Address"
   ]
  },
  {
   "cell_type": "code",
   "execution_count": 6,
   "metadata": {},
   "outputs": [
    {
     "name": "stdout",
     "output_type": "stream",
     "text": [
      "True\n",
      "False\n"
     ]
    }
   ],
   "source": [
    "import re\n",
    "\n",
    "def validate_email(email_address):\n",
    "    pattern = r'^[a-zA-Z0-9_.+-]+@[a-zA-Z0-9-]+\\.[a-zA-Z0-9-.]+$'\n",
    "    return re.match(pattern, email_address) is not None\n",
    "\n",
    "\n",
    "print(validate_email(\"abc@gmail.com\"))\n",
    "print(validate_email(\"abc.com\"))"
   ]
  },
  {
   "cell_type": "code",
   "execution_count": null,
   "metadata": {},
   "outputs": [],
   "source": []
  }
 ],
 "metadata": {
  "kernelspec": {
   "display_name": "Python 3 (ipykernel)",
   "language": "python",
   "name": "python3"
  },
  "language_info": {
   "codemirror_mode": {
    "name": "ipython",
    "version": 3
   },
   "file_extension": ".py",
   "mimetype": "text/x-python",
   "name": "python",
   "nbconvert_exporter": "python",
   "pygments_lexer": "ipython3",
   "version": "3.11.11"
  }
 },
 "nbformat": 4,
 "nbformat_minor": 4
}
