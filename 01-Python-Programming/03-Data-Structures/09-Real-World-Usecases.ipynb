{
 "cells": [
  {
   "cell_type": "markdown",
   "metadata": {},
   "source": [
    "# Real World Examples Using Lists"
   ]
  },
  {
   "cell_type": "markdown",
   "metadata": {},
   "source": [
    "## Example 1: Manage a To Do List\n",
    "\n",
    "Create a To Do List to Keep Track of Tasks"
   ]
  },
  {
   "cell_type": "code",
   "execution_count": 1,
   "metadata": {},
   "outputs": [
    {
     "name": "stdout",
     "output_type": "stream",
     "text": [
      "Reminder to Pay Bills\n",
      "Remaining Tasks\n",
      "- Clean the House\n",
      "- Pay Bills\n",
      "- Schedule Meeting\n",
      "- Go For a Run\n"
     ]
    }
   ],
   "source": [
    "to_do_list = [\"Buy Groceries\", \"Clean the House\", \"Pay Bills\"]\n",
    "\n",
    "to_do_list.append(\"Schedule Meeting\")\n",
    "\n",
    "to_do_list.append(\"Go For a Run\")\n",
    "\n",
    "## Remove Completed Taks\n",
    "to_do_list.remove(\"Buy Groceries\")\n",
    "\n",
    "## Checking if a task in the list\n",
    "if \"Pay Bills\" in to_do_list:\n",
    "    print(\"Reminder to Pay Bills\")\n",
    "\n",
    "print(\"Remaining Tasks\")\n",
    "for task in to_do_list:\n",
    "    print(f\"- {task}\")"
   ]
  },
  {
   "cell_type": "markdown",
   "metadata": {},
   "source": [
    "## Example 2: Organizing Grades\n",
    "\n",
    "Create a list to store and calculate average grade for students"
   ]
  },
  {
   "cell_type": "code",
   "execution_count": 2,
   "metadata": {},
   "outputs": [
    {
     "name": "stdout",
     "output_type": "stream",
     "text": [
      "Average Grade: 88.83\n",
      "Highest Grade: 100\n",
      "Lowest Grade: 78\n"
     ]
    }
   ],
   "source": [
    "grades = [85, 92, 78, 90, 88]\n",
    "\n",
    "## Adding new grade\n",
    "grades.append(100)\n",
    "\n",
    "## Calculating average grade\n",
    "average_grade = sum(grades) / len(grades)\n",
    "print(f\"Average Grade: {average_grade:.2f}\")\n",
    "\n",
    "## Highest and Lowest Grades\n",
    "print(f\"Highest Grade: {max(grades)}\")\n",
    "print(f\"Lowest Grade: {min(grades)}\")"
   ]
  },
  {
   "cell_type": "markdown",
   "metadata": {},
   "source": [
    "## Example 3: Managing An Inventory\n",
    "\n",
    "Use a list to manage inventory items in a store"
   ]
  },
  {
   "cell_type": "code",
   "execution_count": 3,
   "metadata": {},
   "outputs": [
    {
     "name": "stdout",
     "output_type": "stream",
     "text": [
      "Oranges is in stock\n",
      "- Banana\n",
      "- Oranges\n",
      "- Grapes\n"
     ]
    }
   ],
   "source": [
    "inventory = [\"Apples\", \"Banana\", \"Oranges\"]\n",
    "\n",
    "## Add a new Item\n",
    "inventory.append(\"Grapes\")\n",
    "\n",
    "## Removing an Item that is out of stock\n",
    "inventory.remove(\"Apples\")\n",
    "\n",
    "## Checking ig an Item is in stock\n",
    "item = \"Oranges\"\n",
    "if item in inventory:\n",
    "    print(f\"{item} is in stock\")\n",
    "else:\n",
    "    print(f\"{item} is not in stock\")\n",
    "\n",
    "## Printing the inventory\n",
    "for item in inventory:\n",
    "    print(f\"- {item}\")"
   ]
  },
  {
   "cell_type": "code",
   "execution_count": null,
   "metadata": {},
   "outputs": [],
   "source": []
  }
 ],
 "metadata": {
  "kernelspec": {
   "display_name": "Python 3 (ipykernel)",
   "language": "python",
   "name": "python3"
  },
  "language_info": {
   "codemirror_mode": {
    "name": "ipython",
    "version": 3
   },
   "file_extension": ".py",
   "mimetype": "text/x-python",
   "name": "python",
   "nbconvert_exporter": "python",
   "pygments_lexer": "ipython3",
   "version": "3.11.11"
  }
 },
 "nbformat": 4,
 "nbformat_minor": 4
}
