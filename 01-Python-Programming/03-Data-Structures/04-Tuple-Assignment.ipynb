{
 "cells": [
  {
   "cell_type": "markdown",
   "id": "fcc75935",
   "metadata": {},
   "source": [
    "### Assignment 1: Creating and Accessing Tuples\n",
    "\n",
    "Create a tuple with the first 10 positive integers. Print the tuple."
   ]
  },
  {
   "cell_type": "code",
   "execution_count": 1,
   "id": "d180979f",
   "metadata": {},
   "outputs": [
    {
     "data": {
      "text/plain": [
       "(1, 2, 3, 4, 5, 6, 7, 8, 9, 10)"
      ]
     },
     "execution_count": 1,
     "metadata": {},
     "output_type": "execute_result"
    }
   ],
   "source": [
    "my_tuple = tuple(range(1,11))\n",
    "my_tuple"
   ]
  },
  {
   "cell_type": "markdown",
   "id": "73836b11",
   "metadata": {},
   "source": [
    "### Assignment 2: Accessing Tuple Elements\n",
    "\n",
    "Print the first, middle, and last elements of the tuple created in Assignment 1."
   ]
  },
  {
   "cell_type": "code",
   "execution_count": 2,
   "id": "0d77cf20",
   "metadata": {},
   "outputs": [
    {
     "name": "stdout",
     "output_type": "stream",
     "text": [
      "First Element: 1\n",
      "Middle Element: 6\n",
      "Last Element: 10\n"
     ]
    }
   ],
   "source": [
    "print(f\"First Element: {my_tuple[0]}\")\n",
    "print(f\"Middle Element: {my_tuple[len(my_tuple) // 2]}\")\n",
    "print(f\"Last Element: {my_tuple[-1]}\")"
   ]
  },
  {
   "cell_type": "markdown",
   "id": "4daf889f",
   "metadata": {},
   "source": [
    "### Assignment 3: Tuple Slicing\n",
    "\n",
    "Print the first three elements, the last three elements, and the elements from index 2 to 5 of the tuple created in Assignment 1."
   ]
  },
  {
   "cell_type": "code",
   "execution_count": 3,
   "id": "0c750c3b",
   "metadata": {},
   "outputs": [
    {
     "name": "stdout",
     "output_type": "stream",
     "text": [
      "First Three Elements: (1, 2, 3)\n",
      "Last Three Element: (8, 9, 10)\n",
      "Index 2 to 5: (3, 4, 5, 6)\n"
     ]
    }
   ],
   "source": [
    "print(f\"First Three Elements: {my_tuple[0:3]}\")\n",
    "print(f\"Last Three Element: {my_tuple[-3:]}\")\n",
    "print(f\"Index 2 to 5: {my_tuple[2:6]}\")"
   ]
  },
  {
   "cell_type": "markdown",
   "id": "de017baf",
   "metadata": {},
   "source": [
    "### Assignment 4: Nested Tuples\n",
    "\n",
    "Create a nested tuple representing a 3x3 matrix and print the matrix. Access and print the element at the second row and third column."
   ]
  },
  {
   "cell_type": "code",
   "execution_count": 4,
   "id": "e2b7529b",
   "metadata": {},
   "outputs": [
    {
     "name": "stdout",
     "output_type": "stream",
     "text": [
      "(1, 2, 3)\n",
      "(4, 5, 6)\n",
      "(7, 8, 9)\n"
     ]
    },
    {
     "data": {
      "text/plain": [
       "6"
      ]
     },
     "execution_count": 4,
     "metadata": {},
     "output_type": "execute_result"
    }
   ],
   "source": [
    "nested_tuple = ((1, 2, 3), (4, 5, 6), (7, 8, 9))\n",
    "for item in nested_tuple:\n",
    "    print(item)\n",
    "\n",
    "nested_tuple[1][2]"
   ]
  },
  {
   "cell_type": "markdown",
   "id": "c5006ad1",
   "metadata": {},
   "source": [
    "### Assignment 5: Tuple Concatenation\n",
    "\n",
    "Concatenate two tuples: (1, 2, 3) and (4, 5, 6). Print the resulting tuple."
   ]
  },
  {
   "cell_type": "code",
   "execution_count": 5,
   "id": "baa58524",
   "metadata": {},
   "outputs": [
    {
     "data": {
      "text/plain": [
       "(1, 2, 3, 4, 5, 6)"
      ]
     },
     "execution_count": 5,
     "metadata": {},
     "output_type": "execute_result"
    }
   ],
   "source": [
    "tuple1 = (1, 2, 3)\n",
    "tuple2 = (4, 5, 6)\n",
    "\n",
    "concatenated_tuple = tuple1 + tuple2\n",
    "concatenated_tuple"
   ]
  },
  {
   "cell_type": "markdown",
   "id": "51bdaa09",
   "metadata": {},
   "source": [
    "### Assignment 6: Tuple Methods\n",
    "\n",
    "Create a tuple with duplicate elements and count the occurrences of an element. Find the index of the first occurrence of an element in the tuple."
   ]
  },
  {
   "cell_type": "code",
   "execution_count": 6,
   "id": "6d678f41",
   "metadata": {},
   "outputs": [
    {
     "name": "stdout",
     "output_type": "stream",
     "text": [
      "Count of Occurance of an Element:  3\n",
      "Index of First Occurance of an Element:  3\n"
     ]
    }
   ],
   "source": [
    "my_tuple = (1, 1, 1, 2, 2, 3, 4, 5, 5, 6, 6, 6)\n",
    "print(\"Count of Occurance of an Element: \", my_tuple.count(1))\n",
    "print(\"Index of First Occurance of an Element: \", my_tuple.index(2))"
   ]
  },
  {
   "cell_type": "markdown",
   "id": "16f9cfbd",
   "metadata": {},
   "source": [
    "### Assignment 7: Unpacking Tuples\n",
    "\n",
    "Create a tuple with 5 elements and unpack it into 5 variables. Print the variables."
   ]
  },
  {
   "cell_type": "code",
   "execution_count": 7,
   "id": "9d2b27cb",
   "metadata": {},
   "outputs": [
    {
     "name": "stdout",
     "output_type": "stream",
     "text": [
      "1\n",
      "2\n",
      "3\n",
      "4\n",
      "5\n"
     ]
    }
   ],
   "source": [
    "my_tuple = (1, 2, 3, 4, 5)\n",
    "a, b, c, d, e = my_tuple\n",
    "\n",
    "print(a)\n",
    "print(b)\n",
    "print(c)\n",
    "print(d)\n",
    "print(e)"
   ]
  },
  {
   "cell_type": "markdown",
   "id": "69208c3c",
   "metadata": {},
   "source": [
    "### Assignment 8: Tuple Conversion\n",
    "\n",
    "Convert a list of the first 5 positive integers to a tuple. Print the tuple."
   ]
  },
  {
   "cell_type": "code",
   "execution_count": 8,
   "id": "7d4dd23d",
   "metadata": {},
   "outputs": [
    {
     "data": {
      "text/plain": [
       "(1, 2, 3, 4, 5)"
      ]
     },
     "execution_count": 8,
     "metadata": {},
     "output_type": "execute_result"
    }
   ],
   "source": [
    "my_list = list(range(1,6))\n",
    "my_tuple = tuple(my_list)\n",
    "my_tuple"
   ]
  },
  {
   "cell_type": "markdown",
   "id": "04813a1e",
   "metadata": {},
   "source": [
    "### Assignment 9: Tuple of Tuples\n",
    "\n",
    "Create a tuple containing 3 tuples, each with 3 elements. Print the tuple of tuples."
   ]
  },
  {
   "cell_type": "code",
   "execution_count": 9,
   "id": "4661160e",
   "metadata": {},
   "outputs": [
    {
     "data": {
      "text/plain": [
       "((1, 2, 3), (4, 5, 6), (7, 8, 9))"
      ]
     },
     "execution_count": 9,
     "metadata": {},
     "output_type": "execute_result"
    }
   ],
   "source": [
    "my_tuple = (\n",
    "    (1, 2, 3),\n",
    "    (4, 5, 6),\n",
    "    (7, 8, 9)\n",
    ")\n",
    "\n",
    "my_tuple"
   ]
  },
  {
   "cell_type": "markdown",
   "id": "053e6d96",
   "metadata": {},
   "source": [
    "### Assignment 10: Tuple and List\n",
    "\n",
    "Create a tuple with the first 5 positive integers. Convert it to a list, append the number 6, and convert it back to a tuple. Print the resulting tuple."
   ]
  },
  {
   "cell_type": "code",
   "execution_count": 10,
   "id": "b1ccee80",
   "metadata": {},
   "outputs": [
    {
     "data": {
      "text/plain": [
       "(1, 2, 3, 4, 5, 6)"
      ]
     },
     "execution_count": 10,
     "metadata": {},
     "output_type": "execute_result"
    }
   ],
   "source": [
    "my_tuple = tuple(range(1, 6))\n",
    "tuple_to_list = list(my_tuple)\n",
    "tuple_to_list.append(6)\n",
    "list_back_to_tuple = tuple(tuple_to_list)\n",
    "list_back_to_tuple"
   ]
  },
  {
   "cell_type": "markdown",
   "id": "4cf1bb55",
   "metadata": {},
   "source": [
    "### Assignment 11: Tuple and String\n",
    "\n",
    "Create a tuple with the characters of a string. Join the tuple elements into a single string. Print the string."
   ]
  },
  {
   "cell_type": "code",
   "execution_count": 11,
   "id": "f806545f",
   "metadata": {},
   "outputs": [
    {
     "data": {
      "text/plain": [
       "'hello'"
      ]
     },
     "execution_count": 11,
     "metadata": {},
     "output_type": "execute_result"
    }
   ],
   "source": [
    "string = \"hello\"\n",
    "my_tuple = tuple(string)\n",
    "joined_string = ''.join(my_tuple)\n",
    "joined_string"
   ]
  },
  {
   "cell_type": "markdown",
   "id": "06460f4a",
   "metadata": {},
   "source": [
    "### Assignment 12: Tuple and Dictionary\n",
    "\n",
    "Create a dictionary with tuple keys and integer values. Print the dictionary.\n"
   ]
  },
  {
   "cell_type": "code",
   "execution_count": 12,
   "id": "aa1d9b5f",
   "metadata": {},
   "outputs": [
    {
     "name": "stdout",
     "output_type": "stream",
     "text": [
      "{('a', 'aa'): 1, ('b', 'bb'): 2, ('c', 'cc'): 3}\n"
     ]
    }
   ],
   "source": [
    "my_tuple_dictionary = {\n",
    "    (\"a\", \"aa\"): 1,\n",
    "    (\"b\", \"bb\"): 2,\n",
    "    (\"c\", \"cc\"): 3\n",
    "}\n",
    "print(my_tuple_dictionary)"
   ]
  },
  {
   "cell_type": "markdown",
   "id": "c11ee545",
   "metadata": {},
   "source": [
    "### Assignment 13: Nested Tuple Iteration\n",
    "\n",
    "Create a nested tuple and iterate over the elements, printing each element."
   ]
  },
  {
   "cell_type": "code",
   "execution_count": 13,
   "id": "8b6dbf67",
   "metadata": {},
   "outputs": [
    {
     "name": "stdout",
     "output_type": "stream",
     "text": [
      "1\n",
      "2\n",
      "3\n",
      "4\n",
      "5\n",
      "6\n",
      "7\n",
      "8\n",
      "9\n"
     ]
    }
   ],
   "source": [
    "nested_tuple = (\n",
    "    (1, 2, 3),\n",
    "    (4, 5, 6),\n",
    "    (7, 8, 9)\n",
    ")\n",
    "\n",
    "for sub_tuple in nested_tuple:\n",
    "    for item in sub_tuple:\n",
    "        print(item)"
   ]
  },
  {
   "cell_type": "markdown",
   "id": "c5a6f2b8",
   "metadata": {},
   "source": [
    "### Assignment 14: Tuple and Set\n",
    "\n",
    "Create a tuple with duplicate elements. Convert it to a set to remove duplicates and print the resulting set."
   ]
  },
  {
   "cell_type": "code",
   "execution_count": 14,
   "id": "6402365f",
   "metadata": {},
   "outputs": [
    {
     "data": {
      "text/plain": [
       "{1, 2, 3, 4, 5, 6}"
      ]
     },
     "execution_count": 14,
     "metadata": {},
     "output_type": "execute_result"
    }
   ],
   "source": [
    "my_tuple = (1, 1, 1, 2, 2, 3, 4, 5, 5, 6, 6, 6)\n",
    "tuple_to_set = set(my_tuple)\n",
    "tuple_to_set"
   ]
  },
  {
   "cell_type": "markdown",
   "id": "ddd72340",
   "metadata": {},
   "source": [
    "### Assignment 15: Tuple Functions\n",
    "\n",
    "Write functions that take a tuple and return the minimum, maximum, and sum of the elements. Print the results for a sample tuple."
   ]
  },
  {
   "cell_type": "code",
   "execution_count": 15,
   "id": "2c57519d",
   "metadata": {},
   "outputs": [
    {
     "name": "stdout",
     "output_type": "stream",
     "text": [
      "Maximum:  15\n",
      "Minimum:  1\n",
      "Sum:  120\n"
     ]
    }
   ],
   "source": [
    "my_tuple = tuple(range(1, 16))\n",
    "\n",
    "def get_elements(my_tuple):\n",
    "    minimum = min(my_tuple)\n",
    "    maximum = max(my_tuple)\n",
    "    sum_of_tuple = sum(my_tuple)\n",
    "\n",
    "    return minimum, maximum, sum_of_tuple\n",
    "\n",
    "minimum, maximum, sum_of_tuple = get_elements(my_tuple)\n",
    "\n",
    "print(\"Maximum: \", maximum)\n",
    "print(\"Minimum: \", minimum)\n",
    "print(\"Sum: \", sum_of_tuple)\n"
   ]
  },
  {
   "cell_type": "code",
   "execution_count": null,
   "id": "6ab5859c",
   "metadata": {},
   "outputs": [],
   "source": []
  }
 ],
 "metadata": {
  "kernelspec": {
   "display_name": "Python 3 (ipykernel)",
   "language": "python",
   "name": "python3"
  },
  "language_info": {
   "codemirror_mode": {
    "name": "ipython",
    "version": 3
   },
   "file_extension": ".py",
   "mimetype": "text/x-python",
   "name": "python",
   "nbconvert_exporter": "python",
   "pygments_lexer": "ipython3",
   "version": "3.11.11"
  }
 },
 "nbformat": 4,
 "nbformat_minor": 5
}
