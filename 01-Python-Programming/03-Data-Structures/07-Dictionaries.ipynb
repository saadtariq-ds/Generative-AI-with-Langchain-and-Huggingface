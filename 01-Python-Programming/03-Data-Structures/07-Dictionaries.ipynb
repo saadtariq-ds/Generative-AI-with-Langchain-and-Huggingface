{
 "cells": [
  {
   "cell_type": "markdown",
   "metadata": {},
   "source": [
    "# Dictionaries\n",
    "Dictionaries are unordered collection of items. They store data in key-value pairs. Keys must be unique and immutable (e.g., strings, numbers or tuples), while values can be of any type\n",
    "\n",
    "\n",
    "Outline\n",
    "1. Introduction to Dictionaries\n",
    "2. Creating Dictionaries\n",
    "3. Accessing Dictionary Elements\n",
    "4. Modifying Dictionary Elements\n",
    "5. Dictionary Methods\n",
    "6. Iterating Over Dictionaries\n",
    "7. Nested Dictionaries\n",
    "8. Dictionary Comprehensions\n",
    "9. Practical Examples"
   ]
  },
  {
   "cell_type": "markdown",
   "metadata": {},
   "source": [
    "## Creating Dictionaries"
   ]
  },
  {
   "cell_type": "code",
   "execution_count": 1,
   "metadata": {},
   "outputs": [
    {
     "name": "stdout",
     "output_type": "stream",
     "text": [
      "{}\n",
      "<class 'dict'>\n"
     ]
    }
   ],
   "source": [
    "my_dict = dict()\n",
    "print(my_dict)\n",
    "print(type(my_dict))"
   ]
  },
  {
   "cell_type": "code",
   "execution_count": 2,
   "metadata": {},
   "outputs": [
    {
     "name": "stdout",
     "output_type": "stream",
     "text": [
      "{}\n",
      "<class 'dict'>\n"
     ]
    }
   ],
   "source": [
    "my_dict = {}\n",
    "print(my_dict)\n",
    "print(type(my_dict))"
   ]
  },
  {
   "cell_type": "code",
   "execution_count": 3,
   "metadata": {},
   "outputs": [
    {
     "name": "stdout",
     "output_type": "stream",
     "text": [
      "{'name': 'Saad', 'age': 27, 'grade': 'A'}\n",
      "<class 'dict'>\n"
     ]
    }
   ],
   "source": [
    "student = {\n",
    "    \"name\":  \"Saad\", \"age\": 27, \"grade\": \"A\"\n",
    "}\n",
    "\n",
    "print(student)\n",
    "print(type(student))"
   ]
  },
  {
   "cell_type": "markdown",
   "metadata": {},
   "source": [
    "## Accessing Dictionary Elements"
   ]
  },
  {
   "cell_type": "code",
   "execution_count": 4,
   "metadata": {},
   "outputs": [
    {
     "data": {
      "text/plain": [
       "{'name': 'Saad', 'age': 27, 'grade': 'A'}"
      ]
     },
     "execution_count": 4,
     "metadata": {},
     "output_type": "execute_result"
    }
   ],
   "source": [
    "student"
   ]
  },
  {
   "cell_type": "code",
   "execution_count": 5,
   "metadata": {},
   "outputs": [
    {
     "name": "stdout",
     "output_type": "stream",
     "text": [
      "27\n",
      "Saad\n"
     ]
    }
   ],
   "source": [
    "print(student['age'])\n",
    "print(student['name'])"
   ]
  },
  {
   "cell_type": "code",
   "execution_count": 6,
   "metadata": {},
   "outputs": [
    {
     "name": "stdout",
     "output_type": "stream",
     "text": [
      "A\n",
      "Saad\n"
     ]
    }
   ],
   "source": [
    "print(student.get('grade'))\n",
    "print(student.get('name'))"
   ]
  },
  {
   "cell_type": "code",
   "execution_count": 7,
   "metadata": {},
   "outputs": [
    {
     "data": {
      "text/plain": [
       "'Not Available'"
      ]
     },
     "execution_count": 7,
     "metadata": {},
     "output_type": "execute_result"
    }
   ],
   "source": [
    "## If Key is not present\n",
    "student.get(\"last_name\", \"Not Available\")"
   ]
  },
  {
   "cell_type": "markdown",
   "metadata": {},
   "source": [
    "## Modifying Dictionary Elements"
   ]
  },
  {
   "cell_type": "code",
   "execution_count": 8,
   "metadata": {},
   "outputs": [
    {
     "data": {
      "text/plain": [
       "{'name': 'Saad', 'age': 27, 'grade': 'A'}"
      ]
     },
     "execution_count": 8,
     "metadata": {},
     "output_type": "execute_result"
    }
   ],
   "source": [
    "student"
   ]
  },
  {
   "cell_type": "code",
   "execution_count": 9,
   "metadata": {},
   "outputs": [
    {
     "data": {
      "text/plain": [
       "{'name': 'Saad', 'age': 27, 'grade': 'A', 'address': 'Pakistan'}"
      ]
     },
     "execution_count": 9,
     "metadata": {},
     "output_type": "execute_result"
    }
   ],
   "source": [
    "## Adding New Key\n",
    "student[\"address\"] = \"Pakistan\"\n",
    "student"
   ]
  },
  {
   "cell_type": "code",
   "execution_count": 10,
   "metadata": {},
   "outputs": [
    {
     "data": {
      "text/plain": [
       "{'name': 'Saad', 'age': 28, 'grade': 'A', 'address': 'Pakistan'}"
      ]
     },
     "execution_count": 10,
     "metadata": {},
     "output_type": "execute_result"
    }
   ],
   "source": [
    "## Changing the Value of a Key\n",
    "student['age'] = 28\n",
    "student"
   ]
  },
  {
   "cell_type": "code",
   "execution_count": 11,
   "metadata": {},
   "outputs": [
    {
     "data": {
      "text/plain": [
       "{'name': 'Saad', 'age': 28, 'address': 'Pakistan'}"
      ]
     },
     "execution_count": 11,
     "metadata": {},
     "output_type": "execute_result"
    }
   ],
   "source": [
    "## Deleting the Key\n",
    "del student['grade']\n",
    "student"
   ]
  },
  {
   "cell_type": "markdown",
   "metadata": {},
   "source": [
    "## Dictionary Methods\n"
   ]
  },
  {
   "cell_type": "code",
   "execution_count": 12,
   "metadata": {},
   "outputs": [
    {
     "data": {
      "text/plain": [
       "dict_keys(['name', 'age', 'address'])"
      ]
     },
     "execution_count": 12,
     "metadata": {},
     "output_type": "execute_result"
    }
   ],
   "source": [
    "## Getting all the Keys\n",
    "student.keys()"
   ]
  },
  {
   "cell_type": "code",
   "execution_count": 13,
   "metadata": {},
   "outputs": [
    {
     "data": {
      "text/plain": [
       "dict_values(['Saad', 28, 'Pakistan'])"
      ]
     },
     "execution_count": 13,
     "metadata": {},
     "output_type": "execute_result"
    }
   ],
   "source": [
    "## Getting all the Values\n",
    "student.values()"
   ]
  },
  {
   "cell_type": "code",
   "execution_count": 14,
   "metadata": {},
   "outputs": [
    {
     "data": {
      "text/plain": [
       "dict_items([('name', 'Saad'), ('age', 28), ('address', 'Pakistan')])"
      ]
     },
     "execution_count": 14,
     "metadata": {},
     "output_type": "execute_result"
    }
   ],
   "source": [
    "## Getting all Key Value Pairs\n",
    "student.items()"
   ]
  },
  {
   "cell_type": "code",
   "execution_count": 15,
   "metadata": {},
   "outputs": [
    {
     "name": "stdout",
     "output_type": "stream",
     "text": [
      "{'name': 'Saad', 'age': 28, 'address': 'Pakistan'}\n",
      "{'name': 'Saad', 'age': 28, 'address': 'Pakistan'}\n",
      "\n",
      "\n",
      "{'name': 'Saad', 'age': 26, 'address': 'Pakistan'}\n",
      "{'name': 'Saad', 'age': 26, 'address': 'Pakistan'}\n",
      "\n",
      "\n",
      "{'name': 'Saad', 'age': 28, 'address': 'Pakistan'}\n",
      "{'name': 'Saad', 'age': 26, 'address': 'Pakistan'}\n"
     ]
    }
   ],
   "source": [
    "## Shallow Copy\n",
    "student_copy = student\n",
    "print(student)\n",
    "print(student_copy)\n",
    "\n",
    "print(\"\\n\")\n",
    "\n",
    "student['age'] = 26\n",
    "print(student)\n",
    "print(student_copy)\n",
    "\n",
    "print(\"\\n\")\n",
    "\n",
    "another_student_copy = student.copy()\n",
    "student['age'] = 28\n",
    "print(student)\n",
    "print(another_student_copy)\n"
   ]
  },
  {
   "cell_type": "markdown",
   "metadata": {},
   "source": [
    "## Iterating Over Dictionaries"
   ]
  },
  {
   "cell_type": "code",
   "execution_count": 16,
   "metadata": {},
   "outputs": [
    {
     "data": {
      "text/plain": [
       "{'name': 'Saad', 'age': 28, 'address': 'Pakistan'}"
      ]
     },
     "execution_count": 16,
     "metadata": {},
     "output_type": "execute_result"
    }
   ],
   "source": [
    "student"
   ]
  },
  {
   "cell_type": "code",
   "execution_count": 17,
   "metadata": {},
   "outputs": [
    {
     "name": "stdout",
     "output_type": "stream",
     "text": [
      "name\n",
      "age\n",
      "address\n"
     ]
    }
   ],
   "source": [
    "## Iterating over Keys\n",
    "for key in student.keys():\n",
    "    print(key)"
   ]
  },
  {
   "cell_type": "code",
   "execution_count": 18,
   "metadata": {},
   "outputs": [
    {
     "name": "stdout",
     "output_type": "stream",
     "text": [
      "Saad\n",
      "28\n",
      "Pakistan\n"
     ]
    }
   ],
   "source": [
    "## Iterating over Values\n",
    "for value in student.values():\n",
    "    print(value)"
   ]
  },
  {
   "cell_type": "code",
   "execution_count": 19,
   "metadata": {},
   "outputs": [
    {
     "name": "stdout",
     "output_type": "stream",
     "text": [
      "name: Saad\n",
      "age: 28\n",
      "address: Pakistan\n"
     ]
    }
   ],
   "source": [
    "## Iterate over Key-Value Pairs\n",
    "for key, value in student.items():\n",
    "    print(f\"{key}: {value}\")"
   ]
  },
  {
   "cell_type": "markdown",
   "metadata": {},
   "source": [
    "## Nested Dictionaries"
   ]
  },
  {
   "cell_type": "code",
   "execution_count": 20,
   "metadata": {},
   "outputs": [
    {
     "data": {
      "text/plain": [
       "{'character1': {'Name': 'Ironman', 'Weapon': 'Suit'},\n",
       " 'character2': {'Name': 'Captain America', 'Weapon': 'Shield'},\n",
       " 'character3': {'Name': 'Thor', 'Weapon': 'Storm Breaker'}}"
      ]
     },
     "execution_count": 20,
     "metadata": {},
     "output_type": "execute_result"
    }
   ],
   "source": [
    "marvel = {\n",
    "    \"character1\": {\"Name\": \"Ironman\", \"Weapon\": \"Suit\"},\n",
    "    \"character2\": {\"Name\": \"Captain America\", \"Weapon\": \"Shield\"},\n",
    "    \"character3\": {\"Name\": \"Thor\", \"Weapon\": \"Storm Breaker\"},\n",
    "}\n",
    "\n",
    "marvel"
   ]
  },
  {
   "cell_type": "code",
   "execution_count": 21,
   "metadata": {},
   "outputs": [
    {
     "data": {
      "text/plain": [
       "'Ironman'"
      ]
     },
     "execution_count": 21,
     "metadata": {},
     "output_type": "execute_result"
    }
   ],
   "source": [
    "## Accessing Nested Dictionary Element\n",
    "marvel['character1']['Name']"
   ]
  },
  {
   "cell_type": "code",
   "execution_count": 22,
   "metadata": {},
   "outputs": [
    {
     "name": "stdout",
     "output_type": "stream",
     "text": [
      "character1 {'Name': 'Ironman', 'Weapon': 'Suit'}\n",
      "Name Ironman\n",
      "Weapon Suit\n",
      "\n",
      "\n",
      "character2 {'Name': 'Captain America', 'Weapon': 'Shield'}\n",
      "Name Captain America\n",
      "Weapon Shield\n",
      "\n",
      "\n",
      "character3 {'Name': 'Thor', 'Weapon': 'Storm Breaker'}\n",
      "Name Thor\n",
      "Weapon Storm Breaker\n",
      "\n",
      "\n"
     ]
    }
   ],
   "source": [
    "## Iterating over Nested Dictionary\n",
    "for id, info in marvel.items():\n",
    "    print(id, info)\n",
    "    for key, value in info.items():\n",
    "        print(key, value)\n",
    "    print(\"\\n\")"
   ]
  },
  {
   "cell_type": "markdown",
   "metadata": {},
   "source": [
    "## Dictionary Comprehension"
   ]
  },
  {
   "cell_type": "code",
   "execution_count": 23,
   "metadata": {},
   "outputs": [
    {
     "data": {
      "text/plain": [
       "{0: 0, 1: 1, 2: 4, 3: 9, 4: 16}"
      ]
     },
     "execution_count": 23,
     "metadata": {},
     "output_type": "execute_result"
    }
   ],
   "source": [
    "square_dictionary = {x:x**2 for x in range(5)}\n",
    "square_dictionary"
   ]
  },
  {
   "cell_type": "code",
   "execution_count": 24,
   "metadata": {},
   "outputs": [
    {
     "data": {
      "text/plain": [
       "{0: 0, 2: 4, 4: 16, 6: 36, 8: 64}"
      ]
     },
     "execution_count": 24,
     "metadata": {},
     "output_type": "execute_result"
    }
   ],
   "source": [
    "## Conditional Dictionary Comprehension\n",
    "even_dictionary = {x:x**2 for x in range(10) if x%2 == 0}\n",
    "even_dictionary"
   ]
  },
  {
   "cell_type": "markdown",
   "metadata": {},
   "source": [
    "## Practical Examples"
   ]
  },
  {
   "cell_type": "code",
   "execution_count": 25,
   "metadata": {},
   "outputs": [
    {
     "data": {
      "text/plain": [
       "{1: 1, 2: 2, 3: 3, 4: 4}"
      ]
     },
     "execution_count": 25,
     "metadata": {},
     "output_type": "execute_result"
    }
   ],
   "source": [
    "## Use a dictionary to count the frequency of elements in list\n",
    "numbers = [1, 2, 2, 3, 3, 3, 4, 4, 4, 4]\n",
    "frequency = {}\n",
    "\n",
    "for number in numbers:\n",
    "    if number in frequency:\n",
    "        frequency[number] += 1\n",
    "    else:\n",
    "        frequency[number] = 1\n",
    "\n",
    "frequency"
   ]
  },
  {
   "cell_type": "code",
   "execution_count": 26,
   "metadata": {},
   "outputs": [
    {
     "data": {
      "text/plain": [
       "{'a': 1, 'b': 2, 'c': 3, 'd': 4}"
      ]
     },
     "execution_count": 26,
     "metadata": {},
     "output_type": "execute_result"
    }
   ],
   "source": [
    "## Merge two dictionaries to one\n",
    "dict1 = {'a': 1, 'b': 2}\n",
    "dict2 = {'c': 3, 'd': 4}\n",
    "\n",
    "merged_dict = {**dict1, **dict2}\n",
    "merged_dict"
   ]
  },
  {
   "cell_type": "code",
   "execution_count": null,
   "metadata": {},
   "outputs": [],
   "source": []
  }
 ],
 "metadata": {
  "kernelspec": {
   "display_name": "Python 3 (ipykernel)",
   "language": "python",
   "name": "python3"
  },
  "language_info": {
   "codemirror_mode": {
    "name": "ipython",
    "version": 3
   },
   "file_extension": ".py",
   "mimetype": "text/x-python",
   "name": "python",
   "nbconvert_exporter": "python",
   "pygments_lexer": "ipython3",
   "version": "3.11.11"
  }
 },
 "nbformat": 4,
 "nbformat_minor": 4
}
