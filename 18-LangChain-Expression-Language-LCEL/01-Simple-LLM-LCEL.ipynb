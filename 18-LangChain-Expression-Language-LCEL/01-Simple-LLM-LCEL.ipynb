{
 "cells": [
  {
   "cell_type": "markdown",
   "id": "bc8f2559-ad2c-48ec-b853-3bdbbbb18636",
   "metadata": {},
   "source": [
    "LangChain Expression Language, or LCEL, is a declarative way to easily compose chains together. LCEL was designed from day 1 to support putting prototypes in production, with no code changes, from the simplest “prompt + LLM” chain to the most complex chains"
   ]
  },
  {
   "cell_type": "markdown",
   "id": "666e1ec9-cab9-4c6b-bad0-6a371877dc79",
   "metadata": {},
   "source": [
    "## Setup and Import Libraries"
   ]
  },
  {
   "cell_type": "code",
   "execution_count": 15,
   "id": "001f247b-cbd1-48a7-be0d-0a7c6d5fbe03",
   "metadata": {},
   "outputs": [],
   "source": [
    "import os\n",
    "from dotenv import load_dotenv\n",
    "from langchain_groq import ChatGroq\n",
    "from langchain_core.messages import HumanMessage, SystemMessage\n",
    "from langchain_core.output_parsers import StrOutputParser\n",
    "from langchain_core.prompts import ChatPromptTemplate"
   ]
  },
  {
   "cell_type": "code",
   "execution_count": 2,
   "id": "f848b73c-05eb-455c-88af-9d26b190482b",
   "metadata": {},
   "outputs": [
    {
     "data": {
      "text/plain": [
       "True"
      ]
     },
     "execution_count": 2,
     "metadata": {},
     "output_type": "execute_result"
    }
   ],
   "source": [
    "load_dotenv()"
   ]
  },
  {
   "cell_type": "code",
   "execution_count": 4,
   "id": "cfc651e4-4177-4139-9142-96fba0cd3ea3",
   "metadata": {},
   "outputs": [],
   "source": [
    "os.environ[\"LANGSMITH_API_KEY\"] = os.getenv(\"LANGSMITH_API_KEY\")\n",
    "os.environ[\"LANGSMITH_TRACING\"] = os.getenv(\"LANGSMITH_TRACING\")\n",
    "os.environ[\"LANGCHAIN_PROJECT\"] = os.getenv(\"LANGCHAIN_PROJECT\")\n",
    "os.environ[\"GROQ_API_KEY\"] = os.getenv(\"GROQ_API_KEY\")"
   ]
  },
  {
   "cell_type": "code",
   "execution_count": 5,
   "id": "2dbe0eff-e05e-4e7d-946d-ee86de86e510",
   "metadata": {},
   "outputs": [
    {
     "data": {
      "text/plain": [
       "ChatGroq(client=<groq.resources.chat.completions.Completions object at 0x0000023E91C6A4D0>, async_client=<groq.resources.chat.completions.AsyncCompletions object at 0x0000023E91E24690>, model_name='Gemma2-9b-It', model_kwargs={}, groq_api_key=SecretStr('**********'))"
      ]
     },
     "execution_count": 5,
     "metadata": {},
     "output_type": "execute_result"
    }
   ],
   "source": [
    "llm = ChatGroq(model=\"Gemma2-9b-It\")"
   ]
  },
  {
   "cell_type": "markdown",
   "id": "95f2fa48-2017-45b4-bb08-fc2996d7d992",
   "metadata": {},
   "source": [
    "## Messages"
   ]
  },
  {
   "cell_type": "code",
   "execution_count": 7,
   "id": "cb9d5c1b-cedd-4d38-8e8c-d9fb41fbd342",
   "metadata": {},
   "outputs": [],
   "source": [
    "messages = [\n",
    "    SystemMessage(content=\"Translate the following from English to French\"),\n",
    "    HumanMessage(content=\"Hello How are you?\")\n",
    "]"
   ]
  },
  {
   "cell_type": "code",
   "execution_count": 9,
   "id": "33276060-c43a-4b77-9194-5cdf8f576f33",
   "metadata": {},
   "outputs": [
    {
     "data": {
      "text/plain": [
       "AIMessage(content='Here are a few ways to say \"Hello, how are you?\" in French:\\n\\n**Formal:**\\n\\n* **Bonjour, comment allez-vous ?** (This is the most formal way to greet someone)\\n\\n**Informal:**\\n\\n* **Salut, ça va ?** (This is a common and friendly greeting)\\n* **Coucou, comment vas-tu ?** (This is a more casual and familiar greeting)\\n\\n\\nLet me know if you\\'d like to explore other ways to greet someone in French!\\n', additional_kwargs={}, response_metadata={'token_usage': {'completion_tokens': 108, 'prompt_tokens': 21, 'total_tokens': 129, 'completion_time': 0.196363636, 'prompt_time': 0.00211833, 'queue_time': 0.016983359000000003, 'total_time': 0.198481966}, 'model_name': 'Gemma2-9b-It', 'system_fingerprint': 'fp_10c08bf97d', 'finish_reason': 'stop', 'logprobs': None}, id='run-8b644680-e1c4-4618-8a97-7b1e79bac16d-0', usage_metadata={'input_tokens': 21, 'output_tokens': 108, 'total_tokens': 129})"
      ]
     },
     "execution_count": 9,
     "metadata": {},
     "output_type": "execute_result"
    }
   ],
   "source": [
    "result = llm.invoke(messages)\n",
    "result"
   ]
  },
  {
   "cell_type": "markdown",
   "id": "6fbbd560-205e-4637-bf0a-fcadcf0042ea",
   "metadata": {},
   "source": [
    "## Output Parsers"
   ]
  },
  {
   "cell_type": "code",
   "execution_count": 11,
   "id": "360d8316-1553-4f15-9a42-d7229a67efca",
   "metadata": {},
   "outputs": [],
   "source": [
    "parser = StrOutputParser()"
   ]
  },
  {
   "cell_type": "code",
   "execution_count": 12,
   "id": "67e83771-0c8c-442b-960e-884461bcc093",
   "metadata": {},
   "outputs": [
    {
     "data": {
      "text/plain": [
       "'Here are a few ways to say \"Hello, how are you?\" in French:\\n\\n**Formal:**\\n\\n* **Bonjour, comment allez-vous ?** (This is the most formal way to greet someone)\\n\\n**Informal:**\\n\\n* **Salut, ça va ?** (This is a common and friendly greeting)\\n* **Coucou, comment vas-tu ?** (This is a more casual and familiar greeting)\\n\\n\\nLet me know if you\\'d like to explore other ways to greet someone in French!\\n'"
      ]
     },
     "execution_count": 12,
     "metadata": {},
     "output_type": "execute_result"
    }
   ],
   "source": [
    "parser.invoke(result)"
   ]
  },
  {
   "cell_type": "markdown",
   "id": "8c40a02c-9cd5-41ce-af38-60866372abb5",
   "metadata": {},
   "source": [
    "## LangChain Expression Language (LCEL)"
   ]
  },
  {
   "cell_type": "code",
   "execution_count": 14,
   "id": "baa4f6f3-0ac9-4f77-9517-5b62ba039d22",
   "metadata": {},
   "outputs": [
    {
     "data": {
      "text/plain": [
       "'Here are a couple of ways to say \"Hello, how are you?\" in French:\\n\\n**Formal:**\\n\\n* **Bonjour, comment allez-vous ?** (This is the most formal way to say it.)\\n\\n**Informal:**\\n\\n* **Salut, comment vas-tu ?** (This is more casual and used with friends or family.) \\n\\n\\n\\nLet me know if you\\'d like other variations!\\n'"
      ]
     },
     "execution_count": 14,
     "metadata": {},
     "output_type": "execute_result"
    }
   ],
   "source": [
    "chain = llm | parser\n",
    "chain.invoke(messages)"
   ]
  },
  {
   "cell_type": "markdown",
   "id": "5743aabb-eac8-48a6-b1d0-894f5458326a",
   "metadata": {},
   "source": [
    "## Prompt Templates"
   ]
  },
  {
   "cell_type": "code",
   "execution_count": 16,
   "id": "8b234762-7a82-4e4d-a1f1-b64bc8017bba",
   "metadata": {},
   "outputs": [],
   "source": [
    "generic_template = \"Translate the following into {language}\""
   ]
  },
  {
   "cell_type": "code",
   "execution_count": 17,
   "id": "f54e4089-6005-4ebe-b277-cb55f48e2af1",
   "metadata": {},
   "outputs": [],
   "source": [
    "prompt = ChatPromptTemplate.from_messages(\n",
    "    [\n",
    "        (\"system\", generic_template),\n",
    "        (\"user\",\"{text}\")\n",
    "    ]\n",
    ")"
   ]
  },
  {
   "cell_type": "code",
   "execution_count": 20,
   "id": "855ef5e0-b61d-4d06-8c68-789b16c833aa",
   "metadata": {},
   "outputs": [
    {
     "data": {
      "text/plain": [
       "ChatPromptValue(messages=[SystemMessage(content='Translate the following into French', additional_kwargs={}, response_metadata={}), HumanMessage(content='Hello', additional_kwargs={}, response_metadata={})])"
      ]
     },
     "execution_count": 20,
     "metadata": {},
     "output_type": "execute_result"
    }
   ],
   "source": [
    "result = prompt.invoke(\n",
    "    {\n",
    "        \"language\":\"French\",\n",
    "        \"text\":\"Hello\"\n",
    "    }\n",
    ")\n",
    "result"
   ]
  },
  {
   "cell_type": "code",
   "execution_count": 21,
   "id": "43a131bb-5171-4cf2-8e96-22d71543d583",
   "metadata": {},
   "outputs": [
    {
     "data": {
      "text/plain": [
       "[SystemMessage(content='Translate the following into French', additional_kwargs={}, response_metadata={}),\n",
       " HumanMessage(content='Hello', additional_kwargs={}, response_metadata={})]"
      ]
     },
     "execution_count": 21,
     "metadata": {},
     "output_type": "execute_result"
    }
   ],
   "source": [
    "result.to_messages()"
   ]
  },
  {
   "cell_type": "code",
   "execution_count": 22,
   "id": "ef6369c7-d584-419c-80b8-cd5eb2068a76",
   "metadata": {},
   "outputs": [
    {
     "data": {
      "text/plain": [
       "'Hello in French is **Bonjour**. \\n'"
      ]
     },
     "execution_count": 22,
     "metadata": {},
     "output_type": "execute_result"
    }
   ],
   "source": [
    "chain = prompt | llm | parser\n",
    "chain.invoke(\n",
    "    {\n",
    "        \"language\":\"French\",\n",
    "        \"text\":\"Hello\"\n",
    "    }\n",
    ")"
   ]
  },
  {
   "cell_type": "code",
   "execution_count": null,
   "id": "5cfaff25-bf55-42c9-852a-ff69ab8ca67a",
   "metadata": {},
   "outputs": [],
   "source": []
  }
 ],
 "metadata": {
  "kernelspec": {
   "display_name": "Python 3 (ipykernel)",
   "language": "python",
   "name": "python3"
  },
  "language_info": {
   "codemirror_mode": {
    "name": "ipython",
    "version": 3
   },
   "file_extension": ".py",
   "mimetype": "text/x-python",
   "name": "python",
   "nbconvert_exporter": "python",
   "pygments_lexer": "ipython3",
   "version": "3.11.11"
  }
 },
 "nbformat": 4,
 "nbformat_minor": 5
}
