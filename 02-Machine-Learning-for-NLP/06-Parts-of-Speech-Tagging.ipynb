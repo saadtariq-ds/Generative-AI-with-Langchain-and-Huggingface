{
 "cells": [
  {
   "cell_type": "markdown",
   "id": "c77abc06-29e4-4cbc-a386-e2fb8162601a",
   "metadata": {},
   "source": [
    "## Parts of Speech Tagging\n",
    "\n",
    "**1. Noun (NN, NNS, NNP, NNPS)**\n",
    "- NN (Noun, singular): A singular noun (e.g., \"dog\", \"apple\").\n",
    "- NNS (Noun, plural): A plural noun (e.g., \"dogs\", \"apples\").\n",
    "- NNP (Proper noun, singular): A singular proper noun (e.g., \"John\", \"London\").\n",
    "- NNPS (Proper noun, plural): A plural proper noun (e.g., \"Johns\", \"Londoners\").\n",
    "\n",
    "**2. Pronoun (PRP, PRP$, WP, WP$)**\n",
    "- PRP (Personal pronoun): A pronoun that refers to people or things (e.g., \"he\", \"they\").\n",
    "- WP (Wh-pronoun): A question word used as a pronoun (e.g., \"who\", \"what\").\n",
    "- WP-dollar (Possessive wh-pronoun): A possessive form of a wh-pronoun (e.g., \"whose\").\n",
    "- PRP-dollar (Possessive pronoun): A pronoun showing ownership (e.g., \"his\", \"her\").\n",
    "\n",
    "**3. Verb (VB, VBD, VBG, VBN, VBP, VBZ)**\n",
    "- VB (Verb, base form): The base form of the verb (e.g., \"run\", \"eat\").\n",
    "- VBD (Verb, past tense): A verb in the past tense (e.g., \"ran\", \"ate\").\n",
    "- VBG (Verb, gerund/present participle): A verb in the present participle form (e.g., \"running\", \"eating\").\n",
    "- VBN (Verb, past participle): A verb in the past participle form (e.g., \"run\", \"eaten\").\n",
    "- VBP (Verb, non-3rd person singular present): A verb in the present tense, not in the third-person singular form (e.g., \"run\", \"eat\").\n",
    "- VBZ (Verb, 3rd person singular present): A verb in the present tense in third-person singular form (e.g., \"runs\", \"eats\").\n",
    "\n",
    "**4. Adjective (JJ, JJR, JJS)**\n",
    "- JJ (Adjective, singular or plural): Describes or modifies a noun (e.g., \"big\", \"quick\").\n",
    "- JJR (Adjective, comparative): A comparative adjective (e.g., \"bigger\", \"quicker\").\n",
    "- JJS (Adjective, superlative): A superlative adjective (e.g., \"biggest\", \"quickest\").\n",
    "\n",
    "**5. Adverb (RB, RBR, RBS)**\n",
    "- RB (Adverb): Modifies a verb, adjective, or another adverb (e.g., \"quickly\", \"always\").\n",
    "- RBR (Adverb, comparative): A comparative adverb (e.g., \"more quickly\").\n",
    "- RBS (Adverb, superlative): A superlative adverb (e.g., \"most quickly\").\n",
    "\n",
    "**6. Preposition (IN)**\n",
    "- IN (Preposition): A word that links nouns, pronouns, and phrases to other words in the sentence (e.g., \"in\", \"on\", \"under\").\n",
    "\n",
    "**7. Conjunction (CC, IN)**\n",
    "- CC (Coordinating conjunction): Joins words, phrases, or clauses (e.g., \"and\", \"but\").\n",
    "- IN (Subordinating conjunction): Links a dependent clause to an independent clause (e.g., \"because\", \"although\").\n",
    "\n",
    "**8. Determiner (DT)**\n",
    "- DT (Determiner): Words that introduce nouns and specify the noun’s reference (e.g., \"the\", \"a\", \"this\", \"some\").\n",
    "\n",
    "**9. Interjection (UH)**\n",
    "- UH (Interjection): A word or phrase used to express strong emotions or reactions (e.g., \"wow\", \"oh\", \"ouch\").\n",
    "\n",
    "**10. Particle (RP)**\n",
    "- RP (Particle): A word that is used in conjunction with a verb to form a phrasal verb (e.g., \"up\" in \"pick up\", \"out\" in \"give out\").\n",
    "\n",
    "**11. To (TO)**\n",
    "- TO (To): Often used before verbs in infinitive form (e.g., \"to eat\", \"to run\").\n",
    "\n",
    "**12. Symbol (SYM)**\n",
    "- SYM (Symbol): Represents a symbol, often used in mathematics or formulas (e.g., \"$\", \"%\", \"@\" in an email address).\n",
    "\n",
    "**13. Other POS Tags**\n",
    "- LS (List item marker): Marks items in a list (e.g., \"1.\", \"a.\").\n",
    "- FW (Foreign word): A word that is in a foreign language (e.g., \"café\" in an English text).\n",
    "- MD (Modal): A modal verb that expresses necessity, possibility, or permission (e.g., \"can\", \"must\", \"will\").\n",
    "- EX (Existential there): A construction that introduces a sentence (e.g., \"There is a problem\").\n",
    "- DT (Determiner): Articles, demonstratives, and quantifiers (e.g., \"the\", \"a\", \"this\")."
   ]
  },
  {
   "cell_type": "code",
   "execution_count": 1,
   "id": "733c1c73-dee1-4dc2-bada-ff0156a174a1",
   "metadata": {},
   "outputs": [],
   "source": [
    "import nltk\n",
    "from nltk.corpus import stopwords"
   ]
  },
  {
   "cell_type": "code",
   "execution_count": 2,
   "id": "7822a97a-dbd1-443d-8669-f257e6797e1d",
   "metadata": {},
   "outputs": [],
   "source": [
    "paragraph = \"\"\"Nelson Mandela was born on July 18, 1918 in a town called Umtata in the Transkei area of South Africa. \n",
    "Mandela grew up as any other young, South African black boy in an environment of poverty and oppression. As a young man he witnessed \n",
    "the white South African government imposing more and more restrictions on an already down trodden, uneducated, black majority. \n",
    "During his years at the University College of Fort Hare and the University of South Africa, where he studied law, he became even \n",
    "more aware of the atrocities and injustices committed in the name of apartheid. In 1944, Mandela joined the National African Congress (ANC) \n",
    "and became an outspoken, activist against the laws of apartheid. \"Dangers and difficulties have not deterred us in the past, they will not \n",
    "frighten us now. But we must be prepared for them like men in business who do not waste energy in vain talk and idle action. The way of \n",
    "preparation (for action) lies in our rooting out all impurity and indiscipline from our organization and making it the bright and shining \n",
    "instrument that will cleave its way to freedom\"( \"No Easy Road to Freedom Speech by Nelson Mandela.\"). Mandela's charismatic speeches \n",
    "triggered an investigation by the ruling National Party Government, and in 1962 they arrested and charged Mandela with treason. \n",
    "The judge found him guilty, and sentenced him to life in prison. The first eighteen years of his incarceration he spent in \n",
    "Robben Island Prison, often in solitary confinement. Up until his release on February 11, 1990, he was held in Pollsmoor Prison. \n",
    "After his release, Mandela worked tirelessly towards a peaceful, democratic South Africa. He received The Nobel Peace Prize in 1993, \n",
    "and on April 27, 1994, South Africa held its first free election. The people elected Mandela as president. Mandela's strong, inimitable \n",
    "spirit allowed him to not only survive incredible hardships, but transformed him into an international symbol of peace and reconciliation. \n",
    "\"I have cherished the ideal of a democratic and free society in which all persons live together in harmony and with equal opportunities. \n",
    "It is an ideal which I hope to live for and to achieve\"(\"Nelson Mandela \" I Am Prepared to Die\".\") He never once wavered in his convictions \n",
    "or his dreams and he has lived to see them all come to pass. Nelson Mandela, known to many as the \"Grandfather\" of South Africa, embodies \n",
    "all the characteristics of a true hero. In the face of seemingly insurmountable obstacles, he facilitated a peaceful transition to a \n",
    "democratic South Africa.\"\"\""
   ]
  },
  {
   "cell_type": "code",
   "execution_count": 3,
   "id": "3a8d325e-102b-4897-a49f-b48a9db4cc43",
   "metadata": {},
   "outputs": [
    {
     "data": {
      "text/plain": [
       "['Nelson Mandela was born on July 18, 1918 in a town called Umtata in the Transkei area of South Africa.',\n",
       " 'Mandela grew up as any other young, South African black boy in an environment of poverty and oppression.',\n",
       " 'As a young man he witnessed \\nthe white South African government imposing more and more restrictions on an already down trodden, uneducated, black majority.',\n",
       " 'During his years at the University College of Fort Hare and the University of South Africa, where he studied law, he became even \\nmore aware of the atrocities and injustices committed in the name of apartheid.',\n",
       " 'In 1944, Mandela joined the National African Congress (ANC) \\nand became an outspoken, activist against the laws of apartheid.',\n",
       " '\"Dangers and difficulties have not deterred us in the past, they will not \\nfrighten us now.',\n",
       " 'But we must be prepared for them like men in business who do not waste energy in vain talk and idle action.',\n",
       " 'The way of \\npreparation (for action) lies in our rooting out all impurity and indiscipline from our organization and making it the bright and shining \\ninstrument that will cleave its way to freedom\"( \"No Easy Road to Freedom Speech by Nelson Mandela.\").',\n",
       " \"Mandela's charismatic speeches \\ntriggered an investigation by the ruling National Party Government, and in 1962 they arrested and charged Mandela with treason.\",\n",
       " 'The judge found him guilty, and sentenced him to life in prison.',\n",
       " 'The first eighteen years of his incarceration he spent in \\nRobben Island Prison, often in solitary confinement.',\n",
       " 'Up until his release on February 11, 1990, he was held in Pollsmoor Prison.',\n",
       " 'After his release, Mandela worked tirelessly towards a peaceful, democratic South Africa.',\n",
       " 'He received The Nobel Peace Prize in 1993, \\nand on April 27, 1994, South Africa held its first free election.',\n",
       " 'The people elected Mandela as president.',\n",
       " \"Mandela's strong, inimitable \\nspirit allowed him to not only survive incredible hardships, but transformed him into an international symbol of peace and reconciliation.\",\n",
       " '\"I have cherished the ideal of a democratic and free society in which all persons live together in harmony and with equal opportunities.',\n",
       " 'It is an ideal which I hope to live for and to achieve\"(\"Nelson Mandela \" I Am Prepared to Die\".\")',\n",
       " 'He never once wavered in his convictions \\nor his dreams and he has lived to see them all come to pass.',\n",
       " 'Nelson Mandela, known to many as the \"Grandfather\" of South Africa, embodies \\nall the characteristics of a true hero.',\n",
       " 'In the face of seemingly insurmountable obstacles, he facilitated a peaceful transition to a \\ndemocratic South Africa.']"
      ]
     },
     "execution_count": 3,
     "metadata": {},
     "output_type": "execute_result"
    }
   ],
   "source": [
    "sentences = nltk.sent_tokenize(paragraph)\n",
    "sentences"
   ]
  },
  {
   "cell_type": "code",
   "execution_count": 4,
   "id": "c34ab7bc-0ddc-4c65-a337-06caa423a321",
   "metadata": {},
   "outputs": [
    {
     "name": "stdout",
     "output_type": "stream",
     "text": [
      "[('Nelson', 'NNP'), ('Mandela', 'NNP'), ('born', 'VBN'), ('July', 'NNP'), ('18', 'CD'), (',', ','), ('1918', 'CD'), ('town', 'NN'), ('called', 'VBN'), ('Umtata', 'NNP'), ('Transkei', 'NNP'), ('area', 'NN'), ('South', 'NNP'), ('Africa', 'NNP'), ('.', '.')]\n",
      "[('Mandela', 'NNP'), ('grew', 'VBD'), ('young', 'JJ'), (',', ','), ('South', 'JJ'), ('African', 'JJ'), ('black', 'JJ'), ('boy', 'NN'), ('environment', 'NN'), ('poverty', 'NN'), ('oppression', 'NN'), ('.', '.')]\n",
      "[('As', 'IN'), ('young', 'JJ'), ('man', 'NN'), ('witnessed', 'VBD'), ('white', 'JJ'), ('South', 'JJ'), ('African', 'JJ'), ('government', 'NN'), ('imposing', 'VBG'), ('restrictions', 'NNS'), ('already', 'RB'), ('trodden', 'JJ'), (',', ','), ('uneducated', 'JJ'), (',', ','), ('black', 'JJ'), ('majority', 'NN'), ('.', '.')]\n",
      "[('During', 'IN'), ('years', 'NNS'), ('University', 'NNP'), ('College', 'NNP'), ('Fort', 'NNP'), ('Hare', 'NNP'), ('University', 'NNP'), ('South', 'NNP'), ('Africa', 'NNP'), (',', ','), ('studied', 'VBD'), ('law', 'NN'), (',', ','), ('became', 'VBD'), ('even', 'RB'), ('aware', 'JJ'), ('atrocities', 'NNS'), ('injustices', 'NNS'), ('committed', 'VBD'), ('name', 'NN'), ('apartheid', 'NN'), ('.', '.')]\n",
      "[('In', 'IN'), ('1944', 'CD'), (',', ','), ('Mandela', 'NNP'), ('joined', 'VBD'), ('National', 'NNP'), ('African', 'NNP'), ('Congress', 'NNP'), ('(', '('), ('ANC', 'NNP'), (')', ')'), ('became', 'VBD'), ('outspoken', 'JJ'), (',', ','), ('activist', 'JJ'), ('laws', 'NNS'), ('apartheid', 'NN'), ('.', '.')]\n",
      "[('``', '``'), ('Dangers', 'NNS'), ('difficulties', 'NNS'), ('deterred', 'VBD'), ('us', 'PRP'), ('past', 'IN'), (',', ','), ('frighten', 'VB'), ('us', 'PRP'), ('.', '.')]\n",
      "[('But', 'CC'), ('must', 'MD'), ('prepared', 'VB'), ('like', 'IN'), ('men', 'NNS'), ('business', 'NN'), ('waste', 'NN'), ('energy', 'NN'), ('vain', 'NN'), ('talk', 'NN'), ('idle', 'JJ'), ('action', 'NN'), ('.', '.')]\n",
      "[('The', 'DT'), ('way', 'NN'), ('preparation', 'NN'), ('(', '('), ('action', 'NN'), (')', ')'), ('lies', 'VBZ'), ('rooting', 'VBG'), ('impurity', 'NN'), ('indiscipline', 'JJ'), ('organization', 'NN'), ('making', 'VBG'), ('bright', 'JJ'), ('shining', 'VBG'), ('instrument', 'NN'), ('cleave', 'VB'), ('way', 'NN'), ('freedom', 'NN'), (\"''\", \"''\"), ('(', '('), ('``', '``'), ('No', 'DT'), ('Easy', 'NNP'), ('Road', 'NNP'), ('Freedom', 'NNP'), ('Speech', 'NNP'), ('Nelson', 'NNP'), ('Mandela', 'NNP'), ('.', '.'), ('``', '``'), (')', ')'), ('.', '.')]\n",
      "[('Mandela', 'NNP'), (\"'s\", 'POS'), ('charismatic', 'JJ'), ('speeches', 'NNS'), ('triggered', 'VBD'), ('investigation', 'NN'), ('ruling', 'VBG'), ('National', 'NNP'), ('Party', 'NNP'), ('Government', 'NNP'), (',', ','), ('1962', 'CD'), ('arrested', 'VBD'), ('charged', 'VBN'), ('Mandela', 'NNP'), ('treason', 'NN'), ('.', '.')]\n",
      "[('The', 'DT'), ('judge', 'NN'), ('found', 'VBD'), ('guilty', 'JJ'), (',', ','), ('sentenced', 'JJ'), ('life', 'NN'), ('prison', 'NN'), ('.', '.')]\n",
      "[('The', 'DT'), ('first', 'JJ'), ('eighteen', 'JJ'), ('years', 'NNS'), ('incarceration', 'NN'), ('spent', 'VBD'), ('Robben', 'NNP'), ('Island', 'NNP'), ('Prison', 'NNP'), (',', ','), ('often', 'RB'), ('solitary', 'JJ'), ('confinement', 'NN'), ('.', '.')]\n",
      "[('Up', 'IN'), ('release', 'NN'), ('February', 'NNP'), ('11', 'CD'), (',', ','), ('1990', 'CD'), (',', ','), ('held', 'VBD'), ('Pollsmoor', 'NNP'), ('Prison', 'NNP'), ('.', '.')]\n",
      "[('After', 'IN'), ('release', 'NN'), (',', ','), ('Mandela', 'NNP'), ('worked', 'VBD'), ('tirelessly', 'RB'), ('towards', 'NNS'), ('peaceful', 'NN'), (',', ','), ('democratic', 'JJ'), ('South', 'NNP'), ('Africa', 'NNP'), ('.', '.')]\n",
      "[('He', 'PRP'), ('received', 'VBD'), ('The', 'DT'), ('Nobel', 'NNP'), ('Peace', 'NNP'), ('Prize', 'NNP'), ('1993', 'CD'), (',', ','), ('April', 'NNP'), ('27', 'CD'), (',', ','), ('1994', 'CD'), (',', ','), ('South', 'NNP'), ('Africa', 'NNP'), ('held', 'VBD'), ('first', 'RB'), ('free', 'JJ'), ('election', 'NN'), ('.', '.')]\n",
      "[('The', 'DT'), ('people', 'NNS'), ('elected', 'VBN'), ('Mandela', 'NNP'), ('president', 'NN'), ('.', '.')]\n",
      "[('Mandela', 'NNP'), (\"'s\", 'POS'), ('strong', 'JJ'), (',', ','), ('inimitable', 'JJ'), ('spirit', 'NN'), ('allowed', 'VBD'), ('survive', 'JJ'), ('incredible', 'JJ'), ('hardships', 'NNS'), (',', ','), ('transformed', 'VBD'), ('international', 'JJ'), ('symbol', 'NN'), ('peace', 'NN'), ('reconciliation', 'NN'), ('.', '.')]\n",
      "[('``', '``'), ('I', 'PRP'), ('cherished', 'VBD'), ('ideal', 'JJ'), ('democratic', 'JJ'), ('free', 'JJ'), ('society', 'NN'), ('persons', 'NNS'), ('live', 'VBP'), ('together', 'RB'), ('harmony', 'JJ'), ('equal', 'JJ'), ('opportunities', 'NNS'), ('.', '.')]\n",
      "[('It', 'PRP'), ('ideal', 'VBZ'), ('I', 'PRP'), ('hope', 'VBP'), ('live', 'JJ'), ('achieve', 'NN'), (\"''\", \"''\"), ('(', '('), ('``', '``'), ('Nelson', 'NNP'), ('Mandela', 'NNP'), ('``', '``'), ('I', 'PRP'), ('Am', 'VBP'), ('Prepared', 'JJ'), ('Die', 'NNP'), (\"''\", \"''\"), ('.', '.'), (\"''\", \"''\"), (')', ')')]\n",
      "[('He', 'PRP'), ('never', 'RB'), ('wavered', 'VBD'), ('convictions', 'NNS'), ('dreams', 'NNS'), ('lived', 'VBD'), ('see', 'VBP'), ('come', 'JJ'), ('pass', 'NN'), ('.', '.')]\n",
      "[('Nelson', 'NNP'), ('Mandela', 'NNP'), (',', ','), ('known', 'VBN'), ('many', 'JJ'), ('``', '``'), ('Grandfather', 'NNP'), (\"''\", \"''\"), ('South', 'NNP'), ('Africa', 'NNP'), (',', ','), ('embodies', 'VBZ'), ('characteristics', 'NNS'), ('true', 'JJ'), ('hero', 'NN'), ('.', '.')]\n",
      "[('In', 'IN'), ('face', 'NN'), ('seemingly', 'RB'), ('insurmountable', 'JJ'), ('obstacles', 'NNS'), (',', ','), ('facilitated', 'VBN'), ('peaceful', 'JJ'), ('transition', 'NN'), ('democratic', 'JJ'), ('South', 'NNP'), ('Africa', 'NNP'), ('.', '.')]\n"
     ]
    }
   ],
   "source": [
    "for i in range(len(sentences)):\n",
    "    words = nltk.word_tokenize(sentences[i])\n",
    "    words = [word for word in words if word not in set(stopwords.words('english'))]\n",
    "    pos_tagged = nltk.pos_tag(words)\n",
    "    print(pos_tagged)"
   ]
  },
  {
   "cell_type": "code",
   "execution_count": 5,
   "id": "645f5148-d71b-44d6-b736-4fbcfe827ea5",
   "metadata": {},
   "outputs": [
    {
     "name": "stdout",
     "output_type": "stream",
     "text": [
      "[('Taj', 'NNP'), ('Mahal', 'NNP'), ('is', 'VBZ'), ('a', 'DT'), ('beautiful', 'JJ'), ('Monument', 'NN')]\n"
     ]
    }
   ],
   "source": [
    "print(nltk.pos_tag(\"Taj Mahal is a beautiful Monument\".split()))"
   ]
  },
  {
   "cell_type": "code",
   "execution_count": null,
   "id": "2f5dbdca-aa00-4552-bf72-8835a5562c2c",
   "metadata": {},
   "outputs": [],
   "source": []
  }
 ],
 "metadata": {
  "kernelspec": {
   "display_name": "Python 3 (ipykernel)",
   "language": "python",
   "name": "python3"
  },
  "language_info": {
   "codemirror_mode": {
    "name": "ipython",
    "version": 3
   },
   "file_extension": ".py",
   "mimetype": "text/x-python",
   "name": "python",
   "nbconvert_exporter": "python",
   "pygments_lexer": "ipython3",
   "version": "3.11.11"
  }
 },
 "nbformat": 4,
 "nbformat_minor": 5
}
