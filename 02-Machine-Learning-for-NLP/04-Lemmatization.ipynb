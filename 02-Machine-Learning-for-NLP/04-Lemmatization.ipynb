{
 "cells": [
  {
   "cell_type": "markdown",
   "id": "c99b989f-62da-4482-874a-e8216e8a0b2f",
   "metadata": {},
   "source": [
    "## Import Libraries"
   ]
  },
  {
   "cell_type": "code",
   "execution_count": 1,
   "id": "f68bd0a1-d5be-48fa-88b8-2c344bea3918",
   "metadata": {},
   "outputs": [],
   "source": [
    "from nltk.stem import WordNetLemmatizer"
   ]
  },
  {
   "cell_type": "markdown",
   "id": "59366790-f0f2-4b3d-98e6-43617cd19603",
   "metadata": {},
   "source": [
    "## Lemmatization\n",
    "\n",
    "Lemmatization is a linguistic process that reduces a word to its root form, or lemma, by grouping together different inflected forms of a word. It's used in natural language processing (NLP), computational linguistics, and chatbots."
   ]
  },
  {
   "cell_type": "code",
   "execution_count": 2,
   "id": "0082313f-9fad-40f0-beac-ac09abaf57be",
   "metadata": {},
   "outputs": [],
   "source": [
    "lemmatizer = WordNetLemmatizer()"
   ]
  },
  {
   "cell_type": "code",
   "execution_count": 3,
   "id": "72df9fb4-907f-4765-be8f-e88c5800964f",
   "metadata": {},
   "outputs": [
    {
     "data": {
      "text/plain": [
       "'going'"
      ]
     },
     "execution_count": 3,
     "metadata": {},
     "output_type": "execute_result"
    }
   ],
   "source": [
    "lemmatizer.lemmatize(\"going\", pos='n')"
   ]
  },
  {
   "cell_type": "code",
   "execution_count": 4,
   "id": "1ad34ab5-7030-4de5-8cb4-b4f56f0c9135",
   "metadata": {},
   "outputs": [
    {
     "data": {
      "text/plain": [
       "'go'"
      ]
     },
     "execution_count": 4,
     "metadata": {},
     "output_type": "execute_result"
    }
   ],
   "source": [
    "lemmatizer.lemmatize(\"going\", pos='v')"
   ]
  },
  {
   "cell_type": "code",
   "execution_count": 5,
   "id": "2bf5035c-442a-4a5b-8876-36c80dfb9501",
   "metadata": {},
   "outputs": [],
   "source": [
    "words = [\"eating\", \"eats\", \"eaten\", \"writing\", \"writes\", \"programming\", \"programs\",\n",
    "        \"history\", \"finally\", \"finalize\"]"
   ]
  },
  {
   "cell_type": "code",
   "execution_count": 6,
   "id": "0bfb59ea-7e44-4866-9f26-97858f63fa6f",
   "metadata": {},
   "outputs": [
    {
     "name": "stdout",
     "output_type": "stream",
     "text": [
      "eating -----> eating\n",
      "eats -----> eats\n",
      "eaten -----> eaten\n",
      "writing -----> writing\n",
      "writes -----> writes\n",
      "programming -----> programming\n",
      "programs -----> program\n",
      "history -----> history\n",
      "finally -----> finally\n",
      "finalize -----> finalize\n"
     ]
    }
   ],
   "source": [
    "for word in words:\n",
    "    print(f\"{word} -----> {lemmatizer.lemmatize(word, pos='n')}\")"
   ]
  },
  {
   "cell_type": "code",
   "execution_count": 7,
   "id": "4976e379-fc3d-48ae-9ba0-41a9e0e08a51",
   "metadata": {},
   "outputs": [
    {
     "name": "stdout",
     "output_type": "stream",
     "text": [
      "eating -----> eat\n",
      "eats -----> eat\n",
      "eaten -----> eat\n",
      "writing -----> write\n",
      "writes -----> write\n",
      "programming -----> program\n",
      "programs -----> program\n",
      "history -----> history\n",
      "finally -----> finally\n",
      "finalize -----> finalize\n"
     ]
    }
   ],
   "source": [
    "for word in words:\n",
    "    print(f\"{word} -----> {lemmatizer.lemmatize(word, pos='v')}\")"
   ]
  },
  {
   "cell_type": "code",
   "execution_count": 8,
   "id": "e813bb75-78c5-4053-9895-7ef415626f47",
   "metadata": {},
   "outputs": [
    {
     "data": {
      "text/plain": [
       "('fairly', 'sportingly')"
      ]
     },
     "execution_count": 8,
     "metadata": {},
     "output_type": "execute_result"
    }
   ],
   "source": [
    "lemmatizer.lemmatize(\"fairly\", pos='n'), lemmatizer.lemmatize(\"sportingly\", pos='n')"
   ]
  },
  {
   "cell_type": "code",
   "execution_count": 9,
   "id": "e644c46a-5b8d-40c3-8211-8969a37ccbeb",
   "metadata": {},
   "outputs": [
    {
     "data": {
      "text/plain": [
       "('fairly', 'sportingly')"
      ]
     },
     "execution_count": 9,
     "metadata": {},
     "output_type": "execute_result"
    }
   ],
   "source": [
    "lemmatizer.lemmatize(\"fairly\", pos='v'), lemmatizer.lemmatize(\"sportingly\", pos='v')"
   ]
  },
  {
   "cell_type": "code",
   "execution_count": null,
   "id": "790cd011-ec03-42d1-b31f-e479d53a0df9",
   "metadata": {},
   "outputs": [],
   "source": []
  }
 ],
 "metadata": {
  "kernelspec": {
   "display_name": "Python 3 (ipykernel)",
   "language": "python",
   "name": "python3"
  },
  "language_info": {
   "codemirror_mode": {
    "name": "ipython",
    "version": 3
   },
   "file_extension": ".py",
   "mimetype": "text/x-python",
   "name": "python",
   "nbconvert_exporter": "python",
   "pygments_lexer": "ipython3",
   "version": "3.11.11"
  }
 },
 "nbformat": 4,
 "nbformat_minor": 5
}
