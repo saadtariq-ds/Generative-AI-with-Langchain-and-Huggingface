{
 "cells": [
  {
   "cell_type": "markdown",
   "id": "c1fc18b7-bb06-4f83-92b7-74644751e45a",
   "metadata": {},
   "source": [
    "## Import Libraries"
   ]
  },
  {
   "cell_type": "code",
   "execution_count": 1,
   "id": "87283010-08e0-4618-8dd6-48fa5abba8f8",
   "metadata": {},
   "outputs": [],
   "source": [
    "from nltk.stem import PorterStemmer, RegexpStemmer, SnowballStemmer"
   ]
  },
  {
   "cell_type": "markdown",
   "id": "ed34c2f7-65f2-450e-a953-b3feddb28b59",
   "metadata": {},
   "source": [
    "## Stemming \n",
    "\n",
    "Stemming is a natural language processing (NLP) technique that reduces a word to its root form, or \"stem\". It's a text preprocessing technique that involves removing affixes from words to normalize them"
   ]
  },
  {
   "cell_type": "code",
   "execution_count": 2,
   "id": "03cd131a-0a79-4d0b-9417-73c43cba8079",
   "metadata": {},
   "outputs": [],
   "source": [
    "words = [\"eating\", \"eats\", \"eaten\", \"writing\", \"writes\", \"programming\", \"programs\",\n",
    "        \"history\", \"finally\", \"finalize\"]"
   ]
  },
  {
   "cell_type": "markdown",
   "id": "9a3a29ee-a5ce-4f71-8ce5-747ab668e99c",
   "metadata": {},
   "source": [
    "### Porter Stemming\n",
    "\n",
    "Porter stemmer is a suffix stripping algorithm. It uses predefined rules to convert words into their root forms."
   ]
  },
  {
   "cell_type": "code",
   "execution_count": 3,
   "id": "6419f3f9-249d-4b8f-8e80-d08cfb0de1ee",
   "metadata": {},
   "outputs": [],
   "source": [
    "porter_stemming = PorterStemmer()"
   ]
  },
  {
   "cell_type": "code",
   "execution_count": 4,
   "id": "02f9c77f-e2f8-41f9-b87c-2536add0bd37",
   "metadata": {},
   "outputs": [
    {
     "name": "stdout",
     "output_type": "stream",
     "text": [
      "eating -----> eat\n",
      "eats -----> eat\n",
      "eaten -----> eaten\n",
      "writing -----> write\n",
      "writes -----> write\n",
      "programming -----> program\n",
      "programs -----> program\n",
      "history -----> histori\n",
      "finally -----> final\n",
      "finalize -----> final\n"
     ]
    }
   ],
   "source": [
    "for word in words:\n",
    "    print(f\"{word} -----> {porter_stemming.stem(word)}\")"
   ]
  },
  {
   "cell_type": "code",
   "execution_count": 5,
   "id": "ff1295e9-278b-4bc0-bdc1-c47a2ee8cac8",
   "metadata": {},
   "outputs": [
    {
     "data": {
      "text/plain": [
       "'congratul'"
      ]
     },
     "execution_count": 5,
     "metadata": {},
     "output_type": "execute_result"
    }
   ],
   "source": [
    "porter_stemming.stem(\"congratulations\")"
   ]
  },
  {
   "cell_type": "code",
   "execution_count": 6,
   "id": "549126ca-2224-4249-91ac-b3646f58d8e3",
   "metadata": {},
   "outputs": [
    {
     "data": {
      "text/plain": [
       "'sit'"
      ]
     },
     "execution_count": 6,
     "metadata": {},
     "output_type": "execute_result"
    }
   ],
   "source": [
    "porter_stemming.stem(\"sitting\")"
   ]
  },
  {
   "cell_type": "markdown",
   "id": "ecf0f213-195d-42dc-9e06-bd0f5837f6d6",
   "metadata": {},
   "source": [
    "### RegexpStemmer\n",
    "\n",
    "A stemmer that uses regular expressions to identify morphological affixes. Any substrings that match the regular expressions will be removed."
   ]
  },
  {
   "cell_type": "code",
   "execution_count": 7,
   "id": "c29ba6a8-8ef6-41b7-91cc-d9758fa5d7fa",
   "metadata": {},
   "outputs": [],
   "source": [
    "regular_expression = \"ing$|s$|e$|able$\"\n",
    "minimum_length = 4"
   ]
  },
  {
   "cell_type": "code",
   "execution_count": 8,
   "id": "6e81b8b9-3084-4d56-9490-548cfb1d668e",
   "metadata": {},
   "outputs": [],
   "source": [
    "regular_expression_stemming = RegexpStemmer(\n",
    "    regexp=regular_expression,\n",
    "    min=minimum_length\n",
    ")"
   ]
  },
  {
   "cell_type": "code",
   "execution_count": 9,
   "id": "dd4f9db8-45d4-470e-b909-ef0cf672c559",
   "metadata": {},
   "outputs": [
    {
     "name": "stdout",
     "output_type": "stream",
     "text": [
      "eating -----> eat\n",
      "eats -----> eat\n",
      "eaten -----> eaten\n",
      "writing -----> writ\n",
      "writes -----> write\n",
      "programming -----> programm\n",
      "programs -----> program\n",
      "history -----> history\n",
      "finally -----> finally\n",
      "finalize -----> finaliz\n"
     ]
    }
   ],
   "source": [
    "for word in words:\n",
    "    print(f\"{word} -----> {regular_expression_stemming.stem(word)}\")"
   ]
  },
  {
   "cell_type": "code",
   "execution_count": 10,
   "id": "7449afb9-23d4-41e3-a7b4-8ccb39614a4c",
   "metadata": {},
   "outputs": [
    {
     "data": {
      "text/plain": [
       "'congratulation'"
      ]
     },
     "execution_count": 10,
     "metadata": {},
     "output_type": "execute_result"
    }
   ],
   "source": [
    "regular_expression_stemming.stem(\"congratulations\")"
   ]
  },
  {
   "cell_type": "code",
   "execution_count": 11,
   "id": "962bdf27-a33b-45a1-8046-0e6a7f771c58",
   "metadata": {},
   "outputs": [
    {
     "data": {
      "text/plain": [
       "'sitt'"
      ]
     },
     "execution_count": 11,
     "metadata": {},
     "output_type": "execute_result"
    }
   ],
   "source": [
    "regular_expression_stemming.stem(\"sitting\")"
   ]
  },
  {
   "cell_type": "markdown",
   "id": "58362f60-ebc8-4c3f-8d0e-e92061b09e5f",
   "metadata": {},
   "source": [
    "### Snowball Stemmer\n",
    "\n",
    "It is a stemming algorithm which is also known as the Porter2 stemming algorithm as it is a better version of the Porter Stemmer since some issues of it were fixed in this stemmer."
   ]
  },
  {
   "cell_type": "code",
   "execution_count": 12,
   "id": "e294c9fc-35db-4c56-a6a5-766294b2e88a",
   "metadata": {},
   "outputs": [],
   "source": [
    "snowball_stemmer = SnowballStemmer(language='english', ignore_stopwords=False)"
   ]
  },
  {
   "cell_type": "code",
   "execution_count": 13,
   "id": "48749561-512c-4262-b113-bc4b787c1567",
   "metadata": {},
   "outputs": [
    {
     "name": "stdout",
     "output_type": "stream",
     "text": [
      "eating -----> eat\n",
      "eats -----> eat\n",
      "eaten -----> eaten\n",
      "writing -----> write\n",
      "writes -----> write\n",
      "programming -----> program\n",
      "programs -----> program\n",
      "history -----> histori\n",
      "finally -----> final\n",
      "finalize -----> final\n"
     ]
    }
   ],
   "source": [
    "for word in words:\n",
    "    print(f\"{word} -----> {snowball_stemmer.stem(word)}\")"
   ]
  },
  {
   "cell_type": "code",
   "execution_count": 14,
   "id": "92d27533-406b-47fc-a9b0-e797b07bfdb2",
   "metadata": {},
   "outputs": [
    {
     "data": {
      "text/plain": [
       "'congratul'"
      ]
     },
     "execution_count": 14,
     "metadata": {},
     "output_type": "execute_result"
    }
   ],
   "source": [
    "snowball_stemmer.stem(\"congratulations\")"
   ]
  },
  {
   "cell_type": "code",
   "execution_count": 15,
   "id": "eda2efbb-b4b4-4299-8626-864e4c6817c8",
   "metadata": {},
   "outputs": [
    {
     "data": {
      "text/plain": [
       "'sit'"
      ]
     },
     "execution_count": 15,
     "metadata": {},
     "output_type": "execute_result"
    }
   ],
   "source": [
    "snowball_stemmer.stem(\"sitting\")"
   ]
  },
  {
   "cell_type": "markdown",
   "id": "b97076f4-5b89-4fa5-9155-354516bd2ea3",
   "metadata": {},
   "source": [
    "### Comparison of Porter and Snowball"
   ]
  },
  {
   "cell_type": "code",
   "execution_count": 16,
   "id": "5c9202d1-5afd-43c5-a4aa-1d54082429b4",
   "metadata": {},
   "outputs": [
    {
     "data": {
      "text/plain": [
       "('fairli', 'sportingli')"
      ]
     },
     "execution_count": 16,
     "metadata": {},
     "output_type": "execute_result"
    }
   ],
   "source": [
    "porter_stemming.stem(\"fairly\"), porter_stemming.stem(\"sportingly\")"
   ]
  },
  {
   "cell_type": "code",
   "execution_count": 17,
   "id": "dd2b8b96-9951-4891-b0cb-ad1c0bb94408",
   "metadata": {},
   "outputs": [
    {
     "data": {
      "text/plain": [
       "('fair', 'sport')"
      ]
     },
     "execution_count": 17,
     "metadata": {},
     "output_type": "execute_result"
    }
   ],
   "source": [
    "snowball_stemmer.stem(\"fairly\"), snowball_stemmer.stem(\"sportingly\")"
   ]
  },
  {
   "cell_type": "code",
   "execution_count": null,
   "id": "40a89ad6-ba71-41db-bf96-4b41328d127e",
   "metadata": {},
   "outputs": [],
   "source": []
  }
 ],
 "metadata": {
  "kernelspec": {
   "display_name": "Python 3 (ipykernel)",
   "language": "python",
   "name": "python3"
  },
  "language_info": {
   "codemirror_mode": {
    "name": "ipython",
    "version": 3
   },
   "file_extension": ".py",
   "mimetype": "text/x-python",
   "name": "python",
   "nbconvert_exporter": "python",
   "pygments_lexer": "ipython3",
   "version": "3.11.11"
  }
 },
 "nbformat": 4,
 "nbformat_minor": 5
}
