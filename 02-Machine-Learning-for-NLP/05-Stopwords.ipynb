{
 "cells": [
  {
   "cell_type": "markdown",
   "id": "29385bba-2dd3-4526-92ec-9a5862870357",
   "metadata": {},
   "source": [
    "## Import Libraries"
   ]
  },
  {
   "cell_type": "code",
   "execution_count": 1,
   "id": "9afa7041-3619-4656-8d84-5ca8ef4cd4d0",
   "metadata": {},
   "outputs": [],
   "source": [
    "import nltk\n",
    "from nltk.stem import PorterStemmer\n",
    "from nltk.corpus import stopwords"
   ]
  },
  {
   "cell_type": "markdown",
   "id": "4e7bfb78-dfe7-434c-8823-d030c728f206",
   "metadata": {},
   "source": [
    "## Stopwords\n",
    "\n",
    "Stop words are words that are considered insignificant and are filtered out before or after processing natural language data\n",
    "\n",
    "In English, examples of stop words include \"a\", \"an\", \"the\", \"is\", \"are\", \"and\", \"but\", \"or\", \"in\", \"on\", \"at\", \"with\", \"he\", \"she\", \"it\", \"they\""
   ]
  },
  {
   "cell_type": "code",
   "execution_count": 2,
   "id": "742753c7-1aa4-46a5-a833-529dbe0d3502",
   "metadata": {},
   "outputs": [],
   "source": [
    "paragraph = \"\"\"Nelson Mandela was born on July 18, 1918 in a town called Umtata in the Transkei area of South Africa. \n",
    "Mandela grew up as any other young, South African black boy in an environment of poverty and oppression. As a young man he witnessed \n",
    "the white South African government imposing more and more restrictions on an already down trodden, uneducated, black majority. \n",
    "During his years at the University College of Fort Hare and the University of South Africa, where he studied law, he became even \n",
    "more aware of the atrocities and injustices committed in the name of apartheid. In 1944, Mandela joined the National African Congress (ANC) \n",
    "and became an outspoken, activist against the laws of apartheid. \"Dangers and difficulties have not deterred us in the past, they will not \n",
    "frighten us now. But we must be prepared for them like men in business who do not waste energy in vain talk and idle action. The way of \n",
    "preparation (for action) lies in our rooting out all impurity and indiscipline from our organization and making it the bright and shining \n",
    "instrument that will cleave its way to freedom\"( \"No Easy Road to Freedom Speech by Nelson Mandela.\"). Mandela's charismatic speeches \n",
    "triggered an investigation by the ruling National Party Government, and in 1962 they arrested and charged Mandela with treason. \n",
    "The judge found him guilty, and sentenced him to life in prison. The first eighteen years of his incarceration he spent in \n",
    "Robben Island Prison, often in solitary confinement. Up until his release on February 11, 1990, he was held in Pollsmoor Prison. \n",
    "After his release, Mandela worked tirelessly towards a peaceful, democratic South Africa. He received The Nobel Peace Prize in 1993, \n",
    "and on April 27, 1994, South Africa held its first free election. The people elected Mandela as president. Mandela's strong, inimitable \n",
    "spirit allowed him to not only survive incredible hardships, but transformed him into an international symbol of peace and reconciliation. \n",
    "\"I have cherished the ideal of a democratic and free society in which all persons live together in harmony and with equal opportunities. \n",
    "It is an ideal which I hope to live for and to achieve\"(\"Nelson Mandela \" I Am Prepared to Die\".\") He never once wavered in his convictions \n",
    "or his dreams and he has lived to see them all come to pass. Nelson Mandela, known to many as the \"Grandfather\" of South Africa, embodies \n",
    "all the characteristics of a true hero. In the face of seemingly insurmountable obstacles, he facilitated a peaceful transition to a \n",
    "democratic South Africa.\"\"\""
   ]
  },
  {
   "cell_type": "markdown",
   "id": "133a169a-9d86-4300-9ab6-6de628ff0c3b",
   "metadata": {},
   "source": [
    "### Tokenization"
   ]
  },
  {
   "cell_type": "code",
   "execution_count": 3,
   "id": "b9e888e0-6163-4a6a-b53d-b88a9b1dc27c",
   "metadata": {},
   "outputs": [],
   "source": [
    "sentences = nltk.sent_tokenize(paragraph)"
   ]
  },
  {
   "cell_type": "code",
   "execution_count": 4,
   "id": "eaf59fc7-e86c-4923-9318-ec4456cf0bd1",
   "metadata": {},
   "outputs": [
    {
     "data": {
      "text/plain": [
       "['Nelson Mandela was born on July 18, 1918 in a town called Umtata in the Transkei area of South Africa.',\n",
       " 'Mandela grew up as any other young, South African black boy in an environment of poverty and oppression.',\n",
       " 'As a young man he witnessed \\nthe white South African government imposing more and more restrictions on an already down trodden, uneducated, black majority.',\n",
       " 'During his years at the University College of Fort Hare and the University of South Africa, where he studied law, he became even \\nmore aware of the atrocities and injustices committed in the name of apartheid.',\n",
       " 'In 1944, Mandela joined the National African Congress (ANC) \\nand became an outspoken, activist against the laws of apartheid.',\n",
       " '\"Dangers and difficulties have not deterred us in the past, they will not \\nfrighten us now.',\n",
       " 'But we must be prepared for them like men in business who do not waste energy in vain talk and idle action.',\n",
       " 'The way of \\npreparation (for action) lies in our rooting out all impurity and indiscipline from our organization and making it the bright and shining \\ninstrument that will cleave its way to freedom\"( \"No Easy Road to Freedom Speech by Nelson Mandela.\").',\n",
       " \"Mandela's charismatic speeches \\ntriggered an investigation by the ruling National Party Government, and in 1962 they arrested and charged Mandela with treason.\",\n",
       " 'The judge found him guilty, and sentenced him to life in prison.',\n",
       " 'The first eighteen years of his incarceration he spent in \\nRobben Island Prison, often in solitary confinement.',\n",
       " 'Up until his release on February 11, 1990, he was held in Pollsmoor Prison.',\n",
       " 'After his release, Mandela worked tirelessly towards a peaceful, democratic South Africa.',\n",
       " 'He received The Nobel Peace Prize in 1993, \\nand on April 27, 1994, South Africa held its first free election.',\n",
       " 'The people elected Mandela as president.',\n",
       " \"Mandela's strong, inimitable \\nspirit allowed him to not only survive incredible hardships, but transformed him into an international symbol of peace and reconciliation.\",\n",
       " '\"I have cherished the ideal of a democratic and free society in which all persons live together in harmony and with equal opportunities.',\n",
       " 'It is an ideal which I hope to live for and to achieve\"(\"Nelson Mandela \" I Am Prepared to Die\".\")',\n",
       " 'He never once wavered in his convictions \\nor his dreams and he has lived to see them all come to pass.',\n",
       " 'Nelson Mandela, known to many as the \"Grandfather\" of South Africa, embodies \\nall the characteristics of a true hero.',\n",
       " 'In the face of seemingly insurmountable obstacles, he facilitated a peaceful transition to a \\ndemocratic South Africa.']"
      ]
     },
     "execution_count": 4,
     "metadata": {},
     "output_type": "execute_result"
    }
   ],
   "source": [
    "sentences"
   ]
  },
  {
   "cell_type": "markdown",
   "id": "38c941ce-d597-4ec7-b3f8-eb9806b773fc",
   "metadata": {},
   "source": [
    "### Removing Stopwords and Applying Stemming"
   ]
  },
  {
   "cell_type": "code",
   "execution_count": 5,
   "id": "d67c7de8-aea4-4c4a-8db1-ffac98d13d0c",
   "metadata": {},
   "outputs": [],
   "source": [
    "stemmer = PorterStemmer()"
   ]
  },
  {
   "cell_type": "code",
   "execution_count": 6,
   "id": "77f0a76d-3b03-433a-adc7-43f546a52bb0",
   "metadata": {
    "scrolled": true
   },
   "outputs": [
    {
     "data": {
      "text/plain": [
       "['i',\n",
       " 'me',\n",
       " 'my',\n",
       " 'myself',\n",
       " 'we',\n",
       " 'our',\n",
       " 'ours',\n",
       " 'ourselves',\n",
       " 'you',\n",
       " \"you're\",\n",
       " \"you've\",\n",
       " \"you'll\",\n",
       " \"you'd\",\n",
       " 'your',\n",
       " 'yours',\n",
       " 'yourself',\n",
       " 'yourselves',\n",
       " 'he',\n",
       " 'him',\n",
       " 'his',\n",
       " 'himself',\n",
       " 'she',\n",
       " \"she's\",\n",
       " 'her',\n",
       " 'hers',\n",
       " 'herself',\n",
       " 'it',\n",
       " \"it's\",\n",
       " 'its',\n",
       " 'itself',\n",
       " 'they',\n",
       " 'them',\n",
       " 'their',\n",
       " 'theirs',\n",
       " 'themselves',\n",
       " 'what',\n",
       " 'which',\n",
       " 'who',\n",
       " 'whom',\n",
       " 'this',\n",
       " 'that',\n",
       " \"that'll\",\n",
       " 'these',\n",
       " 'those',\n",
       " 'am',\n",
       " 'is',\n",
       " 'are',\n",
       " 'was',\n",
       " 'were',\n",
       " 'be',\n",
       " 'been',\n",
       " 'being',\n",
       " 'have',\n",
       " 'has',\n",
       " 'had',\n",
       " 'having',\n",
       " 'do',\n",
       " 'does',\n",
       " 'did',\n",
       " 'doing',\n",
       " 'a',\n",
       " 'an',\n",
       " 'the',\n",
       " 'and',\n",
       " 'but',\n",
       " 'if',\n",
       " 'or',\n",
       " 'because',\n",
       " 'as',\n",
       " 'until',\n",
       " 'while',\n",
       " 'of',\n",
       " 'at',\n",
       " 'by',\n",
       " 'for',\n",
       " 'with',\n",
       " 'about',\n",
       " 'against',\n",
       " 'between',\n",
       " 'into',\n",
       " 'through',\n",
       " 'during',\n",
       " 'before',\n",
       " 'after',\n",
       " 'above',\n",
       " 'below',\n",
       " 'to',\n",
       " 'from',\n",
       " 'up',\n",
       " 'down',\n",
       " 'in',\n",
       " 'out',\n",
       " 'on',\n",
       " 'off',\n",
       " 'over',\n",
       " 'under',\n",
       " 'again',\n",
       " 'further',\n",
       " 'then',\n",
       " 'once',\n",
       " 'here',\n",
       " 'there',\n",
       " 'when',\n",
       " 'where',\n",
       " 'why',\n",
       " 'how',\n",
       " 'all',\n",
       " 'any',\n",
       " 'both',\n",
       " 'each',\n",
       " 'few',\n",
       " 'more',\n",
       " 'most',\n",
       " 'other',\n",
       " 'some',\n",
       " 'such',\n",
       " 'no',\n",
       " 'nor',\n",
       " 'not',\n",
       " 'only',\n",
       " 'own',\n",
       " 'same',\n",
       " 'so',\n",
       " 'than',\n",
       " 'too',\n",
       " 'very',\n",
       " 's',\n",
       " 't',\n",
       " 'can',\n",
       " 'will',\n",
       " 'just',\n",
       " 'don',\n",
       " \"don't\",\n",
       " 'should',\n",
       " \"should've\",\n",
       " 'now',\n",
       " 'd',\n",
       " 'll',\n",
       " 'm',\n",
       " 'o',\n",
       " 're',\n",
       " 've',\n",
       " 'y',\n",
       " 'ain',\n",
       " 'aren',\n",
       " \"aren't\",\n",
       " 'couldn',\n",
       " \"couldn't\",\n",
       " 'didn',\n",
       " \"didn't\",\n",
       " 'doesn',\n",
       " \"doesn't\",\n",
       " 'hadn',\n",
       " \"hadn't\",\n",
       " 'hasn',\n",
       " \"hasn't\",\n",
       " 'haven',\n",
       " \"haven't\",\n",
       " 'isn',\n",
       " \"isn't\",\n",
       " 'ma',\n",
       " 'mightn',\n",
       " \"mightn't\",\n",
       " 'mustn',\n",
       " \"mustn't\",\n",
       " 'needn',\n",
       " \"needn't\",\n",
       " 'shan',\n",
       " \"shan't\",\n",
       " 'shouldn',\n",
       " \"shouldn't\",\n",
       " 'wasn',\n",
       " \"wasn't\",\n",
       " 'weren',\n",
       " \"weren't\",\n",
       " 'won',\n",
       " \"won't\",\n",
       " 'wouldn',\n",
       " \"wouldn't\"]"
      ]
     },
     "execution_count": 6,
     "metadata": {},
     "output_type": "execute_result"
    }
   ],
   "source": [
    "stopwords.words('english')"
   ]
  },
  {
   "cell_type": "code",
   "execution_count": 7,
   "id": "c087f6e1-18d7-4274-bdc9-c65bc612959e",
   "metadata": {},
   "outputs": [],
   "source": [
    "for i in range(len(sentences)):\n",
    "    words = nltk.word_tokenize(sentences[i])\n",
    "    words = [stemmer.stem(word) for word in words if word not in set(stopwords.words('english'))]\n",
    "    sentences[i] = ' '.join(words)"
   ]
  },
  {
   "cell_type": "code",
   "execution_count": 8,
   "id": "7a79fdbc-3943-4274-8390-31fd02c5c097",
   "metadata": {},
   "outputs": [
    {
     "data": {
      "text/plain": [
       "['nelson mandela born juli 18 , 1918 town call umtata transkei area south africa .',\n",
       " 'mandela grew young , south african black boy environ poverti oppress .',\n",
       " 'as young man wit white south african govern impos restrict alreadi trodden , uneduc , black major .',\n",
       " 'dure year univers colleg fort hare univers south africa , studi law , becam even awar atroc injustic commit name apartheid .',\n",
       " 'in 1944 , mandela join nation african congress ( anc ) becam outspoken , activist law apartheid .',\n",
       " '`` danger difficulti deter us past , frighten us .',\n",
       " 'but must prepar like men busi wast energi vain talk idl action .',\n",
       " \"the way prepar ( action ) lie root impur indisciplin organ make bright shine instrument cleav way freedom '' ( `` no easi road freedom speech nelson mandela . `` ) .\",\n",
       " \"mandela 's charismat speech trigger investig rule nation parti govern , 1962 arrest charg mandela treason .\",\n",
       " 'the judg found guilti , sentenc life prison .',\n",
       " 'the first eighteen year incarcer spent robben island prison , often solitari confin .',\n",
       " 'up releas februari 11 , 1990 , held pollsmoor prison .',\n",
       " 'after releas , mandela work tirelessli toward peac , democrat south africa .',\n",
       " 'he receiv the nobel peac prize 1993 , april 27 , 1994 , south africa held first free elect .',\n",
       " 'the peopl elect mandela presid .',\n",
       " \"mandela 's strong , inimit spirit allow surviv incred hardship , transform intern symbol peac reconcili .\",\n",
       " '`` i cherish ideal democrat free societi person live togeth harmoni equal opportun .',\n",
       " \"it ideal i hope live achiev '' ( `` nelson mandela `` i am prepar die '' . '' )\",\n",
       " 'he never waver convict dream live see come pass .',\n",
       " \"nelson mandela , known mani `` grandfath '' south africa , embodi characterist true hero .\",\n",
       " 'in face seemingli insurmount obstacl , facilit peac transit democrat south africa .']"
      ]
     },
     "execution_count": 8,
     "metadata": {},
     "output_type": "execute_result"
    }
   ],
   "source": [
    "sentences"
   ]
  },
  {
   "cell_type": "code",
   "execution_count": null,
   "id": "156a5104-0b56-4291-bc22-ef5ac19e85e8",
   "metadata": {},
   "outputs": [],
   "source": []
  }
 ],
 "metadata": {
  "kernelspec": {
   "display_name": "Python 3 (ipykernel)",
   "language": "python",
   "name": "python3"
  },
  "language_info": {
   "codemirror_mode": {
    "name": "ipython",
    "version": 3
   },
   "file_extension": ".py",
   "mimetype": "text/x-python",
   "name": "python",
   "nbconvert_exporter": "python",
   "pygments_lexer": "ipython3",
   "version": "3.11.11"
  }
 },
 "nbformat": 4,
 "nbformat_minor": 5
}
