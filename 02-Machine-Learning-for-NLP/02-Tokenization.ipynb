{
 "cells": [
  {
   "cell_type": "markdown",
   "id": "d85692bf-2c6f-4124-968b-28f467a3237d",
   "metadata": {},
   "source": [
    "## Import Libraries"
   ]
  },
  {
   "cell_type": "code",
   "execution_count": 1,
   "id": "4018e705-a4fa-4781-8712-ae33353baaa1",
   "metadata": {},
   "outputs": [],
   "source": [
    "import nltk\n",
    "from nltk.tokenize import (\n",
    "    sent_tokenize, word_tokenize, \n",
    "    wordpunct_tokenize, TreebankWordTokenizer\n",
    ")\n",
    "import warnings\n",
    "\n",
    "warnings.filterwarnings('ignore')"
   ]
  },
  {
   "cell_type": "markdown",
   "id": "2e015cc5-705a-49a1-a869-707a35162975",
   "metadata": {},
   "source": [
    "## Paragraph into Sentences"
   ]
  },
  {
   "cell_type": "code",
   "execution_count": 2,
   "id": "efa0e2bb-46d6-435c-8465-1732e335a0cd",
   "metadata": {},
   "outputs": [
    {
     "name": "stdout",
     "output_type": "stream",
     "text": [
      "Hello, My name is Saad Tariq and I have a interest in learning Machine Learning. \n",
      "I am also a Data Scientist by profession.\n",
      "\n"
     ]
    }
   ],
   "source": [
    "corpus = \"\"\"Hello, My name is Saad Tariq and I have a interest in learning Machine Learning. \n",
    "I am also a Data Scientist by profession.\n",
    "\"\"\"\n",
    "\n",
    "print(corpus)"
   ]
  },
  {
   "cell_type": "code",
   "execution_count": 3,
   "id": "3168adfd-7e36-4c5e-a9c3-658845c8ba0d",
   "metadata": {},
   "outputs": [
    {
     "data": {
      "text/plain": [
       "['Hello, My name is Saad Tariq and I have a interest in learning Machine Learning.',\n",
       " 'I am also a Data Scientist by profession.']"
      ]
     },
     "execution_count": 3,
     "metadata": {},
     "output_type": "execute_result"
    }
   ],
   "source": [
    "documents = sent_tokenize(text=corpus)\n",
    "documents"
   ]
  },
  {
   "cell_type": "code",
   "execution_count": 4,
   "id": "1a5462f9-9541-4d2e-b88f-34191a1b509c",
   "metadata": {},
   "outputs": [
    {
     "name": "stdout",
     "output_type": "stream",
     "text": [
      "Hello, My name is Saad Tariq and I have a interest in learning Machine Learning.\n",
      "I am also a Data Scientist by profession.\n"
     ]
    }
   ],
   "source": [
    "for sentence in documents:\n",
    "    print(sentence)"
   ]
  },
  {
   "cell_type": "markdown",
   "id": "2737c095-d449-4844-8c01-87bcc76e0e7a",
   "metadata": {},
   "source": [
    "## Paragraph into Words"
   ]
  },
  {
   "cell_type": "code",
   "execution_count": 5,
   "id": "45023da0-4169-4a24-b602-12cad7c72a52",
   "metadata": {},
   "outputs": [
    {
     "data": {
      "text/plain": [
       "['Hello',\n",
       " ',',\n",
       " 'My',\n",
       " 'name',\n",
       " 'is',\n",
       " 'Saad',\n",
       " 'Tariq',\n",
       " 'and',\n",
       " 'I',\n",
       " 'have',\n",
       " 'a',\n",
       " 'interest',\n",
       " 'in',\n",
       " 'learning',\n",
       " 'Machine',\n",
       " 'Learning',\n",
       " '.',\n",
       " 'I',\n",
       " 'am',\n",
       " 'also',\n",
       " 'a',\n",
       " 'Data',\n",
       " 'Scientist',\n",
       " 'by',\n",
       " 'profession',\n",
       " '.']"
      ]
     },
     "execution_count": 5,
     "metadata": {},
     "output_type": "execute_result"
    }
   ],
   "source": [
    "words = word_tokenize(corpus)\n",
    "words"
   ]
  },
  {
   "cell_type": "code",
   "execution_count": 6,
   "id": "9e59088f-fc27-446e-be38-44eaa0440197",
   "metadata": {},
   "outputs": [
    {
     "name": "stdout",
     "output_type": "stream",
     "text": [
      "['Hello', ',', 'My', 'name', 'is', 'Saad', 'Tariq', 'and', 'I', 'have', 'a', 'interest', 'in', 'learning', 'Machine', 'Learning', '.']\n",
      "['I', 'am', 'also', 'a', 'Data', 'Scientist', 'by', 'profession', '.']\n"
     ]
    }
   ],
   "source": [
    "for sentence in documents:\n",
    "    print(word_tokenize(sentence))"
   ]
  },
  {
   "cell_type": "code",
   "execution_count": 7,
   "id": "9108a3f4-561c-4bd4-ac14-8baff25bd3e5",
   "metadata": {},
   "outputs": [
    {
     "name": "stdout",
     "output_type": "stream",
     "text": [
      "Hello\n",
      ",\n",
      "My\n",
      "name\n",
      "is\n",
      "Saad\n",
      "Tariq\n",
      "and\n",
      "I\n",
      "have\n",
      "a\n",
      "interest\n",
      "in\n",
      "learning\n",
      "Machine\n",
      "Learning\n",
      ".\n",
      "I\n",
      "am\n",
      "also\n",
      "a\n",
      "Data\n",
      "Scientist\n",
      "by\n",
      "profession\n",
      ".\n"
     ]
    }
   ],
   "source": [
    "for word in words:\n",
    "    print(word)"
   ]
  },
  {
   "cell_type": "markdown",
   "id": "7de64520-dbf5-4af6-b552-45a64e5ec027",
   "metadata": {},
   "source": [
    "## Punctuation Words"
   ]
  },
  {
   "cell_type": "code",
   "execution_count": 8,
   "id": "a36bbafa-5df3-453d-bf8c-ef69593db4f8",
   "metadata": {},
   "outputs": [
    {
     "data": {
      "text/plain": [
       "['Hello',\n",
       " ',',\n",
       " 'My',\n",
       " 'name',\n",
       " 'is',\n",
       " 'Saad',\n",
       " 'Tariq',\n",
       " 'and',\n",
       " 'I',\n",
       " 'have',\n",
       " 'a',\n",
       " 'interest',\n",
       " 'in',\n",
       " 'learning',\n",
       " 'Machine',\n",
       " 'Learning',\n",
       " '.',\n",
       " 'I',\n",
       " 'am',\n",
       " 'also',\n",
       " 'a',\n",
       " 'Data',\n",
       " 'Scientist',\n",
       " 'by',\n",
       " 'profession',\n",
       " '.']"
      ]
     },
     "execution_count": 8,
     "metadata": {},
     "output_type": "execute_result"
    }
   ],
   "source": [
    "wordpunct_tokenize(corpus)"
   ]
  },
  {
   "cell_type": "markdown",
   "id": "914453df-516d-44e7-9e30-5d483a347b18",
   "metadata": {},
   "source": [
    "## Treebank Word Tokenizer"
   ]
  },
  {
   "cell_type": "code",
   "execution_count": 9,
   "id": "d146c156-d86c-4a65-a81c-867e0837fe5c",
   "metadata": {},
   "outputs": [
    {
     "data": {
      "text/plain": [
       "['Hello',\n",
       " ',',\n",
       " 'My',\n",
       " 'name',\n",
       " 'is',\n",
       " 'Saad',\n",
       " 'Tariq',\n",
       " 'and',\n",
       " 'I',\n",
       " 'have',\n",
       " 'a',\n",
       " 'interest',\n",
       " 'in',\n",
       " 'learning',\n",
       " 'Machine',\n",
       " 'Learning.',\n",
       " 'I',\n",
       " 'am',\n",
       " 'also',\n",
       " 'a',\n",
       " 'Data',\n",
       " 'Scientist',\n",
       " 'by',\n",
       " 'profession',\n",
       " '.']"
      ]
     },
     "execution_count": 9,
     "metadata": {},
     "output_type": "execute_result"
    }
   ],
   "source": [
    "tree_bank_tokenizer = TreebankWordTokenizer()\n",
    "tree_bank_tokenizer.tokenize(corpus)"
   ]
  },
  {
   "cell_type": "code",
   "execution_count": null,
   "id": "7db8e9b9-9ef8-4903-96fa-c086d14deae8",
   "metadata": {},
   "outputs": [],
   "source": []
  }
 ],
 "metadata": {
  "kernelspec": {
   "display_name": "Python 3 (ipykernel)",
   "language": "python",
   "name": "python3"
  },
  "language_info": {
   "codemirror_mode": {
    "name": "ipython",
    "version": 3
   },
   "file_extension": ".py",
   "mimetype": "text/x-python",
   "name": "python",
   "nbconvert_exporter": "python",
   "pygments_lexer": "ipython3",
   "version": "3.11.11"
  }
 },
 "nbformat": 4,
 "nbformat_minor": 5
}
