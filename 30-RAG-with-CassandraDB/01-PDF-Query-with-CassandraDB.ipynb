{
 "cells": [
  {
   "cell_type": "markdown",
   "id": "c4ab0665-7ecf-4d39-a258-e0b6d376618e",
   "metadata": {},
   "source": [
    "## Setup and Import Libraries"
   ]
  },
  {
   "cell_type": "code",
   "execution_count": 2,
   "id": "f69c3c42-9652-4ec2-a73a-89bf457cf40c",
   "metadata": {},
   "outputs": [],
   "source": [
    "import os\n",
    "import cassio\n",
    "from langchain_community.vectorstores.cassandra import Cassandra\n",
    "from langchain.indexes.vectorstore import VectorStoreIndexWrapper\n",
    "from langchain_openai import OpenAI, OpenAIEmbeddings\n",
    "from langchain.text_splitter import CharacterTextSplitter\n",
    "from datasets import load_dataset\n",
    "from PyPDF2 import PdfReader\n",
    "from typing_extensions import Concatenate\n",
    "from dotenv import load_dotenv"
   ]
  },
  {
   "cell_type": "code",
   "execution_count": 3,
   "id": "08803b9e-d2da-4541-bd0c-dded6b47f41b",
   "metadata": {},
   "outputs": [
    {
     "data": {
      "text/plain": [
       "True"
      ]
     },
     "execution_count": 3,
     "metadata": {},
     "output_type": "execute_result"
    }
   ],
   "source": [
    "load_dotenv()"
   ]
  },
  {
   "cell_type": "code",
   "execution_count": 4,
   "id": "b8246be9-ff73-460e-84e2-c7e14e9aa9fb",
   "metadata": {},
   "outputs": [],
   "source": [
    "os.environ[\"OPENAI_API_KEY\"] = os.getenv(\"OPENAI_API_KEY\")\n",
    "os.environ[\"ASTRA_DB_APPLICATION_TOKEN\"] = os.getenv(\"ASTRA_DB_APPLICATION_TOKEN\")\n",
    "os.environ[\"ASTRA_DB_ID\"] = os.getenv(\"ASTRA_DB_ID\")"
   ]
  },
  {
   "cell_type": "markdown",
   "id": "9ebb3fa6-6468-4398-ae21-3e258db97c2b",
   "metadata": {},
   "source": [
    "## Loading PDF"
   ]
  },
  {
   "cell_type": "code",
   "execution_count": 5,
   "id": "9b0b7e42-9f6c-4a71-a0bb-e28fd27059f2",
   "metadata": {},
   "outputs": [],
   "source": [
    "pdf_reader = PdfReader('2024_budget.pdf')"
   ]
  },
  {
   "cell_type": "code",
   "execution_count": 6,
   "id": "463eceab-e727-45b7-be33-abb77d8ee894",
   "metadata": {},
   "outputs": [],
   "source": [
    "raw_text = ''\n",
    "for i, page in enumerate(pdf_reader.pages):\n",
    "    content = page.extract_text()\n",
    "    if content:\n",
    "        raw_text += content"
   ]
  },
  {
   "cell_type": "code",
   "execution_count": 7,
   "id": "769818bf-618b-46af-b21b-3fd7cc43f624",
   "metadata": {},
   "outputs": [],
   "source": [
    "# raw_text"
   ]
  },
  {
   "cell_type": "markdown",
   "id": "f3d1bacc-bc9a-4d0d-ac36-ee8f78529509",
   "metadata": {},
   "source": [
    "## Initialize Cassandra Connection"
   ]
  },
  {
   "cell_type": "code",
   "execution_count": 8,
   "id": "157ff1a5-80d7-43c6-a038-e7c0ecb7e7c1",
   "metadata": {},
   "outputs": [],
   "source": [
    "cassio.init(\n",
    "    token=os.environ[\"ASTRA_DB_APPLICATION_TOKEN\"],\n",
    "    database_id=os.environ[\"ASTRA_DB_ID\"]\n",
    ")"
   ]
  },
  {
   "cell_type": "markdown",
   "id": "1f50d6de-0924-488d-aa70-a47dd11f935b",
   "metadata": {},
   "source": [
    "## LangChain LLM Model and Embedding"
   ]
  },
  {
   "cell_type": "code",
   "execution_count": 9,
   "id": "92ffcd73-8368-4a7c-bcbf-ac0adfbcf61f",
   "metadata": {},
   "outputs": [],
   "source": [
    "llm = OpenAI()\n",
    "embeddings = OpenAIEmbeddings()"
   ]
  },
  {
   "cell_type": "markdown",
   "id": "2d73c100-4719-4298-84dd-a75264de3aa5",
   "metadata": {},
   "source": [
    "## Create LangChain Vector Store"
   ]
  },
  {
   "cell_type": "code",
   "execution_count": 10,
   "id": "2b1677e4-9df8-4e35-a147-fc3ffb188631",
   "metadata": {},
   "outputs": [],
   "source": [
    "vector_store = Cassandra(\n",
    "    embedding=embeddings,\n",
    "    table_name='qa_mini_demo',\n",
    "    session=None,\n",
    "    keyspace=None\n",
    ")"
   ]
  },
  {
   "cell_type": "markdown",
   "id": "ac2c58df-8458-4dc3-8f80-0d7a5c4b4784",
   "metadata": {},
   "source": [
    "## Text Splitting"
   ]
  },
  {
   "cell_type": "code",
   "execution_count": 11,
   "id": "2bf774e7-c64d-4134-a263-8479f3a3e2cf",
   "metadata": {},
   "outputs": [
    {
     "name": "stderr",
     "output_type": "stream",
     "text": [
      "Created a chunk of size 854, which is longer than the specified 800\n"
     ]
    }
   ],
   "source": [
    "text_splitter = CharacterTextSplitter(\n",
    "    separator='\\n',\n",
    "    chunk_size=800,\n",
    "    chunk_overlap=200,\n",
    "    length_function=len,\n",
    ")\n",
    "\n",
    "texts = text_splitter.split_text(raw_text)"
   ]
  },
  {
   "cell_type": "markdown",
   "id": "5649477a-3867-4f5a-ba7d-b6fff328e49c",
   "metadata": {},
   "source": [
    "## Loading into Vector Store"
   ]
  },
  {
   "cell_type": "code",
   "execution_count": 12,
   "id": "6bf6573c-9fbb-411a-bc28-febed8ba570c",
   "metadata": {},
   "outputs": [
    {
     "name": "stdout",
     "output_type": "stream",
     "text": [
      "Inserted 50 headlines\n"
     ]
    }
   ],
   "source": [
    "vector_store.add_texts(texts[:50])\n",
    "\n",
    "print(f\"Inserted {len(texts[:50])} headlines\")\n",
    "\n",
    "vector_index = VectorStoreIndexWrapper(\n",
    "    vectorstore=vector_store\n",
    ")"
   ]
  },
  {
   "cell_type": "markdown",
   "id": "4f23f2b8-1d45-43bd-8b73-7acb1538d854",
   "metadata": {},
   "source": [
    "## Run Queries"
   ]
  },
  {
   "cell_type": "code",
   "execution_count": 14,
   "id": "0220cebe-b4be-4d82-aafd-9b1467bfc0cb",
   "metadata": {},
   "outputs": [
    {
     "name": "stdin",
     "output_type": "stream",
     "text": [
      "\n",
      "Enter your question (or type 'quit' to exit):  What is Subsidy to PASSCO for Wheat Reserve Stock\n"
     ]
    },
    {
     "name": "stdout",
     "output_type": "stream",
     "text": [
      "QUESTION: What is Subsidy to PASSCO for Wheat Reserve Stock\n",
      "ANSWER: The Subsidy to PASSCO for Wheat Reserve Stock is 5,700 million rupees in the Revised Budget of 2023-24.\n",
      "FIRST DOCUMENTS BY RELEVANCE:\n",
      "(0.8921051498624912, 'Pakistan Energy  Rev olv ing Fund (PERA)Prov ision f or Power Subsidy\\nShortf all in ')\n",
      "(0.8920865311833888, 'Pakistan Energy  Rev olv ing Fund (PERA)Prov ision f or Power Subsidy\\nShortf all in ')\n",
      "(0.8914661998021669, '10,000 10,000 12,000\\n19 7,000 8,500 8,000\\n20 3,000 1,500 4,000\\n60,000 60,000 68,000\\n')\n",
      "(0.8913224720588764, '10,000 10,000 12,000\\n19 7,000 8,500 8,000\\n20 3,000 1,500 4,000\\n60,000 60,000 68,000\\n')\n"
     ]
    },
    {
     "name": "stdin",
     "output_type": "stream",
     "text": [
      "\n",
      "What is your question (or type 'quit' to exit):  quit\n"
     ]
    }
   ],
   "source": [
    "first_question = True\n",
    "while True:\n",
    "    if first_question:\n",
    "        query_text = input(\"\\nEnter your question (or type 'quit' to exit): \").strip()\n",
    "    else:\n",
    "        query_text = input(\"\\nWhat is your question (or type 'quit' to exit): \").strip()\n",
    "\n",
    "    if query_text.lower() == \"quit\":\n",
    "        break\n",
    "\n",
    "    if query_text.lower() == \"quit\":\n",
    "        continue\n",
    "\n",
    "    first_question = False\n",
    "\n",
    "    print(f\"QUESTION: {query_text}\")\n",
    "    answer = vector_index.query(question=query_text, llm=llm).strip()\n",
    "    print(f\"ANSWER: {answer}\")\n",
    "\n",
    "    print(\"FIRST DOCUMENTS BY RELEVANCE:\")\n",
    "    for doc, score in vector_store.similarity_search_with_score(query=query_text, k=4):\n",
    "        print(f\"{score, doc.page_content[:84]}\")\n",
    "    "
   ]
  },
  {
   "cell_type": "code",
   "execution_count": null,
   "id": "ed87ee5d-d92a-44f4-aa3b-b6a1add92046",
   "metadata": {},
   "outputs": [],
   "source": []
  }
 ],
 "metadata": {
  "kernelspec": {
   "display_name": "Python 3 (ipykernel)",
   "language": "python",
   "name": "python3"
  },
  "language_info": {
   "codemirror_mode": {
    "name": "ipython",
    "version": 3
   },
   "file_extension": ".py",
   "mimetype": "text/x-python",
   "name": "python",
   "nbconvert_exporter": "python",
   "pygments_lexer": "ipython3",
   "version": "3.11.11"
  }
 },
 "nbformat": 4,
 "nbformat_minor": 5
}
