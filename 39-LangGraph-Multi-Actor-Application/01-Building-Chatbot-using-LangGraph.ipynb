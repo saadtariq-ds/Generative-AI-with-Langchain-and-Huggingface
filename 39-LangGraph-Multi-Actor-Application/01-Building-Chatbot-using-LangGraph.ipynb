{
 "cells": [
  {
   "cell_type": "markdown",
   "id": "1138ab62-a4b9-4d1c-b3a3-c17aec919bc2",
   "metadata": {},
   "source": [
    "## Setup and Import Libraries"
   ]
  },
  {
   "cell_type": "code",
   "execution_count": 1,
   "id": "7f47d8f6-4ab7-4117-909b-9eaae4bbd8f3",
   "metadata": {},
   "outputs": [],
   "source": [
    "import os\n",
    "from langchain_groq import ChatGroq\n",
    "from langgraph.graph import StateGraph, START, END\n",
    "from langgraph.graph.message import add_messages\n",
    "from typing import Annotated\n",
    "from typing_extensions import TypedDict\n",
    "from dotenv import load_dotenv"
   ]
  },
  {
   "cell_type": "code",
   "execution_count": 2,
   "id": "883cdd9a-1ab8-431b-9941-588de81af836",
   "metadata": {},
   "outputs": [
    {
     "data": {
      "text/plain": [
       "True"
      ]
     },
     "execution_count": 2,
     "metadata": {},
     "output_type": "execute_result"
    }
   ],
   "source": [
    "load_dotenv()"
   ]
  },
  {
   "cell_type": "code",
   "execution_count": 3,
   "id": "8d01fc9f-5a6c-4138-a928-5dbfcb443286",
   "metadata": {},
   "outputs": [],
   "source": [
    "os.environ[\"GROQ_API_KEY\"] = os.getenv(\"GROQ_API_KEY\")\n",
    "os.environ[\"LANGSMITH_API_KEY\"] = os.getenv(\"LANGSMITH_API_KEY\")\n",
    "os.environ[\"LANGSMITH_TRACING\"] = os.getenv(\"LANGSMITH_TRACING\")\n",
    "os.environ[\"LANGCHAIN_PROJECT\"] = os.getenv(\"LANGCHAIN_PROJECT\")"
   ]
  },
  {
   "cell_type": "code",
   "execution_count": 4,
   "id": "f41b3a4f-be7e-480e-9fd8-f8f54b23b0f3",
   "metadata": {},
   "outputs": [],
   "source": [
    "llm = ChatGroq(model_name=\"Gemma2-9b-It\")"
   ]
  },
  {
   "cell_type": "markdown",
   "id": "55aa3fe9-4f62-4bae-9187-49cb1f125b6e",
   "metadata": {},
   "source": [
    "## Building Chatbot"
   ]
  },
  {
   "cell_type": "code",
   "execution_count": 6,
   "id": "baf8aacf-81af-451d-84df-e8a8c121ea8c",
   "metadata": {},
   "outputs": [],
   "source": [
    "class State(TypedDict):\n",
    "    \"\"\"\n",
    "        Messages have the type 'list'. The 'add_messages' function in the annotation\n",
    "        defines how this state key should be updated\n",
    "        In this case, it appends messages to the list, rather than overwriting them\n",
    "    \"\"\"\n",
    "    messages:Annotated[list, add_messages]\n",
    "\n",
    "graph_builder = StateGraph(State)"
   ]
  },
  {
   "cell_type": "code",
   "execution_count": 8,
   "id": "960db256-1aef-4910-90af-6b3c5e705db6",
   "metadata": {},
   "outputs": [],
   "source": [
    "def chatbot(state: State):\n",
    "    return {\"messages\":llm.invoke(state['messages'])}"
   ]
  },
  {
   "cell_type": "code",
   "execution_count": 9,
   "id": "dde1e693-51ff-4b52-b931-68951087f75f",
   "metadata": {},
   "outputs": [
    {
     "data": {
      "text/plain": [
       "<langgraph.graph.state.StateGraph at 0x1cdec707290>"
      ]
     },
     "execution_count": 9,
     "metadata": {},
     "output_type": "execute_result"
    }
   ],
   "source": [
    "graph_builder.add_node(\"Chatbot\", chatbot)"
   ]
  },
  {
   "cell_type": "code",
   "execution_count": 10,
   "id": "3c1b7c22-cf4b-4272-901b-b8064ecd3c05",
   "metadata": {},
   "outputs": [
    {
     "data": {
      "text/plain": [
       "<langgraph.graph.state.StateGraph at 0x1cdec707290>"
      ]
     },
     "execution_count": 10,
     "metadata": {},
     "output_type": "execute_result"
    }
   ],
   "source": [
    "graph_builder.add_edge(START, \"Chatbot\")\n",
    "graph_builder.add_edge(\"Chatbot\", END)"
   ]
  },
  {
   "cell_type": "code",
   "execution_count": 11,
   "id": "b343a565-6f0c-47a0-99b1-b0e84e11bfad",
   "metadata": {},
   "outputs": [],
   "source": [
    "graph = graph_builder.compile()"
   ]
  },
  {
   "cell_type": "code",
   "execution_count": 12,
   "id": "e4a721b3-0204-45be-83f2-a07c5fab2761",
   "metadata": {},
   "outputs": [
    {
     "data": {
      "image/png": "[encoded data removed]",
      "text/plain": [
       "<langgraph.graph.state.CompiledStateGraph object at 0x000001CDEC5DED90>"
      ]
     },
     "execution_count": 12,
     "metadata": {},
     "output_type": "execute_result"
    }
   ],
   "source": [
    "graph"
   ]
  },
  {
   "cell_type": "code",
   "execution_count": 14,
   "id": "af7fb46d-510d-453a-baf1-6cda44bc0085",
   "metadata": {},
   "outputs": [
    {
     "name": "stdin",
     "output_type": "stream",
     "text": [
      "User:  Hello\n"
     ]
    },
    {
     "name": "stdout",
     "output_type": "stream",
     "text": [
      "dict_values([{'messages': AIMessage(content='Hello! 😊\\n\\nHow can I help you today?\\n', additional_kwargs={}, response_metadata={'token_usage': {'completion_tokens': 14, 'prompt_tokens': 11, 'total_tokens': 25, 'completion_time': 0.025454545, 'prompt_time': 0.001909987, 'queue_time': 0.245562153, 'total_time': 0.027364532}, 'model_name': 'Gemma2-9b-It', 'system_fingerprint': 'fp_10c08bf97d', 'finish_reason': 'stop', 'logprobs': None}, id='run-7e4a50b1-b98b-4b19-8777-87f154c0dac2-0', usage_metadata={'input_tokens': 11, 'output_tokens': 14, 'total_tokens': 25})}])\n",
      "content='Hello! 😊\\n\\nHow can I help you today?\\n' additional_kwargs={} response_metadata={'token_usage': {'completion_tokens': 14, 'prompt_tokens': 11, 'total_tokens': 25, 'completion_time': 0.025454545, 'prompt_time': 0.001909987, 'queue_time': 0.245562153, 'total_time': 0.027364532}, 'model_name': 'Gemma2-9b-It', 'system_fingerprint': 'fp_10c08bf97d', 'finish_reason': 'stop', 'logprobs': None} id='run-7e4a50b1-b98b-4b19-8777-87f154c0dac2-0' usage_metadata={'input_tokens': 11, 'output_tokens': 14, 'total_tokens': 25}\n",
      "Assistant: Hello! 😊\n",
      "\n",
      "How can I help you today?\n",
      "\n"
     ]
    },
    {
     "name": "stdin",
     "output_type": "stream",
     "text": [
      "User:  What is Generative AI\n"
     ]
    },
    {
     "name": "stdout",
     "output_type": "stream",
     "text": [
      "dict_values([{'messages': AIMessage(content='Generative AI is a type of artificial intelligence that focuses on **creating new content**. \\n\\nThink of it like this: instead of simply analyzing existing data, generative AI learns the underlying patterns and structures within that data and then uses that knowledge to generate something new. This \"something new\" can take many forms:\\n\\n* **Text:** Writing stories, poems, articles, dialogue, code, and more.\\n* **Images:** Generating realistic photos, artwork, illustrations, and designs.\\n* **Audio:** Composing music, creating sound effects, and even synthesizing human-like speech.\\n* **Video:** Creating short animations, generating video clips from text descriptions, and even manipulating existing videos.\\n* **3D models:** Designing objects, characters, and environments.\\n\\n**How does it work?**\\n\\nGenerative AI models are typically trained on massive datasets of existing content. They learn the relationships between different elements within that data, allowing them to predict and generate new content that follows similar patterns.\\n\\nOne popular type of generative AI model is called a **Generative Adversarial Network (GAN)**. It consists of two neural networks:\\n\\n* **Generator:** Creates new content.\\n* **Discriminator:** Evaluates the quality of the generated content and tries to distinguish it from real content.\\n\\nThese two networks compete against each other, with the generator constantly trying to improve its creations and the discriminator getting better at spotting fakes. This adversarial process leads to increasingly sophisticated and realistic generated content.\\n\\n**Examples of Generative AI in action:**\\n\\n* **ChatGPT:** A chatbot that can hold human-like conversations and generate creative text formats.\\n* **DALL-E 2:** An AI system that can create realistic images from text descriptions.\\n* **Jukebox:** An AI model that can generate music in various styles.\\n\\n**Potential applications:**\\n\\n* **Content creation:** Writing articles, generating marketing copy, creating art and music.\\n* **Education:** Providing personalized learning experiences, creating interactive simulations.\\n* **Healthcare:** Generating synthetic medical images for training, assisting in drug discovery.\\n* **Entertainment:** Creating video game characters and environments, generating special effects.\\n\\n\\nGenerative AI is a rapidly evolving field with the potential to revolutionize many industries.\\n', additional_kwargs={}, response_metadata={'token_usage': {'completion_tokens': 464, 'prompt_tokens': 14, 'total_tokens': 478, 'completion_time': 0.843636364, 'prompt_time': 0.001920877, 'queue_time': 0.16476426700000002, 'total_time': 0.845557241}, 'model_name': 'Gemma2-9b-It', 'system_fingerprint': 'fp_10c08bf97d', 'finish_reason': 'stop', 'logprobs': None}, id='run-8202f571-d506-4e8d-9900-048202cafbfe-0', usage_metadata={'input_tokens': 14, 'output_tokens': 464, 'total_tokens': 478})}])\n",
      "content='Generative AI is a type of artificial intelligence that focuses on **creating new content**. \\n\\nThink of it like this: instead of simply analyzing existing data, generative AI learns the underlying patterns and structures within that data and then uses that knowledge to generate something new. This \"something new\" can take many forms:\\n\\n* **Text:** Writing stories, poems, articles, dialogue, code, and more.\\n* **Images:** Generating realistic photos, artwork, illustrations, and designs.\\n* **Audio:** Composing music, creating sound effects, and even synthesizing human-like speech.\\n* **Video:** Creating short animations, generating video clips from text descriptions, and even manipulating existing videos.\\n* **3D models:** Designing objects, characters, and environments.\\n\\n**How does it work?**\\n\\nGenerative AI models are typically trained on massive datasets of existing content. They learn the relationships between different elements within that data, allowing them to predict and generate new content that follows similar patterns.\\n\\nOne popular type of generative AI model is called a **Generative Adversarial Network (GAN)**. It consists of two neural networks:\\n\\n* **Generator:** Creates new content.\\n* **Discriminator:** Evaluates the quality of the generated content and tries to distinguish it from real content.\\n\\nThese two networks compete against each other, with the generator constantly trying to improve its creations and the discriminator getting better at spotting fakes. This adversarial process leads to increasingly sophisticated and realistic generated content.\\n\\n**Examples of Generative AI in action:**\\n\\n* **ChatGPT:** A chatbot that can hold human-like conversations and generate creative text formats.\\n* **DALL-E 2:** An AI system that can create realistic images from text descriptions.\\n* **Jukebox:** An AI model that can generate music in various styles.\\n\\n**Potential applications:**\\n\\n* **Content creation:** Writing articles, generating marketing copy, creating art and music.\\n* **Education:** Providing personalized learning experiences, creating interactive simulations.\\n* **Healthcare:** Generating synthetic medical images for training, assisting in drug discovery.\\n* **Entertainment:** Creating video game characters and environments, generating special effects.\\n\\n\\nGenerative AI is a rapidly evolving field with the potential to revolutionize many industries.\\n' additional_kwargs={} response_metadata={'token_usage': {'completion_tokens': 464, 'prompt_tokens': 14, 'total_tokens': 478, 'completion_time': 0.843636364, 'prompt_time': 0.001920877, 'queue_time': 0.16476426700000002, 'total_time': 0.845557241}, 'model_name': 'Gemma2-9b-It', 'system_fingerprint': 'fp_10c08bf97d', 'finish_reason': 'stop', 'logprobs': None} id='run-8202f571-d506-4e8d-9900-048202cafbfe-0' usage_metadata={'input_tokens': 14, 'output_tokens': 464, 'total_tokens': 478}\n",
      "Assistant: Generative AI is a type of artificial intelligence that focuses on **creating new content**. \n",
      "\n",
      "Think of it like this: instead of simply analyzing existing data, generative AI learns the underlying patterns and structures within that data and then uses that knowledge to generate something new. This \"something new\" can take many forms:\n",
      "\n",
      "* **Text:** Writing stories, poems, articles, dialogue, code, and more.\n",
      "* **Images:** Generating realistic photos, artwork, illustrations, and designs.\n",
      "* **Audio:** Composing music, creating sound effects, and even synthesizing human-like speech.\n",
      "* **Video:** Creating short animations, generating video clips from text descriptions, and even manipulating existing videos.\n",
      "* **3D models:** Designing objects, characters, and environments.\n",
      "\n",
      "**How does it work?**\n",
      "\n",
      "Generative AI models are typically trained on massive datasets of existing content. They learn the relationships between different elements within that data, allowing them to predict and generate new content that follows similar patterns.\n",
      "\n",
      "One popular type of generative AI model is called a **Generative Adversarial Network (GAN)**. It consists of two neural networks:\n",
      "\n",
      "* **Generator:** Creates new content.\n",
      "* **Discriminator:** Evaluates the quality of the generated content and tries to distinguish it from real content.\n",
      "\n",
      "These two networks compete against each other, with the generator constantly trying to improve its creations and the discriminator getting better at spotting fakes. This adversarial process leads to increasingly sophisticated and realistic generated content.\n",
      "\n",
      "**Examples of Generative AI in action:**\n",
      "\n",
      "* **ChatGPT:** A chatbot that can hold human-like conversations and generate creative text formats.\n",
      "* **DALL-E 2:** An AI system that can create realistic images from text descriptions.\n",
      "* **Jukebox:** An AI model that can generate music in various styles.\n",
      "\n",
      "**Potential applications:**\n",
      "\n",
      "* **Content creation:** Writing articles, generating marketing copy, creating art and music.\n",
      "* **Education:** Providing personalized learning experiences, creating interactive simulations.\n",
      "* **Healthcare:** Generating synthetic medical images for training, assisting in drug discovery.\n",
      "* **Entertainment:** Creating video game characters and environments, generating special effects.\n",
      "\n",
      "\n",
      "Generative AI is a rapidly evolving field with the potential to revolutionize many industries.\n",
      "\n"
     ]
    },
    {
     "name": "stdin",
     "output_type": "stream",
     "text": [
      "User:  q\n"
     ]
    },
    {
     "name": "stdout",
     "output_type": "stream",
     "text": [
      "Good Bye\n"
     ]
    }
   ],
   "source": [
    "while True:\n",
    "    user_input = input(\"User: \")\n",
    "    if user_input.lower() in [\"quit\", \"q\"]:\n",
    "        print(\"Good Bye\")\n",
    "        break\n",
    "\n",
    "    for event in graph.stream({\"messages\":(\"user\", user_input)}):\n",
    "        print(event.values())\n",
    "        for value in event.values():\n",
    "            print(value['messages'])\n",
    "            print(\"Assistant:\", value[\"messages\"].content)"
   ]
  },
  {
   "cell_type": "code",
   "execution_count": null,
   "id": "4ca64fed-fcbb-4b9a-b4b6-4c815aaa0a77",
   "metadata": {},
   "outputs": [],
   "source": []
  }
 ],
 "metadata": {
  "kernelspec": {
   "display_name": "Python 3 (ipykernel)",
   "language": "python",
   "name": "python3"
  },
  "language_info": {
   "codemirror_mode": {
    "name": "ipython",
    "version": 3
   },
   "file_extension": ".py",
   "mimetype": "text/x-python",
   "name": "python",
   "nbconvert_exporter": "python",
   "pygments_lexer": "ipython3",
   "version": "3.11.11"
  }
 },
 "nbformat": 4,
 "nbformat_minor": 5
}
