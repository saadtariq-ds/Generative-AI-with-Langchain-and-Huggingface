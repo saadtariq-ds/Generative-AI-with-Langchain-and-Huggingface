{
 "cells": [
  {
   "cell_type": "markdown",
   "id": "8b6a51de-fefb-428a-b568-0ca5aefbeb08",
   "metadata": {},
   "source": [
    "## Setup and Import Libraries"
   ]
  },
  {
   "cell_type": "code",
   "execution_count": 2,
   "id": "2063cc78-f184-4893-9593-375f595900d6",
   "metadata": {},
   "outputs": [],
   "source": [
    "import os\n",
    "from langchain_community.tools import ArxivQueryRun, WikipediaQueryRun\n",
    "from langchain_community.utilities import WikipediaAPIWrapper, ArxivAPIWrapper\n",
    "from langchain_community.document_loaders import WebBaseLoader\n",
    "from langchain_community.vectorstores import FAISS\n",
    "from langchain_huggingface import HuggingFaceEmbeddings\n",
    "from langchain_text_splitters import RecursiveCharacterTextSplitter\n",
    "from langchain.tools.retriever import create_retriever_tool\n",
    "from langchain_groq import ChatGroq\n",
    "from langchain import hub\n",
    "from langchain.agents import create_openai_tools_agent, AgentExecutor\n",
    "from dotenv import load_dotenv"
   ]
  },
  {
   "cell_type": "code",
   "execution_count": 3,
   "id": "44e7ce3c-897c-4e16-8eb9-c82d45f89703",
   "metadata": {},
   "outputs": [
    {
     "data": {
      "text/plain": [
       "True"
      ]
     },
     "execution_count": 3,
     "metadata": {},
     "output_type": "execute_result"
    }
   ],
   "source": [
    "load_dotenv()"
   ]
  },
  {
   "cell_type": "code",
   "execution_count": 4,
   "id": "c0fae0fd-17d7-470b-9503-907dc956ae6c",
   "metadata": {},
   "outputs": [],
   "source": [
    "os.environ[\"OPENAI_API_KEY\"] = os.getenv(\"OPENAI_API_KEY\")\n",
    "os.environ[\"GROQ_API_KEY\"] = os.getenv(\"GROQ_API_KEY\")"
   ]
  },
  {
   "cell_type": "code",
   "execution_count": 6,
   "id": "b3426004-7ef5-41b0-8848-1778cba635d4",
   "metadata": {},
   "outputs": [],
   "source": [
    "llm = ChatGroq(model_name='llama3-8b-8192')\n",
    "embeddings = HuggingFaceEmbeddings(model_name=\"all-MiniLM-L6-v2\")"
   ]
  },
  {
   "cell_type": "markdown",
   "id": "11583f85-66e4-4172-bb0e-d6d8c98b6864",
   "metadata": {},
   "source": [
    "## Inbuilt Tools Creation "
   ]
  },
  {
   "cell_type": "code",
   "execution_count": 7,
   "id": "21382401-0244-474f-81cf-b7b82a726632",
   "metadata": {},
   "outputs": [
    {
     "data": {
      "text/plain": [
       "'wikipedia'"
      ]
     },
     "execution_count": 7,
     "metadata": {},
     "output_type": "execute_result"
    }
   ],
   "source": [
    "api_wrapper_wikipedia = WikipediaAPIWrapper(top_k_results=1, doc_content_chars_max=250)\n",
    "wikipedia_tool = WikipediaQueryRun(api_wrapper=api_wrapper_wikipedia)\n",
    "wikipedia_tool.name"
   ]
  },
  {
   "cell_type": "code",
   "execution_count": 8,
   "id": "f96211b2-155e-4e2f-8b6b-7722e00304d5",
   "metadata": {},
   "outputs": [
    {
     "data": {
      "text/plain": [
       "'arxiv'"
      ]
     },
     "execution_count": 8,
     "metadata": {},
     "output_type": "execute_result"
    }
   ],
   "source": [
    "api_wrapper_arxiv = ArxivAPIWrapper(top_k_results=1, doc_content_chars_max=250)\n",
    "arxiv_tool = ArxivQueryRun(api_wrapper=api_wrapper_arxiv)\n",
    "arxiv_tool.name"
   ]
  },
  {
   "cell_type": "markdown",
   "id": "ba33216b-ce51-4bb9-811c-9cf02a2b7485",
   "metadata": {},
   "source": [
    "### Combining Tools"
   ]
  },
  {
   "cell_type": "code",
   "execution_count": 9,
   "id": "63d4a746-a89f-405d-9a12-52b8544a2b34",
   "metadata": {},
   "outputs": [],
   "source": [
    "tools = [wikipedia_tool, arxiv_tool]\n",
    "\n",
    "# tools"
   ]
  },
  {
   "cell_type": "markdown",
   "id": "bab09249-7825-4cca-8502-3fe94593444a",
   "metadata": {},
   "source": [
    "## Custom Tools Creation"
   ]
  },
  {
   "cell_type": "code",
   "execution_count": 10,
   "id": "5934d75d-47fe-41f8-a795-108e5d543cd2",
   "metadata": {},
   "outputs": [],
   "source": [
    "loader = WebBaseLoader(\"https://docs.smith.langchain.com/\")\n",
    "docs = loader.load()\n",
    "documents = RecursiveCharacterTextSplitter(chunk_size=1000, chunk_overlap=200).split_documents(docs)"
   ]
  },
  {
   "cell_type": "code",
   "execution_count": 11,
   "id": "13675009-33a4-45ab-a13d-31149f81abde",
   "metadata": {},
   "outputs": [],
   "source": [
    "vector_store = FAISS.from_documents(documents=documents, embedding=embeddings)"
   ]
  },
  {
   "cell_type": "code",
   "execution_count": 12,
   "id": "a1418a6b-25d8-42b3-8ff3-1d8a4acfac30",
   "metadata": {},
   "outputs": [],
   "source": [
    "retriever = vector_store.as_retriever()"
   ]
  },
  {
   "cell_type": "code",
   "execution_count": 13,
   "id": "ff9ac938-d35b-4bd0-9264-5f2ad983af94",
   "metadata": {},
   "outputs": [
    {
     "data": {
      "text/plain": [
       "'langsmith_search'"
      ]
     },
     "execution_count": 13,
     "metadata": {},
     "output_type": "execute_result"
    }
   ],
   "source": [
    "retriever_tool = create_retriever_tool(\n",
    "    retriever=retriever,\n",
    "    name='langsmith_search',\n",
    "    description=\"Search any information about langsmith\")\n",
    "\n",
    "retriever_tool.name"
   ]
  },
  {
   "cell_type": "code",
   "execution_count": 14,
   "id": "5286b1cb-134e-4138-8471-c8517190c958",
   "metadata": {},
   "outputs": [],
   "source": [
    "tools = [wikipedia_tool, arxiv_tool, retriever_tool]\n",
    "\n",
    "# tools"
   ]
  },
  {
   "cell_type": "markdown",
   "id": "d3c48130-69eb-4e02-a10d-7510043d3b10",
   "metadata": {},
   "source": [
    "## Agent"
   ]
  },
  {
   "cell_type": "markdown",
   "id": "635b3cb3-0f2f-4df9-ae5e-a70b9b5f2d6e",
   "metadata": {},
   "source": [
    "### Prompt Template from Hub"
   ]
  },
  {
   "cell_type": "code",
   "execution_count": 15,
   "id": "44329266-6366-44f3-bd63-9cb27810bee2",
   "metadata": {},
   "outputs": [
    {
     "data": {
      "text/plain": [
       "[SystemMessagePromptTemplate(prompt=PromptTemplate(input_variables=[], input_types={}, partial_variables={}, template='You are a helpful assistant'), additional_kwargs={}),\n",
       " MessagesPlaceholder(variable_name='chat_history', optional=True),\n",
       " HumanMessagePromptTemplate(prompt=PromptTemplate(input_variables=['input'], input_types={}, partial_variables={}, template='{input}'), additional_kwargs={}),\n",
       " MessagesPlaceholder(variable_name='agent_scratchpad')]"
      ]
     },
     "execution_count": 15,
     "metadata": {},
     "output_type": "execute_result"
    }
   ],
   "source": [
    "prompt = hub.pull('hwchase17/openai-functions-agent')\n",
    "prompt.messages"
   ]
  },
  {
   "cell_type": "markdown",
   "id": "9daa4c39-0fba-4734-8001-d2d9a88debe6",
   "metadata": {},
   "source": [
    "### Create Agent"
   ]
  },
  {
   "cell_type": "code",
   "execution_count": 16,
   "id": "ebb8352b-c89d-4369-a4af-1210b6686816",
   "metadata": {},
   "outputs": [],
   "source": [
    "agent = create_openai_tools_agent(\n",
    "    llm=llm, prompt=prompt, tools=tools\n",
    ")\n",
    "\n",
    "# agent"
   ]
  },
  {
   "cell_type": "markdown",
   "id": "02c29dcf-f7ea-46f5-8b31-5efcaaadd7f9",
   "metadata": {},
   "source": [
    "### Agent Executor"
   ]
  },
  {
   "cell_type": "code",
   "execution_count": 17,
   "id": "a126a885-4d39-44d9-869b-1335ed882bba",
   "metadata": {},
   "outputs": [],
   "source": [
    "agent_executor = AgentExecutor(\n",
    "    agent=agent, tools=tools, verbose=True\n",
    ")\n",
    "\n",
    "# agent_executor"
   ]
  },
  {
   "cell_type": "code",
   "execution_count": 19,
   "id": "35bb8c67-efb8-4367-be38-25cd1bd38a6e",
   "metadata": {},
   "outputs": [
    {
     "name": "stdout",
     "output_type": "stream",
     "text": [
      "\n",
      "\n",
      "\u001b[1m> Entering new AgentExecutor chain...\u001b[0m\n",
      "\u001b[32;1m\u001b[1;3m\n",
      "Invoking: `arxiv` with `{'query': '1810.04805'}`\n",
      "\n",
      "\n",
      "\u001b[33;1m\u001b[1;3mPublished: 2019-05-24\n",
      "Title: BERT: Pre-training of Deep Bidirectional Transformers for Language Understanding\n",
      "Authors: Jacob Devlin, Ming-Wei Chang, Kenton Lee, Kristina Toutanova\n",
      "\u001b[32;1m\u001b[1;3mntroduce a new language representation model called BERT,\u001b[0m\n",
      "Invoking: `arxiv` with `{'query': '1810.04805'}`\n",
      "\n",
      "\n",
      "\u001b[33;1m\u001b[1;3mPublished: 2019-05-24\n",
      "Title: BERT: Pre-training of Deep Bidirectional Transformers for Language Understanding\n",
      "Authors: Jacob Devlin, Ming-Wei Chang, Kenton Lee, Kristina Toutanova\n",
      "\u001b[32;1m\u001b[1;3mThe paper \"BERT: Pre-training of Deep Bidirectional Transformers for Language Understanding\" by Jacob Devlin, Ming-Wei Chang, Kenton Lee, and Kristina Toutanova has already been discussed. It seems that there is no additional information about the paper \"arXiv:1810.04805\" that I can provide.\u001b[0m\n",
      "\n",
      "\u001b[1m> Finished chain.\u001b[0m\n"
     ]
    },
    {
     "data": {
      "text/plain": [
       "{'input': 'What is the paper arXiv:1810.04805 about?',\n",
       " 'output': 'The paper \"BERT: Pre-training of Deep Bidirectional Transformers for Language Understanding\" by Jacob Devlin, Ming-Wei Chang, Kenton Lee, and Kristina Toutanova has already been discussed. It seems that there is no additional information about the paper \"arXiv:1810.04805\" that I can provide.'}"
      ]
     },
     "execution_count": 19,
     "metadata": {},
     "output_type": "execute_result"
    }
   ],
   "source": [
    "# query = \"Tell me about Langsmith\"\n",
    "# query = \"Who won the Fifa World Cup 2022\"\n",
    "query = \"What is the paper arXiv:1810.04805 about?\"\n",
    "\n",
    "agent_executor.invoke(\n",
    "    {'input': query}\n",
    ")"
   ]
  },
  {
   "cell_type": "code",
   "execution_count": null,
   "id": "98822edb-6af8-4b16-80fd-2791d3a3bf5b",
   "metadata": {},
   "outputs": [],
   "source": []
  }
 ],
 "metadata": {
  "kernelspec": {
   "display_name": "Python 3 (ipykernel)",
   "language": "python",
   "name": "python3"
  },
  "language_info": {
   "codemirror_mode": {
    "name": "ipython",
    "version": 3
   },
   "file_extension": ".py",
   "mimetype": "text/x-python",
   "name": "python",
   "nbconvert_exporter": "python",
   "pygments_lexer": "ipython3",
   "version": "3.11.11"
  }
 },
 "nbformat": 4,
 "nbformat_minor": 5
}
