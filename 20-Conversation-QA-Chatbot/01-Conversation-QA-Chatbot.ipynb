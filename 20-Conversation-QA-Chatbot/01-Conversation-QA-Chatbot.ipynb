{
 "cells": [
  {
   "cell_type": "markdown",
   "id": "ba8098f0-d456-455e-a2bc-cf59b55fde58",
   "metadata": {},
   "source": [
    "## Setup and Import Libraries"
   ]
  },
  {
   "cell_type": "code",
   "execution_count": 2,
   "id": "c849462b-4468-4afc-942b-1fc57457dbf2",
   "metadata": {},
   "outputs": [],
   "source": [
    "import os\n",
    "import bs4\n",
    "from dotenv import load_dotenv\n",
    "from langchain_groq import ChatGroq\n",
    "from langchain_community.document_loaders import WebBaseLoader\n",
    "from langchain_text_splitters import RecursiveCharacterTextSplitter\n",
    "from langchain_huggingface import HuggingFaceEmbeddings\n",
    "from langchain_chroma import Chroma\n",
    "from langchain_core.prompts import ChatPromptTemplate, MessagesPlaceholder\n",
    "from langchain_core.messages import HumanMessage, SystemMessage, AIMessage\n",
    "from langchain.chains import create_retrieval_chain, create_history_aware_retriever\n",
    "from langchain.chains.combine_documents import create_stuff_documents_chain\n",
    "from langchain_community.chat_message_histories import ChatMessageHistory\n",
    "from langchain_core.chat_history import BaseChatMessageHistory\n",
    "from langchain_core.runnables.history import RunnableWithMessageHistory"
   ]
  },
  {
   "cell_type": "code",
   "execution_count": 3,
   "id": "d72ffddb-6d8d-40b9-929e-27c0b50f6aab",
   "metadata": {},
   "outputs": [
    {
     "data": {
      "text/plain": [
       "True"
      ]
     },
     "execution_count": 3,
     "metadata": {},
     "output_type": "execute_result"
    }
   ],
   "source": [
    "load_dotenv()"
   ]
  },
  {
   "cell_type": "code",
   "execution_count": 4,
   "id": "7976641f-c5e2-4529-82fa-e049b7f456ea",
   "metadata": {},
   "outputs": [],
   "source": [
    "os.environ[\"GROQ_API_KEY\"] = os.getenv(\"GROQ_API_KEY\")\n",
    "os.environ[\"HUGGINGFACE_API_KEY\"] = os.getenv(\"HUGGINGFACE_API_KEY\")"
   ]
  },
  {
   "cell_type": "code",
   "execution_count": 5,
   "id": "2c5b1836-8dc4-4e86-8b70-24dff7fa0cf0",
   "metadata": {},
   "outputs": [],
   "source": [
    "llm = ChatGroq(model=\"Gemma2-9b-It\")"
   ]
  },
  {
   "cell_type": "markdown",
   "id": "aebd45dc-bbca-4794-b353-c223d3fae3f4",
   "metadata": {},
   "source": [
    "## Web Base Loader"
   ]
  },
  {
   "cell_type": "code",
   "execution_count": 6,
   "id": "2d8d52be-0e7d-41dd-ba6f-0db4180c3ae1",
   "metadata": {},
   "outputs": [],
   "source": [
    "loader = WebBaseLoader(\n",
    "    web_path=(\"https://lilianweng.github.io/posts/2023-06-23-agent/\",),\n",
    "    bs_kwargs=dict(\n",
    "        parse_only=bs4.SoupStrainer(\n",
    "            class_=(\"post-content\",\"post-title\",\"post-header\")\n",
    "        )\n",
    "    )\n",
    ")"
   ]
  },
  {
   "cell_type": "code",
   "execution_count": 7,
   "id": "483d9f19-09a0-4d78-b324-2cbb991792e2",
   "metadata": {},
   "outputs": [],
   "source": [
    "data = loader.load()\n",
    "# data"
   ]
  },
  {
   "cell_type": "markdown",
   "id": "93c200e3-fca3-4ac8-abe1-15503f43919d",
   "metadata": {},
   "source": [
    "## Text Splitting"
   ]
  },
  {
   "cell_type": "code",
   "execution_count": 8,
   "id": "ceff9dae-e5d2-4c16-b80a-cc674fd8da34",
   "metadata": {},
   "outputs": [],
   "source": [
    "text_splitter = RecursiveCharacterTextSplitter(\n",
    "    chunk_size=1000,\n",
    "    chunk_overlap=200\n",
    ")"
   ]
  },
  {
   "cell_type": "code",
   "execution_count": 9,
   "id": "80b4be18-2cfe-4046-9e8e-fdf352489bf6",
   "metadata": {},
   "outputs": [],
   "source": [
    "documents = text_splitter.split_documents(documents=data)"
   ]
  },
  {
   "cell_type": "markdown",
   "id": "a7222a0f-7d0a-4bb0-8f5b-74295393fe1f",
   "metadata": {},
   "source": [
    "## Embedding and Vector Store"
   ]
  },
  {
   "cell_type": "code",
   "execution_count": 11,
   "id": "e6dda052-e09d-47f0-9f99-7c3d6c0cd0b3",
   "metadata": {},
   "outputs": [],
   "source": [
    "embeddings = HuggingFaceEmbeddings(model_name='all-MiniLM-L6-v2')"
   ]
  },
  {
   "cell_type": "code",
   "execution_count": 12,
   "id": "95aa4ad3-36e4-4516-9e97-536089a33283",
   "metadata": {},
   "outputs": [],
   "source": [
    "vector_store = Chroma.from_documents(\n",
    "    documents=documents,\n",
    "    embedding=embeddings\n",
    ")"
   ]
  },
  {
   "cell_type": "markdown",
   "id": "c98b9ae5-c756-454c-be7f-3c05d676ebcf",
   "metadata": {},
   "source": [
    "## Retriever"
   ]
  },
  {
   "cell_type": "code",
   "execution_count": 13,
   "id": "f16d15ad-9c27-47dc-9b73-b001a621d64d",
   "metadata": {},
   "outputs": [],
   "source": [
    "retriever = vector_store.as_retriever()"
   ]
  },
  {
   "cell_type": "markdown",
   "id": "5989264e-9c58-4cd3-a87f-879318abe87b",
   "metadata": {},
   "source": [
    "## Prompt Template"
   ]
  },
  {
   "cell_type": "code",
   "execution_count": 14,
   "id": "d8e84296-0e51-443a-a580-28a0b499497b",
   "metadata": {},
   "outputs": [],
   "source": [
    "system_prompt = (\n",
    "    \"\"\"\n",
    "    You are an assistant for question-answering tasks.\n",
    "    Use the following pieces of retrieved context to answer the question.\n",
    "    If you do not know the answer, say that you do not know\"\n",
    "    Use three sentences maximum and keep the answer concise\n",
    "    \\n\\n\n",
    "    {context}\n",
    "    \"\"\"\n",
    ")"
   ]
  },
  {
   "cell_type": "code",
   "execution_count": 15,
   "id": "7ee69c6e-27bb-4ceb-82b2-029cdba8badc",
   "metadata": {},
   "outputs": [],
   "source": [
    "prompt = ChatPromptTemplate.from_messages(\n",
    "    [\n",
    "        (\"system\", system_prompt),\n",
    "        (\"human\", \"{input}\")\n",
    "    ]\n",
    ")"
   ]
  },
  {
   "cell_type": "markdown",
   "id": "fadf79e7-f0f4-43fd-83f9-711ca5eb13ea",
   "metadata": {},
   "source": [
    "## Chain"
   ]
  },
  {
   "cell_type": "code",
   "execution_count": 16,
   "id": "0c938412-1dc8-43db-9184-6779b5751440",
   "metadata": {},
   "outputs": [],
   "source": [
    "question_answer_chain = create_stuff_documents_chain(llm=llm, prompt=prompt)"
   ]
  },
  {
   "cell_type": "code",
   "execution_count": 17,
   "id": "785b9ea7-e969-43e4-9c52-72045d88783b",
   "metadata": {},
   "outputs": [],
   "source": [
    "rag_chain = create_retrieval_chain(retriever=retriever, combine_docs_chain=question_answer_chain)"
   ]
  },
  {
   "cell_type": "code",
   "execution_count": 18,
   "id": "9b4bf792-305a-4a88-9fdd-6a0865ac3ce8",
   "metadata": {},
   "outputs": [],
   "source": [
    "query = \"What is Self Reflection\""
   ]
  },
  {
   "cell_type": "code",
   "execution_count": 19,
   "id": "5d662e56-5947-47f8-808a-ece5d4c843a3",
   "metadata": {},
   "outputs": [
    {
     "data": {
      "text/plain": [
       "{'input': 'What is Self Reflection',\n",
       " 'context': [Document(id='ccc2aa4f-8846-4c51-baea-da188df66013', metadata={'source': 'https://lilianweng.github.io/posts/2023-06-23-agent/'}, page_content='Fig. 3. Illustration of the Reflexion framework. (Image source: Shinn & Labash, 2023)\\nThe heuristic function determines when the trajectory is inefficient or contains hallucination and should be stopped. Inefficient planning refers to trajectories that take too long without success. Hallucination is defined as encountering a sequence of consecutive identical actions that lead to the same observation in the environment.\\nSelf-reflection is created by showing two-shot examples to LLM and each example is a pair of (failed trajectory, ideal reflection for guiding future changes in the plan). Then reflections are added into the agent’s working memory, up to three, to be used as context for querying LLM.'),\n",
       "  Document(id='d54afea5-ad54-4c12-bd23-df7cda19ac69', metadata={'source': 'https://lilianweng.github.io/posts/2023-06-23-agent/'}, page_content='Another quite distinct approach, LLM+P (Liu et al. 2023), involves relying on an external classical planner to do long-horizon planning. This approach utilizes the Planning Domain Definition Language (PDDL) as an intermediate interface to describe the planning problem. In this process, LLM (1) translates the problem into “Problem PDDL”, then (2) requests a classical planner to generate a PDDL plan based on an existing “Domain PDDL”, and finally (3) translates the PDDL plan back into natural language. Essentially, the planning step is outsourced to an external tool, assuming the availability of domain-specific PDDL and a suitable planner which is common in certain robotic setups but not in many other domains.\\nSelf-Reflection#\\nSelf-reflection is a vital aspect that allows autonomous agents to improve iteratively by refining past action decisions and correcting previous mistakes. It plays a crucial role in real-world tasks where trial and error are inevitable.'),\n",
       "  Document(id='5e35886d-cb29-42bf-b300-75d617868bf5', metadata={'source': 'https://lilianweng.github.io/posts/2023-06-23-agent/'}, page_content='Memory stream: is a long-term memory module (external database) that records a comprehensive list of agents’ experience in natural language.\\n\\nEach element is an observation, an event directly provided by the agent.\\n- Inter-agent communication can trigger new natural language statements.\\n\\n\\nRetrieval model: surfaces the context to inform the agent’s behavior, according to relevance, recency and importance.\\n\\nRecency: recent events have higher scores\\nImportance: distinguish mundane from core memories. Ask LM directly.\\nRelevance: based on how related it is to the current situation / query.\\n\\n\\nReflection mechanism: synthesizes memories into higher level inferences over time and guides the agent’s future behavior. They are higher-level summaries of past events (<- note that this is a bit different from self-reflection above)'),\n",
       "  Document(id='d6aab20c-53c3-43d4-ba12-8926ec0b9334', metadata={'source': 'https://lilianweng.github.io/posts/2023-06-23-agent/'}, page_content='Fig. 2.  Examples of reasoning trajectories for knowledge-intensive tasks (e.g. HotpotQA, FEVER) and decision-making tasks (e.g. AlfWorld Env, WebShop). (Image source: Yao et al. 2023).\\nIn both experiments on knowledge-intensive tasks and decision-making tasks, ReAct works better than the Act-only baseline where Thought: … step is removed.\\nReflexion (Shinn & Labash 2023) is a framework to equip agents with dynamic memory and self-reflection capabilities to improve reasoning skills. Reflexion has a standard RL setup, in which the reward model provides a simple binary reward and the action space follows the setup in ReAct where the task-specific action space is augmented with language to enable complex reasoning steps. After each action $a_t$, the agent computes a heuristic $h_t$ and optionally may decide to reset the environment to start a new trial depending on the self-reflection results.')],\n",
       " 'answer': 'Self-reflection is a process that allows autonomous agents to improve by examining past actions and identifying mistakes.  \\n\\nIt involves analyzing past trajectories and using insights to guide future decision-making, leading to more effective problem-solving.  \\n\\nThe Reflexion framework incorporates self-reflection by showing the agent examples of failed trajectories and ideal reflections, which are then stored in its working memory. \\n'}"
      ]
     },
     "execution_count": 19,
     "metadata": {},
     "output_type": "execute_result"
    }
   ],
   "source": [
    "response = rag_chain.invoke(\n",
    "    {\"input\": query}\n",
    ")\n",
    "response"
   ]
  },
  {
   "cell_type": "code",
   "execution_count": 20,
   "id": "ea648a32-f2bd-4867-850b-eb1c1bb91a66",
   "metadata": {},
   "outputs": [
    {
     "data": {
      "text/plain": [
       "'Self-reflection is a process that allows autonomous agents to improve by examining past actions and identifying mistakes.  \\n\\nIt involves analyzing past trajectories and using insights to guide future decision-making, leading to more effective problem-solving.  \\n\\nThe Reflexion framework incorporates self-reflection by showing the agent examples of failed trajectories and ideal reflections, which are then stored in its working memory. \\n'"
      ]
     },
     "execution_count": 20,
     "metadata": {},
     "output_type": "execute_result"
    }
   ],
   "source": [
    "response['answer']"
   ]
  },
  {
   "cell_type": "code",
   "execution_count": 21,
   "id": "1d33b49f-9a6f-463d-a2ba-583eeab1386d",
   "metadata": {},
   "outputs": [
    {
     "data": {
      "text/plain": [
       "'The provided text describes several techniques for improving LLM performance on complex tasks, including task decomposition and self-reflection.  \\n\\nIt does not, however, explain how to achieve a specific outcome.  \\n\\nPlease provide more context or a specific goal for a more helpful answer. \\n\\n'"
      ]
     },
     "execution_count": 21,
     "metadata": {},
     "output_type": "execute_result"
    }
   ],
   "source": [
    "query = \"How do we achieve it\"\n",
    "\n",
    "response = rag_chain.invoke(\n",
    "    {\"input\": query}\n",
    ")\n",
    "response['answer']"
   ]
  },
  {
   "cell_type": "markdown",
   "id": "496c6517-253d-441d-befe-9099d7a1966b",
   "metadata": {},
   "source": [
    "## Chat History"
   ]
  },
  {
   "cell_type": "code",
   "execution_count": 22,
   "id": "929cceea-be72-4d6b-a693-7106bbe553d1",
   "metadata": {},
   "outputs": [],
   "source": [
    "contextualize_system_prompt = \"\"\"Given a chat history and the latest user question which might \n",
    "reference context in the chat history, formulate a standalone question which can be understood \n",
    "without the chat history. Do NOT answer the question, just reformulate it if needed and otherwise return it as is.\n",
    "\"\"\"\n",
    "\n",
    "contextualize_prompt = ChatPromptTemplate.from_messages(\n",
    "    [\n",
    "        (\"system\", contextualize_system_prompt),\n",
    "        MessagesPlaceholder(\"chat_history\"),\n",
    "        (\"human\", \"{input}\"),\n",
    "    ]\n",
    ")"
   ]
  },
  {
   "cell_type": "code",
   "execution_count": 23,
   "id": "1222bd75-f7cd-450d-bd5e-e23e689285df",
   "metadata": {},
   "outputs": [],
   "source": [
    "history_aware_retriever = create_history_aware_retriever(\n",
    "    llm=llm, \n",
    "    retriever=retriever, \n",
    "    prompt=contextualize_prompt\n",
    ")"
   ]
  },
  {
   "cell_type": "code",
   "execution_count": 24,
   "id": "75434a6e-93a2-430e-ac10-ce80083f3a6a",
   "metadata": {},
   "outputs": [],
   "source": [
    "qa_prompt = ChatPromptTemplate.from_messages(\n",
    "    [\n",
    "        (\"system\", system_prompt),\n",
    "        MessagesPlaceholder(\"chat_history\"),\n",
    "        (\"human\", \"{input}\"),\n",
    "    ]\n",
    ")"
   ]
  },
  {
   "cell_type": "code",
   "execution_count": 25,
   "id": "e1d00eb8-b5a8-454b-b436-760585818166",
   "metadata": {},
   "outputs": [],
   "source": [
    "question_answer_chain = create_stuff_documents_chain(\n",
    "    llm=llm, \n",
    "    prompt=qa_prompt\n",
    ")"
   ]
  },
  {
   "cell_type": "code",
   "execution_count": 26,
   "id": "0f9b0792-043b-4e67-a67f-558aba2be7e7",
   "metadata": {},
   "outputs": [],
   "source": [
    "rag_chain = create_retrieval_chain(\n",
    "    retriever=history_aware_retriever, \n",
    "    combine_docs_chain=question_answer_chain)"
   ]
  },
  {
   "cell_type": "code",
   "execution_count": 27,
   "id": "d0f1db7d-8432-44da-a247-a7e7ff16adbe",
   "metadata": {},
   "outputs": [],
   "source": [
    "chat_history = []\n",
    "\n",
    "question1 = \"What is Self-Reflection\"\n",
    "response1 = rag_chain.invoke({\"input\":question1, \"chat_history\":chat_history})\n",
    "\n",
    "chat_history.extend(\n",
    "    [\n",
    "        HumanMessage(content=question1),\n",
    "        AIMessage(content=response1[\"answer\"])\n",
    "    ]\n",
    ")"
   ]
  },
  {
   "cell_type": "code",
   "execution_count": 28,
   "id": "2a30fe50-af0c-467b-aa53-a262ed213681",
   "metadata": {},
   "outputs": [
    {
     "name": "stdout",
     "output_type": "stream",
     "text": [
      "Self-reflection is a process that allows autonomous agents to learn from past experiences and improve their decision-making. \n",
      "\n",
      "It involves analyzing past trajectories, identifying inefficiencies or hallucinations, and using those insights to guide future actions.  This iterative process enhances the agent's ability to adapt and perform better over time.  \n",
      "\n"
     ]
    }
   ],
   "source": [
    "print(response1['answer'])"
   ]
  },
  {
   "cell_type": "code",
   "execution_count": 29,
   "id": "8058bbf7-6556-4791-87a2-1105e77c0b33",
   "metadata": {},
   "outputs": [],
   "source": [
    "question2 = \"Tell me more about it\"\n",
    "response2 = rag_chain.invoke({\"input\":question2, \"chat_history\":chat_history})\n",
    "\n",
    "chat_history.extend(\n",
    "    [\n",
    "        HumanMessage(content=question2),\n",
    "        AIMessage(content=response2[\"answer\"])\n",
    "    ]\n",
    ")"
   ]
  },
  {
   "cell_type": "code",
   "execution_count": 30,
   "id": "26e1044c-82c5-4726-8b7a-3f6ca345bb22",
   "metadata": {},
   "outputs": [
    {
     "name": "stdout",
     "output_type": "stream",
     "text": [
      "Self-reflection in LLMs involves showing the model examples of failed trajectories paired with ideal reflections that suggest improvements. These reflections are then stored in the agent's memory, acting as context for future decision-making.  \n",
      "\n",
      "Essentially, the agent learns to identify its own mistakes and how to correct them, leading to more efficient and successful planning. \n",
      "\n"
     ]
    }
   ],
   "source": [
    "print(response2['answer'])"
   ]
  },
  {
   "cell_type": "code",
   "execution_count": 31,
   "id": "44585b8c-18cf-41fe-8b5a-86f8f9dbde31",
   "metadata": {},
   "outputs": [
    {
     "data": {
      "text/plain": [
       "[HumanMessage(content='What is Self-Reflection', additional_kwargs={}, response_metadata={}),\n",
       " AIMessage(content=\"Self-reflection is a process that allows autonomous agents to learn from past experiences and improve their decision-making. \\n\\nIt involves analyzing past trajectories, identifying inefficiencies or hallucinations, and using those insights to guide future actions.  This iterative process enhances the agent's ability to adapt and perform better over time.  \\n\", additional_kwargs={}, response_metadata={}),\n",
       " HumanMessage(content='Tell me more about it', additional_kwargs={}, response_metadata={}),\n",
       " AIMessage(content=\"Self-reflection in LLMs involves showing the model examples of failed trajectories paired with ideal reflections that suggest improvements. These reflections are then stored in the agent's memory, acting as context for future decision-making.  \\n\\nEssentially, the agent learns to identify its own mistakes and how to correct them, leading to more efficient and successful planning. \\n\", additional_kwargs={}, response_metadata={})]"
      ]
     },
     "execution_count": 31,
     "metadata": {},
     "output_type": "execute_result"
    }
   ],
   "source": [
    "chat_history"
   ]
  },
  {
   "cell_type": "markdown",
   "id": "ebe20a16-923e-4207-9ae3-c8345d4063b3",
   "metadata": {},
   "source": [
    "## Chat History with Sessions"
   ]
  },
  {
   "cell_type": "code",
   "execution_count": 32,
   "id": "d9d370b0-03dd-4431-9933-c7cdc1913cf6",
   "metadata": {},
   "outputs": [],
   "source": [
    "store = {}\n",
    "\n",
    "def get_session_history(session_id: str) -> BaseChatMessageHistory:\n",
    "    if session_id not in store:\n",
    "        store[session_id] = ChatMessageHistory()\n",
    "    return store[session_id]"
   ]
  },
  {
   "cell_type": "code",
   "execution_count": 33,
   "id": "d2fa7aa0-6ac9-499c-b0b7-6b15a36151f7",
   "metadata": {},
   "outputs": [],
   "source": [
    "conversational_rag_chain = RunnableWithMessageHistory(\n",
    "    rag_chain,\n",
    "    get_session_history,\n",
    "    input_messages_key=\"input\",\n",
    "    history_messages_key=\"chat_history\",\n",
    "    output_messages_key=\"answer\",\n",
    ")"
   ]
  },
  {
   "cell_type": "code",
   "execution_count": 34,
   "id": "45fee718-ea47-483c-b8c3-96e84ecc3dc4",
   "metadata": {},
   "outputs": [],
   "source": [
    "config = {\"configurable\": {\"session_id\": \"chat1\"}}"
   ]
  },
  {
   "cell_type": "code",
   "execution_count": 35,
   "id": "1db6ffd7-4a67-4530-b5f9-7c292c2edef3",
   "metadata": {},
   "outputs": [
    {
     "data": {
      "text/plain": [
       "'Task decomposition is the process of breaking down a complex task into smaller, more manageable subtasks.  \\n\\nThis technique, often used with LLMs, helps overcome the limitations of their finite context length and allows for more effective planning and problem-solving. \\nChain of thought (CoT) and Tree of Thoughts (ToT) are examples of prompting techniques used for task decomposition. \\n'"
      ]
     },
     "execution_count": 35,
     "metadata": {},
     "output_type": "execute_result"
    }
   ],
   "source": [
    "response = conversational_rag_chain.invoke(\n",
    "    {\"input\": \"What is Task Decomposition?\"},\n",
    "    config=config\n",
    ")\n",
    "response['answer']"
   ]
  },
  {
   "cell_type": "code",
   "execution_count": 36,
   "id": "ae03f164-48c7-4a62-bc02-2bf423fff9b6",
   "metadata": {},
   "outputs": [
    {
     "data": {
      "text/plain": [
       "'There are three common ways to decompose tasks: \\n\\n1. Using simple prompts like \"Steps for XYZ.\\\\n1.\" or \"What are the subgoals for achieving XYZ?\". \\n2. Employing task-specific instructions, such as \"Write a story outline\" for writing a novel. \\n3.  Incorporating human input to guide the decomposition process. \\n\\n\\n'"
      ]
     },
     "execution_count": 36,
     "metadata": {},
     "output_type": "execute_result"
    }
   ],
   "source": [
    "response = conversational_rag_chain.invoke(\n",
    "    {\"input\": \"What are common ways of doing it?\"},\n",
    "    config=config\n",
    ")\n",
    "response['answer']"
   ]
  },
  {
   "cell_type": "code",
   "execution_count": 37,
   "id": "fdb1df80-8746-4140-9bad-4fb7bed9404c",
   "metadata": {},
   "outputs": [
    {
     "data": {
      "text/plain": [
       "{'chat1': InMemoryChatMessageHistory(messages=[HumanMessage(content='What is Task Decomposition?', additional_kwargs={}, response_metadata={}), AIMessage(content='Task decomposition is the process of breaking down a complex task into smaller, more manageable subtasks.  \\n\\nThis technique, often used with LLMs, helps overcome the limitations of their finite context length and allows for more effective planning and problem-solving. \\nChain of thought (CoT) and Tree of Thoughts (ToT) are examples of prompting techniques used for task decomposition. \\n', additional_kwargs={}, response_metadata={}), HumanMessage(content='What are common ways of doing it?', additional_kwargs={}, response_metadata={}), AIMessage(content='There are three common ways to decompose tasks: \\n\\n1. Using simple prompts like \"Steps for XYZ.\\\\n1.\" or \"What are the subgoals for achieving XYZ?\". \\n2. Employing task-specific instructions, such as \"Write a story outline\" for writing a novel. \\n3.  Incorporating human input to guide the decomposition process. \\n\\n\\n', additional_kwargs={}, response_metadata={})])}"
      ]
     },
     "execution_count": 37,
     "metadata": {},
     "output_type": "execute_result"
    }
   ],
   "source": [
    "store"
   ]
  },
  {
   "cell_type": "code",
   "execution_count": null,
   "id": "3391badb-9933-47e4-bb96-e5bf0475740f",
   "metadata": {},
   "outputs": [],
   "source": []
  }
 ],
 "metadata": {
  "kernelspec": {
   "display_name": "Python 3 (ipykernel)",
   "language": "python",
   "name": "python3"
  },
  "language_info": {
   "codemirror_mode": {
    "name": "ipython",
    "version": 3
   },
   "file_extension": ".py",
   "mimetype": "text/x-python",
   "name": "python",
   "nbconvert_exporter": "python",
   "pygments_lexer": "ipython3",
   "version": "3.11.11"
  }
 },
 "nbformat": 4,
 "nbformat_minor": 5
}
