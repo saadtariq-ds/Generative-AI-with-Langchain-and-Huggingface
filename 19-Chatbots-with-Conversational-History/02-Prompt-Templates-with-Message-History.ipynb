{
 "cells": [
  {
   "cell_type": "markdown",
   "id": "1b7b1a42-6fc0-4c83-95c2-340ee8282286",
   "metadata": {},
   "source": [
    "## Setup and Import Libraries"
   ]
  },
  {
   "cell_type": "code",
   "execution_count": 1,
   "id": "1af4b6cd-b5c3-432c-a3bb-c8cf1ed38537",
   "metadata": {},
   "outputs": [],
   "source": [
    "import os\n",
    "from dotenv import load_dotenv\n",
    "from langchain_groq import ChatGroq\n",
    "from langchain_core.messages import HumanMessage, SystemMessage, AIMessage\n",
    "from langchain_community.chat_message_histories import ChatMessageHistory\n",
    "from langchain_core.chat_history import BaseChatMessageHistory\n",
    "from langchain_core.runnables.history import RunnableWithMessageHistory\n",
    "from langchain_core.prompts import ChatPromptTemplate, MessagesPlaceholder"
   ]
  },
  {
   "cell_type": "code",
   "execution_count": 2,
   "id": "eea10a78-95a1-4454-9a02-bdcdf41bbbb7",
   "metadata": {},
   "outputs": [
    {
     "data": {
      "text/plain": [
       "True"
      ]
     },
     "execution_count": 2,
     "metadata": {},
     "output_type": "execute_result"
    }
   ],
   "source": [
    "load_dotenv()"
   ]
  },
  {
   "cell_type": "code",
   "execution_count": 3,
   "id": "8f364270-198d-4a87-8056-a68660650080",
   "metadata": {},
   "outputs": [],
   "source": [
    "os.environ[\"GROQ_API_KEY\"] = os.getenv(\"GROQ_API_KEY\")"
   ]
  },
  {
   "cell_type": "code",
   "execution_count": 4,
   "id": "c3788356-13f7-47e1-9a99-fc70fc918ee0",
   "metadata": {},
   "outputs": [],
   "source": [
    "llm = ChatGroq(model=\"Gemma2-9b-It\")"
   ]
  },
  {
   "cell_type": "markdown",
   "id": "b8fe6d2f-0fd3-4075-b500-2c69fd7af8b6",
   "metadata": {},
   "source": [
    "## Prompt Template"
   ]
  },
  {
   "cell_type": "code",
   "execution_count": 5,
   "id": "5594c969-aee1-491c-bea0-560f184656d5",
   "metadata": {},
   "outputs": [],
   "source": [
    "system_message = \"\"\" You are a helpful assistant. Answer all the questions to the best of your ability\n",
    "\"\"\""
   ]
  },
  {
   "cell_type": "code",
   "execution_count": 6,
   "id": "53b217c7-784a-4e09-82a3-3c631aed479f",
   "metadata": {},
   "outputs": [],
   "source": [
    "prompt = ChatPromptTemplate.from_messages(\n",
    "    [\n",
    "        (\"system\", system_message),\n",
    "        MessagesPlaceholder(variable_name=\"messages\")\n",
    "    ]\n",
    ")"
   ]
  },
  {
   "cell_type": "code",
   "execution_count": 7,
   "id": "8adaa468-10f6-42bf-808b-95b0b6fcdacc",
   "metadata": {},
   "outputs": [],
   "source": [
    "chain = prompt | llm"
   ]
  },
  {
   "cell_type": "code",
   "execution_count": 8,
   "id": "6621976e-6a7a-4a80-b141-04bf6c6d0bbc",
   "metadata": {},
   "outputs": [
    {
     "data": {
      "text/plain": [
       "AIMessage(content=\"Hi Saad, it's nice to meet you! \\n\\nHow can I help you today?  😊 \\n\", additional_kwargs={}, response_metadata={'token_usage': {'completion_tokens': 26, 'prompt_tokens': 31, 'total_tokens': 57, 'completion_time': 0.047272727, 'prompt_time': 0.002333545, 'queue_time': 0.017482805, 'total_time': 0.049606272}, 'model_name': 'Gemma2-9b-It', 'system_fingerprint': 'fp_10c08bf97d', 'finish_reason': 'stop', 'logprobs': None}, id='run-aa6814eb-5d6a-4bb5-bcae-6be762ed40b4-0', usage_metadata={'input_tokens': 31, 'output_tokens': 26, 'total_tokens': 57})"
      ]
     },
     "execution_count": 8,
     "metadata": {},
     "output_type": "execute_result"
    }
   ],
   "source": [
    "chain.invoke({\"messages\": [HumanMessage(content='Hi My name is Saad')]})"
   ]
  },
  {
   "cell_type": "markdown",
   "id": "bd18efb0-c7c3-42ee-8529-2713b5ebb57c",
   "metadata": {},
   "source": [
    "## Message History with Prompt Template"
   ]
  },
  {
   "cell_type": "code",
   "execution_count": 9,
   "id": "549203c1-4f25-4935-b501-ed8cd605ef96",
   "metadata": {},
   "outputs": [],
   "source": [
    "store = {}\n",
    "\n",
    "def get_session_history(session_id: str) -> BaseChatMessageHistory:\n",
    "    if session_id not in store:\n",
    "        store[session_id] = ChatMessageHistory()\n",
    "        \n",
    "    return store[session_id]"
   ]
  },
  {
   "cell_type": "code",
   "execution_count": 10,
   "id": "c8f8640e-9dac-43c7-a2db-80021d9f3692",
   "metadata": {},
   "outputs": [],
   "source": [
    "config = {\n",
    "    \"configurable\": {\"session_id\": \"chat1\"}\n",
    "}"
   ]
  },
  {
   "cell_type": "code",
   "execution_count": 11,
   "id": "dba88754-aa98-4c14-8636-559b7f57c85f",
   "metadata": {},
   "outputs": [],
   "source": [
    "with_message_history = RunnableWithMessageHistory(chain, get_session_history)"
   ]
  },
  {
   "cell_type": "code",
   "execution_count": 12,
   "id": "9437b4d4-1f76-4eab-8087-2224736880fc",
   "metadata": {},
   "outputs": [
    {
     "data": {
      "text/plain": [
       "\"Hello Saad Tariq, it's nice to meet you! \\n\\nI understand you're a Data Scientist. That's a fascinating field! \\n\\nIs there anything specific I can help you with today? Perhaps you have a data science problem you'd like to brainstorm, need information about a particular algorithm, or want to discuss the latest trends in the field? \\n\\nI'm here to assist in any way I can. 😊  \\n\\n\""
      ]
     },
     "execution_count": 12,
     "metadata": {},
     "output_type": "execute_result"
    }
   ],
   "source": [
    "response = with_message_history.invoke(\n",
    "    [\n",
    "        HumanMessage(content=\"Hi, My name is Saad Tariq and I am a Data Scientist\"),\n",
    "    ],\n",
    "    config=config\n",
    ")\n",
    "\n",
    "response.content"
   ]
  },
  {
   "cell_type": "markdown",
   "id": "6fd1c812-7732-4f87-949c-37b987fea0fe",
   "metadata": {},
   "source": [
    "## Adding More Input Variables"
   ]
  },
  {
   "cell_type": "code",
   "execution_count": 13,
   "id": "0018024b-c902-4d62-82a5-4d7f35ef6275",
   "metadata": {},
   "outputs": [],
   "source": [
    "system_message = \"\"\" You are a helpful assistant. Answer all the questions to the best of your ability in {language}\n",
    "\"\"\""
   ]
  },
  {
   "cell_type": "code",
   "execution_count": 14,
   "id": "5303d134-97c5-4430-8c28-eafdcb2fdb28",
   "metadata": {},
   "outputs": [],
   "source": [
    "prompt = ChatPromptTemplate.from_messages(\n",
    "    [\n",
    "        (\"system\", system_message),\n",
    "        MessagesPlaceholder(variable_name=\"messages\")\n",
    "    ]\n",
    ")"
   ]
  },
  {
   "cell_type": "code",
   "execution_count": 15,
   "id": "7cf7ceaf-b26d-43e6-a581-5c515603a051",
   "metadata": {},
   "outputs": [],
   "source": [
    "chain = prompt | llm"
   ]
  },
  {
   "cell_type": "code",
   "execution_count": 16,
   "id": "5e3a1edf-24df-4c18-aa06-ff8f2c31ac4e",
   "metadata": {},
   "outputs": [
    {
     "data": {
      "text/plain": [
       "'سلام! میرے نام کا تعلق اس ایڈی-ٹو-ٹوہی ہے. کیا میں آپ کی مدد کر سکتا ہوں؟   \\n'"
      ]
     },
     "execution_count": 16,
     "metadata": {},
     "output_type": "execute_result"
    }
   ],
   "source": [
    "response = chain.invoke(\n",
    "    {\n",
    "        \"messages\": [HumanMessage(content='Hi My name is Saad')],\n",
    "        \"language\": \"Urdu\"\n",
    "    }\n",
    ")\n",
    "\n",
    "response.content"
   ]
  },
  {
   "cell_type": "code",
   "execution_count": 17,
   "id": "5cddba9f-14db-4b8b-99cf-a1658443940c",
   "metadata": {},
   "outputs": [],
   "source": [
    "with_message_history = RunnableWithMessageHistory(\n",
    "    chain, \n",
    "    get_session_history,\n",
    "    input_messages_key=\"messages\"\n",
    ")"
   ]
  },
  {
   "cell_type": "code",
   "execution_count": 18,
   "id": "29815ca7-fecf-4f8e-8fe4-5778cb49c4a7",
   "metadata": {},
   "outputs": [],
   "source": [
    "config2 = {\n",
    "    \"configurable\": {\"session_id\": \"chat2\"}\n",
    "}"
   ]
  },
  {
   "cell_type": "code",
   "execution_count": 19,
   "id": "09330e63-da46-4a25-a5f4-3ca0693ee37b",
   "metadata": {},
   "outputs": [
    {
     "data": {
      "text/plain": [
       "' سلام! میرا نام بھی سعد تارق ہے، خوش آمدید! \\n\\n(Salam! My name is Saad Tariq as well, welcome!)\\n\\nکیا میں آپ کی کوئی مدد کر سکتا ہوں؟\\n\\n(Can I help you with anything?) \\n'"
      ]
     },
     "execution_count": 19,
     "metadata": {},
     "output_type": "execute_result"
    }
   ],
   "source": [
    "response = with_message_history.invoke(\n",
    "    {\n",
    "        'messages':[HumanMessage(content=\"Hi, My name is Saad Tariq\")],\n",
    "        'language': 'Urdu'\n",
    "    },\n",
    "    config=config2\n",
    ")\n",
    "\n",
    "response.content"
   ]
  },
  {
   "cell_type": "code",
   "execution_count": 20,
   "id": "5b49baf5-f437-4cc0-a79f-70beef11d320",
   "metadata": {},
   "outputs": [
    {
     "data": {
      "text/plain": [
       "'اُس کا نام سعد تارق ہے\\n\\n(His name is Saad Tariq) \\n'"
      ]
     },
     "execution_count": 20,
     "metadata": {},
     "output_type": "execute_result"
    }
   ],
   "source": [
    "response = with_message_history.invoke(\n",
    "    {\n",
    "        'messages':[HumanMessage(content=\"What is my name\")],\n",
    "        'language': 'Urdu'\n",
    "    },\n",
    "    config=config2\n",
    ")\n",
    "\n",
    "response.content"
   ]
  },
  {
   "cell_type": "code",
   "execution_count": null,
   "id": "4062eb57-683f-4856-951d-63d1b3fcc807",
   "metadata": {},
   "outputs": [],
   "source": []
  }
 ],
 "metadata": {
  "kernelspec": {
   "display_name": "Python 3 (ipykernel)",
   "language": "python",
   "name": "python3"
  },
  "language_info": {
   "codemirror_mode": {
    "name": "ipython",
    "version": 3
   },
   "file_extension": ".py",
   "mimetype": "text/x-python",
   "name": "python",
   "nbconvert_exporter": "python",
   "pygments_lexer": "ipython3",
   "version": "3.11.11"
  }
 },
 "nbformat": 4,
 "nbformat_minor": 5
}
