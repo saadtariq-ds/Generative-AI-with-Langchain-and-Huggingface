{
 "cells": [
  {
   "cell_type": "markdown",
   "id": "2a21579d-2d90-465e-8a0f-5978c8788c82",
   "metadata": {},
   "source": [
    "## Setup and Import Libraries"
   ]
  },
  {
   "cell_type": "code",
   "execution_count": 10,
   "id": "4463fd1d-a998-4062-a8b1-72cf5e4f7bd9",
   "metadata": {},
   "outputs": [],
   "source": [
    "import os\n",
    "from dotenv import load_dotenv\n",
    "from langchain_groq import ChatGroq\n",
    "from langchain_core.messages import HumanMessage, SystemMessage, AIMessage\n",
    "from langchain_community.chat_message_histories import ChatMessageHistory\n",
    "from langchain_core.chat_history import BaseChatMessageHistory\n",
    "from langchain_core.runnables.history import RunnableWithMessageHistory"
   ]
  },
  {
   "cell_type": "code",
   "execution_count": 2,
   "id": "979a0f29-e172-41d0-b777-6b779f94497c",
   "metadata": {},
   "outputs": [
    {
     "data": {
      "text/plain": [
       "True"
      ]
     },
     "execution_count": 2,
     "metadata": {},
     "output_type": "execute_result"
    }
   ],
   "source": [
    "load_dotenv()"
   ]
  },
  {
   "cell_type": "code",
   "execution_count": 3,
   "id": "735bbc09-5145-48f8-a163-0c548d91d8a5",
   "metadata": {},
   "outputs": [],
   "source": [
    "os.environ[\"GROQ_API_KEY\"] = os.getenv(\"GROQ_API_KEY\")"
   ]
  },
  {
   "cell_type": "code",
   "execution_count": 5,
   "id": "58cf1d8a-3ad0-4e6e-b297-3884a2a778ba",
   "metadata": {},
   "outputs": [],
   "source": [
    "llm = ChatGroq(model=\"Gemma2-9b-It\")"
   ]
  },
  {
   "cell_type": "markdown",
   "id": "f5254a78-ad3a-47ad-ab4d-319f70ab688e",
   "metadata": {},
   "source": [
    "## Messages"
   ]
  },
  {
   "cell_type": "code",
   "execution_count": 8,
   "id": "1d19a6ef-31fb-4953-9fc6-45b3cbe2dcef",
   "metadata": {},
   "outputs": [
    {
     "data": {
      "text/plain": [
       "AIMessage(content=\"Hello Saad Tariq! It's nice to meet you.\\n\\nBeing a Data Scientist is a fascinating field. What kind of work are you involved in? Do you have any interesting projects you'd like to talk about? \\n\\nI'm always eager to learn more about the work people are doing with data.\\n\", additional_kwargs={}, response_metadata={'token_usage': {'completion_tokens': 68, 'prompt_tokens': 23, 'total_tokens': 91, 'completion_time': 0.123636364, 'prompt_time': 0.002107285, 'queue_time': 0.018710784, 'total_time': 0.125743649}, 'model_name': 'Gemma2-9b-It', 'system_fingerprint': 'fp_10c08bf97d', 'finish_reason': 'stop', 'logprobs': None}, id='run-84ff85e1-7a87-48ff-ac81-1b05b118e0be-0', usage_metadata={'input_tokens': 23, 'output_tokens': 68, 'total_tokens': 91})"
      ]
     },
     "execution_count": 8,
     "metadata": {},
     "output_type": "execute_result"
    }
   ],
   "source": [
    "llm.invoke(\n",
    "    [\n",
    "        HumanMessage(content=\"Hi, My name is Saad Tariq and I am a Data Scientist\")\n",
    "    ]\n",
    ")"
   ]
  },
  {
   "cell_type": "code",
   "execution_count": 9,
   "id": "898dddf4-1f2b-42b6-bf75-79359217b8b0",
   "metadata": {},
   "outputs": [
    {
     "data": {
      "text/plain": [
       "AIMessage(content=\"You said your name is Saad Tariq and that you are a Data Scientist. \\n\\nIs there anything else you'd like to tell me about yourself or your work? I'm eager to learn more! 😊  \\n\\n\", additional_kwargs={}, response_metadata={'token_usage': {'completion_tokens': 49, 'prompt_tokens': 74, 'total_tokens': 123, 'completion_time': 0.089090909, 'prompt_time': 0.003853789, 'queue_time': 0.018962999, 'total_time': 0.092944698}, 'model_name': 'Gemma2-9b-It', 'system_fingerprint': 'fp_10c08bf97d', 'finish_reason': 'stop', 'logprobs': None}, id='run-24275743-fdf5-4bdf-9105-e740099d0efe-0', usage_metadata={'input_tokens': 74, 'output_tokens': 49, 'total_tokens': 123})"
      ]
     },
     "execution_count": 9,
     "metadata": {},
     "output_type": "execute_result"
    }
   ],
   "source": [
    "llm.invoke(\n",
    "    [\n",
    "        HumanMessage(content=\"Hi, My name is Saad Tariq and I am a Data Scientist\"),\n",
    "        AIMessage(content=\"Hello Saad Tariq! It's nice to meet you.\\n\\nBeing a Data Scientist is a fascinating field. What kind of work are you involved in?\"),\n",
    "        HumanMessage(content=\"What is my name and What I do?\")\n",
    "    ]\n",
    ")"
   ]
  },
  {
   "cell_type": "markdown",
   "id": "79893d32-b994-4c12-8c4b-8072f5b4eda3",
   "metadata": {},
   "source": [
    "## Message History\n",
    "\n",
    "We can use a Message History class to wrap our model and make it stateful. This will keep track of the inputs and outputs of the model, and store them in some datastore. Future interactions will then load those messages and pass them into the chain as part of the input."
   ]
  },
  {
   "cell_type": "code",
   "execution_count": 11,
   "id": "6df6d0dc-ba7b-4a9f-b2f4-de2e15dadf01",
   "metadata": {},
   "outputs": [],
   "source": [
    "store = {}\n",
    "\n",
    "def get_session_history(session_id: str) -> BaseChatMessageHistory:\n",
    "    if session_id not in store:\n",
    "        store[session_id] = ChatMessageHistory()\n",
    "        \n",
    "    return store[session_id]"
   ]
  },
  {
   "cell_type": "code",
   "execution_count": 12,
   "id": "d4c28e9c-9270-41ea-ae50-184cc1b692a4",
   "metadata": {},
   "outputs": [],
   "source": [
    "config = {\n",
    "    \"configurable\": {\"session_id\": \"chat1\"}\n",
    "}"
   ]
  },
  {
   "cell_type": "code",
   "execution_count": 13,
   "id": "a83f6c65-5754-4b61-baac-b3b3dc52725d",
   "metadata": {},
   "outputs": [],
   "source": [
    "with_message_history = RunnableWithMessageHistory(llm, get_session_history)"
   ]
  },
  {
   "cell_type": "code",
   "execution_count": 15,
   "id": "726a2ec8-160a-4481-8d04-ab106ebeefb4",
   "metadata": {},
   "outputs": [],
   "source": [
    "response = with_message_history.invoke(\n",
    "    [\n",
    "        HumanMessage(content=\"Hi, My name is Saad Tariq and I am a Data Scientist\"),\n",
    "    ],\n",
    "    config=config\n",
    ")"
   ]
  },
  {
   "cell_type": "code",
   "execution_count": 16,
   "id": "9ece113a-f484-4aba-bb1f-8f41d79eee3a",
   "metadata": {},
   "outputs": [
    {
     "data": {
      "text/plain": [
       "\"Hello Saad Tariq!  \\n\\nIt's great to meet you. Being a Data Scientist is a really interesting profession. \\n\\nWhat kind of projects are you working on these days?  Do you have any specific questions for me or are you just saying hello? 😊  I'm happy to chat about data science, help with code, or just have a friendly conversation.  \\n\\n\""
      ]
     },
     "execution_count": 16,
     "metadata": {},
     "output_type": "execute_result"
    }
   ],
   "source": [
    "response.content"
   ]
  },
  {
   "cell_type": "code",
   "execution_count": 17,
   "id": "5fb36bec-3551-43cc-9338-3bff6017ce77",
   "metadata": {},
   "outputs": [
    {
     "data": {
      "text/plain": [
       "'Your name is Saad Tariq, as you told me earlier.  😊  \\n\\nIs there anything else I can help you with?\\n'"
      ]
     },
     "execution_count": 17,
     "metadata": {},
     "output_type": "execute_result"
    }
   ],
   "source": [
    "response = with_message_history.invoke(\n",
    "    [\n",
    "        HumanMessage(content=\"What is my name\"),\n",
    "    ],\n",
    "    config=config\n",
    ")\n",
    "\n",
    "response.content"
   ]
  },
  {
   "cell_type": "markdown",
   "id": "eb3f78f0-312c-4d3d-830a-498bdf657047",
   "metadata": {},
   "source": [
    "## Changing the Config"
   ]
  },
  {
   "cell_type": "code",
   "execution_count": null,
   "id": "be9e65a6-6c71-4b18-ba53-602f43cf786f",
   "metadata": {},
   "outputs": [],
   "source": [
    "config = {\n",
    "    \"configurable\": {\"session_id\": \"chat1\"}\n",
    "}"
   ]
  }
 ],
 "metadata": {
  "kernelspec": {
   "display_name": "Python 3 (ipykernel)",
   "language": "python",
   "name": "python3"
  },
  "language_info": {
   "codemirror_mode": {
    "name": "ipython",
    "version": 3
   },
   "file_extension": ".py",
   "mimetype": "text/x-python",
   "name": "python",
   "nbconvert_exporter": "python",
   "pygments_lexer": "ipython3",
   "version": "3.11.11"
  }
 },
 "nbformat": 4,
 "nbformat_minor": 5
}
