{
 "cells": [
  {
   "cell_type": "markdown",
   "id": "2a21579d-2d90-465e-8a0f-5978c8788c82",
   "metadata": {},
   "source": [
    "## Setup and Import Libraries"
   ]
  },
  {
   "cell_type": "code",
   "execution_count": 1,
   "id": "4463fd1d-a998-4062-a8b1-72cf5e4f7bd9",
   "metadata": {},
   "outputs": [],
   "source": [
    "import os\n",
    "from dotenv import load_dotenv\n",
    "from langchain_groq import ChatGroq\n",
    "from langchain_core.messages import HumanMessage, SystemMessage, AIMessage\n",
    "from langchain_community.chat_message_histories import ChatMessageHistory\n",
    "from langchain_core.chat_history import BaseChatMessageHistory\n",
    "from langchain_core.runnables.history import RunnableWithMessageHistory"
   ]
  },
  {
   "cell_type": "code",
   "execution_count": 2,
   "id": "979a0f29-e172-41d0-b777-6b779f94497c",
   "metadata": {},
   "outputs": [
    {
     "data": {
      "text/plain": [
       "True"
      ]
     },
     "execution_count": 2,
     "metadata": {},
     "output_type": "execute_result"
    }
   ],
   "source": [
    "load_dotenv()"
   ]
  },
  {
   "cell_type": "code",
   "execution_count": 3,
   "id": "735bbc09-5145-48f8-a163-0c548d91d8a5",
   "metadata": {},
   "outputs": [],
   "source": [
    "os.environ[\"GROQ_API_KEY\"] = os.getenv(\"GROQ_API_KEY\")"
   ]
  },
  {
   "cell_type": "code",
   "execution_count": 4,
   "id": "58cf1d8a-3ad0-4e6e-b297-3884a2a778ba",
   "metadata": {},
   "outputs": [],
   "source": [
    "llm = ChatGroq(model=\"Gemma2-9b-It\")"
   ]
  },
  {
   "cell_type": "markdown",
   "id": "f5254a78-ad3a-47ad-ab4d-319f70ab688e",
   "metadata": {},
   "source": [
    "## Messages"
   ]
  },
  {
   "cell_type": "code",
   "execution_count": 5,
   "id": "1d19a6ef-31fb-4953-9fc6-45b3cbe2dcef",
   "metadata": {},
   "outputs": [
    {
     "data": {
      "text/plain": [
       "AIMessage(content=\"Hello Saad Tariq,\\n\\nIt's nice to meet you!  I'm glad you introduced yourself. \\n\\nWhat can I do for you today? Are you working on any interesting projects? Perhaps I can help with some data analysis or provide information on a specific topic related to data science.\\n\", additional_kwargs={}, response_metadata={'token_usage': {'completion_tokens': 64, 'prompt_tokens': 23, 'total_tokens': 87, 'completion_time': 0.116363636, 'prompt_time': 0.002112606, 'queue_time': 0.019646933000000002, 'total_time': 0.118476242}, 'model_name': 'Gemma2-9b-It', 'system_fingerprint': 'fp_10c08bf97d', 'finish_reason': 'stop', 'logprobs': None}, id='run-fb866c44-5cf2-4dcc-8a26-b54df77db3f0-0', usage_metadata={'input_tokens': 23, 'output_tokens': 64, 'total_tokens': 87})"
      ]
     },
     "execution_count": 5,
     "metadata": {},
     "output_type": "execute_result"
    }
   ],
   "source": [
    "llm.invoke(\n",
    "    [\n",
    "        HumanMessage(content=\"Hi, My name is Saad Tariq and I am a Data Scientist\")\n",
    "    ]\n",
    ")"
   ]
  },
  {
   "cell_type": "code",
   "execution_count": 6,
   "id": "898dddf4-1f2b-42b6-bf75-79359217b8b0",
   "metadata": {},
   "outputs": [
    {
     "data": {
      "text/plain": [
       "AIMessage(content=\"You said your name is Saad Tariq and that you are a Data Scientist. \\n\\nIs there anything else you'd like to tell me about yourself or your work? I'm eager to learn more!\\n\", additional_kwargs={}, response_metadata={'token_usage': {'completion_tokens': 46, 'prompt_tokens': 74, 'total_tokens': 120, 'completion_time': 0.083636364, 'prompt_time': 0.004518702, 'queue_time': 0.150698336, 'total_time': 0.088155066}, 'model_name': 'Gemma2-9b-It', 'system_fingerprint': 'fp_10c08bf97d', 'finish_reason': 'stop', 'logprobs': None}, id='run-1472e26d-1279-48bd-bc0f-7a837e498d8b-0', usage_metadata={'input_tokens': 74, 'output_tokens': 46, 'total_tokens': 120})"
      ]
     },
     "execution_count": 6,
     "metadata": {},
     "output_type": "execute_result"
    }
   ],
   "source": [
    "llm.invoke(\n",
    "    [\n",
    "        HumanMessage(content=\"Hi, My name is Saad Tariq and I am a Data Scientist\"),\n",
    "        AIMessage(content=\"Hello Saad Tariq! It's nice to meet you.\\n\\nBeing a Data Scientist is a fascinating field. What kind of work are you involved in?\"),\n",
    "        HumanMessage(content=\"What is my name and What I do?\")\n",
    "    ]\n",
    ")"
   ]
  },
  {
   "cell_type": "markdown",
   "id": "79893d32-b994-4c12-8c4b-8072f5b4eda3",
   "metadata": {},
   "source": [
    "## Message History\n",
    "\n",
    "We can use a Message History class to wrap our model and make it stateful. This will keep track of the inputs and outputs of the model, and store them in some datastore. Future interactions will then load those messages and pass them into the chain as part of the input."
   ]
  },
  {
   "cell_type": "code",
   "execution_count": 7,
   "id": "6df6d0dc-ba7b-4a9f-b2f4-de2e15dadf01",
   "metadata": {},
   "outputs": [],
   "source": [
    "store = {}\n",
    "\n",
    "def get_session_history(session_id: str) -> BaseChatMessageHistory:\n",
    "    if session_id not in store:\n",
    "        store[session_id] = ChatMessageHistory()\n",
    "        \n",
    "    return store[session_id]"
   ]
  },
  {
   "cell_type": "code",
   "execution_count": 8,
   "id": "d4c28e9c-9270-41ea-ae50-184cc1b692a4",
   "metadata": {},
   "outputs": [],
   "source": [
    "config = {\n",
    "    \"configurable\": {\"session_id\": \"chat1\"}\n",
    "}"
   ]
  },
  {
   "cell_type": "code",
   "execution_count": 9,
   "id": "a83f6c65-5754-4b61-baac-b3b3dc52725d",
   "metadata": {},
   "outputs": [],
   "source": [
    "with_message_history = RunnableWithMessageHistory(llm, get_session_history)"
   ]
  },
  {
   "cell_type": "code",
   "execution_count": 10,
   "id": "726a2ec8-160a-4481-8d04-ab106ebeefb4",
   "metadata": {},
   "outputs": [],
   "source": [
    "response = with_message_history.invoke(\n",
    "    [\n",
    "        HumanMessage(content=\"Hi, My name is Saad Tariq and I am a Data Scientist\"),\n",
    "    ],\n",
    "    config=config\n",
    ")"
   ]
  },
  {
   "cell_type": "code",
   "execution_count": 11,
   "id": "9ece113a-f484-4aba-bb1f-8f41d79eee3a",
   "metadata": {},
   "outputs": [
    {
     "data": {
      "text/plain": [
       "\"Hello Saad Tariq, it's nice to meet you! \\n\\nThat's great that you're a Data Scientist. It's a fascinating field with so many opportunities. \\n\\nWhat kind of data science work do you do? Are you working on any interesting projects right now?\\n\""
      ]
     },
     "execution_count": 11,
     "metadata": {},
     "output_type": "execute_result"
    }
   ],
   "source": [
    "response.content"
   ]
  },
  {
   "cell_type": "code",
   "execution_count": 12,
   "id": "5fb36bec-3551-43cc-9338-3bff6017ce77",
   "metadata": {},
   "outputs": [
    {
     "data": {
      "text/plain": [
       "'Your name is Saad Tariq.  😊  \\n\\nI remembered from our earlier conversation.  Is there anything else I can help you with?\\n'"
      ]
     },
     "execution_count": 12,
     "metadata": {},
     "output_type": "execute_result"
    }
   ],
   "source": [
    "response = with_message_history.invoke(\n",
    "    [\n",
    "        HumanMessage(content=\"What is my name\"),\n",
    "    ],\n",
    "    config=config\n",
    ")\n",
    "\n",
    "response.content"
   ]
  },
  {
   "cell_type": "markdown",
   "id": "eb3f78f0-312c-4d3d-830a-498bdf657047",
   "metadata": {},
   "source": [
    "## Changing the Config"
   ]
  },
  {
   "cell_type": "code",
   "execution_count": 13,
   "id": "be9e65a6-6c71-4b18-ba53-602f43cf786f",
   "metadata": {},
   "outputs": [],
   "source": [
    "config2 = {\n",
    "    \"configurable\": {\"session_id\": \"chat2\"}\n",
    "}"
   ]
  },
  {
   "cell_type": "code",
   "execution_count": 14,
   "id": "4fdf44d7-631d-4565-80fc-545a06168bd1",
   "metadata": {},
   "outputs": [
    {
     "data": {
      "text/plain": [
       "'As an AI, I have no memory of past conversations and do not know your name. Can you tell me? 😊\\n'"
      ]
     },
     "execution_count": 14,
     "metadata": {},
     "output_type": "execute_result"
    }
   ],
   "source": [
    "response = with_message_history.invoke(\n",
    "    [\n",
    "        HumanMessage(content=\"What is my name\"),\n",
    "    ],\n",
    "    config=config2\n",
    ")\n",
    "\n",
    "response.content"
   ]
  },
  {
   "cell_type": "code",
   "execution_count": 15,
   "id": "5cbce992-bb25-41d7-b285-901ca259030c",
   "metadata": {},
   "outputs": [
    {
     "data": {
      "text/plain": [
       "\"Hi Shawn, it's nice to meet you! 👋 \\n\\nIs there anything I can help you with today?\\n\""
      ]
     },
     "execution_count": 15,
     "metadata": {},
     "output_type": "execute_result"
    }
   ],
   "source": [
    "response = with_message_history.invoke(\n",
    "    [\n",
    "        HumanMessage(content=\"Hi, My name is Shawn\"),\n",
    "    ],\n",
    "    config=config2\n",
    ")\n",
    "\n",
    "response.content"
   ]
  },
  {
   "cell_type": "code",
   "execution_count": 16,
   "id": "1c931268-3e04-4d8f-9ec5-3eac89d25cdf",
   "metadata": {},
   "outputs": [
    {
     "data": {
      "text/plain": [
       "'Your name is Shawn. 😊  \\n\\nI remembered!  Do you need me to remember anything else?\\n'"
      ]
     },
     "execution_count": 16,
     "metadata": {},
     "output_type": "execute_result"
    }
   ],
   "source": [
    "response = with_message_history.invoke(\n",
    "    [\n",
    "        HumanMessage(content=\"What is my name\"),\n",
    "    ],\n",
    "    config=config2\n",
    ")\n",
    "\n",
    "response.content"
   ]
  },
  {
   "cell_type": "code",
   "execution_count": null,
   "id": "3e280ed4-4100-447e-8b61-9af61b862ce2",
   "metadata": {},
   "outputs": [],
   "source": []
  }
 ],
 "metadata": {
  "kernelspec": {
   "display_name": "Python 3 (ipykernel)",
   "language": "python",
   "name": "python3"
  },
  "language_info": {
   "codemirror_mode": {
    "name": "ipython",
    "version": 3
   },
   "file_extension": ".py",
   "mimetype": "text/x-python",
   "name": "python",
   "nbconvert_exporter": "python",
   "pygments_lexer": "ipython3",
   "version": "3.11.11"
  }
 },
 "nbformat": 4,
 "nbformat_minor": 5
}
