{
 "cells": [
  {
   "cell_type": "markdown",
   "id": "8beda588-2b17-4e0d-ac0b-e670b2954672",
   "metadata": {},
   "source": [
    "## Setup and Import Libraries"
   ]
  },
  {
   "cell_type": "code",
   "execution_count": 1,
   "id": "1dd3a9b5-1687-44e5-8dbe-906459a8dad8",
   "metadata": {},
   "outputs": [],
   "source": [
    "import os\n",
    "from langchain_groq import ChatGroq\n",
    "from langchain.schema import AIMessage, HumanMessage, SystemMessage\n",
    "from langchain.prompts import PromptTemplate\n",
    "from dotenv import load_dotenv"
   ]
  },
  {
   "cell_type": "code",
   "execution_count": 2,
   "id": "ece6accd-80ba-4e22-b9de-5d203164ea2a",
   "metadata": {},
   "outputs": [
    {
     "data": {
      "text/plain": [
       "True"
      ]
     },
     "execution_count": 2,
     "metadata": {},
     "output_type": "execute_result"
    }
   ],
   "source": [
    "load_dotenv()"
   ]
  },
  {
   "cell_type": "code",
   "execution_count": 3,
   "id": "8b89cdd5-3a04-42a3-a73d-d64986d0dbc4",
   "metadata": {},
   "outputs": [],
   "source": [
    "os.environ[\"GROQ_API_KEY\"] = os.getenv(\"GROQ_API_KEY\")"
   ]
  },
  {
   "cell_type": "code",
   "execution_count": 4,
   "id": "081c2118-b54c-4ea6-90a2-e75dfa37fd83",
   "metadata": {},
   "outputs": [],
   "source": [
    "llm = ChatGroq(model_name='llama3-8b-8192')"
   ]
  },
  {
   "cell_type": "code",
   "execution_count": 5,
   "id": "2db5576d-25bc-4ca2-8e7d-e2949f9892df",
   "metadata": {},
   "outputs": [],
   "source": [
    "speech = \"\"\" Above all, My Lord, we want equal political rights, because without them our disabilities will be permanent. I know this sounds revolutionary \n",
    "to the whites in this country, because the majority of voters will be Africans. This makes the white man fear democracy. But this fear cannot be allowed \n",
    "to stand in the way of the only solution which will guarantee racial harmony and freedom for all. It is not true that the enfranchisement of all will \n",
    "result in racial domination. Political division, based on colour, is entirely artificial and, when it disappears, so will the domination of one colour \n",
    "group by another. The ANC has spent half a century fighting against racialism. When it triumphs as it certainly must, it will not change that policy.\n",
    "This then is what the ANC is fighting. Our struggle is a truly national one. It is a struggle of the African people, inspired by our own suffering and \n",
    "our own experience. It is a struggle for the right to live. During my lifetime I have dedicated my life to this struggle of the African people. \n",
    "I have fought against white domination, and I have fought against black domination. I have cherished the ideal of a democratic and free society in \n",
    "which all persons will live together in harmony and with equal opportunities. It is an ideal for which I hope to live for and to see realised. \n",
    "But, My Lord, if it needs be, it is an ideal for which I am prepared to die.\n",
    "\"\"\""
   ]
  },
  {
   "cell_type": "markdown",
   "id": "46a67a7d-4b41-43ad-94e9-d6986e33b489",
   "metadata": {},
   "source": [
    "## Text Summarization"
   ]
  },
  {
   "cell_type": "code",
   "execution_count": 6,
   "id": "d6335265-e728-472b-ad8b-4a88b2f12913",
   "metadata": {},
   "outputs": [],
   "source": [
    "chat_message = [\n",
    "    SystemMessage(content=\"You are expert in expertise in summarizing speeches\"),\n",
    "    HumanMessage(content=f\"Please provide a short and concise summary of the following speech: \\n Text: {speech}\"),\n",
    "]"
   ]
  },
  {
   "cell_type": "code",
   "execution_count": 8,
   "id": "567958d5-6edd-443d-8737-2aebce3f78aa",
   "metadata": {},
   "outputs": [
    {
     "data": {
      "text/plain": [
       "307"
      ]
     },
     "execution_count": 8,
     "metadata": {},
     "output_type": "execute_result"
    }
   ],
   "source": [
    "llm.get_num_tokens(speech)"
   ]
  },
  {
   "cell_type": "code",
   "execution_count": 9,
   "id": "abe9dc77-4e5a-45ae-81e2-0174bce4535e",
   "metadata": {},
   "outputs": [
    {
     "data": {
      "text/plain": [
       "AIMessage(content='Here is a concise summary of the speech:\\n\\nThe speaker, Nelson Mandela, emphasizes the importance of equal political rights for all, particularly the African people. He acknowledges that this may seem revolutionary to whites, who fear democracy and majority rule. However, he argues that racial harmony and freedom can only be achieved through the enfranchisement of all. The African National Congress (ANC) has spent decades fighting against racialism and will not change its policy when it triumphs. Mandela reiterates his commitment to a democratic and free society where all people can live together in harmony and with equal opportunities, and if necessary, he is willing to die for this ideal.', additional_kwargs={}, response_metadata={'token_usage': {'completion_tokens': 134, 'prompt_tokens': 337, 'total_tokens': 471, 'completion_time': 0.111666667, 'prompt_time': 0.060416446, 'queue_time': 0.03496677300000001, 'total_time': 0.172083113}, 'model_name': 'llama3-8b-8192', 'system_fingerprint': 'fp_179b0f92c9', 'finish_reason': 'stop', 'logprobs': None}, id='run-20b1e2c6-d6f4-4d82-bc2a-e21ae70a08c5-0', usage_metadata={'input_tokens': 337, 'output_tokens': 134, 'total_tokens': 471})"
      ]
     },
     "execution_count": 9,
     "metadata": {},
     "output_type": "execute_result"
    }
   ],
   "source": [
    "llm.invoke(chat_message)"
   ]
  },
  {
   "cell_type": "code",
   "execution_count": 10,
   "id": "803a6a8d-6b5a-4cf1-86db-b2e46b3105f4",
   "metadata": {},
   "outputs": [
    {
     "data": {
      "text/plain": [
       "'Here is a concise summary of the speech:\\n\\nThe speaker, Mandela, argues that the African National Congress (ANC) is fighting for equal political rights, which will ensure racial harmony and freedom for all. He asserts that enfranchising all people will not lead to racial domination, but rather the end of political division based on color. The ANC has spent decades combating racialism and will continue to do so. Mandela declares that he has dedicated his life to the struggle for a democratic and free society where all people live together with equal opportunities, and he is willing to die for this ideal.'"
      ]
     },
     "execution_count": 10,
     "metadata": {},
     "output_type": "execute_result"
    }
   ],
   "source": [
    "llm.invoke(chat_message).content"
   ]
  },
  {
   "cell_type": "markdown",
   "id": "563b89f1-1d07-4c3d-89fa-bb645614366a",
   "metadata": {},
   "source": [
    "## Text Summarization with Prompt Template"
   ]
  },
  {
   "cell_type": "code",
   "execution_count": 11,
   "id": "bd1fa4e8-1790-4218-8cb5-f3fc08c77920",
   "metadata": {},
   "outputs": [],
   "source": [
    "generic_template = \"\"\" \n",
    "Write a summary of the following speech:\n",
    "Speech: {speech}\n",
    "\n",
    "Translate the precise summary to {language}\n",
    "\"\"\""
   ]
  },
  {
   "cell_type": "code",
   "execution_count": 12,
   "id": "039ef3d1-da9b-4f35-abb0-e553d84cacee",
   "metadata": {},
   "outputs": [
    {
     "data": {
      "text/plain": [
       "PromptTemplate(input_variables=['language', 'speech'], input_types={}, partial_variables={}, template=' \\nWrite a summary of the following speech:\\nSpeech: {speech}\\n\\nTranslate the precise summary to {language}\\n')"
      ]
     },
     "execution_count": 12,
     "metadata": {},
     "output_type": "execute_result"
    }
   ],
   "source": [
    "prompt = PromptTemplate(\n",
    "    input_variables=['speech','language'],\n",
    "    template=generic_template\n",
    ")\n",
    "\n",
    "prompt"
   ]
  },
  {
   "cell_type": "code",
   "execution_count": 13,
   "id": "8f295bed-00b3-45ef-ad86-63d21a25e442",
   "metadata": {},
   "outputs": [
    {
     "data": {
      "text/plain": [
       "' \\nWrite a summary of the following speech:\\nSpeech:  Above all, My Lord, we want equal political rights, because without them our disabilities will be permanent. I know this sounds revolutionary \\nto the whites in this country, because the majority of voters will be Africans. This makes the white man fear democracy. But this fear cannot be allowed \\nto stand in the way of the only solution which will guarantee racial harmony and freedom for all. It is not true that the enfranchisement of all will \\nresult in racial domination. Political division, based on colour, is entirely artificial and, when it disappears, so will the domination of one colour \\ngroup by another. The ANC has spent half a century fighting against racialism. When it triumphs as it certainly must, it will not change that policy.\\nThis then is what the ANC is fighting. Our struggle is a truly national one. It is a struggle of the African people, inspired by our own suffering and \\nour own experience. It is a struggle for the right to live. During my lifetime I have dedicated my life to this struggle of the African people. \\nI have fought against white domination, and I have fought against black domination. I have cherished the ideal of a democratic and free society in \\nwhich all persons will live together in harmony and with equal opportunities. It is an ideal for which I hope to live for and to see realised. \\nBut, My Lord, if it needs be, it is an ideal for which I am prepared to die.\\n\\n\\nTranslate the precise summary to Urdu\\n'"
      ]
     },
     "execution_count": 13,
     "metadata": {},
     "output_type": "execute_result"
    }
   ],
   "source": [
    "complete_prompt = prompt.format(\n",
    "    speech=speech,\n",
    "    language=\"Urdu\"\n",
    ")\n",
    "\n",
    "complete_prompt"
   ]
  },
  {
   "cell_type": "code",
   "execution_count": 14,
   "id": "7964959f-01c9-4c98-ac62-e2f441836c28",
   "metadata": {},
   "outputs": [
    {
     "data": {
      "text/plain": [
       "332"
      ]
     },
     "execution_count": 14,
     "metadata": {},
     "output_type": "execute_result"
    }
   ],
   "source": [
    "llm.get_num_tokens(complete_prompt)"
   ]
  },
  {
   "cell_type": "code",
   "execution_count": 17,
   "id": "8f2da08d-0c2c-4492-b9b7-3bf14dc8c713",
   "metadata": {},
   "outputs": [],
   "source": [
    "llm_chain = prompt | llm"
   ]
  },
  {
   "cell_type": "code",
   "execution_count": 18,
   "id": "e3e313ae-29c0-4593-aa98-a4126cd32e9c",
   "metadata": {},
   "outputs": [
    {
     "data": {
      "text/plain": [
       "AIMessage(content='Summary:\\n\\nThe speaker emphasizes the importance of equal political rights for all, particularly for the African people. They argue that without equal rights, their disabilities will remain permanent. The speaker acknowledges that enfranchising all people may seem revolutionary to whites, as it would mean the majority of voters would be Africans. However, they believe that this fear of democracy must not stand in the way of achieving racial harmony and freedom. The African National Congress (ANC) has fought against racialism for half a century and will continue to do so, striving for a democratic and free society where all people can live together with equal opportunities.\\n\\nUrdu Translation:\\n\\nمیرے لارڈ، آپے کے لیے سب سے اہم بات یہ ہے کہ تمام لوگوں کو سیاسی حقوق دیے جانے چاہئیں۔ کھللے لوگوں کو یہ سمجھ آئے گا کہ اکثریت ووٹر آفریقہ کے ہوں گے۔ لیکن وہ یہ فریاد نہیں کر سکتے کہ Democracy کا خوف ہے۔ لیکن لڑائی نہیں ہونا چاہئے کہ ہم اپنی فریادوں کو ظاہر کرتے ہیں۔\\nاے انسپیریشل نیشنل کونگرس (ANC) نے پچھلے آدھ صدی میں ریشیسم کے خلاف لڑائی لڑی ہے اور اسے جیتنا چاہے گا۔ ہم کی لڑائی ایک نہیں ہے بلکہ آفریقہ کے لوگوں کی لڑائی ہے۔ ہم نے اپنی رنجISHED کے لیے اپنے آپ کو وقف کیا ہے۔ ہم نے ریشیسم کے خلاف لڑائی لڑی ہے اور ہم نے اسے جیتنا چاہے گا۔', additional_kwargs={}, response_metadata={'token_usage': {'completion_tokens': 551, 'prompt_tokens': 326, 'total_tokens': 877, 'completion_time': 0.459166667, 'prompt_time': 0.040936492, 'queue_time': 0.020010158, 'total_time': 0.500103159}, 'model_name': 'llama3-8b-8192', 'system_fingerprint': 'fp_179b0f92c9', 'finish_reason': 'stop', 'logprobs': None}, id='run-1c0bf311-9670-4675-b66c-0eae8cf2efd2-0', usage_metadata={'input_tokens': 326, 'output_tokens': 551, 'total_tokens': 877})"
      ]
     },
     "execution_count": 18,
     "metadata": {},
     "output_type": "execute_result"
    }
   ],
   "source": [
    "summary = llm_chain.invoke({\"speech\":speech, \"language\":\"Urdu\"})\n",
    "summary"
   ]
  },
  {
   "cell_type": "code",
   "execution_count": null,
   "id": "9c8d7c4a-3237-4c33-a7b4-07d31edf2910",
   "metadata": {},
   "outputs": [],
   "source": []
  }
 ],
 "metadata": {
  "kernelspec": {
   "display_name": "Python 3 (ipykernel)",
   "language": "python",
   "name": "python3"
  },
  "language_info": {
   "codemirror_mode": {
    "name": "ipython",
    "version": 3
   },
   "file_extension": ".py",
   "mimetype": "text/x-python",
   "name": "python",
   "nbconvert_exporter": "python",
   "pygments_lexer": "ipython3",
   "version": "3.11.11"
  }
 },
 "nbformat": 4,
 "nbformat_minor": 5
}
