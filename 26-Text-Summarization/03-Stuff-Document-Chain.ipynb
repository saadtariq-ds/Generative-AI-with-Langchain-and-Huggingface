{
 "cells": [
  {
   "cell_type": "markdown",
   "id": "6fc4535d-e0fe-4f15-aa08-2089774ed89e",
   "metadata": {},
   "source": [
    "## Setup and Import Libraries"
   ]
  },
  {
   "cell_type": "code",
   "execution_count": 1,
   "id": "da7ad0ee-32a1-4e32-a776-95b1e4658ec9",
   "metadata": {},
   "outputs": [],
   "source": [
    "import os\n",
    "from langchain_groq import ChatGroq\n",
    "from langchain_community.document_loaders import PyPDFLoader\n",
    "from langchain.prompts import PromptTemplate\n",
    "from langchain.chains.summarize import load_summarize_chain\n",
    "from dotenv import load_dotenv"
   ]
  },
  {
   "cell_type": "code",
   "execution_count": 2,
   "id": "d54d85d0-8657-4373-91d6-728cd5646984",
   "metadata": {},
   "outputs": [
    {
     "data": {
      "text/plain": [
       "True"
      ]
     },
     "execution_count": 2,
     "metadata": {},
     "output_type": "execute_result"
    }
   ],
   "source": [
    "load_dotenv()"
   ]
  },
  {
   "cell_type": "code",
   "execution_count": 3,
   "id": "2f71d39e-1f11-47ad-b81b-178d3bd0ee8a",
   "metadata": {},
   "outputs": [],
   "source": [
    "os.environ[\"GROQ_API_KEY\"] = os.getenv(\"GROQ_API_KEY\")"
   ]
  },
  {
   "cell_type": "code",
   "execution_count": 4,
   "id": "a947e059-8089-4dae-9a90-4473d60e2eda",
   "metadata": {},
   "outputs": [],
   "source": [
    "llm = ChatGroq(model_name='llama3-8b-8192')"
   ]
  },
  {
   "cell_type": "markdown",
   "id": "2f71ef30-1c5b-4d8a-b7ef-94fa7d6b1aaa",
   "metadata": {},
   "source": [
    "## Stuff Document Chain"
   ]
  },
  {
   "cell_type": "code",
   "execution_count": 5,
   "id": "71e96c74-5cd2-41fb-9704-59023f5923b0",
   "metadata": {
    "scrolled": true
   },
   "outputs": [],
   "source": [
    "loader = PyPDFLoader(\"nelson_mandela_speech.pdf\")\n",
    "docs = loader.load()\n",
    "# docs"
   ]
  },
  {
   "cell_type": "code",
   "execution_count": 6,
   "id": "40bb39f8-471c-4424-9128-2d7ab46828b8",
   "metadata": {},
   "outputs": [],
   "source": [
    "template = \"\"\" Write a concise and short summary of the following speech\n",
    "Speech: {text}\n",
    "\"\"\"\n",
    "\n",
    "prompt = PromptTemplate(\n",
    "    template=template,\n",
    "    input_variables=['text']\n",
    ")"
   ]
  },
  {
   "cell_type": "code",
   "execution_count": 9,
   "id": "c2a4e2b5-f00d-4822-b9dc-cfdbf15cae2c",
   "metadata": {},
   "outputs": [
    {
     "name": "stdout",
     "output_type": "stream",
     "text": [
      "\n",
      "\n",
      "\u001b[1m> Entering new StuffDocumentsChain chain...\u001b[0m\n",
      "\n",
      "\n",
      "\u001b[1m> Entering new LLMChain chain...\u001b[0m\n",
      "Prompt after formatting:\n",
      "\u001b[32;1m\u001b[1;3m Write a concise and short summary of the following speech\n",
      "Speech: [Document] \n",
      " \n",
      "Nelson Mandela’s Speech on His Release from Prison \n",
      "On February 11 1990, Nelson Mandela, after more than a quarter century behind bars, \n",
      "walked through the gates of Victor Verster Prison. Afterwards, he addressed the nation \n",
      "before a huge rally in Cape Town. The speech was broadcast live around the world. He \n",
      "was inaugurated president of South Africa in Pretoria on May 10, 1994. \n",
      "Friends, comrades and fellow South Africans.  \n",
      "I greet you all in the name of peace, democracy and freedom for all.  \n",
      "I stand here before you not as a prophet but as a humble servant of you, the people. Your \n",
      "tireless and heroic sacrifices have made it possible for me to be here today. I therefore \n",
      "place the remaining years of my life in your hands.  \n",
      "On this day of my release, I extend my sincere and warmest gratitude to the millions of \n",
      "my compatriots and those in every corner of the globe who have campaigned tirelessly \n",
      "for my release.  \n",
      "I send special greetings to the people of Cape Town, this city which has been my home \n",
      "for three decades. Your mass marches and other forms of struggle have served as a \n",
      "constant source of strength to all political prisoners.  \n",
      "I salute the African National Congress. It has fulfilled our every expectation in its role as \n",
      "leader of the great march to freedom.  \n",
      "I salute our President, Comrade Oliver Tambo, for leading the ANC even under the most \n",
      "difficult circumstances.  \n",
      "I salute the rank and file members of the ANC. You have sacrificed life and limb in the \n",
      "pursuit of the noble cause of our struggle.  \n",
      "I salute combatants of Umkhonto we Sizwe, like Solomon Mahlangu and Ashley Kriel \n",
      "who have paid the ultimate price for the freedom of all South Africans.  \n",
      "I salute the South African Communist Party for its sterling contribution to the struggle for \n",
      "democracy. You have survived 40 years of unrelenting persecution. The memory of great \n",
      "communists like Moses Kotane, Yusuf Dadoo, Bram Fischer and Moses Mabhida will be \n",
      "cherished for generations to come.  \n",
      "I salute General Secretary Joe Slovo, one of our finest patriots. We are heartened by the \n",
      "fact that the alliance between ourselves and the Party remains as strong as it always was.\n",
      "\n",
      "I salute the United Democratic Front, the National Education Crisis Committee, the South \n",
      "African Youth Congress, the Transvaal and Natal Indian Congresses and COSATU and \n",
      "the many other formations of the Mass Democratic Movement.  \n",
      "I also salute the Black Sash and the National Union of South African Students. We note \n",
      "with pride that you have acted as the conscience of white South Africa. Even during the \n",
      "darkest days in the history of our struggle you held the flag of liberty high. The large-\n",
      "scale mass mobilisation of the past few years is one of the key factors which led to the \n",
      "opening of the final chapter of our struggle.  \n",
      "I extend my greetings to the working class of our country. Your organised strength is the \n",
      "pride of our movement. You remain the most dependable force in the struggle to end \n",
      "exploitation and oppression.  \n",
      "I pay tribute to the many religious communities who carried the campaign for justice \n",
      "forward when the organisations for our people were silenced.  \n",
      "I greet the traditional leaders of our country - many of you continue to walk in the \n",
      "footsteps of great heroes like Hintsa and Sekhukune.  \n",
      "I pay tribute to the endless heroism of youth, you, the young lions. You, the young lions, \n",
      "have energised our entire struggle.  \n",
      "I pay tribute to the mothers and wives and sisters of our nation. You are the rock-hard \n",
      "foundation of our struggle. Apartheid has inflicted more pain on you than on anyone else.  \n",
      "On this occasion, we thank the world community for their great contribution to the anti-\n",
      "apartheid struggle. Without your support our struggle would not have reached this \n",
      "advanced stage. The sacrifice of the frontline states will be remembered by South \n",
      "Africans forever.  \n",
      "My salutations would be incomplete without expressing my deep appreciation for the \n",
      "strength given to me during my long and lonely years in prison by my beloved wife and \n",
      "family. I am convinced that your pain and suffering was far greater than my own.  \n",
      "Before I go any further I wish to make the point that I intend making only a few \n",
      "preliminary comments at this stage. I will make a more complete statement only after I \n",
      "have had the opportunity to consult with my comrades.  \n",
      "Today the majority of South Africans, black and white, recognise that apartheid has no \n",
      "future. It has to be ended by our own decisive mass action in order to build peace and \n",
      "security. The mass campaign of defiance and other actions of our organisation and people \n",
      "can only culminate in the establishment of democracy. The destruction caused by \n",
      "apartheid on our sub-continent is in- calculable. The fabric of family life of millions of \n",
      "my people has been shattered. Millions are homeless and unemployed. Our economy lies \n",
      "in ruins and our people are embroiled in political strife. Our resort to the armed struggle\n",
      "\n",
      "in 1960 with the formation of the military wing of the ANC, Umkhonto we Sizwe, was a \n",
      "purely defensive action against the violence of apartheid. The factors which necessitated \n",
      "the armed struggle still exist today. We have no option but to continue. We express the \n",
      "hope that a climate conducive to a negotiated settlement will be created soon so that there \n",
      "may no longer be the need for the armed struggle.  \n",
      "I am a loyal and disciplined member of the African National Congress. I am therefore in \n",
      "full agreement with all of its objectives, strategies and tactics.  \n",
      "The need to unite the people of our country is as important a task now as it always has \n",
      "been. No individual leader is able to take on this enormous task on his own. It is our task \n",
      "as leaders to place our views before our organisation and to allow the democratic \n",
      "structures to decide. On the question of democratic practice, I feel duty bound to make \n",
      "the point that a leader of the movement is a person who has been democratically elected \n",
      "at a national conference. This is a principle which must be upheld without any \n",
      "exceptions.  \n",
      "Today, I wish to report to you that my talks with the government have been aimed at \n",
      "normalising the political situation in the country. We have not as yet begun discussing the \n",
      "basic demands of the struggle. I wish to stress that I myself have at no time entered into \n",
      "negotiations about the future of our country except to insist on a meeting between the \n",
      "ANC and the government.  \n",
      "Mr. De Klerk has gone further than any other Nationalist president in taking real steps to \n",
      "normalise the situation. However, there are further steps as outlined in the Harare \n",
      "Declaration that have to be met before negotiations on the basic demands of our people \n",
      "can begin. I reiterate our call for, inter alia, the immediate ending of the State of \n",
      "Emergency and the freeing of all, and not only some, political prisoners. Only such a \n",
      "normalised situation, which allows for free political activity, can allow us to consult our \n",
      "people in order to obtain a mandate.  \n",
      "The people need to be consulted on who will negotiate and on the content of such \n",
      "negotiations. Negotiations cannot take place above the heads or behind the backs of our \n",
      "people. It is our belief that the future of our country can only be determined by a body \n",
      "which is democratically elected on a non-racial basis. Negotiations on the dismantling of \n",
      "apartheid will have to address the over- whelming demand of our people for a \n",
      "democratic, non-racial and unitary South Africa. There must be an end to white \n",
      "monopoly on political power and a fundamental restructuring of our political and \n",
      "economic systems to ensure that the inequalities of apartheid are addressed and our \n",
      "society thoroughly democratised.  \n",
      "It must be added that Mr. De Klerk himself is a man of integrity who is acutely aware of \n",
      "the dangers of a public figure not honouring his undertakings. But as an organisation we \n",
      "base our policy and strategy on the harsh reality we are faced with. And this reality is that \n",
      "we are still suffering under the policy of the Nationalist government.\n",
      "\n",
      "Our struggle has reached a decisive moment. We call on our people to seize this moment \n",
      "so that the process towards democracy is rapid and uninterrupted. We have waited too \n",
      "long for our freedom. We can no longer wait. Now is the time to intensify the struggle on \n",
      "all fronts. To relax our efforts now would be a mistake which generations to come will \n",
      "not be able to forgive. The sight of freedom looming on the horizon should encourage us \n",
      "to redouble our efforts.  \n",
      "It is only through disciplined mass action that our victory can be assured. We call on our \n",
      "white compatriots to join us in the shaping of a new South Africa. The freedom \n",
      "movement is a political home for you too. We call on the international community to \n",
      "continue the campaign to isolate the apartheid regime. To lift sanctions now would be to \n",
      "run the risk of aborting the process towards the complete eradication of apartheid.  \n",
      "Our march to freedom is irreversible. We must not allow fear to stand in our way. \n",
      "Universal suffrage on a common voters' role in a united democratic and non-racial South \n",
      "Africa is the only way to peace and racial harmony.  \n",
      "In conclusion I wish to quote my own words during my trial in 1964. They are true today \n",
      "as they were then:  \n",
      "'I have fought against white domination and I have fought against black domination. I \n",
      "have cherished the ideal of a democratic and free society in which all persons live \n",
      "together in harmony and with equal opportunities. It is an ideal which I hope to live for \n",
      "and to achieve. But if needs be, it is an ideal for which I am prepared to die.'\n",
      "\u001b[0m\n",
      "\n",
      "\u001b[1m> Finished chain.\u001b[0m\n",
      "\n",
      "\u001b[1m> Finished chain.\u001b[0m\n"
     ]
    },
    {
     "data": {
      "text/plain": [
       "{'input_documents': [Document(metadata={'producer': 'Acrobat Distiller 7.0.5 (Windows)', 'creator': 'Acrobat PDFMaker 7.0.7 for Word', 'creationdate': '2006-04-28T10:50:14-04:00', 'author': 'Nelson Mandela', 'moddate': '2006-04-28T10:59:02-04:00', 'company': 'AllAfrica', 'sourcemodified': 'D:20060428144602', 'title': 'Nelson Mandela release speech', 'source': 'nelson_mandela_speech.pdf', 'total_pages': 4, 'page': 0, 'page_label': '1'}, page_content='[Document] \\n \\nNelson Mandela’s Speech on His Release from Prison \\nOn February 11 1990, Nelson Mandela, after more than a quarter century behind bars, \\nwalked through the gates of Victor Verster Prison. Afterwards, he addressed the nation \\nbefore a huge rally in Cape Town. The speech was broadcast live around the world. He \\nwas inaugurated president of South Africa in Pretoria on May 10, 1994. \\nFriends, comrades and fellow South Africans.  \\nI greet you all in the name of peace, democracy and freedom for all.  \\nI stand here before you not as a prophet but as a humble servant of you, the people. Your \\ntireless and heroic sacrifices have made it possible for me to be here today. I therefore \\nplace the remaining years of my life in your hands.  \\nOn this day of my release, I extend my sincere and warmest gratitude to the millions of \\nmy compatriots and those in every corner of the globe who have campaigned tirelessly \\nfor my release.  \\nI send special greetings to the people of Cape Town, this city which has been my home \\nfor three decades. Your mass marches and other forms of struggle have served as a \\nconstant source of strength to all political prisoners.  \\nI salute the African National Congress. It has fulfilled our every expectation in its role as \\nleader of the great march to freedom.  \\nI salute our President, Comrade Oliver Tambo, for leading the ANC even under the most \\ndifficult circumstances.  \\nI salute the rank and file members of the ANC. You have sacrificed life and limb in the \\npursuit of the noble cause of our struggle.  \\nI salute combatants of Umkhonto we Sizwe, like Solomon Mahlangu and Ashley Kriel \\nwho have paid the ultimate price for the freedom of all South Africans.  \\nI salute the South African Communist Party for its sterling contribution to the struggle for \\ndemocracy. You have survived 40 years of unrelenting persecution. The memory of great \\ncommunists like Moses Kotane, Yusuf Dadoo, Bram Fischer and Moses Mabhida will be \\ncherished for generations to come.  \\nI salute General Secretary Joe Slovo, one of our finest patriots. We are heartened by the \\nfact that the alliance between ourselves and the Party remains as strong as it always was.'),\n",
       "  Document(metadata={'producer': 'Acrobat Distiller 7.0.5 (Windows)', 'creator': 'Acrobat PDFMaker 7.0.7 for Word', 'creationdate': '2006-04-28T10:50:14-04:00', 'author': 'Nelson Mandela', 'moddate': '2006-04-28T10:59:02-04:00', 'company': 'AllAfrica', 'sourcemodified': 'D:20060428144602', 'title': 'Nelson Mandela release speech', 'source': 'nelson_mandela_speech.pdf', 'total_pages': 4, 'page': 1, 'page_label': '2'}, page_content='I salute the United Democratic Front, the National Education Crisis Committee, the South \\nAfrican Youth Congress, the Transvaal and Natal Indian Congresses and COSATU and \\nthe many other formations of the Mass Democratic Movement.  \\nI also salute the Black Sash and the National Union of South African Students. We note \\nwith pride that you have acted as the conscience of white South Africa. Even during the \\ndarkest days in the history of our struggle you held the flag of liberty high. The large-\\nscale mass mobilisation of the past few years is one of the key factors which led to the \\nopening of the final chapter of our struggle.  \\nI extend my greetings to the working class of our country. Your organised strength is the \\npride of our movement. You remain the most dependable force in the struggle to end \\nexploitation and oppression.  \\nI pay tribute to the many religious communities who carried the campaign for justice \\nforward when the organisations for our people were silenced.  \\nI greet the traditional leaders of our country - many of you continue to walk in the \\nfootsteps of great heroes like Hintsa and Sekhukune.  \\nI pay tribute to the endless heroism of youth, you, the young lions. You, the young lions, \\nhave energised our entire struggle.  \\nI pay tribute to the mothers and wives and sisters of our nation. You are the rock-hard \\nfoundation of our struggle. Apartheid has inflicted more pain on you than on anyone else.  \\nOn this occasion, we thank the world community for their great contribution to the anti-\\napartheid struggle. Without your support our struggle would not have reached this \\nadvanced stage. The sacrifice of the frontline states will be remembered by South \\nAfricans forever.  \\nMy salutations would be incomplete without expressing my deep appreciation for the \\nstrength given to me during my long and lonely years in prison by my beloved wife and \\nfamily. I am convinced that your pain and suffering was far greater than my own.  \\nBefore I go any further I wish to make the point that I intend making only a few \\npreliminary comments at this stage. I will make a more complete statement only after I \\nhave had the opportunity to consult with my comrades.  \\nToday the majority of South Africans, black and white, recognise that apartheid has no \\nfuture. It has to be ended by our own decisive mass action in order to build peace and \\nsecurity. The mass campaign of defiance and other actions of our organisation and people \\ncan only culminate in the establishment of democracy. The destruction caused by \\napartheid on our sub-continent is in- calculable. The fabric of family life of millions of \\nmy people has been shattered. Millions are homeless and unemployed. Our economy lies \\nin ruins and our people are embroiled in political strife. Our resort to the armed struggle'),\n",
       "  Document(metadata={'producer': 'Acrobat Distiller 7.0.5 (Windows)', 'creator': 'Acrobat PDFMaker 7.0.7 for Word', 'creationdate': '2006-04-28T10:50:14-04:00', 'author': 'Nelson Mandela', 'moddate': '2006-04-28T10:59:02-04:00', 'company': 'AllAfrica', 'sourcemodified': 'D:20060428144602', 'title': 'Nelson Mandela release speech', 'source': 'nelson_mandela_speech.pdf', 'total_pages': 4, 'page': 2, 'page_label': '3'}, page_content='in 1960 with the formation of the military wing of the ANC, Umkhonto we Sizwe, was a \\npurely defensive action against the violence of apartheid. The factors which necessitated \\nthe armed struggle still exist today. We have no option but to continue. We express the \\nhope that a climate conducive to a negotiated settlement will be created soon so that there \\nmay no longer be the need for the armed struggle.  \\nI am a loyal and disciplined member of the African National Congress. I am therefore in \\nfull agreement with all of its objectives, strategies and tactics.  \\nThe need to unite the people of our country is as important a task now as it always has \\nbeen. No individual leader is able to take on this enormous task on his own. It is our task \\nas leaders to place our views before our organisation and to allow the democratic \\nstructures to decide. On the question of democratic practice, I feel duty bound to make \\nthe point that a leader of the movement is a person who has been democratically elected \\nat a national conference. This is a principle which must be upheld without any \\nexceptions.  \\nToday, I wish to report to you that my talks with the government have been aimed at \\nnormalising the political situation in the country. We have not as yet begun discussing the \\nbasic demands of the struggle. I wish to stress that I myself have at no time entered into \\nnegotiations about the future of our country except to insist on a meeting between the \\nANC and the government.  \\nMr. De Klerk has gone further than any other Nationalist president in taking real steps to \\nnormalise the situation. However, there are further steps as outlined in the Harare \\nDeclaration that have to be met before negotiations on the basic demands of our people \\ncan begin. I reiterate our call for, inter alia, the immediate ending of the State of \\nEmergency and the freeing of all, and not only some, political prisoners. Only such a \\nnormalised situation, which allows for free political activity, can allow us to consult our \\npeople in order to obtain a mandate.  \\nThe people need to be consulted on who will negotiate and on the content of such \\nnegotiations. Negotiations cannot take place above the heads or behind the backs of our \\npeople. It is our belief that the future of our country can only be determined by a body \\nwhich is democratically elected on a non-racial basis. Negotiations on the dismantling of \\napartheid will have to address the over- whelming demand of our people for a \\ndemocratic, non-racial and unitary South Africa. There must be an end to white \\nmonopoly on political power and a fundamental restructuring of our political and \\neconomic systems to ensure that the inequalities of apartheid are addressed and our \\nsociety thoroughly democratised.  \\nIt must be added that Mr. De Klerk himself is a man of integrity who is acutely aware of \\nthe dangers of a public figure not honouring his undertakings. But as an organisation we \\nbase our policy and strategy on the harsh reality we are faced with. And this reality is that \\nwe are still suffering under the policy of the Nationalist government.'),\n",
       "  Document(metadata={'producer': 'Acrobat Distiller 7.0.5 (Windows)', 'creator': 'Acrobat PDFMaker 7.0.7 for Word', 'creationdate': '2006-04-28T10:50:14-04:00', 'author': 'Nelson Mandela', 'moddate': '2006-04-28T10:59:02-04:00', 'company': 'AllAfrica', 'sourcemodified': 'D:20060428144602', 'title': 'Nelson Mandela release speech', 'source': 'nelson_mandela_speech.pdf', 'total_pages': 4, 'page': 3, 'page_label': '4'}, page_content=\"Our struggle has reached a decisive moment. We call on our people to seize this moment \\nso that the process towards democracy is rapid and uninterrupted. We have waited too \\nlong for our freedom. We can no longer wait. Now is the time to intensify the struggle on \\nall fronts. To relax our efforts now would be a mistake which generations to come will \\nnot be able to forgive. The sight of freedom looming on the horizon should encourage us \\nto redouble our efforts.  \\nIt is only through disciplined mass action that our victory can be assured. We call on our \\nwhite compatriots to join us in the shaping of a new South Africa. The freedom \\nmovement is a political home for you too. We call on the international community to \\ncontinue the campaign to isolate the apartheid regime. To lift sanctions now would be to \\nrun the risk of aborting the process towards the complete eradication of apartheid.  \\nOur march to freedom is irreversible. We must not allow fear to stand in our way. \\nUniversal suffrage on a common voters' role in a united democratic and non-racial South \\nAfrica is the only way to peace and racial harmony.  \\nIn conclusion I wish to quote my own words during my trial in 1964. They are true today \\nas they were then:  \\n'I have fought against white domination and I have fought against black domination. I \\nhave cherished the ideal of a democratic and free society in which all persons live \\ntogether in harmony and with equal opportunities. It is an ideal which I hope to live for \\nand to achieve. But if needs be, it is an ideal for which I am prepared to die.'\")],\n",
       " 'output_text': \"Here is a concise and short summary of Nelson Mandela's speech on his release from prison:\\n\\nNelson Mandela addresses the nation after his release from Victor Verster Prison, expressing gratitude to those who campaigned for his release and acknowledging the sacrifices of the African National Congress, the South African Communist Party, and other organizations in the fight against apartheid. He emphasizes the need for democracy, freedom, and equality, and calls on South Africans to unite and intensify the struggle against apartheid. He also reiterates his commitment to non-violent resistance and his hope for a negotiated settlement, but warns that the armed struggle will continue if negotiations fail.\"}"
      ]
     },
     "execution_count": 9,
     "metadata": {},
     "output_type": "execute_result"
    }
   ],
   "source": [
    "chain = load_summarize_chain(\n",
    "    llm=llm, \n",
    "    chain_type='stuff',\n",
    "    prompt=prompt, \n",
    "    verbose=True\n",
    ")\n",
    "\n",
    "output_summary = chain.invoke(docs)\n",
    "output_summary"
   ]
  },
  {
   "cell_type": "code",
   "execution_count": 10,
   "id": "aa0be9db-3e4f-4fb0-ab25-9cd06bce096b",
   "metadata": {},
   "outputs": [
    {
     "data": {
      "text/plain": [
       "\"Here is a concise and short summary of Nelson Mandela's speech on his release from prison:\\n\\nNelson Mandela addresses the nation after his release from Victor Verster Prison, expressing gratitude to those who campaigned for his release and acknowledging the sacrifices of the African National Congress, the South African Communist Party, and other organizations in the fight against apartheid. He emphasizes the need for democracy, freedom, and equality, and calls on South Africans to unite and intensify the struggle against apartheid. He also reiterates his commitment to non-violent resistance and his hope for a negotiated settlement, but warns that the armed struggle will continue if negotiations fail.\""
      ]
     },
     "execution_count": 10,
     "metadata": {},
     "output_type": "execute_result"
    }
   ],
   "source": [
    "output_summary['output_text']"
   ]
  },
  {
   "cell_type": "code",
   "execution_count": null,
   "id": "081e0dff-6920-4a7f-9a27-67dd5000b2e6",
   "metadata": {},
   "outputs": [],
   "source": []
  }
 ],
 "metadata": {
  "kernelspec": {
   "display_name": "Python 3 (ipykernel)",
   "language": "python",
   "name": "python3"
  },
  "language_info": {
   "codemirror_mode": {
    "name": "ipython",
    "version": 3
   },
   "file_extension": ".py",
   "mimetype": "text/x-python",
   "name": "python",
   "nbconvert_exporter": "python",
   "pygments_lexer": "ipython3",
   "version": "3.11.11"
  }
 },
 "nbformat": 4,
 "nbformat_minor": 5
}
