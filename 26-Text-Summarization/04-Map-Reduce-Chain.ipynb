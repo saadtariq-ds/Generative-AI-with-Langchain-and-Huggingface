{
 "cells": [
  {
   "cell_type": "markdown",
   "id": "6fc4535d-e0fe-4f15-aa08-2089774ed89e",
   "metadata": {},
   "source": [
    "## Setup and Import Libraries"
   ]
  },
  {
   "cell_type": "code",
   "execution_count": 1,
   "id": "da7ad0ee-32a1-4e32-a776-95b1e4658ec9",
   "metadata": {},
   "outputs": [],
   "source": [
    "import os\n",
    "from langchain_groq import ChatGroq\n",
    "from langchain_community.document_loaders import PyPDFLoader\n",
    "from langchain_text_splitters import RecursiveCharacterTextSplitter\n",
    "from langchain.prompts import PromptTemplate\n",
    "from langchain.chains.summarize import load_summarize_chain\n",
    "from dotenv import load_dotenv"
   ]
  },
  {
   "cell_type": "code",
   "execution_count": 2,
   "id": "d54d85d0-8657-4373-91d6-728cd5646984",
   "metadata": {},
   "outputs": [
    {
     "data": {
      "text/plain": [
       "True"
      ]
     },
     "execution_count": 2,
     "metadata": {},
     "output_type": "execute_result"
    }
   ],
   "source": [
    "load_dotenv()"
   ]
  },
  {
   "cell_type": "code",
   "execution_count": 3,
   "id": "2f71d39e-1f11-47ad-b81b-178d3bd0ee8a",
   "metadata": {},
   "outputs": [],
   "source": [
    "os.environ[\"GROQ_API_KEY\"] = os.getenv(\"GROQ_API_KEY\")"
   ]
  },
  {
   "cell_type": "code",
   "execution_count": 4,
   "id": "a947e059-8089-4dae-9a90-4473d60e2eda",
   "metadata": {},
   "outputs": [],
   "source": [
    "llm = ChatGroq(model_name='llama3-8b-8192')"
   ]
  },
  {
   "cell_type": "markdown",
   "id": "2f71ef30-1c5b-4d8a-b7ef-94fa7d6b1aaa",
   "metadata": {},
   "source": [
    "## Map Reduce Chain"
   ]
  },
  {
   "cell_type": "code",
   "execution_count": 5,
   "id": "71e96c74-5cd2-41fb-9704-59023f5923b0",
   "metadata": {
    "scrolled": true
   },
   "outputs": [],
   "source": [
    "loader = PyPDFLoader(\"nelson_mandela_speech.pdf\")\n",
    "docs = loader.load()\n",
    "# docs"
   ]
  },
  {
   "cell_type": "code",
   "execution_count": 6,
   "id": "3db53323-43c7-4a50-affc-ba1007a74a14",
   "metadata": {},
   "outputs": [],
   "source": [
    "text_splitter = RecursiveCharacterTextSplitter(chunk_size=2000, chunk_overlap=100)\n",
    "documents = text_splitter.split_documents(documents=docs)\n",
    "# documents"
   ]
  },
  {
   "cell_type": "code",
   "execution_count": 7,
   "id": "3de0bb4d-5f12-40ab-a5ba-2b5bc336515d",
   "metadata": {},
   "outputs": [
    {
     "data": {
      "text/plain": [
       "7"
      ]
     },
     "execution_count": 7,
     "metadata": {},
     "output_type": "execute_result"
    }
   ],
   "source": [
    "len(documents)"
   ]
  },
  {
   "cell_type": "code",
   "execution_count": 8,
   "id": "40bb39f8-471c-4424-9128-2d7ab46828b8",
   "metadata": {},
   "outputs": [],
   "source": [
    "chunks_template = \"\"\" Please summarize the below speech:\n",
    "Speech: {text}\n",
    "Summary: \n",
    "\"\"\"\n",
    "\n",
    "map_prompt_template = PromptTemplate(\n",
    "    template=chunks_template,\n",
    "    input_variables=['text']\n",
    ")"
   ]
  },
  {
   "cell_type": "code",
   "execution_count": 9,
   "id": "dd9090f4-e301-48cf-a0ae-6d986fcafb21",
   "metadata": {},
   "outputs": [],
   "source": [
    "final_template = \"\"\" Provide the final summary of the entire speech with these import points.\n",
    "Add a motivation title, Start the precise summary with an introduction and provide the summary in number points for the speech\n",
    "Speech: {text}\n",
    "Summary: \n",
    "\"\"\"\n",
    "\n",
    "final_prompt_template = PromptTemplate(\n",
    "    template=final_template,\n",
    "    input_variables=['text']\n",
    ")"
   ]
  },
  {
   "cell_type": "code",
   "execution_count": 13,
   "id": "c2a4e2b5-f00d-4822-b9dc-cfdbf15cae2c",
   "metadata": {},
   "outputs": [],
   "source": [
    "summary_chain = load_summarize_chain(\n",
    "    llm=llm, \n",
    "    chain_type='map_reduce',\n",
    "    map_prompt=map_prompt_template,\n",
    "    combine_prompt=final_prompt_template,\n",
    "    verbose=False\n",
    ")\n",
    "\n",
    "output_summary = summary_chain.invoke(docs)\n",
    "# output_summary"
   ]
  },
  {
   "cell_type": "code",
   "execution_count": 14,
   "id": "aa0be9db-3e4f-4fb0-ab25-9cd06bce096b",
   "metadata": {},
   "outputs": [
    {
     "name": "stdout",
     "output_type": "stream",
     "text": [
      "**Motivation Title:** \"Embracing Freedom and Unity: Nelson Mandela's Speech Upon Release from Victor Verster Prison\"\n",
      "\n",
      "**Summary:**\n",
      "\n",
      "Here are the key points from Nelson Mandela's speech upon his release from Victor Verster Prison on February 11, 1990:\n",
      "\n",
      "1. **Gratitude to the People:** Mandela expresses his gratitude to the millions of people who campaigned for his release and acknowledges the sacrifices of his comrades and fellow South Africans.\n",
      "\n",
      "2. **Unity and Freedom:** He emphasizes the importance of unity and freedom, stating that the majority of South Africans now recognize that apartheid has no future and that it must be ended through decisive mass action.\n",
      "\n",
      "3. **Acknowledgments:** Mandela salutes specific groups that have contributed to the anti-apartheid movement, including the African National Congress, the South African Communist Party, and the combatants of Umkhonto we Sizwe.\n",
      "\n",
      "4. **Working Together:** He acknowledges the contributions of the working class, religious communities, traditional leaders, and the youth, as well as the mothers and wives of the nation, who have suffered greatly under apartheid.\n",
      "\n",
      "5. **International Support:** Mandela expresses gratitude to the world community for their support of the anti-apartheid struggle, particularly the frontline states, and to his own wife and family for their support during his long imprisonment.\n",
      "\n",
      "6. **Armed Struggle:** He hints that the anti-apartheid movement will soon be resorting to armed struggle to achieve its goals, but notes that he will make a more detailed statement on this matter after consulting with his comrades.\n",
      "\n",
      "7. **Negotiated Settlement:** Mandela emphasizes the importance of a negotiated settlement and a climate conducive to dialogue, but also notes that the ANC will not compromise on its fundamental demands for a democratic, non-racial, and unitary South Africa.\n",
      "\n",
      "8. **Democratic Principles:** He reiterates the ANC's commitment to upholding democratic principles and practices within the organization.\n",
      "\n",
      "9. **Accelerating the Struggle:** Mandela calls on the people to seize the moment and accelerate the struggle towards democracy, as freedom has been delayed for too long.\n",
      "\n",
      "10. **Conclusion:** He reaffirms his commitment to the ideal of a democratic and non-racial South Africa, where all people live together in harmony and with equal opportunities, and reiterates his willingness to die for this ideal.\n"
     ]
    }
   ],
   "source": [
    "print(output_summary['output_text'])"
   ]
  },
  {
   "cell_type": "code",
   "execution_count": null,
   "id": "081e0dff-6920-4a7f-9a27-67dd5000b2e6",
   "metadata": {},
   "outputs": [],
   "source": []
  }
 ],
 "metadata": {
  "kernelspec": {
   "display_name": "Python 3 (ipykernel)",
   "language": "python",
   "name": "python3"
  },
  "language_info": {
   "codemirror_mode": {
    "name": "ipython",
    "version": 3
   },
   "file_extension": ".py",
   "mimetype": "text/x-python",
   "name": "python",
   "nbconvert_exporter": "python",
   "pygments_lexer": "ipython3",
   "version": "3.11.11"
  }
 },
 "nbformat": 4,
 "nbformat_minor": 5
}
