{
 "cells": [
  {
   "cell_type": "markdown",
   "id": "6fc4535d-e0fe-4f15-aa08-2089774ed89e",
   "metadata": {},
   "source": [
    "## Setup and Import Libraries"
   ]
  },
  {
   "cell_type": "code",
   "execution_count": 1,
   "id": "da7ad0ee-32a1-4e32-a776-95b1e4658ec9",
   "metadata": {},
   "outputs": [],
   "source": [
    "import os\n",
    "from langchain_groq import ChatGroq\n",
    "from langchain_community.document_loaders import PyPDFLoader\n",
    "from langchain_text_splitters import RecursiveCharacterTextSplitter\n",
    "from langchain.chains.summarize import load_summarize_chain\n",
    "from dotenv import load_dotenv"
   ]
  },
  {
   "cell_type": "code",
   "execution_count": 2,
   "id": "d54d85d0-8657-4373-91d6-728cd5646984",
   "metadata": {},
   "outputs": [
    {
     "data": {
      "text/plain": [
       "True"
      ]
     },
     "execution_count": 2,
     "metadata": {},
     "output_type": "execute_result"
    }
   ],
   "source": [
    "load_dotenv()"
   ]
  },
  {
   "cell_type": "code",
   "execution_count": 3,
   "id": "2f71d39e-1f11-47ad-b81b-178d3bd0ee8a",
   "metadata": {},
   "outputs": [],
   "source": [
    "os.environ[\"GROQ_API_KEY\"] = os.getenv(\"GROQ_API_KEY\")"
   ]
  },
  {
   "cell_type": "code",
   "execution_count": 4,
   "id": "a947e059-8089-4dae-9a90-4473d60e2eda",
   "metadata": {},
   "outputs": [],
   "source": [
    "llm = ChatGroq(model_name='llama3-8b-8192')"
   ]
  },
  {
   "cell_type": "markdown",
   "id": "2f71ef30-1c5b-4d8a-b7ef-94fa7d6b1aaa",
   "metadata": {},
   "source": [
    "## Map Reduce Chain"
   ]
  },
  {
   "cell_type": "code",
   "execution_count": 5,
   "id": "71e96c74-5cd2-41fb-9704-59023f5923b0",
   "metadata": {
    "scrolled": true
   },
   "outputs": [],
   "source": [
    "loader = PyPDFLoader(\"nelson_mandela_speech.pdf\")\n",
    "docs = loader.load()\n",
    "# docs"
   ]
  },
  {
   "cell_type": "code",
   "execution_count": 6,
   "id": "3db53323-43c7-4a50-affc-ba1007a74a14",
   "metadata": {},
   "outputs": [],
   "source": [
    "text_splitter = RecursiveCharacterTextSplitter(chunk_size=2000, chunk_overlap=100)\n",
    "documents = text_splitter.split_documents(documents=docs)\n",
    "# documents"
   ]
  },
  {
   "cell_type": "code",
   "execution_count": 7,
   "id": "3de0bb4d-5f12-40ab-a5ba-2b5bc336515d",
   "metadata": {},
   "outputs": [
    {
     "data": {
      "text/plain": [
       "7"
      ]
     },
     "execution_count": 7,
     "metadata": {},
     "output_type": "execute_result"
    }
   ],
   "source": [
    "len(documents)"
   ]
  },
  {
   "cell_type": "code",
   "execution_count": 8,
   "id": "c2a4e2b5-f00d-4822-b9dc-cfdbf15cae2c",
   "metadata": {},
   "outputs": [],
   "source": [
    "summary_chain = load_summarize_chain(\n",
    "    llm=llm, \n",
    "    chain_type='refine',\n",
    "    verbose=False\n",
    ")\n",
    "\n",
    "output_summary = summary_chain.invoke(docs)\n",
    "# output_summary"
   ]
  },
  {
   "cell_type": "code",
   "execution_count": 9,
   "id": "aa0be9db-3e4f-4fb0-ab25-9cd06bce096b",
   "metadata": {},
   "outputs": [
    {
     "name": "stdout",
     "output_type": "stream",
     "text": [
      "Based on the additional context, I refined the original summary to provide a more comprehensive summary of Nelson Mandela's speech.\n",
      "\n",
      "Nelson Mandela delivered a historic speech on his release from Victor Verster Prison on February 11, 1990, after 27 years of imprisonment. He emphasized the importance of decisive mass action to end apartheid and build peace and security. Mandela urged his people to seize the moment and intensify the struggle on all fronts, warning that relaxing efforts would be a mistake that future generations would not forgive.\n",
      "\n",
      "He stressed that the freedom movement is a political home for all, including white compatriots, and called on them to join in shaping a new South Africa. Mandela also appealed to the international community to continue isolating the apartheid regime and not lift sanctions, lest they abort the process towards the complete eradication of apartheid.\n",
      "\n",
      "The speech highlighted the importance of universal suffrage on a common voters' roll in a united, democratic, and non-racial South Africa as the only way to achieve peace and racial harmony. Mandela reaffirmed his commitment to the African National Congress's objectives, strategies, and tactics, including the need to unite the people of South Africa and the importance of democratic practice.\n",
      "\n",
      "Throughout the speech, Mandela's determination and conviction shone through as he reiterated the ANC's call for the immediate ending of the State of Emergency and the freeing of all political prisoners. He concluded by reiterating his willingness to die for the ideal of a democratic and free society, where all persons live together in harmony and with equal opportunities.\n",
      "\n",
      "The refined summary captures the essence of Mandela's speech, emphasizing the need for collective action, international solidarity, and democratic principles to bring about a new era of freedom and equality in South Africa.\n"
     ]
    }
   ],
   "source": [
    "print(output_summary['output_text'])"
   ]
  },
  {
   "cell_type": "code",
   "execution_count": null,
   "id": "081e0dff-6920-4a7f-9a27-67dd5000b2e6",
   "metadata": {},
   "outputs": [],
   "source": []
  }
 ],
 "metadata": {
  "kernelspec": {
   "display_name": "Python 3 (ipykernel)",
   "language": "python",
   "name": "python3"
  },
  "language_info": {
   "codemirror_mode": {
    "name": "ipython",
    "version": 3
   },
   "file_extension": ".py",
   "mimetype": "text/x-python",
   "name": "python",
   "nbconvert_exporter": "python",
   "pygments_lexer": "ipython3",
   "version": "3.11.11"
  }
 },
 "nbformat": 4,
 "nbformat_minor": 5
}
