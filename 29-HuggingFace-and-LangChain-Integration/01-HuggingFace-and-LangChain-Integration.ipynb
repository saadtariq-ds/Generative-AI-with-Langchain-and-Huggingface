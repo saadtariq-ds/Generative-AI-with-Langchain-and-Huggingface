{
 "cells": [
  {
   "cell_type": "markdown",
   "id": "ba1e4e7a-b6f9-4626-ad4e-a26ade416f2d",
   "metadata": {},
   "source": [
    "## Setup and Import Libraries"
   ]
  },
  {
   "cell_type": "code",
   "execution_count": 1,
   "id": "8a785ffd-fb44-4fd6-bb25-91773e452d38",
   "metadata": {},
   "outputs": [],
   "source": [
    "import os\n",
    "from langchain_core.prompts import PromptTemplate\n",
    "from langchain.chains import LLMChain\n",
    "from langchain_huggingface import HuggingFaceEndpoint\n",
    "from langchain_community.embeddings import HuggingFaceBgeEmbeddings\n",
    "\n",
    "from dotenv import load_dotenv\n",
    "\n",
    "import warnings\n",
    "warnings.filterwarnings('ignore')"
   ]
  },
  {
   "cell_type": "code",
   "execution_count": 2,
   "id": "e43de760-71d3-4b39-94d6-adc4a9a652da",
   "metadata": {},
   "outputs": [
    {
     "data": {
      "text/plain": [
       "True"
      ]
     },
     "execution_count": 2,
     "metadata": {},
     "output_type": "execute_result"
    }
   ],
   "source": [
    "load_dotenv()"
   ]
  },
  {
   "cell_type": "markdown",
   "id": "eac1a7db-262b-4ed0-8f52-5f201af292e1",
   "metadata": {},
   "source": [
    "## HuggingFace Endpoint"
   ]
  },
  {
   "cell_type": "code",
   "execution_count": 3,
   "id": "63b9b981-1dd5-4e2c-902c-f256ab0c479e",
   "metadata": {},
   "outputs": [],
   "source": [
    "repo_id = \"mistralai/Mistral-7B-Instruct-v0.3\""
   ]
  },
  {
   "cell_type": "code",
   "execution_count": 4,
   "id": "e7c2e156-8156-49d5-9ae6-c8a71202f40b",
   "metadata": {},
   "outputs": [
    {
     "name": "stderr",
     "output_type": "stream",
     "text": [
      "WARNING! max_length is not default parameter.\n",
      "                    max_length was transferred to model_kwargs.\n",
      "                    Please make sure that max_length is what you intended.\n"
     ]
    }
   ],
   "source": [
    "llm = HuggingFaceEndpoint(\n",
    "    repo_id=repo_id,\n",
    "    task=\"text-generation\",\n",
    "    max_length=150,\n",
    "    temperature=0.7,\n",
    "    huggingfacehub_api_token=os.getenv(\"HUGGINGFACE_API_KEY\")\n",
    ")"
   ]
  },
  {
   "cell_type": "code",
   "execution_count": 5,
   "id": "59d46dcf-6bdb-4e78-9e68-037717bd5ac3",
   "metadata": {},
   "outputs": [
    {
     "name": "stdout",
     "output_type": "stream",
     "text": [
      "?\n",
      "\n",
      "Machine Learning is a subset of Artificial Intelligence (AI) that provides systems the ability to automatically learn and improve from experience without being explicitly programmed. Machine learning focuses on the development of computer programs that can access data and use it to learn for themselves.\n",
      "\n",
      "The process of learning begins with observations or data, such as examples, direct experience, or instruction, in order to look for patterns in data and make better decisions in the future based on the examples that we provide. The primary aim is to allow the computers to learn automatically without human intervention or assistance and adjust actions accordingly.\n",
      "\n",
      "The more data that the computer system is provided, the more it will learn and the more accurate the decision-making process will be.\n",
      "\n",
      "What are the different types of Machine Learning?\n",
      "\n",
      "There are three main types of machine learning: supervised learning, unsupervised learning, and reinforcement learning.\n",
      "\n",
      "1. Supervised Learning: In supervised learning, the algorithm is provided with a labeled dataset. A labeled dataset is a dataset that has the correct answers or outputs. The algorithm learns to map inputs to outputs based on the examples given. The goal is to make predictions or decisions without being explicitly programmed to perform the task.\n",
      "\n",
      "2. Unsupervised Learning: In unsupervised learning, the algorithm is given an unlabeled dataset and it must find patterns and relationships in the data by itself. The algorithm is not provided with the correct answers or outputs. Instead, it must identify patterns and make connections between the data points.\n",
      "\n",
      "3. Reinforcement Learning: In reinforcement learning, the algorithm learns to make decisions by interacting with an environment. The algorithm receives rewards or punishments for its actions and uses this feedback to learn and improve its decision-making process.\n",
      "\n",
      "Applications of Machine Learning\n",
      "\n",
      "Machine learning has numerous applications in various industries such as healthcare, finance, retail, and technology. Here are some examples of how machine learning is being used:\n",
      "\n",
      "1. Healthcare: Machine learning is being used to analyze medical images to detect diseases such as cancer, diabetes, and heart disease. It is also being used to develop personalized treatment plans based on a patient's genetic makeup and medical history.\n",
      "\n",
      "2. Finance: Machine learning is being used in fraud detection, credit risk assessment, and algorithmic trading. It is also being used to develop chatbots for customer service and to automate financial planning.\n",
      "\n",
      "3. Retail\n"
     ]
    }
   ],
   "source": [
    "response = llm.invoke(\"What is Machine Learning\")\n",
    "print(response)"
   ]
  },
  {
   "cell_type": "code",
   "execution_count": 6,
   "id": "060df4ef-3b54-40e1-ae72-32d3167df208",
   "metadata": {},
   "outputs": [
    {
     "name": "stdout",
     "output_type": "stream",
     "text": [
      "? Generative AI refers to a type of artificial intelligence (AI) that creates new content or data by learning patterns from existing data. It can generate text, images, music, and even video content that is similar to the data it was trained on, but also has the ability to create unique and original content. Generative AI models are trained on large datasets, such as collections of text or images, and use techniques like deep learning and recurrent neural networks (RNNs) to learn the patterns and structures within the data. Once trained, these models can generate new content by using the patterns they learned to fill in gaps or create entirely new content. Generative AI has many potential applications, such as creating personalized content for users, generating new ideas for designers, and automating the creation of reports and documents. However, it also raises important ethical and legal questions about ownership and accountability for the content generated by these models.\n"
     ]
    }
   ],
   "source": [
    "response = llm.invoke(\"What is Generative AI\")\n",
    "print(response)"
   ]
  },
  {
   "cell_type": "markdown",
   "id": "c93942ee-3079-4094-b780-84e907846e95",
   "metadata": {},
   "source": [
    "## Prompt Template"
   ]
  },
  {
   "cell_type": "code",
   "execution_count": 7,
   "id": "7b146a67-941d-4b69-8427-d51ad8f9b1a1",
   "metadata": {},
   "outputs": [],
   "source": [
    "repo_id = \"mistralai/Mistral-7B-Instruct-v0.3\""
   ]
  },
  {
   "cell_type": "code",
   "execution_count": 8,
   "id": "4a303569-8b65-449e-b26a-cd476cc89994",
   "metadata": {},
   "outputs": [
    {
     "name": "stderr",
     "output_type": "stream",
     "text": [
      "WARNING! max_length is not default parameter.\n",
      "                    max_length was transferred to model_kwargs.\n",
      "                    Please make sure that max_length is what you intended.\n"
     ]
    }
   ],
   "source": [
    "llm = HuggingFaceEndpoint(\n",
    "    repo_id=repo_id,\n",
    "    task=\"text-generation\",\n",
    "    max_length=150,\n",
    "    temperature=0.7,\n",
    "    huggingfacehub_api_token=os.getenv(\"HUGGINGFACE_API_KEY\")\n",
    ")"
   ]
  },
  {
   "cell_type": "code",
   "execution_count": 9,
   "id": "0cb57927-7d55-425d-9511-44a86256e6f6",
   "metadata": {},
   "outputs": [],
   "source": [
    "template = \"\"\" \n",
    "Question: {question}\n",
    "Answer: Lets thing step by step\n",
    "\"\"\"\n",
    "\n",
    "prompt = PromptTemplate.from_template(template)"
   ]
  },
  {
   "cell_type": "code",
   "execution_count": 10,
   "id": "3b3531ee-976a-433c-a0b9-6f9f8f4f2342",
   "metadata": {},
   "outputs": [],
   "source": [
    "chain = prompt | llm"
   ]
  },
  {
   "cell_type": "code",
   "execution_count": 11,
   "id": "83e14805-9327-4b3e-8434-16bd5c7e1fc8",
   "metadata": {},
   "outputs": [
    {
     "name": "stdout",
     "output_type": "stream",
     "text": [
      "\n",
      "1. AI: Artificial Intelligence refers to the ability of a machine or a computer program to mimic intelligent human behavior. This includes tasks such as learning, problem-solving, decision-making, and perception.\n",
      "\n",
      "2. Generative AI: This is a subset of AI that goes beyond the traditional AI model of responding to inputs with predefined outputs. Instead, it generates new content, such as images, text, music, or speech, without being explicitly programmed to do so.\n",
      "\n",
      "3. How it works: Generative AI models are typically trained on large datasets. They learn the patterns and structures within the data, and then use this learning to generate new, unique content that follows the same patterns.\n",
      "\n",
      "4. Examples: Some examples of generative AI include text-generating models like me, which can write articles, poems, or even code, image-generating models that can create new images of people, animals, landscapes, or objects, and music-generating models that can compose new melodies or songs.\n",
      "\n",
      "5. Importance: Generative AI has many potential applications, from creating art and music, to generating realistic simulations for video games or movies, to automating content creation for websites and social media, to helping with tasks like writing emails or reports, and much more.\n",
      "\n",
      "6. Challenges: One of the main challenges with generative AI is ensuring that the models produce high-quality, relevant, and appropriate content. This can be difficult because the models are only as good as the data they are trained on, and they can sometimes generate content that is incorrect, offensive, or inappropriate.\n",
      "\n",
      "7. Ethical considerations: There are also ethical considerations around the use of generative AI. For example, who owns the copyright to the content generated by these models? And what happens when the models are used to create deepfakes or other forms of deceptive media? These are questions that society will need to grapple with as generative AI becomes more widespread.\n",
      "\n",
      "8. Future: As generative AI continues to advance, we can expect to see it being used in an ever-increasing number of applications. However, it will also raise new challenges and ethical questions that we will need to address as a society.\n"
     ]
    }
   ],
   "source": [
    "question = \"What is Generative AI\"\n",
    "\n",
    "print(chain.invoke({\"question\": question}))"
   ]
  },
  {
   "cell_type": "markdown",
   "id": "00a9c622-06a7-4f3f-b721-987b58ed0130",
   "metadata": {},
   "source": [
    "## BGE Embedding"
   ]
  },
  {
   "cell_type": "code",
   "execution_count": 12,
   "id": "3661fdda-fd94-478a-8384-3fd9a058b2bc",
   "metadata": {},
   "outputs": [],
   "source": [
    "model_name = \"BAAI/bge-small-en\"\n",
    "model_kwargs = {\"device\": \"cpu\"}\n",
    "encode_kwargs = {\"normalize_embeddings\": True}"
   ]
  },
  {
   "cell_type": "code",
   "execution_count": 14,
   "id": "0cc97774-3796-4399-a90e-47e35a61cb35",
   "metadata": {},
   "outputs": [],
   "source": [
    "hf = HuggingFaceBgeEmbeddings(\n",
    "    model_name=model_name, \n",
    "    model_kwargs=model_kwargs, \n",
    "    encode_kwargs=encode_kwargs\n",
    ")"
   ]
  },
  {
   "cell_type": "code",
   "execution_count": 15,
   "id": "60f86f15-60b2-4360-9e65-5dd2b234aca1",
   "metadata": {},
   "outputs": [
    {
     "data": {
      "text/plain": [
       "384"
      ]
     },
     "execution_count": 15,
     "metadata": {},
     "output_type": "execute_result"
    }
   ],
   "source": [
    "query = \"Hi This is HuggingFace BGE Embedding\"\n",
    "\n",
    "embedding = hf.embed_query(query)\n",
    "len(embedding)"
   ]
  },
  {
   "cell_type": "code",
   "execution_count": 17,
   "id": "e9dae918-0998-49bb-8316-1fbb0c54737b",
   "metadata": {},
   "outputs": [],
   "source": [
    "# embedding"
   ]
  },
  {
   "cell_type": "code",
   "execution_count": null,
   "id": "2f3f4a31-a894-4e83-9216-a9f2caad3099",
   "metadata": {},
   "outputs": [],
   "source": []
  }
 ],
 "metadata": {
  "kernelspec": {
   "display_name": "Python 3 (ipykernel)",
   "language": "python",
   "name": "python3"
  },
  "language_info": {
   "codemirror_mode": {
    "name": "ipython",
    "version": 3
   },
   "file_extension": ".py",
   "mimetype": "text/x-python",
   "name": "python",
   "nbconvert_exporter": "python",
   "pygments_lexer": "ipython3",
   "version": "3.11.11"
  }
 },
 "nbformat": 4,
 "nbformat_minor": 5
}
