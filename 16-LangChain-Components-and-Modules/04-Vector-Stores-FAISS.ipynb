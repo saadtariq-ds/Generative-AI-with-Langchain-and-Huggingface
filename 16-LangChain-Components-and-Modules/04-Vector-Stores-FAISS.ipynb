{
 "cells": [
  {
   "cell_type": "markdown",
   "id": "99601cb7-b30b-4da1-98d7-982e95b57c4e",
   "metadata": {},
   "source": [
    "## Setup and Import Libraries"
   ]
  },
  {
   "cell_type": "code",
   "execution_count": 1,
   "id": "0769c6a2-050f-4643-9fe9-6b7038141044",
   "metadata": {},
   "outputs": [],
   "source": [
    "from langchain_community.document_loaders import TextLoader\n",
    "from langchain_community.vectorstores import FAISS\n",
    "from langchain_ollama import OllamaEmbeddings\n",
    "from langchain_text_splitters import CharacterTextSplitter"
   ]
  },
  {
   "cell_type": "markdown",
   "id": "aa3b4ad2-b93e-45a3-b9f1-024485b52329",
   "metadata": {},
   "source": [
    "## FAISS\n",
    "\n",
    "Facebook AI Similarity Search (FAISS) is a library for efficient similiarity search and clustering of dense vectors. It contains algorithms that search in sets of vectors of any size, up to ones that possibily do not fit in RAM. It also contains supporting code for evaluation and parameter tuning"
   ]
  },
  {
   "cell_type": "markdown",
   "id": "587e2499-cf17-436b-b390-d8b33cf817f3",
   "metadata": {},
   "source": [
    "### Text Splitting"
   ]
  },
  {
   "cell_type": "code",
   "execution_count": 4,
   "id": "f40115d0-d174-4ce1-840a-6b331d1c9b27",
   "metadata": {},
   "outputs": [],
   "source": [
    "loader = TextLoader(file_path='speech.txt')\n",
    "documents = loader.load()"
   ]
  },
  {
   "cell_type": "code",
   "execution_count": 5,
   "id": "28d3eccc-ca18-442d-8f6a-f84519e9a087",
   "metadata": {},
   "outputs": [],
   "source": [
    "text_splitter = CharacterTextSplitter(\n",
    "    chunk_size=200,\n",
    "    chunk_overlap=30\n",
    ")"
   ]
  },
  {
   "cell_type": "code",
   "execution_count": 7,
   "id": "3f3b1db3-2c6a-4a01-9647-27fe2b73f127",
   "metadata": {
    "scrolled": true
   },
   "outputs": [
    {
     "name": "stderr",
     "output_type": "stream",
     "text": [
      "Created a chunk of size 470, which is longer than the specified 200\n",
      "Created a chunk of size 347, which is longer than the specified 200\n",
      "Created a chunk of size 670, which is longer than the specified 200\n",
      "Created a chunk of size 984, which is longer than the specified 200\n",
      "Created a chunk of size 791, which is longer than the specified 200\n"
     ]
    },
    {
     "data": {
      "text/plain": [
       "[Document(metadata={'source': 'speech.txt'}, page_content='The world must be made safe for democracy. Its peace must be planted upon the tested foundations of political liberty. We have no selfish ends to serve. We desire no conquest, no dominion. We seek no indemnities for ourselves, no material compensation for the sacrifices we shall freely make. We are but one of the champions of the rights of mankind. We shall be satisfied when those rights have been made as secure as the faith and the freedom of nations can make them.'),\n",
       " Document(metadata={'source': 'speech.txt'}, page_content='Just because we fight without rancor and without selfish object, seeking nothing for ourselves but what we shall wish to share with all free peoples, we shall, I feel confident, conduct our operations as belligerents without passion and ourselves observe with proud punctilio the principles of right and of fair play we profess to be fighting for.'),\n",
       " Document(metadata={'source': 'speech.txt'}, page_content='â€¦'),\n",
       " Document(metadata={'source': 'speech.txt'}, page_content='It will be all the easier for us to conduct ourselves as belligerents in a high spirit of right and fairness because we act without animus, not in enmity toward a people or with the desire to bring any injury or disadvantage upon them, but only in armed opposition to an irresponsible government which has thrown aside all considerations of humanity and of right and is running amuck. We are, let me say again, the sincere friends of the German people, and shall desire nothing so much as the early reestablishment of intimate relations of mutual advantage between usâ€”however hard it may be for them, for the time being, to believe that this is spoken from our hearts.'),\n",
       " Document(metadata={'source': 'speech.txt'}, page_content='We have borne with their present government through all these bitter months because of that friendshipâ€”exercising a patience and forbearance which would otherwise have been impossible. We shall, happily, still have an opportunity to prove that friendship in our daily attitude and actions toward the millions of men and women of German birth and native sympathy who live among us and share our life, and we shall be proud to prove it toward all who are in fact loyal to their neighbors and to the government in the hour of test. They are, most of them, as true and loyal Americans as if they had never known any other fealty or allegiance. They will be prompt to stand with us in rebuking and restraining the few who may be of a different mind and purpose. If there should be disloyalty, it will be dealt with with a firm hand of stern repression; but, if it lifts its head at all, it will lift it only here and there and without countenance except from a lawless and malignant few.'),\n",
       " Document(metadata={'source': 'speech.txt'}, page_content='It is a distressing and oppressive duty, gentlemen of the Congress, which I have performed in thus addressing you. There are, it may be, many months of fiery trial and sacrifice ahead of us. It is a fearful thing to lead this great peaceful people into war, into the most terrible and disastrous of all wars, civilization itself seeming to be in the balance. But the right is more precious than peace, and we shall fight for the things which we have always carried nearest our heartsâ€”for democracy, for the right of those who submit to authority to have a voice in their own governments, for the rights and liberties of small nations, for a universal dominion of right by such a concert of free peoples as shall bring peace and safety to all nations and make the world itself at last free.'),\n",
       " Document(metadata={'source': 'speech.txt'}, page_content='To such a task we can dedicate our lives and our fortunes, everything that we are and everything that we have, with the pride of those who know that the day has come when America is privileged to spend her blood and her might for the principles that gave her birth and happiness and the peace which she has treasured. God helping her, she can do no other.')]"
      ]
     },
     "execution_count": 7,
     "metadata": {},
     "output_type": "execute_result"
    }
   ],
   "source": [
    "docs = text_splitter.split_documents(documents)\n",
    "docs"
   ]
  },
  {
   "cell_type": "markdown",
   "id": "84f8ddd6-066c-4714-9ee3-87a92ea22551",
   "metadata": {},
   "source": [
    "### Embeddings and Vector Store"
   ]
  },
  {
   "cell_type": "code",
   "execution_count": 9,
   "id": "753d572c-733c-4dd8-a9f3-36b8276f1c68",
   "metadata": {},
   "outputs": [],
   "source": [
    "embeddings = (\n",
    "    OllamaEmbeddings(model='gemma:2b')  ## By Default = llama2\n",
    ")"
   ]
  },
  {
   "cell_type": "code",
   "execution_count": 15,
   "id": "99976c1b-3d94-4e3d-8e77-013ca043f19b",
   "metadata": {},
   "outputs": [
    {
     "data": {
      "text/plain": [
       "<langchain_community.vectorstores.faiss.FAISS at 0x26a385e5950>"
      ]
     },
     "execution_count": 15,
     "metadata": {},
     "output_type": "execute_result"
    }
   ],
   "source": [
    "db = FAISS.from_documents(\n",
    "    documents=docs,\n",
    "    embedding=embeddings\n",
    ")\n",
    "db"
   ]
  },
  {
   "cell_type": "markdown",
   "id": "3aafe1c6-37ce-4912-aeb9-66d148cdc61b",
   "metadata": {},
   "source": [
    "### Querying Vector Database"
   ]
  },
  {
   "cell_type": "code",
   "execution_count": 16,
   "id": "612f07ac-6820-44ed-b7cf-802ef0bcb1d8",
   "metadata": {},
   "outputs": [],
   "source": [
    "query1 = \"What does the speaker believe is the main reason the United States should enter the war?\"\n",
    "query2 = \"How does the speaker describe the desired outcome of the war?\""
   ]
  },
  {
   "cell_type": "code",
   "execution_count": 17,
   "id": "45e0b8fb-67a8-4880-9d38-b58387551e48",
   "metadata": {},
   "outputs": [
    {
     "name": "stdout",
     "output_type": "stream",
     "text": [
      "Just because we fight without rancor and without selfish object, seeking nothing for ourselves but what we shall wish to share with all free peoples, we shall, I feel confident, conduct our operations as belligerents without passion and ourselves observe with proud punctilio the principles of right and of fair play we profess to be fighting for.\n"
     ]
    }
   ],
   "source": [
    "result = db.similarity_search(query=query1)\n",
    "print(result[0].page_content)"
   ]
  },
  {
   "cell_type": "code",
   "execution_count": 18,
   "id": "f535ae87-d5b4-4fcc-a81c-0b42657ff948",
   "metadata": {},
   "outputs": [
    {
     "name": "stdout",
     "output_type": "stream",
     "text": [
      "Just because we fight without rancor and without selfish object, seeking nothing for ourselves but what we shall wish to share with all free peoples, we shall, I feel confident, conduct our operations as belligerents without passion and ourselves observe with proud punctilio the principles of right and of fair play we profess to be fighting for.\n"
     ]
    }
   ],
   "source": [
    "result = db.similarity_search(query=query2)\n",
    "print(result[0].page_content)"
   ]
  },
  {
   "cell_type": "markdown",
   "id": "3065c00c-0888-4571-baa6-22fe952885c8",
   "metadata": {},
   "source": [
    "### Retriever"
   ]
  },
  {
   "cell_type": "code",
   "execution_count": 20,
   "id": "e0a6061e-60e9-4eb0-bb05-9aa100355ae6",
   "metadata": {},
   "outputs": [],
   "source": [
    "retriever = db.as_retriever()\n",
    "retriever_results = retriever.invoke(query1)"
   ]
  },
  {
   "cell_type": "code",
   "execution_count": 21,
   "id": "49e9c9f8-fa78-4b3a-8bf1-9bb6fc8c1504",
   "metadata": {},
   "outputs": [
    {
     "data": {
      "text/plain": [
       "'Just because we fight without rancor and without selfish object, seeking nothing for ourselves but what we shall wish to share with all free peoples, we shall, I feel confident, conduct our operations as belligerents without passion and ourselves observe with proud punctilio the principles of right and of fair play we profess to be fighting for.'"
      ]
     },
     "execution_count": 21,
     "metadata": {},
     "output_type": "execute_result"
    }
   ],
   "source": [
    "retriever_results[0].page_content"
   ]
  },
  {
   "cell_type": "markdown",
   "id": "563314f2-e103-4666-9e02-2417f2ee6dd9",
   "metadata": {},
   "source": [
    "### Similarity Search with Score\n",
    "\n",
    "There are some FAISS specific methods. One of them is similarity search with score, which allows you to return not only the documents but also the distance score of the query to them. The returned distance score is L2 distance. Therefore, a lower score is better"
   ]
  },
  {
   "cell_type": "code",
   "execution_count": 22,
   "id": "8319dac9-560f-4b28-8f9c-fc5981ea4829",
   "metadata": {},
   "outputs": [
    {
     "data": {
      "text/plain": [
       "[(Document(id='8db46ab1-3c9a-4f9c-a440-6ccd41d3447c', metadata={'source': 'speech.txt'}, page_content='Just because we fight without rancor and without selfish object, seeking nothing for ourselves but what we shall wish to share with all free peoples, we shall, I feel confident, conduct our operations as belligerents without passion and ourselves observe with proud punctilio the principles of right and of fair play we profess to be fighting for.'),\n",
       "  0.5498823),\n",
       " (Document(id='e30b40cc-8c5b-4c59-877a-24e92d4de6b0', metadata={'source': 'speech.txt'}, page_content='It will be all the easier for us to conduct ourselves as belligerents in a high spirit of right and fairness because we act without animus, not in enmity toward a people or with the desire to bring any injury or disadvantage upon them, but only in armed opposition to an irresponsible government which has thrown aside all considerations of humanity and of right and is running amuck. We are, let me say again, the sincere friends of the German people, and shall desire nothing so much as the early reestablishment of intimate relations of mutual advantage between usâ€”however hard it may be for them, for the time being, to believe that this is spoken from our hearts.'),\n",
       "  0.63374305),\n",
       " (Document(id='0180b894-91ad-4ce6-8ff9-a2f7d40da2cf', metadata={'source': 'speech.txt'}, page_content='To such a task we can dedicate our lives and our fortunes, everything that we are and everything that we have, with the pride of those who know that the day has come when America is privileged to spend her blood and her might for the principles that gave her birth and happiness and the peace which she has treasured. God helping her, she can do no other.'),\n",
       "  0.64452004),\n",
       " (Document(id='dd046ab4-147e-46a2-8884-85c6a7c77fa1', metadata={'source': 'speech.txt'}, page_content='The world must be made safe for democracy. Its peace must be planted upon the tested foundations of political liberty. We have no selfish ends to serve. We desire no conquest, no dominion. We seek no indemnities for ourselves, no material compensation for the sacrifices we shall freely make. We are but one of the champions of the rights of mankind. We shall be satisfied when those rights have been made as secure as the faith and the freedom of nations can make them.'),\n",
       "  0.65579265)]"
      ]
     },
     "execution_count": 22,
     "metadata": {},
     "output_type": "execute_result"
    }
   ],
   "source": [
    "docs_and_score = db.similarity_search_with_score(query=query1)\n",
    "docs_and_score"
   ]
  },
  {
   "cell_type": "code",
   "execution_count": 23,
   "id": "7d622f83-29ce-47a3-980e-b14d6475c091",
   "metadata": {},
   "outputs": [
    {
     "data": {
      "text/plain": [
       "(Document(id='8db46ab1-3c9a-4f9c-a440-6ccd41d3447c', metadata={'source': 'speech.txt'}, page_content='Just because we fight without rancor and without selfish object, seeking nothing for ourselves but what we shall wish to share with all free peoples, we shall, I feel confident, conduct our operations as belligerents without passion and ourselves observe with proud punctilio the principles of right and of fair play we profess to be fighting for.'),\n",
       " 0.5498823)"
      ]
     },
     "execution_count": 23,
     "metadata": {},
     "output_type": "execute_result"
    }
   ],
   "source": [
    "docs_and_score[0]"
   ]
  },
  {
   "cell_type": "markdown",
   "id": "bbdfa51c-cf1f-4c9a-b10b-67434ad54270",
   "metadata": {},
   "source": [
    "### Passing the Embeddings"
   ]
  },
  {
   "cell_type": "code",
   "execution_count": 24,
   "id": "302bf961-fc62-4db5-80af-e896a61900ec",
   "metadata": {},
   "outputs": [
    {
     "data": {
      "text/plain": [
       "[Document(id='8db46ab1-3c9a-4f9c-a440-6ccd41d3447c', metadata={'source': 'speech.txt'}, page_content='Just because we fight without rancor and without selfish object, seeking nothing for ourselves but what we shall wish to share with all free peoples, we shall, I feel confident, conduct our operations as belligerents without passion and ourselves observe with proud punctilio the principles of right and of fair play we profess to be fighting for.'),\n",
       " Document(id='e30b40cc-8c5b-4c59-877a-24e92d4de6b0', metadata={'source': 'speech.txt'}, page_content='It will be all the easier for us to conduct ourselves as belligerents in a high spirit of right and fairness because we act without animus, not in enmity toward a people or with the desire to bring any injury or disadvantage upon them, but only in armed opposition to an irresponsible government which has thrown aside all considerations of humanity and of right and is running amuck. We are, let me say again, the sincere friends of the German people, and shall desire nothing so much as the early reestablishment of intimate relations of mutual advantage between usâ€”however hard it may be for them, for the time being, to believe that this is spoken from our hearts.'),\n",
       " Document(id='0180b894-91ad-4ce6-8ff9-a2f7d40da2cf', metadata={'source': 'speech.txt'}, page_content='To such a task we can dedicate our lives and our fortunes, everything that we are and everything that we have, with the pride of those who know that the day has come when America is privileged to spend her blood and her might for the principles that gave her birth and happiness and the peace which she has treasured. God helping her, she can do no other.'),\n",
       " Document(id='dd046ab4-147e-46a2-8884-85c6a7c77fa1', metadata={'source': 'speech.txt'}, page_content='The world must be made safe for democracy. Its peace must be planted upon the tested foundations of political liberty. We have no selfish ends to serve. We desire no conquest, no dominion. We seek no indemnities for ourselves, no material compensation for the sacrifices we shall freely make. We are but one of the champions of the rights of mankind. We shall be satisfied when those rights have been made as secure as the faith and the freedom of nations can make them.')]"
      ]
     },
     "execution_count": 24,
     "metadata": {},
     "output_type": "execute_result"
    }
   ],
   "source": [
    "embedding_vector = embeddings.embed_query(text=query1)\n",
    "results = db.similarity_search_by_vector(embedding=embedding_vector)\n",
    "results"
   ]
  },
  {
   "cell_type": "markdown",
   "id": "d93033c9-de6d-46eb-ae0e-10b21aa8bfc5",
   "metadata": {},
   "source": [
    "### Saving the Vector Database"
   ]
  },
  {
   "cell_type": "code",
   "execution_count": 26,
   "id": "43619f13-f0d4-4f46-9c18-808d9fb8ed61",
   "metadata": {},
   "outputs": [],
   "source": [
    "db.save_local('faiss_index')"
   ]
  },
  {
   "cell_type": "markdown",
   "id": "d9207637-ec2e-49cb-807c-5f64ac13c4a4",
   "metadata": {},
   "source": [
    "### Loading the Vector Database"
   ]
  },
  {
   "cell_type": "code",
   "execution_count": 28,
   "id": "af513f9d-5de3-4f87-85bf-c9e00c517a7d",
   "metadata": {},
   "outputs": [],
   "source": [
    "new_db = FAISS.load_local(\"faiss_index\", embeddings=embeddings, allow_dangerous_deserialization=True)"
   ]
  },
  {
   "cell_type": "code",
   "execution_count": 29,
   "id": "5a83f950-7c43-48f5-a975-fac95d88fd6a",
   "metadata": {},
   "outputs": [
    {
     "data": {
      "text/plain": [
       "[Document(id='8db46ab1-3c9a-4f9c-a440-6ccd41d3447c', metadata={'source': 'speech.txt'}, page_content='Just because we fight without rancor and without selfish object, seeking nothing for ourselves but what we shall wish to share with all free peoples, we shall, I feel confident, conduct our operations as belligerents without passion and ourselves observe with proud punctilio the principles of right and of fair play we profess to be fighting for.'),\n",
       " Document(id='e30b40cc-8c5b-4c59-877a-24e92d4de6b0', metadata={'source': 'speech.txt'}, page_content='It will be all the easier for us to conduct ourselves as belligerents in a high spirit of right and fairness because we act without animus, not in enmity toward a people or with the desire to bring any injury or disadvantage upon them, but only in armed opposition to an irresponsible government which has thrown aside all considerations of humanity and of right and is running amuck. We are, let me say again, the sincere friends of the German people, and shall desire nothing so much as the early reestablishment of intimate relations of mutual advantage between usâ€”however hard it may be for them, for the time being, to believe that this is spoken from our hearts.'),\n",
       " Document(id='0180b894-91ad-4ce6-8ff9-a2f7d40da2cf', metadata={'source': 'speech.txt'}, page_content='To such a task we can dedicate our lives and our fortunes, everything that we are and everything that we have, with the pride of those who know that the day has come when America is privileged to spend her blood and her might for the principles that gave her birth and happiness and the peace which she has treasured. God helping her, she can do no other.'),\n",
       " Document(id='dd046ab4-147e-46a2-8884-85c6a7c77fa1', metadata={'source': 'speech.txt'}, page_content='The world must be made safe for democracy. Its peace must be planted upon the tested foundations of political liberty. We have no selfish ends to serve. We desire no conquest, no dominion. We seek no indemnities for ourselves, no material compensation for the sacrifices we shall freely make. We are but one of the champions of the rights of mankind. We shall be satisfied when those rights have been made as secure as the faith and the freedom of nations can make them.')]"
      ]
     },
     "execution_count": 29,
     "metadata": {},
     "output_type": "execute_result"
    }
   ],
   "source": [
    "result = new_db.similarity_search(query=query1)\n",
    "result"
   ]
  },
  {
   "cell_type": "code",
   "execution_count": null,
   "id": "44a31bb2-9bc3-4ff3-9388-3f2ca70460c8",
   "metadata": {},
   "outputs": [],
   "source": []
  }
 ],
 "metadata": {
  "kernelspec": {
   "display_name": "Python 3 (ipykernel)",
   "language": "python",
   "name": "python3"
  },
  "language_info": {
   "codemirror_mode": {
    "name": "ipython",
    "version": 3
   },
   "file_extension": ".py",
   "mimetype": "text/x-python",
   "name": "python",
   "nbconvert_exporter": "python",
   "pygments_lexer": "ipython3",
   "version": "3.11.11"
  }
 },
 "nbformat": 4,
 "nbformat_minor": 5
}
