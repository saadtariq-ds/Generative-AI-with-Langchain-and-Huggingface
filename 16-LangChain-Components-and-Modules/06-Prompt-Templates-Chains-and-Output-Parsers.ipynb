{
 "cells": [
  {
   "cell_type": "markdown",
   "id": "9b8dc95e-9401-4190-8e10-cb064211274f",
   "metadata": {},
   "source": [
    "## Setup and Import Libraries"
   ]
  },
  {
   "cell_type": "code",
   "execution_count": 15,
   "id": "b9150344-f457-415f-a0a7-1a4931efb1e8",
   "metadata": {},
   "outputs": [],
   "source": [
    "import os\n",
    "from langchain_openai import ChatOpenAI\n",
    "from langchain_core.prompts import ChatPromptTemplate\n",
    "from langchain_core.output_parsers import StrOutputParser\n",
    "from dotenv import load_dotenv"
   ]
  },
  {
   "cell_type": "code",
   "execution_count": 2,
   "id": "6f729245-881c-4690-9ab1-852334afffe6",
   "metadata": {},
   "outputs": [
    {
     "data": {
      "text/plain": [
       "True"
      ]
     },
     "execution_count": 2,
     "metadata": {},
     "output_type": "execute_result"
    }
   ],
   "source": [
    "load_dotenv()"
   ]
  },
  {
   "cell_type": "code",
   "execution_count": 7,
   "id": "da18388d-204d-4fae-b493-79029f81ac02",
   "metadata": {},
   "outputs": [],
   "source": [
    "os.environ[\"OPENAI_API_KEY\"] = os.getenv(\"OPENAI_API_KEY\")\n",
    "os.environ[\"LANGSMITH_API_KEY\"] = os.getenv(\"LANGSMITH_API_KEY\")\n",
    "os.environ[\"LANGSMITH_TRACING\"] = os.getenv(\"LANGSMITH_TRACING\")\n",
    "os.environ[\"LANGCHAIN_PROJECT\"] = os.getenv(\"LANGCHAIN_PROJECT\")"
   ]
  },
  {
   "cell_type": "code",
   "execution_count": 8,
   "id": "99efd39a-c21e-4c49-8dab-aef71e654917",
   "metadata": {},
   "outputs": [
    {
     "data": {
      "text/plain": [
       "ChatOpenAI(client=<openai.resources.chat.completions.completions.Completions object at 0x000001401CC9A250>, async_client=<openai.resources.chat.completions.completions.AsyncCompletions object at 0x000001401CD37B10>, root_client=<openai.OpenAI object at 0x000001401CD1E510>, root_async_client=<openai.AsyncOpenAI object at 0x000001401CC9B910>, model_name='gpt-4o', model_kwargs={}, openai_api_key=SecretStr('**********'))"
      ]
     },
     "execution_count": 8,
     "metadata": {},
     "output_type": "execute_result"
    }
   ],
   "source": [
    "llm = ChatOpenAI(model=\"gpt-4o\")\n",
    "llm"
   ]
  },
  {
   "cell_type": "markdown",
   "id": "bb094ab3-1440-4a71-bd80-982defced758",
   "metadata": {},
   "source": [
    "## Input and Response from LLM"
   ]
  },
  {
   "cell_type": "code",
   "execution_count": 9,
   "id": "0e669db4-5d2f-4724-b4bb-8ea8aec13587",
   "metadata": {},
   "outputs": [
    {
     "name": "stdout",
     "output_type": "stream",
     "text": [
      "content='Generative AI refers to a category of artificial intelligence designed to generate new, original content. This can include text, images, music, video, or other data types. Powered by sophisticated models like generative adversarial networks (GANs), variational autoencoders (VAEs), and transformer architectures such as GPT (Generative Pre-trained Transformer), generative AI systems learn patterns and structures from existing data and then use that knowledge to produce new creations that mimic or build upon the input data.\\n\\nSome common applications of generative AI include:\\n\\n1. **Text Generation**: Creating human-like text for applications such as chatbots, automated content creation, and translation services. GPT models, like GPT-3 and ChatGPT, are popular for such tasks.\\n\\n2. **Image Generation**: Producing original images or visual content. This is often done with GANs, leading to the creation of realistic photographs or artistic imagery from textual descriptions, as observed with tools like DALL-E and Stable Diffusion.\\n\\n3. **Music and Audio Composition**: Generating music tracks, sound effects, or voice synthesis that can be used in games, films, or other multimedia.\\n\\n4. **Video Synthesis**: Developing videos that can be used for entertainment, simulation, or educational purposes. This is a more complex area but has seen progress with deepfake technologies and advanced video generation models.\\n\\n5. **3D Model Creation**: Assisting in the design and generation of 3D models for use in gaming, animation, or product design.\\n\\nGenerative AI is a rapidly advancing field that is expanding the boundaries of creativity and automation, posing both exciting opportunities and ethical challenges related to authenticity, copyright, and potential misuse.' additional_kwargs={'refusal': None} response_metadata={'token_usage': {'completion_tokens': 345, 'prompt_tokens': 12, 'total_tokens': 357, 'completion_tokens_details': {'accepted_prediction_tokens': 0, 'audio_tokens': 0, 'reasoning_tokens': 0, 'rejected_prediction_tokens': 0}, 'prompt_tokens_details': {'audio_tokens': 0, 'cached_tokens': 0}}, 'model_name': 'gpt-4o-2024-08-06', 'system_fingerprint': 'fp_6dd05565ef', 'id': 'chatcmpl-BGwu44anPIl2REd1OSZsdlHUrK0bw', 'finish_reason': 'stop', 'logprobs': None} id='run-bffa53ab-d73c-4cae-873f-72d08bb4319f-0' usage_metadata={'input_tokens': 12, 'output_tokens': 345, 'total_tokens': 357, 'input_token_details': {'audio': 0, 'cache_read': 0}, 'output_token_details': {'audio': 0, 'reasoning': 0}}\n"
     ]
    }
   ],
   "source": [
    "query = \"What is generative AI\"\n",
    "result = llm.invoke(input=query)\n",
    "print(result)"
   ]
  },
  {
   "cell_type": "markdown",
   "id": "aaa7f5aa-9bd9-4938-b480-45c3d96af95b",
   "metadata": {},
   "source": [
    "## Prompt Templates"
   ]
  },
  {
   "cell_type": "markdown",
   "id": "9732116a-f986-491f-921e-b20938206878",
   "metadata": {},
   "source": [
    "### Chat Prompt Template"
   ]
  },
  {
   "cell_type": "code",
   "execution_count": 11,
   "id": "7a40996a-bb0f-4f3f-bc55-24a8a0621304",
   "metadata": {},
   "outputs": [
    {
     "data": {
      "text/plain": [
       "ChatPromptTemplate(input_variables=['input'], input_types={}, partial_variables={}, messages=[SystemMessagePromptTemplate(prompt=PromptTemplate(input_variables=[], input_types={}, partial_variables={}, template='You are an expert AI Engineer. Provide me answers based on the question'), additional_kwargs={}), HumanMessagePromptTemplate(prompt=PromptTemplate(input_variables=['input'], input_types={}, partial_variables={}, template='{input}'), additional_kwargs={})])"
      ]
     },
     "execution_count": 11,
     "metadata": {},
     "output_type": "execute_result"
    }
   ],
   "source": [
    "prompt = ChatPromptTemplate.from_messages(\n",
    "    [\n",
    "        (\"system\", \"You are an expert AI Engineer. Provide me answers based on the question\"),\n",
    "        (\"user\",\"{input}\")\n",
    "    ]\n",
    ")\n",
    "\n",
    "prompt"
   ]
  },
  {
   "cell_type": "code",
   "execution_count": 13,
   "id": "ac78e405-06f0-4e6e-9d8a-1bd4a8746ad8",
   "metadata": {},
   "outputs": [
    {
     "name": "stdout",
     "output_type": "stream",
     "text": [
      "content=\"Langsmith is a suite of tools and services designed to enhance the development experience with large language models (LLMs). It provides functionalities for application tracking, testing in production, and evaluating the performance of LLM-driven applications. Langsmith aims to streamline the process of building, deploying, and monitoring applications that leverage language models, offering developers insights and metrics to improve their applications' efficiency and effectiveness.\" additional_kwargs={'refusal': None} response_metadata={'token_usage': {'completion_tokens': 79, 'prompt_tokens': 33, 'total_tokens': 112, 'completion_tokens_details': {'accepted_prediction_tokens': 0, 'audio_tokens': 0, 'reasoning_tokens': 0, 'rejected_prediction_tokens': 0}, 'prompt_tokens_details': {'audio_tokens': 0, 'cached_tokens': 0}}, 'model_name': 'gpt-4o-2024-08-06', 'system_fingerprint': 'fp_6dd05565ef', 'id': 'chatcmpl-BGx7QORq3Ffxgq30tG5xM4zk6mqSw', 'finish_reason': 'stop', 'logprobs': None} id='run-a7430588-a4bf-49e7-ae62-4388a28f2033-0' usage_metadata={'input_tokens': 33, 'output_tokens': 79, 'total_tokens': 112, 'input_token_details': {'audio': 0, 'cache_read': 0}, 'output_token_details': {'audio': 0, 'reasoning': 0}}\n"
     ]
    }
   ],
   "source": [
    "chain = prompt | llm\n",
    "\n",
    "response = chain.invoke({\"input\": \"Can you tell me about Langsmith?\"})\n",
    "print(response)"
   ]
  },
  {
   "cell_type": "code",
   "execution_count": 14,
   "id": "9debc131-24d8-4c11-b247-957d76e46d1b",
   "metadata": {},
   "outputs": [
    {
     "data": {
      "text/plain": [
       "langchain_core.messages.ai.AIMessage"
      ]
     },
     "execution_count": 14,
     "metadata": {},
     "output_type": "execute_result"
    }
   ],
   "source": [
    "type(response)"
   ]
  },
  {
   "cell_type": "markdown",
   "id": "5033b2f2-2c39-4410-b170-dfb79bc90f24",
   "metadata": {},
   "source": [
    "## Output Parser"
   ]
  },
  {
   "cell_type": "code",
   "execution_count": 16,
   "id": "e5df4663-09f6-4fa3-bbfc-585990f8b6fd",
   "metadata": {},
   "outputs": [],
   "source": [
    "output_parser = StrOutputParser()"
   ]
  },
  {
   "cell_type": "code",
   "execution_count": 17,
   "id": "d45f8e42-295d-4cea-ab26-8f7fb6d813a2",
   "metadata": {},
   "outputs": [],
   "source": [
    "chain = prompt | llm | output_parser"
   ]
  },
  {
   "cell_type": "code",
   "execution_count": 18,
   "id": "760161b4-c206-4d6e-8425-c879f1c896de",
   "metadata": {},
   "outputs": [
    {
     "name": "stdout",
     "output_type": "stream",
     "text": [
      "Langsmith is a toolkit and service provided by LangChain designed to help developers build, optimize, and evaluate applications powered by language models. It offers features like tracing and debugging, allowing developers to understand how their applications interact with language models and to improve their performance. Langsmith aims to address common challenges in working with language models, such as managing prompts, monitoring outputs, and refining model interactions to achieve the desired results efficiently. By integrating with LangChain, Langsmith provides developers with robust tools to streamline development and deployment processes for language model-based applications.\n"
     ]
    }
   ],
   "source": [
    "response = chain.invoke({\"input\": \"Can you tell me about Langsmith?\"})\n",
    "print(response)"
   ]
  },
  {
   "cell_type": "code",
   "execution_count": null,
   "id": "608007ef-7ce3-42b4-9770-5d50d5c9ff82",
   "metadata": {},
   "outputs": [],
   "source": []
  }
 ],
 "metadata": {
  "kernelspec": {
   "display_name": "Python 3 (ipykernel)",
   "language": "python",
   "name": "python3"
  },
  "language_info": {
   "codemirror_mode": {
    "name": "ipython",
    "version": 3
   },
   "file_extension": ".py",
   "mimetype": "text/x-python",
   "name": "python",
   "nbconvert_exporter": "python",
   "pygments_lexer": "ipython3",
   "version": "3.11.11"
  }
 },
 "nbformat": 4,
 "nbformat_minor": 5
}
